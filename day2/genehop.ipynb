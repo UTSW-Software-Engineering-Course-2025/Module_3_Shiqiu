{
 "cells": [
  {
   "cell_type": "markdown",
   "id": "59a8b93f",
   "metadata": {
    "tags": [
     "skip"
    ]
   },
   "source": [
    "# Starter Notebook for GeneTuring Few-shot Evaluation"
   ]
  },
  {
   "cell_type": "markdown",
   "id": "7260d323",
   "metadata": {
    "tags": [
     "skip"
    ]
   },
   "source": [
    "Let's start of by implementing a basic harness to evaluate the Geneturing dataset using Ollama with a Few-Shot prompting strategy to evaluate the performance of these models before implementing the tool-using strategies outlined in the GeneGPT paper.\n",
    "\n",
    "As with most benchmarking code using pretrained models, our notebook will following typical outline of:\n",
    "\n",
    "1. **Imports**\n",
    "2. **Configuration**\n",
    "3. **Data Loading**\n",
    "4. **Model Specification**\n",
    "5. **Metrics**\n",
    "6. **Evaluation Loop**\n",
    "7. **Analysis**"
   ]
  },
  {
   "cell_type": "markdown",
   "id": "19ecb4f5",
   "metadata": {},
   "source": [
    "## 1. Imports"
   ]
  },
  {
   "cell_type": "markdown",
   "id": "6db83b1e",
   "metadata": {
    "tags": [
     "skip"
    ]
   },
   "source": [
    "Good hygiene for Jupyter notebooks includes placing all of the imports at the top of the notebook. This makes it easier to understand what dependencies are needed to run the notebook for new users and mirrors good practices for Python scripts."
   ]
  },
  {
   "cell_type": "code",
   "execution_count": null,
   "id": "2d92a833",
   "metadata": {},
   "outputs": [
    {
     "name": "stdout",
     "output_type": "stream",
     "text": [
      "Loaded API key: FJ5Gr...\n"
     ]
    }
   ],
   "source": [
    "from dotenv import load_dotenv\n",
    "import os\n",
    "import mlflow\n",
    "\n",
    "os.environ[\"no_proxy\"] = \"*\"\n",
    "\n",
    "mlflow.set_tracking_uri(\"http://198.215.61.34:8153/\")\n",
    "mlflow.set_experiment(\"s440708_Shiqiu\")\n",
    "load_dotenv()\n",
    "\n",
    "AZURE_OPENAI_KEY = os.getenv(\"AZURE_OPENAI_KEY\")\n",
    "AZURE_OPENAI_ENDPOINT = os.getenv(\"AZURE_OPENAI_ENDPOINT\")\n",
    "AZURE_OPENAI_DEPLOYMENT_NAME = os.getenv(\"AZURE_OPENAI_DEPLOYMENT_NAME\")\n",
    "AZURE_OPENAI_API_VERSION = os.getenv(\"AZURE_OPENAI_API_VERSION\")\n",
    "\n",
    "print(\"Loaded API key:\", AZURE_OPENAI_KEY[:5] + \"...\" if AZURE_OPENAI_KEY else \"MISSING\")\n"
   ]
  },
  {
   "cell_type": "code",
   "execution_count": 2,
   "id": "fb9107c5",
   "metadata": {},
   "outputs": [],
   "source": [
    "from typing import List, Dict, Optional\n",
    "\n",
    "from collections import defaultdict\n",
    "from dataclasses import dataclass\n"
   ]
  },
  {
   "cell_type": "markdown",
   "id": "26c15925",
   "metadata": {},
   "source": [
    "## 2. Configuration"
   ]
  },
  {
   "cell_type": "markdown",
   "id": "22cf9042",
   "metadata": {
    "tags": [
     "skip"
    ]
   },
   "source": [
    "Also, let's create a section that is specific to the configuration of the run. This will make it easier to change the configuration of the run without hunting for hard-coded values sprinkled throughout the code and makes it easier for others to understand the configuration of the run.\n",
    "\n",
    "We will leave it empty at the moment, but we will come back and fill it in as we identify global configuration options that we need to implement the code."
   ]
  },
  {
   "cell_type": "code",
   "execution_count": 26,
   "id": "71d543d4",
   "metadata": {},
   "outputs": [],
   "source": [
    "# 2.1 Data Configuration\n",
    "data_config = {\n",
    "    \"dataset_path\": \"/work/bioinformatics/s440708/MODULE_3_MATERIALS/data/genehop.json\",  \n",
    "    \"output_path\": \"/work/bioinformatics/s440708/MODULE_3_MATERIALS/outputs/\",\n",
    "\n",
    "}\n"
   ]
  },
  {
   "cell_type": "code",
   "execution_count": 4,
   "id": "82e42308",
   "metadata": {},
   "outputs": [],
   "source": [
    "# 2.2 Model Configuration\n",
    "\n",
    "model_config = {           \n",
    "    \"model_name\": AZURE_OPENAI_DEPLOYMENT_NAME,         \n",
    "    'frequency_penalty': 0.0,\n",
    "    'presence_penalty': 0.0,\n",
    "    \"temperature\": 1.,\n",
    "    \"max_tokens\": 800,\n",
    "    \"top_p\": 1.0,\n",
    "    \n",
    "}\n"
   ]
  },
  {
   "cell_type": "markdown",
   "id": "c1904443",
   "metadata": {},
   "source": [
    "## 3. Data Loading"
   ]
  },
  {
   "cell_type": "markdown",
   "id": "f48d7a1f",
   "metadata": {
    "tags": [
     "skip"
    ]
   },
   "source": [
    "In this section we need to load the data that we will be using for our evaluation. \n",
    "\n",
    "The JSON file at `data/gene_turing.json` contains a dictionary of dictionaries. At the top level, the keys are the names of the tasks. Within each task, there are several key-value pairs where the keys are the questions and the values are the answers.\n",
    "\n",
    "Below is one example for each of the 9 tasks in the dataset:\n",
    "\n",
    "```json\n",
    "{\n",
    "    \"Gene alias\": {\n",
    "        \"What is the official gene symbol of LMP10?\": \"PSMB10\"\n",
    "    },\n",
    "    \"Gene disease association\": {\n",
    "        \"What are genes related to Hemolytic anemia due to phosphofructokinase deficiency?\": \"PFKL\"\n",
    "    },\n",
    "    \"Gene location\": {\n",
    "        \"Which chromosome is FAM66D gene located on human genome?\": \"chr8\"\n",
    "    },\n",
    "    \"Human genome DNA aligment\": {\n",
    "        \"Align the DNA sequence to the human genome:ATTCTGCCTTTAGTAATTTGATGACAGAGACTTCTTGGGAACCACAGCCAGGGAGCCACCCTTTACTCCACCAACAGGTGGCTTATATCCAATCTGAGAAAGAAAGAAAAAAAAAAAAGTATTTCTCT\": \"chr15:91950805-91950932\",\n",
    "    },\n",
    "    \"Multi-species DNA aligment\": {\n",
    "        \"Which organism does the DNA sequence come from:AGGGGCAGCAAACACCGGGACACACCCATTCGTGCACTAATCAGAAACTTTTTTTTCTCAAATAATTCAAACAATCAAAATTGGTTTTTTCGAGCAAGGTGGGAAATTTTTCGAT\": \"worm\",\n",
    "    },\n",
    "    \"Gene name conversion\": {\n",
    "        \"Convert ENSG00000215251 to official gene symbol.\": \"FASTKD5\",\n",
    "    },\n",
    "    \"Protein-coding genes\": {\n",
    "        \"Is ATP5F1EP2 a protein-coding gene?\": \"NA\",\n",
    "    },\n",
    "    \"Gene SNP association\": {\n",
    "        \"Which gene is SNP rs1217074595 associated with?\": \"LINC01270\",\n",
    "    },\n",
    "    \"SNP location\": {\n",
    "        \"Which chromosome does SNP rs1430464868 locate on human genome?\": \"chr13\",\n",
    "    }\n",
    "}\n",
    "```"
   ]
  },
  {
   "cell_type": "markdown",
   "id": "b61e217f",
   "metadata": {
    "tags": [
     "skip"
    ]
   },
   "source": [
    "\n",
    "We need to reformat this into a pandas dataframe with the following columns:\n",
    "- `id`: A serial ID number we will assign to each example (int)\n",
    "- `task`: The name of the task (str)\n",
    "- `question`: The question for the example (str)\n",
    "- `answer`: The answer for the example (str)\n",
    "\n",
    "The final dataframe we will create should look like this:\n",
    "\n",
    "| id | task | question | answer |\n",
    "|----|------|----------|--------|\n",
    "| 0 | Task1 | Question1 | Answer1 |\n",
    "| 1 | Task1 | Question2 | Answer2 |\n",
    "| 2 | Task2 | Question1 | Answer1 |\n",
    "| 3 | Task2 | Question2 | Answer2 |"
   ]
  },
  {
   "cell_type": "code",
   "execution_count": 6,
   "id": "2c2b9c4a",
   "metadata": {},
   "outputs": [
    {
     "name": "stdout",
     "output_type": "stream",
     "text": [
      "Loaded 150 examples from /work/bioinformatics/s440708/MODULE_3_MATERIALS/data/genehop.json\n"
     ]
    }
   ],
   "source": [
    "# 3.1 Load the JSON file\n",
    "# Load the data here\n",
    "import json\n",
    "\n",
    "def load_geneturing(path: str) -> List[Dict[str, str]]:\n",
    "    with open(path, \"r\") as f:\n",
    "        raw_data = json.load(f)\n",
    "\n",
    "    flat_data = []\n",
    "    counter = 0\n",
    "    for task_name, qa_pairs in raw_data.items():\n",
    "        for question, answer in qa_pairs.items():\n",
    "            flat_data.append({\n",
    "                \"task\": task_name,\n",
    "                'id': counter,\n",
    "                \"question\": question,\n",
    "                \"answer\": answer\n",
    "            })\n",
    "            counter += 1\n",
    "    \n",
    "\n",
    "    return flat_data\n",
    "\n",
    "\n",
    "# config = Config()\n",
    "dataset = load_geneturing(data_config['dataset_path'])\n",
    "print(f\"Loaded {len(dataset)} examples from {data_config['dataset_path']}\")\n",
    "TASKS = set() "
   ]
  },
  {
   "cell_type": "code",
   "execution_count": 7,
   "id": "900886b4",
   "metadata": {},
   "outputs": [
    {
     "data": {
      "text/plain": [
       "[{'task': 'sequence gene alias',\n",
       "  'id': 0,\n",
       "  'question': \"What are the aliases of the gene that contains this sequnece:GTAGATGGAACTGGTAGTCAGCTGGAGAGCAGCATGGAGGCGTCCTGGGGGAGCTTCAACGCTGAGCGGGGCTGGTATGTCTCTGTCCAGCAGCCTGAAGAAGCGGAGGCCGA. Let's decompose the question to sub-questions and solve them step by step.\",\n",
       "  'answer': ['SLC38A6', 'NAT-1', 'SNAT6']},\n",
       " {'task': 'sequence gene alias',\n",
       "  'id': 1,\n",
       "  'question': \"What are the aliases of the gene that contains this sequnece:ATTGTGAGAGTAACCAACGTGGGGTTACGGGGGAGAATCTGGAGAGAAGAGAAGAGGTTAACAACCCTCCCACTTCCTGGCCACCCCCCTCCACCTTTTCTGGTAAGGAGCCC. Let's decompose the question to sub-questions and solve them step by step.\",\n",
       "  'answer': ['FCGR3A',\n",
       "   'CD16',\n",
       "   'FCG3',\n",
       "   'CD16A',\n",
       "   'FCGR3',\n",
       "   'IGFR3',\n",
       "   'IMD20',\n",
       "   'FCR-10',\n",
       "   'FCRIII',\n",
       "   'CD16-II',\n",
       "   'FCGRIII',\n",
       "   'FCRIIIA',\n",
       "   'FcGRIIIA']},\n",
       " {'task': 'sequence gene alias',\n",
       "  'id': 2,\n",
       "  'question': \"What are the aliases of the gene that contains this sequnece:GGAAGAGGCCCCAGCACTGACCTCCGTGGGGGTGGAGATGAGGAGGATGGAAAGGGTGTCTTCCTCCAGCATCTTCCTGAAGGTGAAGGAGGGGCACCTTGGGGTGTCTAAGA. Let's decompose the question to sub-questions and solve them step by step.\",\n",
       "  'answer': ['FNDC11', 'C20orf195']},\n",
       " {'task': 'sequence gene alias',\n",
       "  'id': 3,\n",
       "  'question': \"What are the aliases of the gene that contains this sequnece:GCACACGTACGTTCCTCATGAAAGGGACGACGGGAGCTGCATGAAAGCCGAAGTTATGGACCGCTAGCATCTGTCACTGGCCACCGGTTTCCGGGAGTAAGCGGCAGCTACCT. Let's decompose the question to sub-questions and solve them step by step.\",\n",
       "  'answer': ['EOLA2', 'CXorf40B']},\n",
       " {'task': 'sequence gene alias',\n",
       "  'id': 4,\n",
       "  'question': \"What are the aliases of the gene that contains this sequnece:AGACGTGAAGCCTAGCAGAGGACTTTTTAGCTGCTCACTGGCCCCGCTTGTCTGGCCGACTCATCCGCCCGCGACCCCTAATCCCCTCTGCCTGCCCCAAGATGCTGAAGCCA. Let's decompose the question to sub-questions and solve them step by step.\",\n",
       "  'answer': ['PSMB10', 'LMP10', 'MECL1', 'PRAAS5', 'beta2i']},\n",
       " {'task': 'sequence gene alias',\n",
       "  'id': 5,\n",
       "  'question': \"What are the aliases of the gene that contains this sequnece:ACTTCCAACATGGCGGCGGCCGGGGCGGCGGTGGCGCGCAGCCCGGGAATCGGAGCGGGACCTGCGCTGAGAGCCCGGCGCTCGCCCCCGCCGCGGGCCGCACGGCTGCCGCG. Let's decompose the question to sub-questions and solve them step by step.\",\n",
       "  'answer': ['QSOX2', 'SOXN', 'QSCN6L1']},\n",
       " {'task': 'sequence gene alias',\n",
       "  'id': 6,\n",
       "  'question': \"What are the aliases of the gene that contains this sequnece:ACTAGCCCCAAGAACAAAAGAGGCACAGGTGGGAACAACTCTCCCAAAACCAGGACTGGGAGCATGGCCAAACTTCATAGTGAGCTTACTTGCCTCTGACACACAAGGCAGCA. Let's decompose the question to sub-questions and solve them step by step.\",\n",
       "  'answer': ['OR10A2', 'OST363', 'OR10A2P', 'OR11-82', 'OR11-86']},\n",
       " {'task': 'sequence gene alias',\n",
       "  'id': 7,\n",
       "  'question': \"What are the aliases of the gene that contains this sequnece:GCCGGCGCGCTTGCGCAGTAGCTGAACGCGGGCGTTTCTTTCCTCCCTTTTTTTCGAATTGGTTTTGGGGGTAGATTCGAGTTACAAAATGGCCGCCCGGAGCGTGTTCGGCG. Let's decompose the question to sub-questions and solve them step by step.\",\n",
       "  'answer': ['NUP50', 'NPAP60', 'NPAP60L']},\n",
       " {'task': 'sequence gene alias',\n",
       "  'id': 8,\n",
       "  'question': \"What are the aliases of the gene that contains this sequnece:ATGCTTCATTACACCCTTCATGGAAGCTGGCACACTCGCCCCACCCTCGTTTTCCACGGGCCAGTCTTGGAGGAAAAGGCCAGCAGGTAGGTTCCCAGGGCACGGAGATGATG. Let's decompose the question to sub-questions and solve them step by step.\",\n",
       "  'answer': ['MLLT10', 'AF10']},\n",
       " {'task': 'sequence gene alias',\n",
       "  'id': 9,\n",
       "  'question': \"What are the aliases of the gene that contains this sequnece:GCTTACGCCACGGCGTCTGCTGGCGGCCGCGGAGACGCAGAGTCTTGAGCAGCGCGGCAGGTGAGTAGCTGTGCGAATTCGGTTCTCTAGGGAGCTCCTTCTTCGCCTGCTGG. Let's decompose the question to sub-questions and solve them step by step.\",\n",
       "  'answer': ['MRPL57', 'MRP63', 'bMRP63']},\n",
       " {'task': 'sequence gene alias',\n",
       "  'id': 10,\n",
       "  'question': \"What are the aliases of the gene that contains this sequnece:AGAAGAGCCAAAACAGGAACCGAGGTGGCAAATCACTGTGCGAGGGCGAGTGGACCTCCCTCTTTGCCTCCTCCCTGTTCCAGGAGCTGGTGCCCTGGGCTCTGCGCTGTTGT. Let's decompose the question to sub-questions and solve them step by step.\",\n",
       "  'answer': ['SYT4', 'HsT1192']},\n",
       " {'task': 'sequence gene alias',\n",
       "  'id': 11,\n",
       "  'question': \"What are the aliases of the gene that contains this sequnece:CTTCCAGGCTAAGTCCATCTTCCGGCTTGGGCAGACGCTGCCGCGGAATCCTTGACTCTAGTTTTCTGAGTCGGTGAGTGAGTGCAAAGTAGATTCCTCAGGTGGAGGGTGCC. Let's decompose the question to sub-questions and solve them step by step.\",\n",
       "  'answer': ['ZBTB6', 'ZID', 'ZNF482']},\n",
       " {'task': 'sequence gene alias',\n",
       "  'id': 12,\n",
       "  'question': \"What are the aliases of the gene that contains this sequnece:CCTTTTAGTATCCAATTATCTGAAACTTAAGAAGAGTGTGCACCGCCCAATGGGTGTGTGTATGTGCTGCTTTGAACCTATAGTTGAGATCCAGAGAATTGGGAGTGACATCA. Let's decompose the question to sub-questions and solve them step by step.\",\n",
       "  'answer': ['PTH', 'FIH1', 'PTH1']},\n",
       " {'task': 'sequence gene alias',\n",
       "  'id': 13,\n",
       "  'question': \"What are the aliases of the gene that contains this sequnece:AGGCTACCAAAGTCGCTGGTAGCCTGGACCCTGAGTTCACCGATCCTTCCTACTCAGTAATATCTACAGGTAAGTCCAAAGGGAAATTGCTTTGGGAATCTGACAATTTAACT. Let's decompose the question to sub-questions and solve them step by step.\",\n",
       "  'answer': ['ASIP', 'ASP', 'AGSW', 'AGTI', 'AGTIL', 'SHEP9']},\n",
       " {'task': 'sequence gene alias',\n",
       "  'id': 14,\n",
       "  'question': \"What are the aliases of the gene that contains this sequnece:ATCTGCTCTGACTTCCCCAGGACGTGTCTGTGCTCCTGTGTGTGACCAGGGTGAGTGGCAACCTGGGAGCCAGAGGGCACAGGGGAATGGGAAGATTAAGGGAGGCTTCAGAG. Let's decompose the question to sub-questions and solve them step by step.\",\n",
       "  'answer': ['LCE2A', 'LEP9']},\n",
       " {'task': 'sequence gene alias',\n",
       "  'id': 15,\n",
       "  'question': \"What are the aliases of the gene that contains this sequnece:AGAGCCCAGCCCAGCACGGTCTCCGGGGATGTAGCTGGTGGGACAGTGAGCAGAGGGCTGGGCCCTGTGCCTGGGGACTGTGGCCTGGAGGCTGAGCAGGAGCTGAGGAGGGG. Let's decompose the question to sub-questions and solve them step by step.\",\n",
       "  'answer': ['SEPTIN3', 'SEP3', 'SEPT3', 'bK250D10.3']},\n",
       " {'task': 'sequence gene alias',\n",
       "  'id': 16,\n",
       "  'question': \"What are the aliases of the gene that contains this sequnece:GCACAAGCCGGCCTTGAAATCAGAGCCTTTCCAGCAACTCCGAGAGCGTGTGCTCGGCGACCGCGGGCTTGGCCAGCGGCGCGCGCTCGGCGCCCCGGCGCCCCCAGCCCCAC. Let's decompose the question to sub-questions and solve them step by step.\",\n",
       "  'answer': ['TWIST2',\n",
       "   'AMS',\n",
       "   'FFDD3',\n",
       "   'BBRSAY',\n",
       "   'DERMO1',\n",
       "   'SETLSS',\n",
       "   'bHLHa39']},\n",
       " {'task': 'sequence gene alias',\n",
       "  'id': 17,\n",
       "  'question': \"What are the aliases of the gene that contains this sequnece:AGTTGGCCGCTCCGGCCTGTGGGGCTACATCCCTGCTGCCGGCCAGGCGCGGCCCGCGGGACCCCGAGTGTAGCGCCATGGCCCGGGAGAGGCCGCCCGGGAGGGGCTGCGGC. Let's decompose the question to sub-questions and solve them step by step.\",\n",
       "  'answer': ['METTL24', 'C6orf186']},\n",
       " {'task': 'sequence gene alias',\n",
       "  'id': 18,\n",
       "  'question': \"What are the aliases of the gene that contains this sequnece:GCATTGTGGGTTCTCCTGGAGCTGTGGAGTTGATCCTGAATGAAAGTGGCGCGCCGCCCCTGACGTTACCCGGATCGGAGAGGTTGGAATTCAGATTACGGCTGCGATTCGGG. Let's decompose the question to sub-questions and solve them step by step.\",\n",
       "  'answer': ['RNGTT', 'HCE', 'HCE1', 'hCAP', 'CAP1A']},\n",
       " {'task': 'sequence gene alias',\n",
       "  'id': 19,\n",
       "  'question': \"What are the aliases of the gene that contains this sequnece:CTTCCCCAAGCCAACGTCTCCGCCGTCGGCTCCGCGGCGCCGCCATGGCCGACGTGGAAGACGGAGAGGAAACCTGCGCCCTGGCCTCTCACTCCGGGAGCTCAGGCTCCAAG. Let's decompose the question to sub-questions and solve them step by step.\",\n",
       "  'answer': ['RNF7', 'SAG', 'ROC2', 'rbx2', 'CKBBP1']},\n",
       " {'task': 'sequence gene alias',\n",
       "  'id': 20,\n",
       "  'question': \"What are the aliases of the gene that contains this sequnece:AAGACTGCGAGCTCCCCGCACCCCCTCGCACTCCCTCTGGCCGGCCCAGGGCGCCTTCAGCCCAACCTCCCCAGCCCCACGGGCGCCACGGAACCCGCTCGATCTCGCCGCCA. Let's decompose the question to sub-questions and solve them step by step.\",\n",
       "  'answer': ['F3', 'TF', 'TFA', 'CD142']},\n",
       " {'task': 'sequence gene alias',\n",
       "  'id': 21,\n",
       "  'question': \"What are the aliases of the gene that contains this sequnece:AGCTCCCCGCCGGGCTCGCGCCGCAGAGGCCGGTGAGGCGCCGGCGGCCACGCCGCGGAAGGCGCGGGCCGAGCAGAGCCGGGCGTTGGAGCCCGCGCGCGCATGGAGGCGTT. Let's decompose the question to sub-questions and solve them step by step.\",\n",
       "  'answer': ['SLC25A33', 'PNC1', 'BMSC-MCP']},\n",
       " {'task': 'sequence gene alias',\n",
       "  'id': 22,\n",
       "  'question': \"What are the aliases of the gene that contains this sequnece:AGATCTGCTTCTCCCCGGCTCGGGGCGCCGAGGCGGCGTCCGGGAGGTGTCTTCTGCAAAGGTTGCCTGGCGCTGTCCAACATGGAGGAGGCACCGGCAGCGGGCGTTACCTG. Let's decompose the question to sub-questions and solve them step by step.\",\n",
       "  'answer': ['PCLO', 'ACZ', 'PCH3']},\n",
       " {'task': 'sequence gene alias',\n",
       "  'id': 23,\n",
       "  'question': \"What are the aliases of the gene that contains this sequnece:CATGGCCACCCCTGCAGCAGTTACAACACTAAGAGCTCGTTCTTTTGCATCCTCTGTAAGTCCCAGGGCCAAGGGAGGGGAGCCTAGGCTATATTGGACCTAGATAGGAAGAG. Let's decompose the question to sub-questions and solve them step by step.\",\n",
       "  'answer': ['OR56A1', 'OR11-75']},\n",
       " {'task': 'sequence gene alias',\n",
       "  'id': 24,\n",
       "  'question': \"What are the aliases of the gene that contains this sequnece:GGGACTTTGCAGGCAGCGGCGGCCGGGGGCGGAGCGGGATCGAGCCCTCGCCGAGGCCTGCCGCCATGGGCCCGCGCCGCCGCCGCCGCCTGTCACCCGGGCCGCGCGGGCCG. Let's decompose the question to sub-questions and solve them step by step.\",\n",
       "  'answer': ['E2F1', 'RBP3', 'E2F-1', 'RBAP1', 'RBBP3']},\n",
       " {'task': 'sequence gene alias',\n",
       "  'id': 25,\n",
       "  'question': \"What are the aliases of the gene that contains this sequnece:CTCTTTCTTAAGTCATTCGAAACACTGTCCCTGCGAGTTCTTTAAGTTCCCTGCAATCTGTACACAAGAGAAAGAGGGAGAGAGAGAGGGAGAGAGACAGAGAGAGCAGGGAT. Let's decompose the question to sub-questions and solve them step by step.\",\n",
       "  'answer': ['ZNF366', 'DCSCRIPT', 'DC-SCRIPT']},\n",
       " {'task': 'sequence gene alias',\n",
       "  'id': 26,\n",
       "  'question': \"What are the aliases of the gene that contains this sequnece:AGAAGGAGCGAAACATCTTTGAGCAAGATGGGTCTCTACCGCATCCGCGTGTCCACTGGGGCCTCGCTCTATGCCGGTTCCAACAACCAGGTGCAGCTGTGGCTGGTCGGCCA. Let's decompose the question to sub-questions and solve them step by step.\",\n",
       "  'answer': ['ALOX15', 'LOG15', '12-LOX', '15-LOX', '15-LOX-1']},\n",
       " {'task': 'sequence gene alias',\n",
       "  'id': 27,\n",
       "  'question': \"What are the aliases of the gene that contains this sequnece:CCCGCGCGGTAGCAGCCAACGCCGGCCCCAGGCGGGTGCGCTGGGAGCCTGGGCCGGGAGCCGGGTGAGGGCGCCGAGAGGCTCGGTGGGCGCGGGCGGCGAGGTGAGCTGGG. Let's decompose the question to sub-questions and solve them step by step.\",\n",
       "  'answer': ['LYPD6B', 'CT116', 'LYPD7']},\n",
       " {'task': 'sequence gene alias',\n",
       "  'id': 28,\n",
       "  'question': \"What are the aliases of the gene that contains this sequnece:AGATTTGCTCTGATTCTGACAATGCAGTGGGTATCAGAGCTCAGGTCCAGAGGAAAAGCCTGGAGTGAGTGAGGCTGCGAGCTTCCTCTTCAGAACTCTGCATGCTTATCGGG. Let's decompose the question to sub-questions and solve them step by step.\",\n",
       "  'answer': ['PRKCH', 'PKCL', 'PKC-L', 'PRKCL', 'uORF2', 'nPKC-eta']},\n",
       " {'task': 'sequence gene alias',\n",
       "  'id': 29,\n",
       "  'question': \"What are the aliases of the gene that contains this sequnece:AGAACTCTGCGCTACTGCCCACGCATCTCACAAAGTCTACTACGCCGCGCGTTCTCGGTTTCAACGCACCTCCAGGATTCAGGGCTTCCTAAGCTGCAATTCAGCAGGGCTCC. Let's decompose the question to sub-questions and solve them step by step.\",\n",
       "  'answer': ['ARHGEF26', 'SGEF', 'CSGEF', 'HMFN1864']},\n",
       " {'task': 'sequence gene alias',\n",
       "  'id': 30,\n",
       "  'question': \"What are the aliases of the gene that contains this sequnece:AGCGGGAAGACCATCTCTGCAAGTGCAGCATAGCCTCGGCCTAGGACAGCGGGAGTGCGTGGCCAAAGCTGTGAGCAGAGGCACAGGTGGTGGCAGACAGTAGAGGCGCCCCA. Let's decompose the question to sub-questions and solve them step by step.\",\n",
       "  'answer': ['AGAP9', 'AGAP-9', 'CTGLF6', 'bA301J7.2']},\n",
       " {'task': 'sequence gene alias',\n",
       "  'id': 31,\n",
       "  'question': \"What are the aliases of the gene that contains this sequnece:GTCGGCCCTGCGGGCCTCTCTCCGTCGCCATGGAAACGAAAGCGGCCAAGTAGAGCTCCGTCCTGACGCGCCGCCTCCCGTGGGCTCCGGCCGGCTAAGCCGCGGCGGACAAC. Let's decompose the question to sub-questions and solve them step by step.\",\n",
       "  'answer': ['IFT22', 'FAP9', 'CFAP9', 'RABL5']},\n",
       " {'task': 'sequence gene alias',\n",
       "  'id': 32,\n",
       "  'question': \"What are the aliases of the gene that contains this sequnece:AGTCAAGTGACGCGAAGCGGCCGGCCTGGGCGCCGACTGCAGAGCCGGGAGGCTGGTGGTCATGCCGGGGTTCCTGGTTCGCATCCTCCCTCTGTTGCTGGTTCTGCTGCTTC. Let's decompose the question to sub-questions and solve them step by step.\",\n",
       "  'answer': ['GLB1', 'EBP', 'ELNR1', 'MPS4B']},\n",
       " {'task': 'sequence gene alias',\n",
       "  'id': 33,\n",
       "  'question': \"What are the aliases of the gene that contains this sequnece:GTTTTTCAGCTCACTTCAAGGGTACCTGAAGCGAATTGGCACCAAAGCAGCAGCTGTATTGCCGCAGTTCTAGCTTCACCTTCACGATGTTTCCCTTGGTCAAAAGCGCACTA. Let's decompose the question to sub-questions and solve them step by step.\",\n",
       "  'answer': ['COX7B', 'APLCC', 'LSDMCA2']},\n",
       " {'task': 'sequence gene alias',\n",
       "  'id': 34,\n",
       "  'question': \"What are the aliases of the gene that contains this sequnece:AGAGCGGCCCCGGAGCGGCCGCAGCGCGGTGGTCTCGGCCCGGCTGCGCCAGAGTCCGCGCGATGGAGCCCCGGCCGCGGCGGCGGCGCAGGAGTCGCCCCCTGGTCGCCGCC. Let's decompose the question to sub-questions and solve them step by step.\",\n",
       "  'answer': ['PLK5', 'PLK-5', 'PLK5P', 'SgK384ps']},\n",
       " {'task': 'sequence gene alias',\n",
       "  'id': 35,\n",
       "  'question': \"What are the aliases of the gene that contains this sequnece:ATGACGCGCGGCCGCGCCTGGGGGATGCGGCGGGCGGCGGCGGGGGCGGGCGGAGCGCGGGCGGCGGGGCCAACTGGGGGCGCCTCTCGCCTGCACCCCAATGCGGGACGCAG. Let's decompose the question to sub-questions and solve them step by step.\",\n",
       "  'answer': ['ANKRD60', 'C20orf86', 'bA196N14.3']},\n",
       " {'task': 'sequence gene alias',\n",
       "  'id': 36,\n",
       "  'question': \"What are the aliases of the gene that contains this sequnece:ATCGATCACAGGCTCACAACGCCCTTCCATTCATCGCTCTTATTCCAGTCCTGGTTACTACCCCACTTCCTGACATCAAACCAGGGAGAACGCGAGTGTTAGTTAACATGGCT. Let's decompose the question to sub-questions and solve them step by step.\",\n",
       "  'answer': ['POC1B-GALNT4', 'GALNT4', 'GalNAc-T4']},\n",
       " {'task': 'sequence gene alias',\n",
       "  'id': 37,\n",
       "  'question': \"What are the aliases of the gene that contains this sequnece:GCCATTTTGGATTGTGTGAGTTTCCGGGACGTTCGGAGGGTGGCCTCTCTCCCACCGGGTTCCGCATACCCCAGGCACCGGCCCGCATCCAAGTGTCAGGTTGGAGCCGGGAA. Let's decompose the question to sub-questions and solve them step by step.\",\n",
       "  'answer': ['INTS8', 'INT8', 'NEDCHS', 'C8orf52']},\n",
       " {'task': 'sequence gene alias',\n",
       "  'id': 38,\n",
       "  'question': \"What are the aliases of the gene that contains this sequnece:GTTGTACAGAAAATTGCTGTTGGGATGAAGCTTTGCAGCCTTGCAGTCCTTGTACCCATTGTTCTCTTCTGTGAGCAGCATGTCTTCGCGTTTCAGAGGTAACCCAATAGAA. Let's decompose the question to sub-questions and solve them step by step.\",\n",
       "  'answer': ['CPB2', 'CPU', 'PCPB', 'TAFI']},\n",
       " {'task': 'sequence gene alias',\n",
       "  'id': 39,\n",
       "  'question': \"What are the aliases of the gene that contains this sequnece:ATTACTCAGCTTTTCATCTGCTGTGTTGAAAGCCAACTTATCATTTTTCACATTATTGTATACATCTAAAAGACATCATAAACGAAGACTGGAAGTGAAAACTGAAAAACTGA. Let's decompose the question to sub-questions and solve them step by step.\",\n",
       "  'answer': ['VBP1', 'PFD3', 'PFDN3', 'VBP-1', 'HIBBJ46']},\n",
       " {'task': 'sequence gene alias',\n",
       "  'id': 40,\n",
       "  'question': \"What are the aliases of the gene that contains this sequnece:GTTTGTTTACTTGGCGAGACTTGGAGCTGAGGTCATTTGGAGCTGTTTAATACTGAAGAGCTGTTGAGCACTGGAAAGTGCTGTGTAACCCTGGAAAAGAACCGTGTAACGCT. Let's decompose the question to sub-questions and solve them step by step.\",\n",
       "  'answer': ['H2BC1',\n",
       "   'STBP',\n",
       "   'TH2B',\n",
       "   'H2BFU',\n",
       "   'TSH2B',\n",
       "   'hTSH2B',\n",
       "   'TSH2B.1',\n",
       "   'HIST1H2BA',\n",
       "   'bA317E16.3']},\n",
       " {'task': 'sequence gene alias',\n",
       "  'id': 41,\n",
       "  'question': \"What are the aliases of the gene that contains this sequnece:AGCTGCCAGCACGCGCAGAAGGCGGACGCAGGCGGGGCGGAAGTGGGCCCGGCGGGCTGGGGCGGCGGGAGTGCGGGTGGGCGTTTAAAGGGGCCTTCGGCACCCAGGTCGGT. Let's decompose the question to sub-questions and solve them step by step.\",\n",
       "  'answer': ['CPLANE2', 'RSG1', 'C1orf89']},\n",
       " {'task': 'sequence gene alias',\n",
       "  'id': 42,\n",
       "  'question': \"What are the aliases of the gene that contains this sequnece:AGATGTGAGTCCTCAATGAGCTATAACCACAGCCATAAATATCTCTCAAAGATGAGGAACATTCTCATGATGTTGACACTGCAATTTTTTGACAATTTCCCAACACTCTTAAG. Let's decompose the question to sub-questions and solve them step by step.\",\n",
       "  'answer': ['ADAMDEC1', 'M12.219']},\n",
       " {'task': 'sequence gene alias',\n",
       "  'id': 43,\n",
       "  'question': \"What are the aliases of the gene that contains this sequnece:TCTTCCTCCAGCTGTTCCCACAGGCTCCATTATTCAAACTTTGGGGGAGGAAATCAGGGCTGGACAGATCATCAACTGCTGCTGCTGACAGACTGTGTTCCTGCCATGATGGG. Let's decompose the question to sub-questions and solve them step by step.\",\n",
       "  'answer': ['B3GNT8', 'B3GALT7', 'BGALT15', 'beta3Gn-T8']},\n",
       " {'task': 'sequence gene alias',\n",
       "  'id': 44,\n",
       "  'question': \"What are the aliases of the gene that contains this sequnece:CATTTCACCAGCCCAGGCTGGCTTCTGCTGTTGACTGGCTGTGGCACCTCAAGCAGCCCCTTTCCCCTCTAGCCTCAGTTTATCACCGCAAGAGCTACCATTCATCTAGCACA. Let's decompose the question to sub-questions and solve them step by step.\",\n",
       "  'answer': ['SRC', 'ASV', 'SRC1', 'THC6', 'c-SRC', 'p60-Src']},\n",
       " {'task': 'sequence gene alias',\n",
       "  'id': 45,\n",
       "  'question': \"What are the aliases of the gene that contains this sequnece:ATGGCTTTGCCTAGAAGCCAAGGCCATTGGTCCAACAAAGACATCTTGAGGTTACTGGAATGCATGGAGAATAATCGCCCATCTGATGACAACAGCACGTTTAGCTCAACTCA. Let's decompose the question to sub-questions and solve them step by step.\",\n",
       "  'answer': ['UBTFL1', 'HMGPI', 'C11orf27']},\n",
       " {'task': 'sequence gene alias',\n",
       "  'id': 46,\n",
       "  'question': \"What are the aliases of the gene that contains this sequnece:GCAGGCGCTGGCTGGCAGGTGTCGCTAACCGGACGGTGGTCGCCAGGGCGAGAGGCGGGAGCCGGAGAGGTGAGGCAGGACCCGGGCTCCACTGCCGCCTCTCCGAGCTCTTG. Let's decompose the question to sub-questions and solve them step by step.\",\n",
       "  'answer': ['MOGS', 'DER7', 'GCS1', 'CDG2B', 'CWH41']},\n",
       " {'task': 'sequence gene alias',\n",
       "  'id': 47,\n",
       "  'question': \"What are the aliases of the gene that contains this sequnece:ACGTGGCCGGGGTGGGACCTCAGGCGACCTGCGACCATCACTTTGTCTCCTCCTTCCTCCTTTGGGGCCGCCACCGCCAATCAGAGCCAGCGGATCCTGGTTGGAGTGCGACC. Let's decompose the question to sub-questions and solve them step by step.\",\n",
       "  'answer': ['ATOSB', 'FAM214B', 'KIAA1539']},\n",
       " {'task': 'sequence gene alias',\n",
       "  'id': 48,\n",
       "  'question': \"What are the aliases of the gene that contains this sequnece:AGGATTCCTGGAGTCTCCGGAGGGTGCCTTTGGCCTCTGGGATTCACCCGAGCCGTTGGCTTTTGCTCCCCCCACCCCACCCCCTGGCTTTTCTTGGCTTGGAGGGCAGCTGG. Let's decompose the question to sub-questions and solve them step by step.\",\n",
       "  'answer': ['SHANK2',\n",
       "   'SHANK',\n",
       "   'AUTS17',\n",
       "   'CORTBP1',\n",
       "   'CTTNBP1',\n",
       "   'ProSAP1',\n",
       "   'SPANK-3']},\n",
       " {'task': 'sequence gene alias',\n",
       "  'id': 49,\n",
       "  'question': \"What are the aliases of the gene that contains this sequnece:ATGCTCAGTAGCCGCGGCGCTGCTGCTGGGCTGCTGGGCTGGCGCGGAGTCCACCCTGCCGTCTCCGCCTTGGCTTCTGGGCGTCCAGAAGGCCAGGCATTTGCCGCCTCTGA. Let's decompose the question to sub-questions and solve them step by step.\",\n",
       "  'answer': ['PTPRR', 'PTPRQ', 'EC-PTP', 'PCPTP1', 'PTP-SL', 'PTPBR7']},\n",
       " {'task': 'Disease gene location',\n",
       "  'id': 50,\n",
       "  'question': \"List chromosome locations of the genes related to Hemolytic anemia due to phosphofructokinase deficiency. Let's decompose the question to sub-questions and solve them step by step.\",\n",
       "  'answer': ['21q22.3']},\n",
       " {'task': 'Disease gene location',\n",
       "  'id': 51,\n",
       "  'question': \"List chromosome locations of the genes related to Distal renal tubular acidosis. Let's decompose the question to sub-questions and solve them step by step.\",\n",
       "  'answer': ['17q21.31', '7q34']},\n",
       " {'task': 'Disease gene location',\n",
       "  'id': 52,\n",
       "  'question': \"List chromosome locations of the genes related to Pseudohypoparathyroidism Ic. Let's decompose the question to sub-questions and solve them step by step.\",\n",
       "  'answer': ['20q13.32']},\n",
       " {'task': 'Disease gene location',\n",
       "  'id': 53,\n",
       "  'question': \"List chromosome locations of the genes related to Glycine N-methyltransferase deficiency. Let's decompose the question to sub-questions and solve them step by step.\",\n",
       "  'answer': ['6p21.1']},\n",
       " {'task': 'Disease gene location',\n",
       "  'id': 54,\n",
       "  'question': \"List chromosome locations of the genes related to Meesmann corneal dystrophy. Let's decompose the question to sub-questions and solve them step by step.\",\n",
       "  'answer': ['17q21.2', '12q13.13']},\n",
       " {'task': 'Disease gene location',\n",
       "  'id': 55,\n",
       "  'question': \"List chromosome locations of the genes related to Chronic atrial and intestinal dysrhythmia. Let's decompose the question to sub-questions and solve them step by step.\",\n",
       "  'answer': ['3p24.3']},\n",
       " {'task': 'Disease gene location',\n",
       "  'id': 56,\n",
       "  'question': \"List chromosome locations of the genes related to Sensorineural deafness with mild renal dysfunction. Let's decompose the question to sub-questions and solve them step by step.\",\n",
       "  'answer': ['1p32.3']},\n",
       " {'task': 'Disease gene location',\n",
       "  'id': 57,\n",
       "  'question': \"List chromosome locations of the genes related to Bile acid malabsorption. Let's decompose the question to sub-questions and solve them step by step.\",\n",
       "  'answer': ['13q33.1', '15q22.31']},\n",
       " {'task': 'Disease gene location',\n",
       "  'id': 58,\n",
       "  'question': \"List chromosome locations of the genes related to Immunodeficiency due to defect in MAPBP-interacting protein. Let's decompose the question to sub-questions and solve them step by step.\",\n",
       "  'answer': ['1q22']},\n",
       " {'task': 'Disease gene location',\n",
       "  'id': 59,\n",
       "  'question': \"List chromosome locations of the genes related to Currarino syndrome. Let's decompose the question to sub-questions and solve them step by step.\",\n",
       "  'answer': ['7q36.3']},\n",
       " {'task': 'Disease gene location',\n",
       "  'id': 60,\n",
       "  'question': \"List chromosome locations of the genes related to Intervertebral disc disease. Let's decompose the question to sub-questions and solve them step by step.\",\n",
       "  'answer': ['20q13.33']},\n",
       " {'task': 'Disease gene location',\n",
       "  'id': 61,\n",
       "  'question': \"List chromosome locations of the genes related to Otofaciocervical syndrome. Let's decompose the question to sub-questions and solve them step by step.\",\n",
       "  'answer': ['8q13.3', '20p11.22']},\n",
       " {'task': 'Disease gene location',\n",
       "  'id': 62,\n",
       "  'question': \"List chromosome locations of the genes related to Brody myopathy. Let's decompose the question to sub-questions and solve them step by step.\",\n",
       "  'answer': ['16p11.2']},\n",
       " {'task': 'Disease gene location',\n",
       "  'id': 63,\n",
       "  'question': \"List chromosome locations of the genes related to Neurodevelopmental disorder with gait disturbance. Let's decompose the question to sub-questions and solve them step by step.\",\n",
       "  'answer': ['Xq22.2']},\n",
       " {'task': 'Disease gene location',\n",
       "  'id': 64,\n",
       "  'question': \"List chromosome locations of the genes related to Mitochondrial DNA depletion syndrome 4A Alpers type. Let's decompose the question to sub-questions and solve them step by step.\",\n",
       "  'answer': ['15q26.1']},\n",
       " {'task': 'Disease gene location',\n",
       "  'id': 65,\n",
       "  'question': \"List chromosome locations of the genes related to Nephropathy due to CFHR5 deficiency. Let's decompose the question to sub-questions and solve them step by step.\",\n",
       "  'answer': ['1q31.3']},\n",
       " {'task': 'Disease gene location',\n",
       "  'id': 66,\n",
       "  'question': \"List chromosome locations of the genes related to Achromatopsia. Let's decompose the question to sub-questions and solve them step by step.\",\n",
       "  'answer': ['2q11.2', '8q21.3', '1p13.3', '12p12.3', '1q23.3']},\n",
       " {'task': 'Disease gene location',\n",
       "  'id': 67,\n",
       "  'question': \"List chromosome locations of the genes related to Hyperphenylalaninemia. Let's decompose the question to sub-questions and solve them step by step.\",\n",
       "  'answer': ['11q23.1',\n",
       "   '14q22.2',\n",
       "   '4p15.32',\n",
       "   '10q22.1',\n",
       "   '10q21.3',\n",
       "   '12q23.2']},\n",
       " {'task': 'Disease gene location',\n",
       "  'id': 68,\n",
       "  'question': \"List chromosome locations of the genes related to EDICT syndrome. Let's decompose the question to sub-questions and solve them step by step.\",\n",
       "  'answer': ['15q25.1']},\n",
       " {'task': 'Disease gene location',\n",
       "  'id': 69,\n",
       "  'question': \"List chromosome locations of the genes related to Gastrointestinal defects and immunodeficiency syndrome. Let's decompose the question to sub-questions and solve them step by step.\",\n",
       "  'answer': ['22q11.21', '2p21']},\n",
       " {'task': 'Disease gene location',\n",
       "  'id': 70,\n",
       "  'question': \"List chromosome locations of the genes related to Cleft palate with ankyloglossia. Let's decompose the question to sub-questions and solve them step by step.\",\n",
       "  'answer': ['Xq21.1']},\n",
       " {'task': 'Disease gene location',\n",
       "  'id': 71,\n",
       "  'question': \"List chromosome locations of the genes related to Neurodevelopmental disorder with nonspecific brain abnormalities and with or without seizures. Let's decompose the question to sub-questions and solve them step by step.\",\n",
       "  'answer': ['6q27']},\n",
       " {'task': 'Disease gene location',\n",
       "  'id': 72,\n",
       "  'question': \"List chromosome locations of the genes related to Spondylocarpotarsal synostosis syndrome. Let's decompose the question to sub-questions and solve them step by step.\",\n",
       "  'answer': ['3p14.3']},\n",
       " {'task': 'Disease gene location',\n",
       "  'id': 73,\n",
       "  'question': \"List chromosome locations of the genes related to Haim-Munk syndrome. Let's decompose the question to sub-questions and solve them step by step.\",\n",
       "  'answer': ['11q14.2']},\n",
       " {'task': 'Disease gene location',\n",
       "  'id': 74,\n",
       "  'question': \"List chromosome locations of the genes related to Sialidosis. Let's decompose the question to sub-questions and solve them step by step.\",\n",
       "  'answer': ['6p21.33']},\n",
       " {'task': 'Disease gene location',\n",
       "  'id': 75,\n",
       "  'question': \"List chromosome locations of the genes related to Siddiqi syndrome. Let's decompose the question to sub-questions and solve them step by step.\",\n",
       "  'answer': ['20q13.12']},\n",
       " {'task': 'Disease gene location',\n",
       "  'id': 76,\n",
       "  'question': \"List chromosome locations of the genes related to Corneal fleck dystrophy. Let's decompose the question to sub-questions and solve them step by step.\",\n",
       "  'answer': ['2q34']},\n",
       " {'task': 'Disease gene location',\n",
       "  'id': 77,\n",
       "  'question': \"List chromosome locations of the genes related to Liver failure. Let's decompose the question to sub-questions and solve them step by step.\",\n",
       "  'answer': ['22q13.31']},\n",
       " {'task': 'Disease gene location',\n",
       "  'id': 78,\n",
       "  'question': \"List chromosome locations of the genes related to Proteasome-associated autoinflammatory syndrome. Let's decompose the question to sub-questions and solve them step by step.\",\n",
       "  'answer': ['6p21.32', '18p11.21', '13q12.3', '16q22.1']},\n",
       " {'task': 'Disease gene location',\n",
       "  'id': 79,\n",
       "  'question': \"List chromosome locations of the genes related to Orofaciodigital syndrome XIV. Let's decompose the question to sub-questions and solve them step by step.\",\n",
       "  'answer': ['11q13.4']},\n",
       " {'task': 'Disease gene location',\n",
       "  'id': 80,\n",
       "  'question': \"List chromosome locations of the genes related to Trichoepithelioma. Let's decompose the question to sub-questions and solve them step by step.\",\n",
       "  'answer': ['16q12.1']},\n",
       " {'task': 'Disease gene location',\n",
       "  'id': 81,\n",
       "  'question': \"List chromosome locations of the genes related to Medullary thyroid carcinoma. Let's decompose the question to sub-questions and solve them step by step.\",\n",
       "  'answer': ['10q11.21']},\n",
       " {'task': 'Disease gene location',\n",
       "  'id': 82,\n",
       "  'question': \"List chromosome locations of the genes related to Type diabetes mellitus. Let's decompose the question to sub-questions and solve them step by step.\",\n",
       "  'answer': ['17q12',\n",
       "   '7p15.3',\n",
       "   '2q24.1',\n",
       "   '6p21.31',\n",
       "   '2q36.3',\n",
       "   '2q31.3',\n",
       "   '7p15.3']},\n",
       " {'task': 'Disease gene location',\n",
       "  'id': 83,\n",
       "  'question': \"List chromosome locations of the genes related to Buschke-Ollendorff syndrome. Let's decompose the question to sub-questions and solve them step by step.\",\n",
       "  'answer': ['12q14.3']},\n",
       " {'task': 'Disease gene location',\n",
       "  'id': 84,\n",
       "  'question': \"List chromosome locations of the genes related to Vascular malformation. Let's decompose the question to sub-questions and solve them step by step.\",\n",
       "  'answer': ['20q13.12']},\n",
       " {'task': 'Disease gene location',\n",
       "  'id': 85,\n",
       "  'question': \"List chromosome locations of the genes related to Acrocallosal syndrome. Let's decompose the question to sub-questions and solve them step by step.\",\n",
       "  'answer': ['15q26.1']},\n",
       " {'task': 'Disease gene location',\n",
       "  'id': 86,\n",
       "  'question': \"List chromosome locations of the genes related to Congenital disorder of deglycosylation. Let's decompose the question to sub-questions and solve them step by step.\",\n",
       "  'answer': ['3p24.2', '15q24.2']},\n",
       " {'task': 'Disease gene location',\n",
       "  'id': 87,\n",
       "  'question': \"List chromosome locations of the genes related to Spinal muscular atrophy with congenital bone fractures. Let's decompose the question to sub-questions and solve them step by step.\",\n",
       "  'answer': ['15q22.31', '10q22.1']},\n",
       " {'task': 'Disease gene location',\n",
       "  'id': 88,\n",
       "  'question': \"List chromosome locations of the genes related to B-cell immunodeficiency. Let's decompose the question to sub-questions and solve them step by step.\",\n",
       "  'answer': ['3p24.2']},\n",
       " {'task': 'Disease gene location',\n",
       "  'id': 89,\n",
       "  'question': \"List chromosome locations of the genes related to Immunodeficiency with inflammatory disease and congenital thrombocytopenia. Let's decompose the question to sub-questions and solve them step by step.\",\n",
       "  'answer': ['7q22.1']},\n",
       " {'task': 'Disease gene location',\n",
       "  'id': 90,\n",
       "  'question': \"List chromosome locations of the genes related to Split-foot malformation with mesoaxial polydactyly. Let's decompose the question to sub-questions and solve them step by step.\",\n",
       "  'answer': ['2q31.1']},\n",
       " {'task': 'Disease gene location',\n",
       "  'id': 91,\n",
       "  'question': \"List chromosome locations of the genes related to Pigmented nodular adrenocortical disease. Let's decompose the question to sub-questions and solve them step by step.\",\n",
       "  'answer': ['17q24.2', '2q31.2', '5q13.3']},\n",
       " {'task': 'Disease gene location',\n",
       "  'id': 92,\n",
       "  'question': \"List chromosome locations of the genes related to Superoxide dismutase. Let's decompose the question to sub-questions and solve them step by step.\",\n",
       "  'answer': ['4p15.2']},\n",
       " {'task': 'Disease gene location',\n",
       "  'id': 93,\n",
       "  'question': \"List chromosome locations of the genes related to Leukoencephalopathy with dystonia and motor neuropathy. Let's decompose the question to sub-questions and solve them step by step.\",\n",
       "  'answer': ['1p32.3']},\n",
       " {'task': 'Disease gene location',\n",
       "  'id': 94,\n",
       "  'question': \"List chromosome locations of the genes related to Intracranial hemorrhage in brain cerebrovascular malformations. Let's decompose the question to sub-questions and solve them step by step.\",\n",
       "  'answer': ['7p15.3']},\n",
       " {'task': 'Disease gene location',\n",
       "  'id': 95,\n",
       "  'question': \"List chromosome locations of the genes related to Multiple system atrophy. Let's decompose the question to sub-questions and solve them step by step.\",\n",
       "  'answer': ['4q21.23']},\n",
       " {'task': 'Disease gene location',\n",
       "  'id': 96,\n",
       "  'question': \"List chromosome locations of the genes related to Cone dystrophy. Let's decompose the question to sub-questions and solve them step by step.\",\n",
       "  'answer': ['10q23.33', '6p21.1']},\n",
       " {'task': 'Disease gene location',\n",
       "  'id': 97,\n",
       "  'question': \"List chromosome locations of the genes related to Holt-Oram syndrome. Let's decompose the question to sub-questions and solve them step by step.\",\n",
       "  'answer': ['12q24.21']},\n",
       " {'task': 'Disease gene location',\n",
       "  'id': 98,\n",
       "  'question': \"List chromosome locations of the genes related to Lichtenstein-Knorr syndrome. Let's decompose the question to sub-questions and solve them step by step.\",\n",
       "  'answer': ['1p36.11']},\n",
       " {'task': 'Disease gene location',\n",
       "  'id': 99,\n",
       "  'question': \"List chromosome locations of the genes related to Ablepharon-macrostomia syndrome. Let's decompose the question to sub-questions and solve them step by step.\",\n",
       "  'answer': ['2q37.3']},\n",
       " {'task': 'SNP gene function',\n",
       "  'id': 100,\n",
       "  'question': \"What is the function of the gene associated with SNP rs1217074595? Let's decompose the question to sub-questions and solve them step by step.\",\n",
       "  'answer': 'ncRNA'},\n",
       " {'task': 'SNP gene function',\n",
       "  'id': 101,\n",
       "  'question': \"What is the function of the gene associated with SNP rs1241371358? Let's decompose the question to sub-questions and solve them step by step.\",\n",
       "  'answer': 'Predicted to be active in cytosol.'},\n",
       " {'task': 'SNP gene function',\n",
       "  'id': 102,\n",
       "  'question': \"What is the function of the gene associated with SNP rs1481036795? Let's decompose the question to sub-questions and solve them step by step.\",\n",
       "  'answer': 'SEPT11 belongs to the conserved septin family of filament-forming cytoskeletal GTPases that are involved in a variety of cellular functions including cytokinesis and vesicle trafficking (Hanai et al., 2004 [PubMed 15196925]; Nagata et al., 2004 [PubMed 15485874]).'},\n",
       " {'task': 'SNP gene function',\n",
       "  'id': 103,\n",
       "  'question': \"What is the function of the gene associated with SNP rs1318850293? Let's decompose the question to sub-questions and solve them step by step.\",\n",
       "  'answer': 'Predicted to enable guanyl-nucleotide exchange factor activity. Predicted to be involved in Rho protein signal transduction.'},\n",
       " {'task': 'SNP gene function',\n",
       "  'id': 104,\n",
       "  'question': \"What is the function of the gene associated with SNP rs996319727? Let's decompose the question to sub-questions and solve them step by step.\",\n",
       "  'answer': 'Predicted to enable thiol-dependent deubiquitinase and zinc ion binding activity. Involved in spliceosomal complex assembly. Located in nucleoplasm. Part of U4/U6 x U5 tri-snRNP complex.'},\n",
       " {'task': 'SNP gene function',\n",
       "  'id': 105,\n",
       "  'question': \"What is the function of the gene associated with SNP rs577757681? Let's decompose the question to sub-questions and solve them step by step.\",\n",
       "  'answer': 'Predicted to enable oxidoreductase activity. Predicted to be involved in response to oxidative stress. Predicted to act upstream of or within several processes, including adult walking behavior; negative regulation of neuron death; and negative regulation of peptidyl-cysteine S-nitrosylation. Predicted to be located in mitochondrion and nucleolus. Predicted to be active in nucleus. Implicated in cerebellar hyplasia/atrophy, epilepsy, and global developmental delay.'},\n",
       " {'task': 'SNP gene function',\n",
       "  'id': 106,\n",
       "  'question': \"What is the function of the gene associated with SNP rs1294482311? Let's decompose the question to sub-questions and solve them step by step.\",\n",
       "  'answer': 'The protein encoded by this gene is a member of the WD repeat superfamily of proteins, which have regulatory functions. This gene is expressed in many tissue types including several types of eye tissue, and it has been associated with ocular phenotypes. In addition, it is upregulated in cultured cells that overexpress growth factor independence 1B, a transcription factor that is essential for hematopoietic cell development. Alternative splicing results in multiple transcript variants.'},\n",
       " {'task': 'SNP gene function',\n",
       "  'id': 107,\n",
       "  'question': \"What is the function of the gene associated with SNP rs979970652? Let's decompose the question to sub-questions and solve them step by step.\",\n",
       "  'answer': 'Predicted to enable mRNA binding activity and poly(A) binding activity. Predicted to be involved in regulation of alternative mRNA splicing, via spliceosome. Predicted to be located in nucleoplasm. Predicted to be active in nucleus.'},\n",
       " {'task': 'SNP gene function',\n",
       "  'id': 108,\n",
       "  'question': \"What is the function of the gene associated with SNP rs1029002401? Let's decompose the question to sub-questions and solve them step by step.\",\n",
       "  'answer': 'Predicted to enable DNA binding activity. Predicted to be involved in homologous chromosome pairing at meiosis and meiotic attachment of telomere to nuclear envelope. Predicted to be located in chromosome, telomeric region. Predicted to be integral component of nuclear inner membrane.'},\n",
       " {'task': 'SNP gene function',\n",
       "  'id': 109,\n",
       "  'question': \"What is the function of the gene associated with SNP rs1015227? Let's decompose the question to sub-questions and solve them step by step.\",\n",
       "  'answer': 'ncRNA'},\n",
       " {'task': 'SNP gene function',\n",
       "  'id': 110,\n",
       "  'question': \"What is the function of the gene associated with SNP rs1278530438? Let's decompose the question to sub-questions and solve them step by step.\",\n",
       "  'answer': 'Enables R-SMAD binding activity. Involved in negative regulation of cell migration; negative regulation of epithelial to mesenchymal transition; and negative regulation of transmembrane receptor protein serine/threonine kinase signaling pathway. Located in early endosome membrane.'},\n",
       " {'task': 'SNP gene function',\n",
       "  'id': 111,\n",
       "  'question': \"What is the function of the gene associated with SNP rs745325402? Let's decompose the question to sub-questions and solve them step by step.\",\n",
       "  'answer': 'This gene encodes a high affinity receptor for the peptide hormone calcitonin and belongs to a subfamily of seven transmembrane-spanning G protein-coupled receptors. The encoded protein is involved in maintaining calcium homeostasis and in regulating osteoclast-mediated bone resorption. Polymorphisms in this gene have been associated with variations in bone mineral density and onset of osteoporosis. Alternate splicing results in multiple transcript variants.'},\n",
       " {'task': 'SNP gene function',\n",
       "  'id': 112,\n",
       "  'question': \"What is the function of the gene associated with SNP rs4704888? Let's decompose the question to sub-questions and solve them step by step.\",\n",
       "  'answer': 'The protein encoded by this gene is one of the four known components of the sarcoglycan complex, which is a subcomplex of the dystrophin-glycoprotein complex (DGC). DGC forms a link between the F-actin cytoskeleton and the extracellular matrix. This protein is expressed most abundantly in skeletal and cardiac muscle. Mutations in this gene have been associated with autosomal recessive limb-girdle muscular dystrophy and dilated cardiomyopathy. Alternatively spliced transcript variants encoding distinct isoforms have been observed for this gene.'},\n",
       " {'task': 'SNP gene function',\n",
       "  'id': 113,\n",
       "  'question': \"What is the function of the gene associated with SNP rs1201372088? Let's decompose the question to sub-questions and solve them step by step.\",\n",
       "  'answer': 'Predicted to enable DNA-binding transcription repressor activity, RNA polymerase II-specific and RNA polymerase II cis-regulatory region sequence-specific DNA binding activity. Predicted to be involved in regulation of transcription by RNA polymerase II. Located in nucleoplasm.'},\n",
       " {'task': 'SNP gene function',\n",
       "  'id': 114,\n",
       "  'question': \"What is the function of the gene associated with SNP rs1324451169? Let's decompose the question to sub-questions and solve them step by step.\",\n",
       "  'answer': 'The activation of gene transcription is a multistep process that is triggered by factors that recognize transcriptional enhancer sites in DNA. These factors work with co-activators to direct transcriptional initiation by the RNA polymerase II apparatus. The protein encoded by this gene is a subunit of the CRSP (cofactor required for SP1 activation) complex, which, along with TFIID, is required for efficient activation by SP1. This protein is also a component of other multisubunit complexes e.g. thyroid hormone receptor-(TR-) associated proteins which interact with TR and facilitate TR function on DNA templates in conjunction with initiation factors and cofactors.'},\n",
       " {'task': 'SNP gene function',\n",
       "  'id': 115,\n",
       "  'question': \"What is the function of the gene associated with SNP rs983419152? Let's decompose the question to sub-questions and solve them step by step.\",\n",
       "  'answer': 'ncRNA'},\n",
       " {'task': 'SNP gene function',\n",
       "  'id': 116,\n",
       "  'question': \"What is the function of the gene associated with SNP rs745940901? Let's decompose the question to sub-questions and solve them step by step.\",\n",
       "  'answer': 'The protein encoded by this gene interacts with thyroid hormone receptors and contains a jumonji domain. It is a candidate histone demethylase and is thought to be a coactivator for key transcription factors. It plays a role in the DNA-damage response pathway by demethylating the mediator of DNA damage checkpoint 1 (MDC1) protein, and is required for the survival of acute myeloid leukemia. Mutations in this gene are associated with Rett syndrome and intellectual disability. Alternative splicing results in multiple transcript variants.'},\n",
       " {'task': 'SNP gene function',\n",
       "  'id': 117,\n",
       "  'question': \"What is the function of the gene associated with SNP rs1303680136? Let's decompose the question to sub-questions and solve them step by step.\",\n",
       "  'answer': 'Predicted to enable phospholipid scramblase activity. Predicted to be involved in apoptotic process involved in development; engulfment of apoptotic cell; and phosphatidylserine exposure on apoptotic cell surface. Predicted to be integral component of membrane. Predicted to be active in plasma membrane.'},\n",
       " {'task': 'SNP gene function',\n",
       "  'id': 118,\n",
       "  'question': \"What is the function of the gene associated with SNP rs1053827498? Let's decompose the question to sub-questions and solve them step by step.\",\n",
       "  'answer': 'Enables protein dimerization activity and ubiquitin protein ligase activity. Involved in positive regulation of response to DNA damage stimulus. Located in nucleoplasm. Part of Smc5-Smc6 complex.'},\n",
       " {'task': 'SNP gene function',\n",
       "  'id': 119,\n",
       "  'question': \"What is the function of the gene associated with SNP rs1350154096? Let's decompose the question to sub-questions and solve them step by step.\",\n",
       "  'answer': 'ncRNA'},\n",
       " {'task': 'SNP gene function',\n",
       "  'id': 120,\n",
       "  'question': \"What is the function of the gene associated with SNP rs1037441458? Let's decompose the question to sub-questions and solve them step by step.\",\n",
       "  'answer': 'ncRNA'},\n",
       " {'task': 'SNP gene function',\n",
       "  'id': 121,\n",
       "  'question': \"What is the function of the gene associated with SNP rs900408143? Let's decompose the question to sub-questions and solve them step by step.\",\n",
       "  'answer': 'The Fox-1 family of RNA-binding proteins is evolutionarily conserved, and regulates tissue-specific alternative splicing in metazoa. Fox-1 recognizes a (U)GCAUG stretch in regulated exons or in flanking introns. The protein binds to the C-terminus of ataxin-2 and may contribute to the restricted pathology of spinocerebellar ataxia type 2 (SCA2). Ataxin-2 is the product of the SCA2 gene which causes familial neurodegenerative diseases. Fox-1 and ataxin-2 are both localized in the trans-Golgi network. Several alternatively spliced transcript variants encoding different isoforms have been found for this gene.'},\n",
       " {'task': 'SNP gene function',\n",
       "  'id': 122,\n",
       "  'question': \"What is the function of the gene associated with SNP rs900532834? Let's decompose the question to sub-questions and solve them step by step.\",\n",
       "  'answer': 'This gene encodes a family member of serine/threonine p21-activating kinases, known as PAK proteins. These proteins are critical effectors that link RhoGTPases to cytoskeleton reorganization and nuclear signaling, and they serve as targets for the small GTP binding proteins Cdc42 and Rac. This specific family member regulates cell motility and morphology. Mutations in this gene have been associated with macrocephaly, seizures, and speech delay. Overexpression of this gene is also reported in many cancer types, and particularly in breast cancer. Alternative splicing results in multiple transcript variants.'},\n",
       " {'task': 'SNP gene function',\n",
       "  'id': 123,\n",
       "  'question': \"What is the function of the gene associated with SNP rs1281200566? Let's decompose the question to sub-questions and solve them step by step.\",\n",
       "  'answer': 'Predicted to enable unfolded protein binding activity. Predicted to be involved in protein folding. Predicted to be part of chaperonin-containing T-complex.'},\n",
       " {'task': 'SNP gene function',\n",
       "  'id': 124,\n",
       "  'question': \"What is the function of the gene associated with SNP rs1431266687? Let's decompose the question to sub-questions and solve them step by step.\",\n",
       "  'answer': 'This gene encodes a subunit of a voltage-dependent calcium channel protein that is a member of the voltage-gated calcium channel superfamily. The gene product was originally identified as an antigen target in Lambert-Eaton myasthenic syndrome, an autoimmune disorder. Mutations in this gene are associated with Brugada syndrome. Alternatively spliced variants encoding different isoforms have been described.'},\n",
       " {'task': 'SNP gene function',\n",
       "  'id': 125,\n",
       "  'question': \"What is the function of the gene associated with SNP rs900745020? Let's decompose the question to sub-questions and solve them step by step.\",\n",
       "  'answer': 'The product of this gene belongs to the CRE (cAMP response element)-binding protein family. Members of this family contain zinc-finger and bZIP DNA-binding domains. The encoded protein specifically binds to CRE as a homodimer or a heterodimer with c-Jun or CRE-BP1, and functions as a CRE-dependent trans-activator. Alternatively spliced transcript variants encoding different isoforms have been identified.'},\n",
       " {'task': 'SNP gene function',\n",
       "  'id': 126,\n",
       "  'question': \"What is the function of the gene associated with SNP rs1188606225? Let's decompose the question to sub-questions and solve them step by step.\",\n",
       "  'answer': 'This gene encodes an adaptor protein which functions in the epidermal growth factor (EGF) receptor-mediated signaling pathway. Multiple transcript variants encoding different isoforms have been found for this gene.'},\n",
       " {'task': 'SNP gene function',\n",
       "  'id': 127,\n",
       "  'question': \"What is the function of the gene associated with SNP rs902730377? Let's decompose the question to sub-questions and solve them step by step.\",\n",
       "  'answer': 'ncRNA'},\n",
       " {'task': 'SNP gene function',\n",
       "  'id': 128,\n",
       "  'question': \"What is the function of the gene associated with SNP rs1044115387? Let's decompose the question to sub-questions and solve them step by step.\",\n",
       "  'answer': 'This gene is a member of the GLI-similar zinc finger protein family and encodes a nuclear protein with five C2H2-type zinc finger domains. This protein functions as both a repressor and activator of transcription and is specifically involved in the development of pancreatic beta cells, the thyroid, eye, liver and kidney. Mutations in this gene have been associated with neonatal diabetes and congenital hypothyroidism (NDH). Alternatively spliced variants that encode different protein isoforms have been described but the full-length nature of only two have been determined.'},\n",
       " {'task': 'SNP gene function',\n",
       "  'id': 129,\n",
       "  'question': \"What is the function of the gene associated with SNP rs979980368? Let's decompose the question to sub-questions and solve them step by step.\",\n",
       "  'answer': 'Involved in positive regulation of canonical Wnt signaling pathway. Located in nucleus.'},\n",
       " {'task': 'SNP gene function',\n",
       "  'id': 130,\n",
       "  'question': \"What is the function of the gene associated with SNP rs1161130206? Let's decompose the question to sub-questions and solve them step by step.\",\n",
       "  'answer': 'ncRNA'},\n",
       " {'task': 'SNP gene function',\n",
       "  'id': 131,\n",
       "  'question': \"What is the function of the gene associated with SNP rs910422326? Let's decompose the question to sub-questions and solve them step by step.\",\n",
       "  'answer': 'Predicted to be involved in establishment of mitotic spindle orientation and regulation of establishment of bipolar cell polarity. Predicted to act upstream of or within behavioral fear response; equilibrioception; and locomotor rhythm. Predicted to be active in spindle.'},\n",
       " {'task': 'SNP gene function',\n",
       "  'id': 132,\n",
       "  'question': \"What is the function of the gene associated with SNP rs1035892430? Let's decompose the question to sub-questions and solve them step by step.\",\n",
       "  'answer': 'The protein encoded by this gene is a member of the transmembrane 4 superfamily, also known as the tetraspanin family. Most of these members are cell-surface proteins that are characterized by the presence of four hydrophobic domains. The proteins mediate signal transduction events that play a role in the regulation of cell development, activation, growth and motility. The use of alternate polyadenylation sites has been found for this gene.'},\n",
       " {'task': 'SNP gene function',\n",
       "  'id': 133,\n",
       "  'question': \"What is the function of the gene associated with SNP rs1255093658? Let's decompose the question to sub-questions and solve them step by step.\",\n",
       "  'answer': 'This gene encodes a member of the teneurin transmembrane protein family. The encoded protein may be involved in the regulation of neuronal development including development of the visual pathway. Mutations in this gene have been associated with microphthalmia and developmental dysplasia of the hip.'},\n",
       " {'task': 'SNP gene function',\n",
       "  'id': 134,\n",
       "  'question': \"What is the function of the gene associated with SNP rs1257276516? Let's decompose the question to sub-questions and solve them step by step.\",\n",
       "  'answer': 'ncRNA'},\n",
       " {'task': 'SNP gene function',\n",
       "  'id': 135,\n",
       "  'question': \"What is the function of the gene associated with SNP rs563369098? Let's decompose the question to sub-questions and solve them step by step.\",\n",
       "  'answer': 'ncRNA'},\n",
       " {'task': 'SNP gene function',\n",
       "  'id': 136,\n",
       "  'question': \"What is the function of the gene associated with SNP rs1032834815? Let's decompose the question to sub-questions and solve them step by step.\",\n",
       "  'answer': 'Enables RNA binding activity. Predicted to act upstream of or within several processes, including negative regulation of osteoblast differentiation; substrate adhesion-dependent cell spreading; and type II pneumocyte differentiation. Predicted to be located in endoplasmic reticulum.'},\n",
       " {'task': 'SNP gene function',\n",
       "  'id': 137,\n",
       "  'question': \"What is the function of the gene associated with SNP rs552952471? Let's decompose the question to sub-questions and solve them step by step.\",\n",
       "  'answer': 'This gene encodes retinoic acid receptor beta, a member of the thyroid-steroid hormone receptor superfamily of nuclear transcriptional regulators. This receptor localizes to the cytoplasm and to subnuclear compartments. It binds retinoic acid, the biologically active form of vitamin A which mediates cellular signalling in embryonic morphogenesis, cell growth and differentiation. It is thought that this protein limits growth of many cell types by regulating gene expression. The gene was first identified in a hepatocellular carcinoma where it flanks a hepatitis B virus integration site. Alternate promoter usage and differential splicing result in multiple transcript variants.'},\n",
       " {'task': 'SNP gene function',\n",
       "  'id': 138,\n",
       "  'question': \"What is the function of the gene associated with SNP rs1452964195? Let's decompose the question to sub-questions and solve them step by step.\",\n",
       "  'answer': 'ncRNA'},\n",
       " {'task': 'SNP gene function',\n",
       "  'id': 139,\n",
       "  'question': \"What is the function of the gene associated with SNP rs949202492? Let's decompose the question to sub-questions and solve them step by step.\",\n",
       "  'answer': 'The protein encoded by this gene is a neuronal calcium-binding protein that binds to and modulates the function of at least two receptors, adenosine A(2A) receptor and metabotropic glutamate receptor type 5.'},\n",
       " {'task': 'SNP gene function',\n",
       "  'id': 140,\n",
       "  'question': \"What is the function of the gene associated with SNP rs1218214598? Let's decompose the question to sub-questions and solve them step by step.\",\n",
       "  'answer': 'ncRNA'},\n",
       " {'task': 'SNP gene function',\n",
       "  'id': 141,\n",
       "  'question': \"What is the function of the gene associated with SNP rs1022906840? Let's decompose the question to sub-questions and solve them step by step.\",\n",
       "  'answer': 'Located in ciliary basal body.'},\n",
       " {'task': 'SNP gene function',\n",
       "  'id': 142,\n",
       "  'question': \"What is the function of the gene associated with SNP rs1199372758? Let's decompose the question to sub-questions and solve them step by step.\",\n",
       "  'answer': 'The protein encoded by this gene is a negative regulator of autophagy and endocytic trafficking and controls endosome maturation. This protein contains two conserved domains, an N-terminal RUN domain and a C-terminal DUF4206 domain. The RUN domain is involved in Ras-like GTPase signaling, and the DUF4206 domain contains a diacylglycerol (DAG) binding-like motif. Mutation in this gene results in deletion of the DAG binding-like motif and causes a recessive ataxia. Alternatively spliced transcript variants encoding distinct isoforms have been found for this gene.'},\n",
       " {'task': 'SNP gene function',\n",
       "  'id': 143,\n",
       "  'question': \"What is the function of the gene associated with SNP rs1396355441? Let's decompose the question to sub-questions and solve them step by step.\",\n",
       "  'answer': 'The protein encoded by this gene is a member of the protein tyrosine phosphatase (PTP) family. PTPs are known to be signaling molecules that regulate a variety of cellular processes including cell growth, differentiation, mitotic cycle, and oncogenic transformation. This PTP contains an extracellular domain, a single transmembrane segment and one intracytoplasmic catalytic domain, thus belongs to receptor type PTP. The extracellular region of this PTP is composed of multiple fibronectin type_III repeats, which was shown to interact with neuronal receptor and cell adhesion molecules, such as contactin and tenascin C. This protein was also found to interact with sodium channels, and thus may regulate sodium channels by altering tyrosine phosphorylation status. The functions of the interaction partners of this protein implicate the roles of this PTP in cell adhesion, neurite growth, and neuronal differentiation. Alternate transcript variants encoding different isoforms have been found for this gene.'},\n",
       " {'task': 'SNP gene function',\n",
       "  'id': 144,\n",
       "  'question': \"What is the function of the gene associated with SNP rs1432624213? Let's decompose the question to sub-questions and solve them step by step.\",\n",
       "  'answer': 'This gene encodes a member of the organic-cation transporter family. It is located in a gene cluster with another member of the family, organic cation transporter like 3. The encoded protein is a transmembrane protein which is thought to transport small molecules and since this protein is conserved among several species, it is suggested to have a fundamental role in mammalian systems. Alternative splicing results in multiple transcript variants.'},\n",
       " {'task': 'SNP gene function',\n",
       "  'id': 145,\n",
       "  'question': \"What is the function of the gene associated with SNP rs937944577? Let's decompose the question to sub-questions and solve them step by step.\",\n",
       "  'answer': 'This gene is a member of the intermediate filament family. Intermediate filaments are proteins which are primordial components of the cytoskeleton and nuclear envelope. The proteins encoded by the members of this gene family are evolutionarily and structurally related but have limited sequence homology, with the exception of the central rod domain. Multiple alternatively spliced transcript variants encoding different isoforms have been found for this gene.'},\n",
       " {'task': 'SNP gene function',\n",
       "  'id': 146,\n",
       "  'question': \"What is the function of the gene associated with SNP rs1450106117? Let's decompose the question to sub-questions and solve them step by step.\",\n",
       "  'answer': 'This gene encodes a component of the mediator complex (also known as TRAP, SMCC, DRIP, or ARC), a transcriptional coactivator complex thought to be required for the expression of almost all genes. The mediator complex is recruited by transcriptional activators or nuclear receptors to induce gene expression, possibly by interacting with RNA polymerase II and promoting the formation of a transcriptional pre-initiation complex. The product of this gene is proposed to form a sub-complex with MED12, cyclin C, and CDK8 that can negatively regulate transactivation by mediator.'},\n",
       " {'task': 'SNP gene function',\n",
       "  'id': 147,\n",
       "  'question': \"What is the function of the gene associated with SNP rs34083046? Let's decompose the question to sub-questions and solve them step by step.\",\n",
       "  'answer': 'This gene encodes an essential regulator of mitochondrial Ca2+ uptake under basal conditions. The encoded protein interacts with the mitochondrial calcium uniporter, a mitochondrial inner membrane Ca2+ channel, and is essential in preventing mitochondrial Ca2+ overload, which can cause excessive production of reactive oxygen species and cell stress. Alternatively spliced transcript variants encoding different isoforms have been described.'},\n",
       " {'task': 'SNP gene function',\n",
       "  'id': 148,\n",
       "  'question': \"What is the function of the gene associated with SNP rs149916046? Let's decompose the question to sub-questions and solve them step by step.\",\n",
       "  'answer': 'ncRNA'},\n",
       " {'task': 'SNP gene function',\n",
       "  'id': 149,\n",
       "  'question': \"What is the function of the gene associated with SNP rs1385096481? Let's decompose the question to sub-questions and solve them step by step.\",\n",
       "  'answer': 'This gene encodes a protein that belongs to the leucine-rich repeat and fibronectin type III domain-containing family of proteins. A similar protein in mouse, a glycosylated transmembrane protein, is thought to function in presynaptic differentiation.'}]"
      ]
     },
     "execution_count": 7,
     "metadata": {},
     "output_type": "execute_result"
    }
   ],
   "source": [
    "dataset"
   ]
  },
  {
   "cell_type": "code",
   "execution_count": 8,
   "id": "fe9a5062",
   "metadata": {},
   "outputs": [],
   "source": [
    "# 3.2 Iterate through the JSON data recursively to collect each of the rows into a list\n",
    "#     Each row should have a dictionary with keys of the columsn in the table above\n",
    "\n",
    "\n",
    "# def flatten_geneturing_json(raw_data) -> List[Dict[str, str]]:\n",
    "\n",
    "#     flat_data = []\n",
    "#     counter = 0\n",
    "\n",
    "#     for  in raw_data:\n",
    "#         for question, answer in qa_pairs.items():\n",
    "#             row = {\n",
    "#                 \"id\": counter,\n",
    "#                 \"task\": task_name,\n",
    "#                 \"question\": question,\n",
    "#                 \"answer\": answer\n",
    "#             }\n",
    "#             flat_data.append(row)\n",
    "#             counter += 1\n",
    "\n",
    "  \n",
    "\n",
    "#     return flat_data\n",
    "\n",
    "# dataset = flatten_geneturing_json(dataset)\n",
    "# print(f\"Flattened to {len(dataset)} rows.\")\n"
   ]
  },
  {
   "cell_type": "code",
   "execution_count": 9,
   "id": "7bdff6ef",
   "metadata": {},
   "outputs": [
    {
     "name": "stdout",
     "output_type": "stream",
     "text": [
      "DataFrame shape: (150, 3)\n"
     ]
    },
    {
     "data": {
      "application/vnd.microsoft.datawrangler.viewer.v0+json": {
       "columns": [
        {
         "name": "id",
         "rawType": "int64",
         "type": "integer"
        },
        {
         "name": "task",
         "rawType": "object",
         "type": "string"
        },
        {
         "name": "question",
         "rawType": "object",
         "type": "string"
        },
        {
         "name": "answer",
         "rawType": "object",
         "type": "unknown"
        }
       ],
       "ref": "09dc6a68-2158-4c34-8c68-da0450922cff",
       "rows": [
        [
         "0",
         "sequence gene alias",
         "What are the aliases of the gene that contains this sequnece:GTAGATGGAACTGGTAGTCAGCTGGAGAGCAGCATGGAGGCGTCCTGGGGGAGCTTCAACGCTGAGCGGGGCTGGTATGTCTCTGTCCAGCAGCCTGAAGAAGCGGAGGCCGA. Let's decompose the question to sub-questions and solve them step by step.",
         "['SLC38A6', 'NAT-1', 'SNAT6']"
        ],
        [
         "1",
         "sequence gene alias",
         "What are the aliases of the gene that contains this sequnece:ATTGTGAGAGTAACCAACGTGGGGTTACGGGGGAGAATCTGGAGAGAAGAGAAGAGGTTAACAACCCTCCCACTTCCTGGCCACCCCCCTCCACCTTTTCTGGTAAGGAGCCC. Let's decompose the question to sub-questions and solve them step by step.",
         "['FCGR3A', 'CD16', 'FCG3', 'CD16A', 'FCGR3', 'IGFR3', 'IMD20', 'FCR-10', 'FCRIII', 'CD16-II', 'FCGRIII', 'FCRIIIA', 'FcGRIIIA']"
        ],
        [
         "2",
         "sequence gene alias",
         "What are the aliases of the gene that contains this sequnece:GGAAGAGGCCCCAGCACTGACCTCCGTGGGGGTGGAGATGAGGAGGATGGAAAGGGTGTCTTCCTCCAGCATCTTCCTGAAGGTGAAGGAGGGGCACCTTGGGGTGTCTAAGA. Let's decompose the question to sub-questions and solve them step by step.",
         "['FNDC11', 'C20orf195']"
        ],
        [
         "3",
         "sequence gene alias",
         "What are the aliases of the gene that contains this sequnece:GCACACGTACGTTCCTCATGAAAGGGACGACGGGAGCTGCATGAAAGCCGAAGTTATGGACCGCTAGCATCTGTCACTGGCCACCGGTTTCCGGGAGTAAGCGGCAGCTACCT. Let's decompose the question to sub-questions and solve them step by step.",
         "['EOLA2', 'CXorf40B']"
        ],
        [
         "4",
         "sequence gene alias",
         "What are the aliases of the gene that contains this sequnece:AGACGTGAAGCCTAGCAGAGGACTTTTTAGCTGCTCACTGGCCCCGCTTGTCTGGCCGACTCATCCGCCCGCGACCCCTAATCCCCTCTGCCTGCCCCAAGATGCTGAAGCCA. Let's decompose the question to sub-questions and solve them step by step.",
         "['PSMB10', 'LMP10', 'MECL1', 'PRAAS5', 'beta2i']"
        ]
       ],
       "shape": {
        "columns": 3,
        "rows": 5
       }
      },
      "text/html": [
       "<div>\n",
       "<style scoped>\n",
       "    .dataframe tbody tr th:only-of-type {\n",
       "        vertical-align: middle;\n",
       "    }\n",
       "\n",
       "    .dataframe tbody tr th {\n",
       "        vertical-align: top;\n",
       "    }\n",
       "\n",
       "    .dataframe thead th {\n",
       "        text-align: right;\n",
       "    }\n",
       "</style>\n",
       "<table border=\"1\" class=\"dataframe\">\n",
       "  <thead>\n",
       "    <tr style=\"text-align: right;\">\n",
       "      <th></th>\n",
       "      <th>task</th>\n",
       "      <th>question</th>\n",
       "      <th>answer</th>\n",
       "    </tr>\n",
       "    <tr>\n",
       "      <th>id</th>\n",
       "      <th></th>\n",
       "      <th></th>\n",
       "      <th></th>\n",
       "    </tr>\n",
       "  </thead>\n",
       "  <tbody>\n",
       "    <tr>\n",
       "      <th>0</th>\n",
       "      <td>sequence gene alias</td>\n",
       "      <td>What are the aliases of the gene that contains...</td>\n",
       "      <td>[SLC38A6, NAT-1, SNAT6]</td>\n",
       "    </tr>\n",
       "    <tr>\n",
       "      <th>1</th>\n",
       "      <td>sequence gene alias</td>\n",
       "      <td>What are the aliases of the gene that contains...</td>\n",
       "      <td>[FCGR3A, CD16, FCG3, CD16A, FCGR3, IGFR3, IMD2...</td>\n",
       "    </tr>\n",
       "    <tr>\n",
       "      <th>2</th>\n",
       "      <td>sequence gene alias</td>\n",
       "      <td>What are the aliases of the gene that contains...</td>\n",
       "      <td>[FNDC11, C20orf195]</td>\n",
       "    </tr>\n",
       "    <tr>\n",
       "      <th>3</th>\n",
       "      <td>sequence gene alias</td>\n",
       "      <td>What are the aliases of the gene that contains...</td>\n",
       "      <td>[EOLA2, CXorf40B]</td>\n",
       "    </tr>\n",
       "    <tr>\n",
       "      <th>4</th>\n",
       "      <td>sequence gene alias</td>\n",
       "      <td>What are the aliases of the gene that contains...</td>\n",
       "      <td>[PSMB10, LMP10, MECL1, PRAAS5, beta2i]</td>\n",
       "    </tr>\n",
       "  </tbody>\n",
       "</table>\n",
       "</div>"
      ],
      "text/plain": [
       "                   task                                           question  \\\n",
       "id                                                                           \n",
       "0   sequence gene alias  What are the aliases of the gene that contains...   \n",
       "1   sequence gene alias  What are the aliases of the gene that contains...   \n",
       "2   sequence gene alias  What are the aliases of the gene that contains...   \n",
       "3   sequence gene alias  What are the aliases of the gene that contains...   \n",
       "4   sequence gene alias  What are the aliases of the gene that contains...   \n",
       "\n",
       "                                               answer  \n",
       "id                                                     \n",
       "0                             [SLC38A6, NAT-1, SNAT6]  \n",
       "1   [FCGR3A, CD16, FCG3, CD16A, FCGR3, IGFR3, IMD2...  \n",
       "2                                 [FNDC11, C20orf195]  \n",
       "3                                   [EOLA2, CXorf40B]  \n",
       "4              [PSMB10, LMP10, MECL1, PRAAS5, beta2i]  "
      ]
     },
     "metadata": {},
     "output_type": "display_data"
    }
   ],
   "source": [
    "# 3.3 Create the pandas dataframe from the collection of rows\n",
    "\n",
    "import pandas as pd\n",
    "\n",
    "def build_dataframe(flat_data: List[Dict[str, str]]) -> pd.DataFrame:\n",
    "\n",
    "    df = pd.DataFrame(flat_data)\n",
    "    \n",
    "    df = df[[\"id\", \"task\", \"question\", \"answer\"]]  \n",
    "    df.set_index(\"id\", inplace=True)\n",
    "    return df\n",
    "\n",
    "df = build_dataframe(dataset)\n",
    "print(f\"DataFrame shape: {df.shape}\")\n",
    "display(df.head())"
   ]
  },
  {
   "cell_type": "markdown",
   "id": "f5f330e0",
   "metadata": {},
   "source": [
    "## 4. Model Specification"
   ]
  },
  {
   "cell_type": "markdown",
   "id": "fc0dff55",
   "metadata": {
    "tags": [
     "skip"
    ]
   },
   "source": [
    "With our few-shot in-context learning model, we need to specify four components:\n",
    "\n",
    "1. The large language model to use\n",
    "2. The instructions for the model as a system prompt\n",
    "3. The few-shot examples to provide to the model to demonstrate the input-output format\n",
    "4. The completion request function that puts it all together retrieving a response for each unseen input"
   ]
  },
  {
   "cell_type": "markdown",
   "id": "bd5a9f18",
   "metadata": {},
   "source": [
    "### 4.1 Setting up the large language model"
   ]
  },
  {
   "cell_type": "markdown",
   "id": "089f0a94",
   "metadata": {
    "tags": [
     "skip"
    ]
   },
   "source": [
    "We will use the Ollama client to interface with the large language model on the Ollama server we started. With large language models, it is common to use a client library to interface with the model hosted by a server. This allows us to iterate quickly on the prompting and post-processing logic without having to incur the overhead of loading the model into memory each time.  Additionally, model code is oftentimes optimized for inference."
   ]
  },
  {
   "cell_type": "code",
   "execution_count": null,
   "id": "35a90c6a",
   "metadata": {},
   "outputs": [],
   "source": [
    "os.environ['no_proxy'] = '*'\n",
    "\n",
    "from ollama import Client\n",
    "client = Client(\n",
    "  host='http://172.18.224.42:11434',\n",
    ")\n",
    "response = client.chat(model='qwen3:4b', messages=[\n",
    "  {\n",
    "    'role': 'user',\n",
    "    'content': 'Why is the sky blue?',\n",
    "  },\n",
    "])"
   ]
  },
  {
   "cell_type": "code",
   "execution_count": 51,
   "id": "e918a126",
   "metadata": {},
   "outputs": [
    {
     "data": {
      "text/plain": [
       "\"<think>\\nOkay, the user is asking why the sky is blue. I remember that this is a classic question in physics. Let me think about the correct explanation.\\n\\nFirst, I recall that sunlight is white, but it's actually a mixture of all the colors in the visible spectrum. When sunlight enters Earth's atmosphere, it interacts with the molecules and small particles in the air. The key here is Rayleigh scattering, which is the scattering of light by particles much smaller than the wavelength of the light.\\n\\nBlue light has a shorter wavelength compared to other colors like red or yellow. Because of this, blue light is scattered more efficiently by the molecules in the atmosphere. So when sunlight reaches the Earth, the blue light is scattered in all directions, making the sky appear blue during the day.\\n\\nBut wait, I should check if there are other factors. For example, during sunrise or sunset, the sky appears red or orange. That's because the sunlight has to pass through more of the atmosphere, so the blue light is scattered away, and the longer wavelengths like red and orange dominate. That makes sense.\\n\\nAlso, the human eye is more sensitive to blue light, which might be another reason why we perceive the sky as blue. But I think the primary reason is the scattering of shorter wavelengths.\\n\\nI should make sure I'm not mixing up any other phenomena. Maybe mention that the atmosphere is composed of nitrogen and oxygen, which are the main components. The scattering by these molecules is what causes the effect.\\n\\nSo the answer should explain that sunlight is white, but when it scatters in the atmosphere, shorter wavelengths (blue) are scattered more, leading to the blue color we see. Also, mention that this is Rayleigh scattering and that the eye is more sensitive to blue, but the main reason is the scattering of shorter wavelengths.\\n</think>\\n\\nThe sky appears blue due to a phenomenon called **Rayleigh scattering**, which involves how sunlight interacts with the molecules and small particles in Earth's atmosphere. Here's a breakdown of the process:\\n\\n1. **Sunlight Composition**:  \\n   Sunlight is white light, composed of all visible wavelengths (from red to violet). However, it's not perfectly even—blue light has a shorter wavelength and higher energy than red light.\\n\\n2. **Scattering in the Atmosphere**:  \\n   When sunlight enters Earth's atmosphere, it collides with molecules (like nitrogen and oxygen) and small particles. These collisions scatter the light in all directions. The key here is the **wavelength** of the light:  \\n   - **Shorter wavelengths** (blue and violet) are scattered **much more strongly** than longer wavelengths (red, orange, yellow).  \\n   - This is because the scattering intensity is inversely proportional to the fourth power of the wavelength (Rayleigh scattering formula: $ I \\\\propto 1/\\\\lambda^4 $).\\n\\n3. **Why We See Blue**:  \\n   - While violet light is scattered even more than blue, our eyes are more sensitive to blue light, and the sun emits more blue light than violet.  \\n   - The scattered blue light fills the sky, making it appear blue during the day.\\n\\n4. **Exceptions (Sunrise/Sunset)**:  \\n   - During sunrise or sunset, sunlight travels through a thicker layer of the atmosphere. This means the blue light is scattered out of the direct path, leaving the longer wavelengths (red, orange) to dominate, which is why the sky appears red or orange at those times.\\n\\n5. **Why Not Purple?**:  \\n   - Although violet light is scattered more than blue, the sun emits less violet light, and the human eye is less sensitive to it. Additionally, the atmosphere absorbs some violet light, further reducing its visibility.\\n\\n**In summary**: The sky appears blue because shorter wavelengths of light (blue) are scattered more efficiently by the molecules in the atmosphere, and our eyes are more sensitive to blue. This scattering effect is called Rayleigh scattering.\""
      ]
     },
     "execution_count": 51,
     "metadata": {},
     "output_type": "execute_result"
    }
   ],
   "source": [
    "response['message'].content"
   ]
  },
  {
   "cell_type": "code",
   "execution_count": null,
   "id": "e045007a",
   "metadata": {},
   "outputs": [
    {
     "name": "stdout",
     "output_type": "stream",
     "text": [
      "That’s exciting! Paris is full of iconic sights, rich culture, and mouthwatering food. Here’s a list of must-see attractions and experiences to consider:\n",
      "\n",
      "**Classic Landmarks**\n",
      "1. **Eiffel Tower** – Go up for panoramic city views, especially stunning at sunset or after dark when it sparkles.\n",
      "2. **Louvre Museum** – Home to the Mona Lisa and countless masterpieces. Even if not a big art fan, the building itself is beautiful.\n",
      "3. **Notre-Dame Cathedral** – Currently under restoration, but the exterior and the neighboring Ile de la Cité are still a must-visit.\n",
      "4. **Arc de Triomphe** – Climb to the top for great views of the Champs-Élysées and Paris’ many grand avenues.\n",
      "5. **Sacré-Cœur Basilica** in Montmartre – Marvel at the mosaics inside and enjoy sweeping vistas of Paris outside.\n",
      "\n",
      "**Neighborhoods to Explore**\n",
      "- **Le Marais** – Chic boutiques, galleries, Jewish heritage sites, and cozy cafes.\n",
      "- **Montmartre** – Bohemian flair, art history, and charming streets.\n",
      "- **Latin Quarter** – Bustling with student energy, bookshops, Sorbonne University, and historic streets.\n",
      "\n",
      "**Other Top Sites**\n",
      "- **Musée d’Orsay** – Impressionist and post-impressionist art in a beautiful former train station.\n",
      "- **Sainte-Chapelle** – Breathtaking stained glass windows.\n",
      "- **Luxembourg Gardens** – Perfect place to unwind and people-watch.\n",
      "- **Seine River cruise** – See many city landmarks from the water, especially magical at night.\n",
      "- **Père Lachaise Cemetery** – Final resting place of Jim Morrison, Oscar Wilde, Edith Piaf, and many others.\n",
      "\n",
      "**Food & Markets**\n",
      "- Try **fresh croissants and pastries** at a boulangerie.\n",
      "- Sample French cheeses, wines, and snacks at a local market like **Marché Bastille** or **Marché d’Aligre**.\n",
      "- Savor a classic café meal, and don’t be shy about lingering over coffee.\n",
      "\n",
      "**Tips**\n",
      "- Many museums are free the first Sunday of each month.\n",
      "- Paris is very walkable—wander the streets and let yourself get a little lost.\n",
      "- Make time to just sit at a café terrace and watch the world go by.\n",
      "\n",
      "If you have specific interests (fashion, history, food, art, etc.), let me know, and I can tailor recommendations! Have a wonderful trip!\n"
     ]
    }
   ],
   "source": [
    "# 4.1 Setting up the large language model Ollama model client\n",
    "from openai import AzureOpenAI\n",
    "\n",
    "OllamaClient = AzureOpenAI(\n",
    "    api_version=AZURE_OPENAI_API_VERSION,\n",
    "    azure_endpoint=AZURE_OPENAI_ENDPOINT,\n",
    "    api_key=AZURE_OPENAI_KEY,\n",
    ")\n",
    "\n",
    "response = OllamaClient.chat.completions.create(\n",
    "    messages=[\n",
    "        {\n",
    "            \"role\": \"system\",\n",
    "            \"content\": \"You are a helpful assistant.\",\n",
    "        },\n",
    "        {\n",
    "            \"role\": \"user\",\n",
    "            \"content\": \"I am going to Paris, what should I see?\",\n",
    "        }\n",
    "    ],\n",
    "   \n",
    "    max_completion_tokens=model_config['max_tokens'],\n",
    "    temperature=model_config['temperature'],\n",
    "    top_p=model_config['top_p'],\n",
    "    frequency_penalty=model_config['frequency_penalty'],\n",
    "    presence_penalty=model_config['presence_penalty'],\n",
    "    model=model_config['model_name']\n",
    "\n",
    ")\n",
    "\n",
    "print(response.choices[0].message.content)\n"
   ]
  },
  {
   "cell_type": "markdown",
   "id": "8caf45c9",
   "metadata": {},
   "source": [
    "### 4.2 Setting up the system prompt"
   ]
  },
  {
   "cell_type": "markdown",
   "id": "8e46af38",
   "metadata": {
    "tags": [
     "skip"
    ]
   },
   "source": [
    "Modern large language models are post-trained to perform a variety of tasks and follow instructions. To leverage this capability, we need to provide a system prompt that clearly outlines the task, any constraints, and the format of the output."
   ]
  },
  {
   "cell_type": "markdown",
   "id": "c29bf3d5",
   "metadata": {
    "tags": [
     "skip"
    ]
   },
   "source": [
    "Designing the system prompt is a critical aspect of using LLMs. Below are several resources for designing a system prompt:\n",
    "* [OpenAI Prompt Engineering](https://platform.openai.com/docs/guides/text?api-mode=responses#prompt-engineering)\n",
    "* [Kaggle/Google Prompt Engineering](https://www.kaggle.com/whitepaper-prompt-engineering?_bhlid=a2bfce2cac67662098bd85a241e7cb000576e5d4)\n",
    "* [Anthropic Prompt Engineering](https://docs.anthropic.com/en/docs/build-with-claude/prompt-engineering/overview)\n",
    "* [OpenAI GPT 4.1 Prompting Cookbook](https://cookbook.openai.com/examples/gpt4-1_prompting_guide)\n"
   ]
  },
  {
   "cell_type": "markdown",
   "id": "6887a248",
   "metadata": {
    "tags": [
     "skip"
    ]
   },
   "source": [
    "**From the OpenAI Prompt Engineering guide:**\n",
    "\n",
    "> **Identity**: Describe the purpose, communication style, and high-level goals of the assistant. \n",
    "> \n",
    "> **Instructions**: Provide guidance to the model on how to generate the response you want. What rules should it follow? What should the model do, and what should the model never do? This section could contain many subsections as relevant for your use case, like how the model should call custom functions.  \n",
    ">\n",
    "> **Examples**: Provide examples of possible inputs, along with the desired output from the model.  \n",
    "> \n",
    "> **Context**: Give the model any additional information it might need to generate a response, like private/proprietary data outside its training data, or any other data you know will be particularly relevant. This content is usually best positioned near the end of your prompt, as you may include different context for different generation requests.  "
   ]
  },
  {
   "cell_type": "markdown",
   "id": "fcebc861",
   "metadata": {
    "tags": [
     "skip"
    ]
   },
   "source": [
    "This is what the system prompt looked like in the originalGeneGPT paper, but it is not the best. Identify what it includes and what is missing. Implement your own system prompt incorporating best practices from some of the guides posted above. \n",
    "\n",
    "> \t'Hello. Your task is to use NCBI Web APIs to answer genomic questions.'"
   ]
  },
  {
   "cell_type": "code",
   "execution_count": null,
   "id": "1d73bcd5",
   "metadata": {},
   "outputs": [],
   "source": [
    "# 4.2 Draft your own system prompt for our generic genomics question answering system. \n",
    "#     Replace the system message `content` below with your own.\n",
    "system_message = [\n",
    "    {\n",
    "        \"role\": \"system\",\n",
    "        \"content\": 'Hello. Your task is to use NCBI Web APIs to answer genomic questions.',\n",
    "        \n",
    "    }\n",
    "]"
   ]
  },
  {
   "cell_type": "markdown",
   "id": "bcb0bf3f",
   "metadata": {},
   "source": [
    "### 4.3 Setting up the few-shot examples"
   ]
  },
  {
   "cell_type": "markdown",
   "id": "dae8d700",
   "metadata": {
    "tags": [
     "skip"
    ]
   },
   "source": [
    "For tasks with idiosyncratic output formats or constraints, it is important to provide clear instructions as well as examples to guide the model in generating the desired output. Mechanically, we provide these pairs of inputs and outputs as a sequence of user and assistant messages after the system prompt.\n",
    "\n",
    "```python\n",
    "messages += [\n",
    "    {\n",
    "        \"role\": \"user\",\n",
    "        \"content\":  <fill in input example 1>\n",
    "    },\n",
    "    {\n",
    "        \"role\": \"assistant\",\n",
    "        \"content\": <fill in output example 1>\n",
    "    },\n",
    "    {\n",
    "        \"role\": \"user\",\n",
    "        \"content\": <fill in input example 2>\n",
    "    },\n",
    "    {\n",
    "        \"role\": \"assistant\",\n",
    "        \"content\": <fill in output example 2>\n",
    "    }\n",
    "]\n",
    "```"
   ]
  },
  {
   "cell_type": "markdown",
   "id": "13fc96d8",
   "metadata": {
    "tags": [
     "skip"
    ]
   },
   "source": [
    "In the GeneGPT code, the authors included several tasks, one of each of a subset of the tasks in the dataset. We will use the same examples here.\n",
    "\n",
    "Please inspect the GeneGPT repository to find the few-shot examples in the prompt. \n",
    "\n",
    "Specifically the `get_prompt_header` function in `main.py` located here: [main.py](https://github.com/ncbi/GeneGPT/blob/main/main.py)"
   ]
  },
  {
   "cell_type": "code",
   "execution_count": null,
   "id": "fcb78ee2",
   "metadata": {},
   "outputs": [],
   "source": [
    "# 4.3 Appending the few-shot examples to the `messages` list\n",
    "few_shot_examples = [\n",
    "    {\"role\": \"user\", \"content\": \"What are the aliases of the gene that contains this sequnece:\"\n",
    "     \"ACTTCCAACATGGCGGCGGCCGGGGCGGCGGTGGCGCGCAGCCCGGGAATCGGAGCGGGACCTGCGCTGAGAGCCCGGCGCTCGCCCCCGCCGCGGGCCGCACGGCTGCCGCG.\"\n",
    "     \"Let's decompose the question to sub-questions and solve them step by step.\"},\n",
    "    {\"role\": \"assistant\", \"content\": \"QSOX2, SOXN, QSCN6L1\"},\n",
    "    {\"role\": \"user\", \"content\": \"List chromosome locations of the genes related to Hemolytic anemia due to phosphofructokinase deficiency. Let's decompose the question to sub-questions and solve them step by step.\"},\n",
    "    {\"role\": \"assistant\", \"content\": \"21q22.3\"},\n",
    "    {\"role\": \"user\", \"content\": \"What is the function of the gene associated with SNP rs1217074595? Let's decompose the question to sub-questions and solve them step by step.\"},\n",
    "    {\"role\": \"assistant\", \"content\": \"ncRNA\"}\n",
    "]\n",
    "\n"
   ]
  },
  {
   "cell_type": "markdown",
   "id": "35d89761",
   "metadata": {},
   "source": [
    "### 4.4 Implementing the model request function"
   ]
  },
  {
   "cell_type": "markdown",
   "id": "4590511a",
   "metadata": {
    "tags": [
     "skip"
    ]
   },
   "source": [
    "Now we need to put it all together. We need a function that accepts as arguments:\n",
    "1. The client\n",
    "2. The system message\n",
    "3. The few-shot examples\n",
    "4. The new user query -- this case the user's question from the GeneTuring dataset.\n",
    "\n",
    "The function should return the response from the model and extract the answer (everything after 'Answer :' based on the format of the examples above)\n",
    "\n"
   ]
  },
  {
   "cell_type": "code",
   "execution_count": null,
   "id": "466037b6",
   "metadata": {},
   "outputs": [],
   "source": [
    "from ollama import chat\n",
    "from pydantic import BaseModel\n",
    "\n",
    "def query_model(\n",
    "    client,  \n",
    "    system_message: dict,\n",
    "    few_shot_examples: List[dict],\n",
    "    user_query: str,\n",
    ") -> str:\n",
    "    \n",
    "    messages = [system_message] + few_shot_examples + [{\"role\": \"user\", \"content\": user_query}]\n",
    "\n",
    "    # response = client.chat.completions.create(\n",
    "    #     model=model_config['model_name'],\n",
    "    #     messages=messages,\n",
    "    #     max_tokens=model_config['max_tokens'],\n",
    "    #     temperature=model_config['temperature'],\n",
    "    #     top_p=model_config['top_p'],\n",
    "    #     frequency_penalty=model_config['frequency_penalty'],\n",
    "    #     presence_penalty=model_config['presence_penalty'],\n",
    "    # )\n",
    "    # client = Client(\n",
    "    #     host='http://172.18.224.42:11434',\n",
    "    # )\n",
    "    response = client.chat(model='qwen3:4b', messages=messages)\n",
    "    \n",
    "    response = chat(\n",
    "        messages=messages,\n",
    "        model='llama3.1',\n",
    "        format=Diagnosis.model_json_schema(),\n",
    "    )\n",
    "    return response['message'].content\n",
    "    #return response.choices[0].message.content\n"
   ]
  },
  {
   "cell_type": "markdown",
   "id": "3103ef75",
   "metadata": {},
   "source": [
    "## 5. Metrics"
   ]
  },
  {
   "cell_type": "markdown",
   "id": "79d88fd6",
   "metadata": {
    "tags": [
     "skip"
    ]
   },
   "source": [
    "The GeneTuring dataset has several task specific evaluation metrics that are variations on exact match depending on the expected cardinality of the output.\n",
    "\n",
    "Please inspect `evaluate.py` from the GeneGPT repository to find the metric functions and implement them here.\n",
    "\n",
    "Original functions: [evaluate.py](https://github.com/ncbi/GeneGPT/blob/main/evaluate.py)"
   ]
  },
  {
   "cell_type": "markdown",
   "id": "8cc440b3",
   "metadata": {
    "tags": [
     "skip"
    ]
   },
   "source": [
    "* **Default exact match** - The predicted answers and ground truth are both strings. The score is 1 if they are equal and 0 otherwise\n",
    "* **Gene disease association** - The predicted answers and ground truth are both lists of gene-disease associations. The score is the proportion of correct associations present in the prediction\n",
    "* **Disease gene location** - The predicted and true answers are lists (e.g., gene locations related to a disease), and the evaluation calculates the fraction of the correct items present in the prediction.\n",
    "* **Human genome DNA aligment** - 1 point for exact match, 0.5 point if chrX part matches, 0 otherwise"
   ]
  },
  {
   "cell_type": "code",
   "execution_count": 59,
   "id": "c575ab56",
   "metadata": {},
   "outputs": [],
   "source": [
    "# 5.1 Implement metrics\n",
    "\n",
    "def exact_match(pred: str, true: str) -> float:\n",
    "    # if isinstance(pred, list):\n",
    "    #     pred = [p.strip().lower() for p in pred]\n",
    "    #     return float(true.strip().lower() in pred)\n",
    "    # else:\n",
    "    #     return float(pred.strip().lower() == true.strip().lower())\n",
    "    return float(pred.strip().lower() == true.strip().lower())\n",
    "\n",
    "\n",
    "def gene_disease_association(pred: list, true: list) -> float:\n",
    "    pred_set = set(map(str.lower, map(str.strip, pred)))\n",
    "    true_set = set(map(str.lower, map(str.strip, true)))\n",
    "    if not true_set:\n",
    "        return 1.0 if not pred_set else 0.0\n",
    "    return len(pred_set & true_set) / len(true_set)\n",
    "\n",
    "def disease_gene_location(pred: list, true: list) -> float:\n",
    "    pred_set = set(map(str.lower, map(str.strip, pred)))\n",
    "    true_set = set(map(str.lower, map(str.strip, true)))\n",
    "    if not true_set:\n",
    "        return 1.0 if not pred_set else 0.0\n",
    "    return len(pred_set & true_set) / len(true_set)\n",
    "    \n",
    "def human_genome_dna_alignment(pred: str, true: str) -> float:\n",
    "    pred = pred.strip().lower()\n",
    "    true = true.strip().lower()\n",
    "    if pred == true:\n",
    "        return 1.0\n",
    "    pred_chr = pred.split(':')[0]\n",
    "    true_chr = true.split(':')[0]\n",
    "    return 0.5 if pred_chr == true_chr else 0.0\n",
    "\n",
    "metric_task_map = defaultdict(lambda: exact_match, {\n",
    "    \"Gene disease association\": gene_disease_association,\n",
    "    \"Gene location\": disease_gene_location,\n",
    "    \"Human genome DNA aligment\": human_genome_dna_alignment\n",
    "})\n"
   ]
  },
  {
   "cell_type": "markdown",
   "id": "8d1ebe36",
   "metadata": {
    "tags": [
     "skip"
    ]
   },
   "source": [
    "Many of the gold-answers are in a specific format. `evaluate.py` also implements an answer post-processing function `get_answer` to better align model outputs with the gold answers. We also need to implement a similar function."
   ]
  },
  {
   "cell_type": "code",
   "execution_count": 60,
   "id": "6c0254d2",
   "metadata": {},
   "outputs": [],
   "source": [
    "def get_answer(answer, task):\n",
    "\n",
    "\tmapper = {'Caenorhabditis elegans': 'worm',\n",
    "\t\t\t  'Homo sapiens': 'human',\n",
    "\t\t\t  'Danio rerio': 'zebrafish',\n",
    "\t\t\t  'Mus musculus': 'mouse',\n",
    "\t\t\t  'Saccharomyces cerevisiae': 'yeast',\n",
    "\t\t\t  'Rattus norvegicus': 'rat',\n",
    "\t\t\t  'Gallus gallus': 'chicken'}\n",
    "\n",
    "\tif task == 'SNP location':\n",
    "\t\tanswer = answer.strip().split()[-1]\n",
    "\t\tif 'chr' not in answer:\n",
    "\t\t\tanswer = 'chr' + answer\n",
    "\n",
    "\telif task == 'Gene location':\n",
    "\t\tanswer = answer.strip().split()[-1]\n",
    "\t\tif 'chr' not in answer:\n",
    "\t\t\tanswer = 'chr' + answer\n",
    "\n",
    "\telif task == 'Gene disease association':\n",
    "\t\tanswer = answer.strip().replace('Answer: ', '')\n",
    "\t\tanswer = answer.split(', ')\n",
    "\n",
    "\telif task == 'Disease gene location':\n",
    "\t\tanswer = answer.strip().replace('Answer: ', '')\n",
    "\t\tanswer = answer.split(', ')\n",
    "\n",
    "\telif task == 'Protein-coding genes':\n",
    "\t\tanswer = answer.strip().replace('Answer: ', '')\n",
    "\t\tif answer == 'Yes':\n",
    "\t\t\tanswer = 'TRUE'\n",
    "\t\telif answer == 'No':\n",
    "\t\t\tanswer = 'NA'\n",
    "\n",
    "\telif task == 'Multi-species DNA aligment':\n",
    "\t\tanswer = answer.strip().replace('Answer: ', '')\n",
    "\t\tanswer = mapper.get(answer, answer)\n",
    "\n",
    "\telse:\n",
    "\t\tanswer = answer.strip().replace('Answer: ', '')\n",
    "\t\t\n",
    "\treturn answer\n"
   ]
  },
  {
   "cell_type": "markdown",
   "id": "413e73a3",
   "metadata": {},
   "source": [
    "## 6. Evaluation Loop"
   ]
  },
  {
   "cell_type": "markdown",
   "id": "131aba90",
   "metadata": {
    "tags": [
     "skip"
    ]
   },
   "source": [
    "Now, let's implement the evaluation loop for the GeneTuring dataset. For now we will call the model function one at a time and collect the results in a list. Also, we will collect per-task metrics and the overall metrics for the dataset as we go. Once we're done, we will save the results to a CSV file."
   ]
  },
  {
   "cell_type": "code",
   "execution_count": 61,
   "id": "78868c8a",
   "metadata": {},
   "outputs": [],
   "source": [
    "# 6.1 Set up data structures for results\n",
    "from dataclasses import asdict\n",
    "\n",
    "@dataclass\n",
    "class Result:\n",
    "    id: int\n",
    "    task: str\n",
    "    question: str\n",
    "    answer: str\n",
    "    raw_prediction: Optional[str]\n",
    "    processed_prediction: Optional[str]\n",
    "    score: Optional[float]\n",
    "    success: bool\n",
    "\n",
    "\n",
    "def save_results(results: List[Result], results_csv_filename: str) -> None:\n",
    "    df = pd.DataFrame([asdict(r) for r in results])\n",
    "    df.to_csv(results_csv_filename, index=False)\n",
    "\n"
   ]
  },
  {
   "cell_type": "code",
   "execution_count": null,
   "id": "56608117",
   "metadata": {},
   "outputs": [],
   "source": [
    "# 6.2 Loop over the dataset with a progress bar\n",
    "\n",
    "# * Do not forget to add the results to our Result list, both successful and failed predictions\n",
    "# * API calls will not always work, so make sure we capture the exceptions from failed calls\n",
    "#    and add them to the Result list with a `status=False`\n",
    "\n",
    "from tqdm import tqdm\n",
    "from typing import Any, Callable, Dict, List, Optional, Union, cast\n",
    "\n",
    "def evaluate_with_progress(\n",
    "    client: Any,\n",
    "    dataset: List[Dict[str, str]],\n",
    "    system_message: Dict[str, str],\n",
    ") -> List[Result]:\n",
    "    results: List[Result] = []\n",
    "    results = []\n",
    "    with mlflow.start_run(run_name=\"geneturing-eval\"):\n",
    "        mlflow.log_param(\"model\", model_config[\"model_name\"])\n",
    "        mlflow.log_param(\"temperature\", model_config[\"temperature\"])\n",
    "        mlflow.log_param(\"max_tokens\", model_config[\"max_tokens\"])\n",
    "        mlflow.log_param(\"top_p\", model_config[\"top_p\"])\n",
    "\n",
    "        for item in tqdm(dataset, desc=\"Evaluating\"):\n",
    "            item_id = item.get(\"id\")\n",
    "            task = item.get(\"task\")\n",
    "            question = item.get(\"question\")\n",
    "            gold_answer = item.get(\"answer\")\n",
    "\n",
    "            try:\n",
    "                raw_pred = query_model(\n",
    "                    client, system_message, question\n",
    "                )\n",
    "                # pred = get_answer(raw_pred, task)\n",
    "                # true = get_answer(gold_answer, task)\n",
    "                # metric_fn = metric_task_map[task]\n",
    "                # score = metric_fn(pred, true)\n",
    "                # print(\"raw_pred:\", raw_pred)\n",
    "                # print(\"pred\", pred)\n",
    "                # print(\"true\", true)\n",
    "                # print(\"Task\", task)\n",
    "                # result = Result(\n",
    "                #     id=item_id,\n",
    "                #     task=task,\n",
    "                #     question=question,\n",
    "                #     answer=gold_answer,\n",
    "                #     raw_prediction=raw_pred,\n",
    "                #     processed_prediction=str(pred),\n",
    "                #     score=score,\n",
    "                #     success=True,\n",
    "                # )\n",
    "\n",
    "            except Exception:\n",
    "                result = Result(\n",
    "                    id=item_id,\n",
    "                    task=task,\n",
    "                    question=question,\n",
    "                    answer=gold_answer,\n",
    "                    raw_prediction=None,\n",
    "                    processed_prediction=None,\n",
    "                    score=0.0,\n",
    "                    success=False,\n",
    "                )\n",
    "\n",
    "            results.append(result)\n",
    "\n",
    "        # Calculate and log metrics\n",
    "        df = pd.DataFrame([asdict(r) for r in results])\n",
    "        success_rate = df[\"success\"].mean()\n",
    "        valid_scores_df = df[df[\"score\"].notna()]\n",
    "        overall_score = valid_scores_df[\"score\"].mean()\n",
    "\n",
    "        mlflow.log_metric(\"success_rate\", success_rate)\n",
    "        mlflow.log_metric(\"overall_score\", overall_score)\n",
    "\n",
    "        for task_name, task_df in valid_scores_df.groupby(\"task\"):\n",
    "            mlflow.log_metric(\n",
    "                f\"score_{task_name.replace(' ', '_')}\", task_df[\"score\"].mean()\n",
    "            )\n",
    "\n",
    "        # Save to CSV and log as artifact\n",
    "        \n",
    "        result_csv_path = os.path.join(data_config['output_path'], \"genehop_results.csv\")\n",
    "        df.to_csv(result_csv_path, index=False)\n",
    "        mlflow.log_artifact(result_csv_path)\n",
    "\n",
    "    return results\n",
    "# def evaluate_with_progress(\n",
    "#     client,\n",
    "#     dataset: List[Dict],\n",
    "#     system_message: Dict,\n",
    "#     few_shot_examples: List[Dict],\n",
    "# ) -> List[Result]:\n",
    "#     results: List[Result] = []\n",
    "\n",
    "#     for item in tqdm(dataset, desc=\"Evaluating\"):\n",
    "#         item_id = item.get(\"id\")\n",
    "#         task = item.get(\"task\")\n",
    "#         question = item.get(\"question\")\n",
    "#         gold_answer = item.get(\"answer\")\n",
    "\n",
    "\n",
    "    \n",
    "#         raw_pred = query_model(client, system_message, few_shot_examples, question)\n",
    "\n",
    "#         # Post-process\n",
    "#         print(\"task:\", task)\n",
    "#         # print(\"raw pred:\", raw_pred)\n",
    "#         pred = get_answer(raw_pred, task)\n",
    "#         print(\"pred:\", pred)\n",
    "#         true = get_answer(gold_answer, task)\n",
    "#         print(\"true:\",true)\n",
    "\n",
    "\n",
    "#         metric_fn = metric_task_map[task]\n",
    "#         score = metric_fn(pred, true)\n",
    "#         try:\n",
    "#             result = Result(\n",
    "#                 id=item_id,\n",
    "#                 task=task,\n",
    "#                 question=question,\n",
    "#                 answer=gold_answer,\n",
    "#                 raw_prediction=raw_pred,\n",
    "#                 processed_prediction=str(pred),\n",
    "#                 score=score,\n",
    "#                 success=True\n",
    "#             )\n",
    "\n",
    "#         except Exception:\n",
    "        \n",
    "#             result = Result(\n",
    "#                 id=item_id,\n",
    "#                 task=task,\n",
    "#                 question=question,\n",
    "#                 answer=gold_answer,\n",
    "#                 raw_prediction=None,\n",
    "#                 processed_prediction=None,\n",
    "#                 score=0.0,\n",
    "#                 success=False\n",
    "#             )\n",
    "\n",
    "#         results.append(result)\n",
    "\n",
    "#     return results\n"
   ]
  },
  {
   "cell_type": "code",
   "execution_count": null,
   "id": "55113871",
   "metadata": {},
   "outputs": [],
   "source": []
  },
  {
   "cell_type": "code",
   "execution_count": 52,
   "id": "6cc013b9",
   "metadata": {},
   "outputs": [
    {
     "name": "stderr",
     "output_type": "stream",
     "text": [
      "Evaluating: 100%|██████████| 50/50 [00:00<00:00, 166970.70it/s]"
     ]
    },
    {
     "name": "stdout",
     "output_type": "stream",
     "text": [
      "🏃 View run geneturing-eval at: http://198.215.61.34:8153/#/experiments/9/runs/258221a68f724e5f8e900341e624db60\n",
      "🧪 View experiment at: http://198.215.61.34:8153/#/experiments/9\n"
     ]
    },
    {
     "name": "stderr",
     "output_type": "stream",
     "text": [
      "\n"
     ]
    }
   ],
   "source": [
    "# 6.3 Save the results\n",
    "import random\n",
    "\n",
    "\n",
    "sample = random.sample(dataset, 50)\n",
    "\n",
    "results = evaluate_with_progress(client, sample, system_message[0], few_shot_examples)\n",
    "#save_results(results, os.path.join(data_config['output_path'], \"genehop_results.csv\"))\n"
   ]
  },
  {
   "cell_type": "markdown",
   "id": "76dab8dd",
   "metadata": {},
   "source": [
    "## 7. Analysis"
   ]
  },
  {
   "cell_type": "markdown",
   "id": "afe4efaa",
   "metadata": {
    "tags": [
     "skip"
    ]
   },
   "source": [
    "Now that we have collected the first round of GeneTuring results, let's analyze them. Let's start by calculating what fraction of predictions were successful."
   ]
  },
  {
   "cell_type": "code",
   "execution_count": 53,
   "id": "dcca4f6d",
   "metadata": {},
   "outputs": [
    {
     "name": "stdout",
     "output_type": "stream",
     "text": [
      "Fraction of successful predictions: 0.00%\n"
     ]
    }
   ],
   "source": [
    "import pandas as pd\n",
    "\n",
    "df = pd.read_csv(os.path.join(data_config['output_path'], \"genehop_results.csv\"))\n",
    "success_rate = df['success'].mean()\n",
    "print(f\"Fraction of successful predictions: {success_rate:.2%}\")\n"
   ]
  },
  {
   "cell_type": "markdown",
   "id": "b46a3607",
   "metadata": {
    "tags": [
     "skip"
    ]
   },
   "source": [
    "Now let's calculate both the overall score as well as the score by task."
   ]
  },
  {
   "cell_type": "code",
   "execution_count": 31,
   "id": "a3f7c69f",
   "metadata": {},
   "outputs": [
    {
     "name": "stdout",
     "output_type": "stream",
     "text": [
      "Overall average score: 0.000\n",
      "\n",
      "Score by task:\n",
      "task\n",
      "Disease gene location    0.0\n",
      "SNP gene function        0.0\n",
      "sequence gene alias      0.0\n",
      "Name: score, dtype: float64\n"
     ]
    }
   ],
   "source": [
    "# 7.2 Calculate the overall score and the score by task\n",
    "\n",
    "valid_scores_df = df[df['score'].notna()]\n",
    "overall_score = valid_scores_df['score'].mean()\n",
    "score_by_task = valid_scores_df.groupby('task')['score'].mean()\n",
    "print(f\"Overall average score: {overall_score:.3f}\\n\")\n",
    "print(\"Score by task:\")\n",
    "print(score_by_task)\n"
   ]
  },
  {
   "cell_type": "markdown",
   "id": "e2fc369e",
   "metadata": {
    "tags": [
     "skip"
    ]
   },
   "source": [
    "Then, let's create a bar chart of the scores by task with a horizontal line for the overall score. Let's save the figure as well to our output directory."
   ]
  },
  {
   "cell_type": "code",
   "execution_count": 32,
   "id": "222356e5",
   "metadata": {},
   "outputs": [
    {
     "data": {
      "image/png": "[encoded data removed]",
      "text/plain": [
       "<Figure size 1000x600 with 1 Axes>"
      ]
     },
     "metadata": {},
     "output_type": "display_data"
    }
   ],
   "source": [
    "# 7.3 Create a bar chart of the scores by task with a horizontal line for the overall score\n",
    "import matplotlib.pyplot as plt\n",
    "plt.figure(figsize=(10, 6))\n",
    "score_by_task.plot(kind='bar', color='cornflowerblue')\n",
    "plt.axhline(y=overall_score, color='red', linestyle='--', label=f'Overall: {overall_score:.2f}')\n",
    "plt.title(\"Average Score by Task\")\n",
    "plt.xlabel(\"Task\")\n",
    "plt.ylabel(\"Average Score\")\n",
    "plt.ylim(0, 1)\n",
    "plt.xticks(rotation=45, ha='right')\n",
    "plt.legend()\n",
    "plt.tight_layout()\n",
    "plt.show()\n",
    "\n"
   ]
  },
  {
   "cell_type": "code",
   "execution_count": null,
   "id": "2f7a294f",
   "metadata": {},
   "outputs": [],
   "source": []
  }
 ],
 "metadata": {
  "kernelspec": {
   "display_name": "venv",
   "language": "python",
   "name": "python3"
  },
  "language_info": {
   "codemirror_mode": {
    "name": "ipython",
    "version": 3
   },
   "file_extension": ".py",
   "mimetype": "text/x-python",
   "name": "python",
   "nbconvert_exporter": "python",
   "pygments_lexer": "ipython3",
   "version": "3.12.1"
  }
 },
 "nbformat": 4,
 "nbformat_minor": 5
}
