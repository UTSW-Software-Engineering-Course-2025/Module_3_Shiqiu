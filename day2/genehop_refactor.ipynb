{
 "cells": [
  {
   "cell_type": "markdown",
   "metadata": {},
   "source": [
    "# Import"
   ]
  },
  {
   "cell_type": "code",
   "execution_count": 35,
   "metadata": {},
   "outputs": [
    {
     "name": "stdout",
     "output_type": "stream",
     "text": [
      "Loaded API key: FJ5Gr...\n"
     ]
    }
   ],
   "source": [
    "from dotenv import load_dotenv\n",
    "import os\n",
    "import mlflow\n",
    "from typing import List, Dict, Optional\n",
    "\n",
    "from collections import defaultdict\n",
    "from dataclasses import dataclass\n",
    "\n",
    "os.environ[\"no_proxy\"] = \"*\"\n",
    "\n",
    "mlflow.set_tracking_uri(\"http://198.215.61.34:8153/\")\n",
    "mlflow.set_experiment(\"s440708_Shiqiu\")\n",
    "load_dotenv()\n",
    "\n",
    "AZURE_OPENAI_KEY = os.getenv(\"AZURE_OPENAI_KEY\")\n",
    "AZURE_OPENAI_ENDPOINT = os.getenv(\"AZURE_OPENAI_ENDPOINT\")\n",
    "AZURE_OPENAI_DEPLOYMENT_NAME = os.getenv(\"AZURE_OPENAI_DEPLOYMENT_NAME\")\n",
    "AZURE_OPENAI_API_VERSION = os.getenv(\"AZURE_OPENAI_API_VERSION\")\n",
    "\n",
    "print(\"Loaded API key:\", AZURE_OPENAI_KEY[:5] + \"...\" if AZURE_OPENAI_KEY else \"MISSING\")"
   ]
  },
  {
   "cell_type": "markdown",
   "metadata": {},
   "source": [
    "# Config"
   ]
  },
  {
   "cell_type": "code",
   "execution_count": null,
   "metadata": {},
   "outputs": [],
   "source": [
    "data_config = {\n",
    "    \"dataset_path\": \"/work/bioinformatics/s440708/MODULE_3_MATERIALS/data/genehop.json\",  \n",
    "    \"output_path\": \"/work/bioinformatics/s440708/MODULE_3_MATERIALS/outputs/\",\n",
    "    \"dataset_name\": \"genehop\"\n",
    "}\n",
    "\n",
    "model_config = {           \n",
    "    #\"model_name\": AZURE_OPENAI_DEPLOYMENT_NAME,     \n",
    "    \"model_name\": \"qwen3:4b\",   \n",
    "    'frequency_penalty': 0.0,\n",
    "    'presence_penalty': 0.0,\n",
    "    \"temperature\": 1.,\n",
    "    \"max_tokens\": 800,\n",
    "    \"top_p\": 1.0,\n",
    "    \n",
    "}\n"
   ]
  },
  {
   "cell_type": "markdown",
   "metadata": {},
   "source": [
    "# Load data"
   ]
  },
  {
   "cell_type": "code",
   "execution_count": 3,
   "metadata": {},
   "outputs": [
    {
     "name": "stdout",
     "output_type": "stream",
     "text": [
      "Loaded 150 examples from /work/bioinformatics/s440708/MODULE_3_MATERIALS/data/genehop.json\n"
     ]
    }
   ],
   "source": [
    "\n",
    "import json\n",
    "\n",
    "def load_geneturing(path: str) -> List[Dict[str, str]]:\n",
    "    with open(path, \"r\") as f:\n",
    "        raw_data = json.load(f)\n",
    "\n",
    "    flat_data = []\n",
    "    counter = 0\n",
    "    for task_name, qa_pairs in raw_data.items():\n",
    "        for question, answer in qa_pairs.items():\n",
    "            flat_data.append({\n",
    "                \"task\": task_name,\n",
    "                'id': counter,\n",
    "                \"question\": question,\n",
    "                \"answer\": answer\n",
    "            })\n",
    "            counter += 1\n",
    "    \n",
    "\n",
    "    return flat_data\n",
    "\n",
    "\n",
    "# config = Config()\n",
    "dataset = load_geneturing(data_config['dataset_path'])\n",
    "print(f\"Loaded {len(dataset)} examples from {data_config['dataset_path']}\")\n",
    "TASKS = set() "
   ]
  },
  {
   "cell_type": "code",
   "execution_count": 4,
   "metadata": {},
   "outputs": [
    {
     "name": "stdout",
     "output_type": "stream",
     "text": [
      "DataFrame shape: (150, 3)\n"
     ]
    },
    {
     "data": {
      "application/vnd.microsoft.datawrangler.viewer.v0+json": {
       "columns": [
        {
         "name": "id",
         "rawType": "int64",
         "type": "integer"
        },
        {
         "name": "task",
         "rawType": "object",
         "type": "string"
        },
        {
         "name": "question",
         "rawType": "object",
         "type": "string"
        },
        {
         "name": "answer",
         "rawType": "object",
         "type": "unknown"
        }
       ],
       "ref": "c826890e-853a-4e74-98b3-c2ed72371da2",
       "rows": [
        [
         "0",
         "sequence gene alias",
         "What are the aliases of the gene that contains this sequnece:GTAGATGGAACTGGTAGTCAGCTGGAGAGCAGCATGGAGGCGTCCTGGGGGAGCTTCAACGCTGAGCGGGGCTGGTATGTCTCTGTCCAGCAGCCTGAAGAAGCGGAGGCCGA. Let's decompose the question to sub-questions and solve them step by step.",
         "['SLC38A6', 'NAT-1', 'SNAT6']"
        ],
        [
         "1",
         "sequence gene alias",
         "What are the aliases of the gene that contains this sequnece:ATTGTGAGAGTAACCAACGTGGGGTTACGGGGGAGAATCTGGAGAGAAGAGAAGAGGTTAACAACCCTCCCACTTCCTGGCCACCCCCCTCCACCTTTTCTGGTAAGGAGCCC. Let's decompose the question to sub-questions and solve them step by step.",
         "['FCGR3A', 'CD16', 'FCG3', 'CD16A', 'FCGR3', 'IGFR3', 'IMD20', 'FCR-10', 'FCRIII', 'CD16-II', 'FCGRIII', 'FCRIIIA', 'FcGRIIIA']"
        ],
        [
         "2",
         "sequence gene alias",
         "What are the aliases of the gene that contains this sequnece:GGAAGAGGCCCCAGCACTGACCTCCGTGGGGGTGGAGATGAGGAGGATGGAAAGGGTGTCTTCCTCCAGCATCTTCCTGAAGGTGAAGGAGGGGCACCTTGGGGTGTCTAAGA. Let's decompose the question to sub-questions and solve them step by step.",
         "['FNDC11', 'C20orf195']"
        ],
        [
         "3",
         "sequence gene alias",
         "What are the aliases of the gene that contains this sequnece:GCACACGTACGTTCCTCATGAAAGGGACGACGGGAGCTGCATGAAAGCCGAAGTTATGGACCGCTAGCATCTGTCACTGGCCACCGGTTTCCGGGAGTAAGCGGCAGCTACCT. Let's decompose the question to sub-questions and solve them step by step.",
         "['EOLA2', 'CXorf40B']"
        ],
        [
         "4",
         "sequence gene alias",
         "What are the aliases of the gene that contains this sequnece:AGACGTGAAGCCTAGCAGAGGACTTTTTAGCTGCTCACTGGCCCCGCTTGTCTGGCCGACTCATCCGCCCGCGACCCCTAATCCCCTCTGCCTGCCCCAAGATGCTGAAGCCA. Let's decompose the question to sub-questions and solve them step by step.",
         "['PSMB10', 'LMP10', 'MECL1', 'PRAAS5', 'beta2i']"
        ]
       ],
       "shape": {
        "columns": 3,
        "rows": 5
       }
      },
      "text/html": [
       "<div>\n",
       "<style scoped>\n",
       "    .dataframe tbody tr th:only-of-type {\n",
       "        vertical-align: middle;\n",
       "    }\n",
       "\n",
       "    .dataframe tbody tr th {\n",
       "        vertical-align: top;\n",
       "    }\n",
       "\n",
       "    .dataframe thead th {\n",
       "        text-align: right;\n",
       "    }\n",
       "</style>\n",
       "<table border=\"1\" class=\"dataframe\">\n",
       "  <thead>\n",
       "    <tr style=\"text-align: right;\">\n",
       "      <th></th>\n",
       "      <th>task</th>\n",
       "      <th>question</th>\n",
       "      <th>answer</th>\n",
       "    </tr>\n",
       "    <tr>\n",
       "      <th>id</th>\n",
       "      <th></th>\n",
       "      <th></th>\n",
       "      <th></th>\n",
       "    </tr>\n",
       "  </thead>\n",
       "  <tbody>\n",
       "    <tr>\n",
       "      <th>0</th>\n",
       "      <td>sequence gene alias</td>\n",
       "      <td>What are the aliases of the gene that contains...</td>\n",
       "      <td>[SLC38A6, NAT-1, SNAT6]</td>\n",
       "    </tr>\n",
       "    <tr>\n",
       "      <th>1</th>\n",
       "      <td>sequence gene alias</td>\n",
       "      <td>What are the aliases of the gene that contains...</td>\n",
       "      <td>[FCGR3A, CD16, FCG3, CD16A, FCGR3, IGFR3, IMD2...</td>\n",
       "    </tr>\n",
       "    <tr>\n",
       "      <th>2</th>\n",
       "      <td>sequence gene alias</td>\n",
       "      <td>What are the aliases of the gene that contains...</td>\n",
       "      <td>[FNDC11, C20orf195]</td>\n",
       "    </tr>\n",
       "    <tr>\n",
       "      <th>3</th>\n",
       "      <td>sequence gene alias</td>\n",
       "      <td>What are the aliases of the gene that contains...</td>\n",
       "      <td>[EOLA2, CXorf40B]</td>\n",
       "    </tr>\n",
       "    <tr>\n",
       "      <th>4</th>\n",
       "      <td>sequence gene alias</td>\n",
       "      <td>What are the aliases of the gene that contains...</td>\n",
       "      <td>[PSMB10, LMP10, MECL1, PRAAS5, beta2i]</td>\n",
       "    </tr>\n",
       "  </tbody>\n",
       "</table>\n",
       "</div>"
      ],
      "text/plain": [
       "                   task                                           question  \\\n",
       "id                                                                           \n",
       "0   sequence gene alias  What are the aliases of the gene that contains...   \n",
       "1   sequence gene alias  What are the aliases of the gene that contains...   \n",
       "2   sequence gene alias  What are the aliases of the gene that contains...   \n",
       "3   sequence gene alias  What are the aliases of the gene that contains...   \n",
       "4   sequence gene alias  What are the aliases of the gene that contains...   \n",
       "\n",
       "                                               answer  \n",
       "id                                                     \n",
       "0                             [SLC38A6, NAT-1, SNAT6]  \n",
       "1   [FCGR3A, CD16, FCG3, CD16A, FCGR3, IGFR3, IMD2...  \n",
       "2                                 [FNDC11, C20orf195]  \n",
       "3                                   [EOLA2, CXorf40B]  \n",
       "4              [PSMB10, LMP10, MECL1, PRAAS5, beta2i]  "
      ]
     },
     "metadata": {},
     "output_type": "display_data"
    }
   ],
   "source": [
    "# 3.3 Create the pandas dataframe from the collection of rows\n",
    "\n",
    "import pandas as pd\n",
    "\n",
    "def build_dataframe(flat_data: List[Dict[str, str]]) -> pd.DataFrame:\n",
    "\n",
    "    df = pd.DataFrame(flat_data)\n",
    "    \n",
    "    df = df[[\"id\", \"task\", \"question\", \"answer\"]]  \n",
    "    df.set_index(\"id\", inplace=True)\n",
    "    return df\n",
    "\n",
    "df = build_dataframe(dataset)\n",
    "print(f\"DataFrame shape: {df.shape}\")\n",
    "display(df.head())"
   ]
  },
  {
   "cell_type": "markdown",
   "metadata": {},
   "source": [
    "# Create a Structured Output"
   ]
  },
  {
   "cell_type": "code",
   "execution_count": null,
   "metadata": {},
   "outputs": [],
   "source": [
    "system_message = (\n",
    "    \"You are a genomics assistant that returns structured answers. \"\n",
    "    \"You will be provided with a gene-related question and should return your answer \"\n",
    "    \"in structured JSON format following a schema including task, question, answer, and explanation.\"\n",
    ")"
   ]
  },
  {
   "cell_type": "code",
   "execution_count": null,
   "metadata": {},
   "outputs": [
    {
     "name": "stdout",
     "output_type": "stream",
     "text": [
      "{'answer': 'The gene associated with SNP rs1217074595 is A2ML1, which is '\n",
      "           'involved in the regulation of cell adhesion and migration, and is '\n",
      "           'linked to cancer progression.',\n",
      " 'explanation': 'rs1217074595 is a single nucleotide polymorphism (SNP) '\n",
      "                'located in the A2ML1 gene. This gene plays a role in cell '\n",
      "                'adhesion and migration, and its variation has been associated '\n",
      "                'with cancer progression. The specific SNP may affect the '\n",
      "                'function of the protein encoded by A2ML1, potentially '\n",
      "                'influencing cellular processes related to tumor growth and '\n",
      "                'metastasis.',\n",
      " 'question': 'What is the function of the gene associated with SNP '\n",
      "             'rs1217074595?',\n",
      " 'task': 'SNP gene function'}\n"
     ]
    }
   ],
   "source": [
    "from pydantic import BaseModel, Field\n",
    "from typing import Optional\n",
    "\n",
    "import os\n",
    "import pprint as pp\n",
    "from openai import AzureOpenAI\n",
    "\n",
    "class GeneHopAnswer(BaseModel):\n",
    "    \"\"\"\n",
    "    Structured answer format for gene-level LLM QA.\n",
    "    \"\"\"\n",
    "    task: str = Field(..., description=\"GeneHop task name, e.g., 'Gene alias'\")\n",
    "    question: str = Field(..., description=\"The user query\")\n",
    "    answer: str = Field(..., description=\"Structured, atomic answer returned by the model\")\n",
    "    explanation: Optional[str] = Field(\n",
    "        None,\n",
    "        description=\"Optional reasoning or justification provided by the model\"\n",
    "    )\n",
    "\n",
    "\n",
    "\n",
    "query = {\n",
    "    \"task\": \"SNP gene function\",\n",
    "    \"question\": \"What is the function of the gene associated with SNP rs1217074595? Let's decompose the question to sub-questions and solve them step by step.\",\n",
    "}\n",
    "\n",
    "prompt = f\"\"\"Here is a question: \"{query['question']}\". \n",
    "Return the answer in valid JSON format matching this schema: \n",
    "{{\"task\": str, \"question\": str, \"answer\": str, \"explanation\": Optional[str]}}.\n",
    "The 'task' should be '{query['task']}'.\n",
    "\"\"\"\n",
    "\n",
    "# few_shot_examples = [\n",
    "#     {\"role\": \"user\", \"content\": \"What are the aliases of the gene that contains this sequnece:\"\n",
    "#      \"ACTTCCAACATGGCGGCGGCCGGGGCGGCGGTGGCGCGCAGCCCGGGAATCGGAGCGGGACCTGCGCTGAGAGCCCGGCGCTCGCCCCCGCCGCGGGCCGCACGGCTGCCGCG.\"\n",
    "#      \"Let's decompose the question to sub-questions and solve them step by step.\"},\n",
    "#     {\"role\": \"assistant\", \"content\": \"QSOX2, SOXN, QSCN6L1\"},\n",
    "#     {\"role\": \"user\", \"content\": \"List chromosome locations of the genes related to Hemolytic anemia due to phosphofructokinase deficiency. Let's decompose the question to sub-questions and solve them step by step.\"},\n",
    "#     {\"role\": \"assistant\", \"content\": \"21q22.3\"},\n",
    "#     {\"role\": \"user\", \"content\": \"What is the function of the gene associated with SNP rs1241371358? Let's decompose the question to sub-questions and solve them step by step.\"},\n",
    "#     {\"role\": \"assistant\", \"content\": \"Predicted to be active in cytosol.\"}\n",
    "# ]\n",
    "\n",
    "messages = [{\"role\": \"system\", \"content\": system_message},\n",
    "                {\"role\": \"user\", \"content\": prompt}]\n",
    "\n",
    "\n",
    "\n",
    "# client = AzureOpenAI(\n",
    "#     api_key=os.getenv(\"AZURE_OPENAI_KEY\"),\n",
    "#     api_version=\"2024-08-01-preview\",\n",
    "#     azure_endpoint=os.getenv(\"AZURE_OPENAI_ENDPOINT\"),\n",
    "#     timeout=10,\n",
    "#     max_retries=3,\n",
    "# )\n",
    "\n",
    "# response = client.beta.chat.completions.parse(\n",
    "#     model=os.getenv(\"AZURE_OPENAI_DEPLOYMENT_NAME\"),\n",
    "#     messages=messages,\n",
    "#     temperature=0,\n",
    "#     max_tokens=1024,\n",
    "#     response_format=GeneHopAnswer,\n",
    "# )\n",
    "\n",
    "from ollama import chat\n",
    "response = chat(\n",
    "  messages=messages,\n",
    "  model= model_config['model_name'],\n",
    "  format=GeneHopAnswer.model_json_schema(),\n",
    ")\n",
    "\n",
    "genehop_answer = GeneHopAnswer.model_validate_json(response.message.content)\n",
    "answer = genehop_answer.model_dump()\n",
    "pp.pprint(answer)\n",
    "\n",
    "# pp.pprint(response.model_dump())\n"
   ]
  },
  {
   "cell_type": "markdown",
   "metadata": {},
   "source": [
    "# Create Query Model Function"
   ]
  },
  {
   "cell_type": "code",
   "execution_count": null,
   "metadata": {},
   "outputs": [],
   "source": [
    "def query_model(\n",
    "    system_message: dict,\n",
    "    user_query: str,\n",
    ") -> str:\n",
    "    from ollama import chat\n",
    "    \n",
    "    prompt = f\"\"\"Here is a question: \"{user_query['question']}\". \n",
    "    Return the answer in valid JSON format matching this schema: \n",
    "    {{\"task\": str, \"question\": str, \"answer\": str, \"explanation\": Optional[str]}}.\n",
    "    The 'task' should be '{user_query['task']}'.\n",
    "    \"\"\"\n",
    "\n",
    "    messages = [{\"role\": \"system\", \"content\": system_message},\n",
    "                {\"role\": \"user\", \"content\": prompt}]\n",
    "\n",
    "\n",
    "    response = chat(\n",
    "        messages=messages,\n",
    "        model= model_config['model_name'],\n",
    "        format=GeneHopAnswer.model_json_schema(),\n",
    "        )\n",
    "    \n",
    "    genehop_answer = GeneHopAnswer.model_validate_json(response.message.content)\n",
    "    answer = genehop_answer.model_dump()\n",
    "    return answer"
   ]
  },
  {
   "cell_type": "code",
   "execution_count": null,
   "metadata": {},
   "outputs": [],
   "source": [
    "from tqdm import tqdm\n",
    "from typing import Any, Callable, Dict, List, Optional, Union, cast\n",
    "import json\n",
    "\n",
    "def collect_structured_output(\n",
    "    # client: Any,\n",
    "    dataset: List[Dict[str, str]],\n",
    "    system_message: Dict[str, str],\n",
    ") -> List[Dict[str, str]]:\n",
    "\n",
    "    answers = []\n",
    "\n",
    "    with mlflow.start_run(run_name=\"geneturing-eval\"):\n",
    "        mlflow.log_param(\"model\", model_config[\"model_name\"])\n",
    "        mlflow.log_param(\"temperature\", model_config[\"temperature\"])\n",
    "        mlflow.log_param(\"max_tokens\", model_config[\"max_tokens\"])\n",
    "        mlflow.log_param(\"top_p\", model_config[\"top_p\"])\n",
    "\n",
    "        for item in tqdm(dataset, desc=\"Evaluating\"):\n",
    "            item_id = item.get(\"id\")\n",
    "            task = item.get(\"task\")\n",
    "            question = item.get(\"question\")\n",
    "           \n",
    "            #gold_answer = item.get(\"answer\")\n",
    "            query = {'task': task, \"question\": question}\n",
    "            print(query)\n",
    "            # try:\n",
    "\n",
    "            answer = query_model(\n",
    "                system_message, question, query\n",
    "            )\n",
    "            answer['success'] = True\n",
    "            answer['id'] = item_id\n",
    "                \n",
    "\n",
    "            # except Exception:\n",
    "            #     answer = {}\n",
    "            #     answer['success'] = False\n",
    "            #     answer['id'] = item_id\n",
    "            #     answer['task'] = task\n",
    "            #     answer['question'] = question\n",
    "            #     answer['answer'] = \"\"\n",
    "            #     answer['explanation'] = \"\"\n",
    "        \n",
    "\n",
    "            answers.append(answer)\n",
    "\n",
    "        # Calculate and log metrics\n",
    "        df = pd.DataFrame(answers)\n",
    "        success_rate = df[\"success\"].mean()\n",
    "        print(success_rate)\n",
    "        #valid_scores_df = df[df[\"score\"].notna()]\n",
    "        #overall_score = valid_scores_df[\"score\"].mean()\n",
    "\n",
    "        mlflow.log_metric(\"success_rate\", success_rate)\n",
    "        #mlflow.log_metric(\"overall_score\", overall_score)\n",
    "\n",
    "        # for task_name, task_df in df.groupby(\"task\"):\n",
    "        #     mlflow.log_metric(\n",
    "        #         f\"score_{task_name.replace(' ', '_')}\", task_df[\"score\"].mean()\n",
    "        #     )\n",
    "\n",
    "        # Save to json and log as artifact\n",
    "        result_json_path = os.path.join(data_config['output_path'], f\"{data_config['dataset_name']}_results.csv\")\n",
    "        with open(result_json_path, 'w') as f:\n",
    "            json.dump(answers, f, indent=2)\n",
    "      \n",
    "        # df.to_csv(result_csv_path, index=False)\n",
    "        mlflow.log_artifact(result_json_path)\n",
    "\n",
    "    return answers"
   ]
  },
  {
   "cell_type": "code",
   "execution_count": null,
   "metadata": {},
   "outputs": [
    {
     "name": "stderr",
     "output_type": "stream",
     "text": [
      "Evaluating:   0%|          | 0/150 [00:00<?, ?it/s]"
     ]
    },
    {
     "name": "stdout",
     "output_type": "stream",
     "text": [
      "{'task': 'sequence gene alias', 'question': \"What are the aliases of the gene that contains this sequnece:GTAGATGGAACTGGTAGTCAGCTGGAGAGCAGCATGGAGGCGTCCTGGGGGAGCTTCAACGCTGAGCGGGGCTGGTATGTCTCTGTCCAGCAGCCTGAAGAAGCGGAGGCCGA. Let's decompose the question to sub-questions and solve them step by step.\"}\n"
     ]
    },
    {
     "name": "stderr",
     "output_type": "stream",
     "text": [
      "Evaluating:   1%|          | 1/150 [00:34<1:25:02, 34.24s/it]"
     ]
    },
    {
     "name": "stdout",
     "output_type": "stream",
     "text": [
      "{'task': 'sequence gene alias', 'question': \"What are the aliases of the gene that contains this sequnece:ATTGTGAGAGTAACCAACGTGGGGTTACGGGGGAGAATCTGGAGAGAAGAGAAGAGGTTAACAACCCTCCCACTTCCTGGCCACCCCCCTCCACCTTTTCTGGTAAGGAGCCC. Let's decompose the question to sub-questions and solve them step by step.\"}\n"
     ]
    },
    {
     "name": "stderr",
     "output_type": "stream",
     "text": [
      "Evaluating:   1%|▏         | 2/150 [01:01<1:13:38, 29.85s/it]"
     ]
    },
    {
     "name": "stdout",
     "output_type": "stream",
     "text": [
      "{'task': 'sequence gene alias', 'question': \"What are the aliases of the gene that contains this sequnece:GGAAGAGGCCCCAGCACTGACCTCCGTGGGGGTGGAGATGAGGAGGATGGAAAGGGTGTCTTCCTCCAGCATCTTCCTGAAGGTGAAGGAGGGGCACCTTGGGGTGTCTAAGA. Let's decompose the question to sub-questions and solve them step by step.\"}\n"
     ]
    },
    {
     "name": "stderr",
     "output_type": "stream",
     "text": [
      "Evaluating:   2%|▏         | 3/150 [01:31<1:13:44, 30.10s/it]"
     ]
    },
    {
     "name": "stdout",
     "output_type": "stream",
     "text": [
      "{'task': 'sequence gene alias', 'question': \"What are the aliases of the gene that contains this sequnece:GCACACGTACGTTCCTCATGAAAGGGACGACGGGAGCTGCATGAAAGCCGAAGTTATGGACCGCTAGCATCTGTCACTGGCCACCGGTTTCCGGGAGTAAGCGGCAGCTACCT. Let's decompose the question to sub-questions and solve them step by step.\"}\n"
     ]
    },
    {
     "name": "stderr",
     "output_type": "stream",
     "text": [
      "Evaluating:   3%|▎         | 4/150 [01:58<1:10:30, 28.98s/it]"
     ]
    },
    {
     "name": "stdout",
     "output_type": "stream",
     "text": [
      "{'task': 'sequence gene alias', 'question': \"What are the aliases of the gene that contains this sequnece:AGACGTGAAGCCTAGCAGAGGACTTTTTAGCTGCTCACTGGCCCCGCTTGTCTGGCCGACTCATCCGCCCGCGACCCCTAATCCCCTCTGCCTGCCCCAAGATGCTGAAGCCA. Let's decompose the question to sub-questions and solve them step by step.\"}\n"
     ]
    },
    {
     "name": "stderr",
     "output_type": "stream",
     "text": [
      "Evaluating:   3%|▎         | 5/150 [02:31<1:13:16, 30.32s/it]"
     ]
    },
    {
     "name": "stdout",
     "output_type": "stream",
     "text": [
      "{'task': 'sequence gene alias', 'question': \"What are the aliases of the gene that contains this sequnece:ACTTCCAACATGGCGGCGGCCGGGGCGGCGGTGGCGCGCAGCCCGGGAATCGGAGCGGGACCTGCGCTGAGAGCCCGGCGCTCGCCCCCGCCGCGGGCCGCACGGCTGCCGCG. Let's decompose the question to sub-questions and solve them step by step.\"}\n"
     ]
    },
    {
     "name": "stderr",
     "output_type": "stream",
     "text": [
      "Evaluating:   4%|▍         | 6/150 [03:02<1:13:47, 30.74s/it]"
     ]
    },
    {
     "name": "stdout",
     "output_type": "stream",
     "text": [
      "{'task': 'sequence gene alias', 'question': \"What are the aliases of the gene that contains this sequnece:ACTAGCCCCAAGAACAAAAGAGGCACAGGTGGGAACAACTCTCCCAAAACCAGGACTGGGAGCATGGCCAAACTTCATAGTGAGCTTACTTGCCTCTGACACACAAGGCAGCA. Let's decompose the question to sub-questions and solve them step by step.\"}\n"
     ]
    },
    {
     "name": "stderr",
     "output_type": "stream",
     "text": [
      "Evaluating:   5%|▍         | 7/150 [03:33<1:12:58, 30.62s/it]"
     ]
    },
    {
     "name": "stdout",
     "output_type": "stream",
     "text": [
      "{'task': 'sequence gene alias', 'question': \"What are the aliases of the gene that contains this sequnece:GCCGGCGCGCTTGCGCAGTAGCTGAACGCGGGCGTTTCTTTCCTCCCTTTTTTTCGAATTGGTTTTGGGGGTAGATTCGAGTTACAAAATGGCCGCCCGGAGCGTGTTCGGCG. Let's decompose the question to sub-questions and solve them step by step.\"}\n"
     ]
    },
    {
     "name": "stderr",
     "output_type": "stream",
     "text": [
      "Evaluating:   5%|▌         | 8/150 [04:02<1:11:28, 30.20s/it]"
     ]
    },
    {
     "name": "stdout",
     "output_type": "stream",
     "text": [
      "{'task': 'sequence gene alias', 'question': \"What are the aliases of the gene that contains this sequnece:ATGCTTCATTACACCCTTCATGGAAGCTGGCACACTCGCCCCACCCTCGTTTTCCACGGGCCAGTCTTGGAGGAAAAGGCCAGCAGGTAGGTTCCCAGGGCACGGAGATGATG. Let's decompose the question to sub-questions and solve them step by step.\"}\n"
     ]
    },
    {
     "name": "stderr",
     "output_type": "stream",
     "text": [
      "Evaluating:   6%|▌         | 9/150 [04:35<1:13:03, 31.09s/it]"
     ]
    },
    {
     "name": "stdout",
     "output_type": "stream",
     "text": [
      "{'task': 'sequence gene alias', 'question': \"What are the aliases of the gene that contains this sequnece:GCTTACGCCACGGCGTCTGCTGGCGGCCGCGGAGACGCAGAGTCTTGAGCAGCGCGGCAGGTGAGTAGCTGTGCGAATTCGGTTCTCTAGGGAGCTCCTTCTTCGCCTGCTGG. Let's decompose the question to sub-questions and solve them step by step.\"}\n"
     ]
    },
    {
     "name": "stderr",
     "output_type": "stream",
     "text": [
      "Evaluating:   7%|▋         | 10/150 [05:08<1:13:38, 31.56s/it]"
     ]
    },
    {
     "name": "stdout",
     "output_type": "stream",
     "text": [
      "{'task': 'sequence gene alias', 'question': \"What are the aliases of the gene that contains this sequnece:AGAAGAGCCAAAACAGGAACCGAGGTGGCAAATCACTGTGCGAGGGCGAGTGGACCTCCCTCTTTGCCTCCTCCCTGTTCCAGGAGCTGGTGCCCTGGGCTCTGCGCTGTTGT. Let's decompose the question to sub-questions and solve them step by step.\"}\n"
     ]
    },
    {
     "name": "stderr",
     "output_type": "stream",
     "text": [
      "Evaluating:   7%|▋         | 11/150 [05:39<1:13:07, 31.56s/it]"
     ]
    },
    {
     "name": "stdout",
     "output_type": "stream",
     "text": [
      "{'task': 'sequence gene alias', 'question': \"What are the aliases of the gene that contains this sequnece:CTTCCAGGCTAAGTCCATCTTCCGGCTTGGGCAGACGCTGCCGCGGAATCCTTGACTCTAGTTTTCTGAGTCGGTGAGTGAGTGCAAAGTAGATTCCTCAGGTGGAGGGTGCC. Let's decompose the question to sub-questions and solve them step by step.\"}\n"
     ]
    },
    {
     "name": "stderr",
     "output_type": "stream",
     "text": [
      "Evaluating:   8%|▊         | 12/150 [06:22<1:20:00, 34.79s/it]"
     ]
    },
    {
     "name": "stdout",
     "output_type": "stream",
     "text": [
      "{'task': 'sequence gene alias', 'question': \"What are the aliases of the gene that contains this sequnece:CCTTTTAGTATCCAATTATCTGAAACTTAAGAAGAGTGTGCACCGCCCAATGGGTGTGTGTATGTGCTGCTTTGAACCTATAGTTGAGATCCAGAGAATTGGGAGTGACATCA. Let's decompose the question to sub-questions and solve them step by step.\"}\n"
     ]
    },
    {
     "name": "stderr",
     "output_type": "stream",
     "text": [
      "Evaluating:   9%|▊         | 13/150 [06:46<1:12:24, 31.71s/it]"
     ]
    },
    {
     "name": "stdout",
     "output_type": "stream",
     "text": [
      "{'task': 'sequence gene alias', 'question': \"What are the aliases of the gene that contains this sequnece:AGGCTACCAAAGTCGCTGGTAGCCTGGACCCTGAGTTCACCGATCCTTCCTACTCAGTAATATCTACAGGTAAGTCCAAAGGGAAATTGCTTTGGGAATCTGACAATTTAACT. Let's decompose the question to sub-questions and solve them step by step.\"}\n"
     ]
    },
    {
     "name": "stderr",
     "output_type": "stream",
     "text": [
      "Evaluating:   9%|▉         | 14/150 [07:17<1:11:04, 31.35s/it]"
     ]
    },
    {
     "name": "stdout",
     "output_type": "stream",
     "text": [
      "{'task': 'sequence gene alias', 'question': \"What are the aliases of the gene that contains this sequnece:ATCTGCTCTGACTTCCCCAGGACGTGTCTGTGCTCCTGTGTGTGACCAGGGTGAGTGGCAACCTGGGAGCCAGAGGGCACAGGGGAATGGGAAGATTAAGGGAGGCTTCAGAG. Let's decompose the question to sub-questions and solve them step by step.\"}\n"
     ]
    },
    {
     "name": "stderr",
     "output_type": "stream",
     "text": [
      "Evaluating:  10%|█         | 15/150 [07:43<1:07:07, 29.84s/it]"
     ]
    },
    {
     "name": "stdout",
     "output_type": "stream",
     "text": [
      "{'task': 'sequence gene alias', 'question': \"What are the aliases of the gene that contains this sequnece:AGAGCCCAGCCCAGCACGGTCTCCGGGGATGTAGCTGGTGGGACAGTGAGCAGAGGGCTGGGCCCTGTGCCTGGGGACTGTGGCCTGGAGGCTGAGCAGGAGCTGAGGAGGGG. Let's decompose the question to sub-questions and solve them step by step.\"}\n"
     ]
    },
    {
     "name": "stderr",
     "output_type": "stream",
     "text": [
      "Evaluating:  11%|█         | 16/150 [08:08<1:03:07, 28.27s/it]"
     ]
    },
    {
     "name": "stdout",
     "output_type": "stream",
     "text": [
      "{'task': 'sequence gene alias', 'question': \"What are the aliases of the gene that contains this sequnece:GCACAAGCCGGCCTTGAAATCAGAGCCTTTCCAGCAACTCCGAGAGCGTGTGCTCGGCGACCGCGGGCTTGGCCAGCGGCGCGCGCTCGGCGCCCCGGCGCCCCCAGCCCCAC. Let's decompose the question to sub-questions and solve them step by step.\"}\n"
     ]
    },
    {
     "name": "stderr",
     "output_type": "stream",
     "text": [
      "Evaluating:  11%|█▏        | 17/150 [08:34<1:01:14, 27.62s/it]"
     ]
    },
    {
     "name": "stdout",
     "output_type": "stream",
     "text": [
      "{'task': 'sequence gene alias', 'question': \"What are the aliases of the gene that contains this sequnece:AGTTGGCCGCTCCGGCCTGTGGGGCTACATCCCTGCTGCCGGCCAGGCGCGGCCCGCGGGACCCCGAGTGTAGCGCCATGGCCCGGGAGAGGCCGCCCGGGAGGGGCTGCGGC. Let's decompose the question to sub-questions and solve them step by step.\"}\n"
     ]
    },
    {
     "name": "stderr",
     "output_type": "stream",
     "text": [
      "Evaluating:  12%|█▏        | 18/150 [09:06<1:03:41, 28.95s/it]"
     ]
    },
    {
     "name": "stdout",
     "output_type": "stream",
     "text": [
      "{'task': 'sequence gene alias', 'question': \"What are the aliases of the gene that contains this sequnece:GCATTGTGGGTTCTCCTGGAGCTGTGGAGTTGATCCTGAATGAAAGTGGCGCGCCGCCCCTGACGTTACCCGGATCGGAGAGGTTGGAATTCAGATTACGGCTGCGATTCGGG. Let's decompose the question to sub-questions and solve them step by step.\"}\n"
     ]
    },
    {
     "name": "stderr",
     "output_type": "stream",
     "text": [
      "Evaluating:  13%|█▎        | 19/150 [09:40<1:06:53, 30.64s/it]"
     ]
    },
    {
     "name": "stdout",
     "output_type": "stream",
     "text": [
      "{'task': 'sequence gene alias', 'question': \"What are the aliases of the gene that contains this sequnece:CTTCCCCAAGCCAACGTCTCCGCCGTCGGCTCCGCGGCGCCGCCATGGCCGACGTGGAAGACGGAGAGGAAACCTGCGCCCTGGCCTCTCACTCCGGGAGCTCAGGCTCCAAG. Let's decompose the question to sub-questions and solve them step by step.\"}\n"
     ]
    },
    {
     "name": "stderr",
     "output_type": "stream",
     "text": [
      "Evaluating:  13%|█▎        | 20/150 [10:13<1:07:28, 31.15s/it]"
     ]
    },
    {
     "name": "stdout",
     "output_type": "stream",
     "text": [
      "{'task': 'sequence gene alias', 'question': \"What are the aliases of the gene that contains this sequnece:AAGACTGCGAGCTCCCCGCACCCCCTCGCACTCCCTCTGGCCGGCCCAGGGCGCCTTCAGCCCAACCTCCCCAGCCCCACGGGCGCCACGGAACCCGCTCGATCTCGCCGCCA. Let's decompose the question to sub-questions and solve them step by step.\"}\n"
     ]
    },
    {
     "name": "stderr",
     "output_type": "stream",
     "text": [
      "Evaluating:  14%|█▍        | 21/150 [10:42<1:05:32, 30.49s/it]"
     ]
    },
    {
     "name": "stdout",
     "output_type": "stream",
     "text": [
      "{'task': 'sequence gene alias', 'question': \"What are the aliases of the gene that contains this sequnece:AGCTCCCCGCCGGGCTCGCGCCGCAGAGGCCGGTGAGGCGCCGGCGGCCACGCCGCGGAAGGCGCGGGCCGAGCAGAGCCGGGCGTTGGAGCCCGCGCGCGCATGGAGGCGTT. Let's decompose the question to sub-questions and solve them step by step.\"}\n"
     ]
    },
    {
     "name": "stderr",
     "output_type": "stream",
     "text": [
      "Evaluating:  15%|█▍        | 22/150 [11:14<1:06:06, 30.99s/it]"
     ]
    },
    {
     "name": "stdout",
     "output_type": "stream",
     "text": [
      "{'task': 'sequence gene alias', 'question': \"What are the aliases of the gene that contains this sequnece:AGATCTGCTTCTCCCCGGCTCGGGGCGCCGAGGCGGCGTCCGGGAGGTGTCTTCTGCAAAGGTTGCCTGGCGCTGTCCAACATGGAGGAGGCACCGGCAGCGGGCGTTACCTG. Let's decompose the question to sub-questions and solve them step by step.\"}\n"
     ]
    },
    {
     "name": "stderr",
     "output_type": "stream",
     "text": [
      "Evaluating:  15%|█▌        | 23/150 [11:41<1:03:25, 29.96s/it]"
     ]
    },
    {
     "name": "stdout",
     "output_type": "stream",
     "text": [
      "{'task': 'sequence gene alias', 'question': \"What are the aliases of the gene that contains this sequnece:CATGGCCACCCCTGCAGCAGTTACAACACTAAGAGCTCGTTCTTTTGCATCCTCTGTAAGTCCCAGGGCCAAGGGAGGGGAGCCTAGGCTATATTGGACCTAGATAGGAAGAG. Let's decompose the question to sub-questions and solve them step by step.\"}\n"
     ]
    },
    {
     "name": "stderr",
     "output_type": "stream",
     "text": [
      "Evaluating:  16%|█▌        | 24/150 [12:14<1:04:18, 30.62s/it]"
     ]
    },
    {
     "name": "stdout",
     "output_type": "stream",
     "text": [
      "{'task': 'sequence gene alias', 'question': \"What are the aliases of the gene that contains this sequnece:GGGACTTTGCAGGCAGCGGCGGCCGGGGGCGGAGCGGGATCGAGCCCTCGCCGAGGCCTGCCGCCATGGGCCCGCGCCGCCGCCGCCGCCTGTCACCCGGGCCGCGCGGGCCG. Let's decompose the question to sub-questions and solve them step by step.\"}\n"
     ]
    },
    {
     "name": "stderr",
     "output_type": "stream",
     "text": [
      "Evaluating:  17%|█▋        | 25/150 [12:39<1:00:41, 29.13s/it]"
     ]
    },
    {
     "name": "stdout",
     "output_type": "stream",
     "text": [
      "{'task': 'sequence gene alias', 'question': \"What are the aliases of the gene that contains this sequnece:CTCTTTCTTAAGTCATTCGAAACACTGTCCCTGCGAGTTCTTTAAGTTCCCTGCAATCTGTACACAAGAGAAAGAGGGAGAGAGAGAGGGAGAGAGACAGAGAGAGCAGGGAT. Let's decompose the question to sub-questions and solve them step by step.\"}\n"
     ]
    },
    {
     "name": "stderr",
     "output_type": "stream",
     "text": [
      "Evaluating:  17%|█▋        | 26/150 [13:08<59:47, 28.93s/it]  "
     ]
    },
    {
     "name": "stdout",
     "output_type": "stream",
     "text": [
      "{'task': 'sequence gene alias', 'question': \"What are the aliases of the gene that contains this sequnece:AGAAGGAGCGAAACATCTTTGAGCAAGATGGGTCTCTACCGCATCCGCGTGTCCACTGGGGCCTCGCTCTATGCCGGTTCCAACAACCAGGTGCAGCTGTGGCTGGTCGGCCA. Let's decompose the question to sub-questions and solve them step by step.\"}\n"
     ]
    },
    {
     "name": "stderr",
     "output_type": "stream",
     "text": [
      "Evaluating:  18%|█▊        | 27/150 [13:36<58:58, 28.77s/it]"
     ]
    },
    {
     "name": "stdout",
     "output_type": "stream",
     "text": [
      "{'task': 'sequence gene alias', 'question': \"What are the aliases of the gene that contains this sequnece:CCCGCGCGGTAGCAGCCAACGCCGGCCCCAGGCGGGTGCGCTGGGAGCCTGGGCCGGGAGCCGGGTGAGGGCGCCGAGAGGCTCGGTGGGCGCGGGCGGCGAGGTGAGCTGGG. Let's decompose the question to sub-questions and solve them step by step.\"}\n"
     ]
    },
    {
     "name": "stderr",
     "output_type": "stream",
     "text": [
      "Evaluating:  19%|█▊        | 28/150 [14:12<1:03:11, 31.08s/it]"
     ]
    },
    {
     "name": "stdout",
     "output_type": "stream",
     "text": [
      "{'task': 'sequence gene alias', 'question': \"What are the aliases of the gene that contains this sequnece:AGATTTGCTCTGATTCTGACAATGCAGTGGGTATCAGAGCTCAGGTCCAGAGGAAAAGCCTGGAGTGAGTGAGGCTGCGAGCTTCCTCTTCAGAACTCTGCATGCTTATCGGG. Let's decompose the question to sub-questions and solve them step by step.\"}\n"
     ]
    },
    {
     "name": "stderr",
     "output_type": "stream",
     "text": [
      "Evaluating:  19%|█▉        | 29/150 [15:08<1:17:37, 38.49s/it]"
     ]
    },
    {
     "name": "stdout",
     "output_type": "stream",
     "text": [
      "{'task': 'sequence gene alias', 'question': \"What are the aliases of the gene that contains this sequnece:AGAACTCTGCGCTACTGCCCACGCATCTCACAAAGTCTACTACGCCGCGCGTTCTCGGTTTCAACGCACCTCCAGGATTCAGGGCTTCCTAAGCTGCAATTCAGCAGGGCTCC. Let's decompose the question to sub-questions and solve them step by step.\"}\n"
     ]
    },
    {
     "name": "stderr",
     "output_type": "stream",
     "text": [
      "Evaluating:  20%|██        | 30/150 [15:34<1:09:29, 34.75s/it]"
     ]
    },
    {
     "name": "stdout",
     "output_type": "stream",
     "text": [
      "{'task': 'sequence gene alias', 'question': \"What are the aliases of the gene that contains this sequnece:AGCGGGAAGACCATCTCTGCAAGTGCAGCATAGCCTCGGCCTAGGACAGCGGGAGTGCGTGGCCAAAGCTGTGAGCAGAGGCACAGGTGGTGGCAGACAGTAGAGGCGCCCCA. Let's decompose the question to sub-questions and solve them step by step.\"}\n"
     ]
    },
    {
     "name": "stderr",
     "output_type": "stream",
     "text": [
      "Evaluating:  21%|██        | 31/150 [16:13<1:11:17, 35.95s/it]"
     ]
    },
    {
     "name": "stdout",
     "output_type": "stream",
     "text": [
      "{'task': 'sequence gene alias', 'question': \"What are the aliases of the gene that contains this sequnece:GTCGGCCCTGCGGGCCTCTCTCCGTCGCCATGGAAACGAAAGCGGCCAAGTAGAGCTCCGTCCTGACGCGCCGCCTCCCGTGGGCTCCGGCCGGCTAAGCCGCGGCGGACAAC. Let's decompose the question to sub-questions and solve them step by step.\"}\n"
     ]
    },
    {
     "name": "stderr",
     "output_type": "stream",
     "text": [
      "Evaluating:  21%|██▏       | 32/150 [16:55<1:14:27, 37.86s/it]"
     ]
    },
    {
     "name": "stdout",
     "output_type": "stream",
     "text": [
      "{'task': 'sequence gene alias', 'question': \"What are the aliases of the gene that contains this sequnece:AGTCAAGTGACGCGAAGCGGCCGGCCTGGGCGCCGACTGCAGAGCCGGGAGGCTGGTGGTCATGCCGGGGTTCCTGGTTCGCATCCTCCCTCTGTTGCTGGTTCTGCTGCTTC. Let's decompose the question to sub-questions and solve them step by step.\"}\n"
     ]
    },
    {
     "name": "stderr",
     "output_type": "stream",
     "text": [
      "Evaluating:  22%|██▏       | 33/150 [17:33<1:13:43, 37.80s/it]"
     ]
    },
    {
     "name": "stdout",
     "output_type": "stream",
     "text": [
      "{'task': 'sequence gene alias', 'question': \"What are the aliases of the gene that contains this sequnece:GTTTTTCAGCTCACTTCAAGGGTACCTGAAGCGAATTGGCACCAAAGCAGCAGCTGTATTGCCGCAGTTCTAGCTTCACCTTCACGATGTTTCCCTTGGTCAAAAGCGCACTA. Let's decompose the question to sub-questions and solve them step by step.\"}\n"
     ]
    },
    {
     "name": "stderr",
     "output_type": "stream",
     "text": [
      "Evaluating:  23%|██▎       | 34/150 [18:17<1:16:23, 39.51s/it]"
     ]
    },
    {
     "name": "stdout",
     "output_type": "stream",
     "text": [
      "{'task': 'sequence gene alias', 'question': \"What are the aliases of the gene that contains this sequnece:AGAGCGGCCCCGGAGCGGCCGCAGCGCGGTGGTCTCGGCCCGGCTGCGCCAGAGTCCGCGCGATGGAGCCCCGGCCGCGGCGGCGGCGCAGGAGTCGCCCCCTGGTCGCCGCC. Let's decompose the question to sub-questions and solve them step by step.\"}\n"
     ]
    },
    {
     "name": "stderr",
     "output_type": "stream",
     "text": [
      "Evaluating:  23%|██▎       | 35/150 [20:13<2:00:11, 62.71s/it]"
     ]
    },
    {
     "name": "stdout",
     "output_type": "stream",
     "text": [
      "{'task': 'sequence gene alias', 'question': \"What are the aliases of the gene that contains this sequnece:ATGACGCGCGGCCGCGCCTGGGGGATGCGGCGGGCGGCGGCGGGGGCGGGCGGAGCGCGGGCGGCGGGGCCAACTGGGGGCGCCTCTCGCCTGCACCCCAATGCGGGACGCAG. Let's decompose the question to sub-questions and solve them step by step.\"}\n"
     ]
    },
    {
     "name": "stderr",
     "output_type": "stream",
     "text": [
      "Evaluating:  24%|██▍       | 36/150 [20:46<1:41:50, 53.60s/it]"
     ]
    },
    {
     "name": "stdout",
     "output_type": "stream",
     "text": [
      "{'task': 'sequence gene alias', 'question': \"What are the aliases of the gene that contains this sequnece:ATCGATCACAGGCTCACAACGCCCTTCCATTCATCGCTCTTATTCCAGTCCTGGTTACTACCCCACTTCCTGACATCAAACCAGGGAGAACGCGAGTGTTAGTTAACATGGCT. Let's decompose the question to sub-questions and solve them step by step.\"}\n"
     ]
    },
    {
     "name": "stderr",
     "output_type": "stream",
     "text": [
      "Evaluating:  25%|██▍       | 37/150 [21:15<1:27:05, 46.25s/it]"
     ]
    },
    {
     "name": "stdout",
     "output_type": "stream",
     "text": [
      "{'task': 'sequence gene alias', 'question': \"What are the aliases of the gene that contains this sequnece:GCCATTTTGGATTGTGTGAGTTTCCGGGACGTTCGGAGGGTGGCCTCTCTCCCACCGGGTTCCGCATACCCCAGGCACCGGCCCGCATCCAAGTGTCAGGTTGGAGCCGGGAA. Let's decompose the question to sub-questions and solve them step by step.\"}\n"
     ]
    },
    {
     "name": "stderr",
     "output_type": "stream",
     "text": [
      "Evaluating:  25%|██▌       | 38/150 [21:59<1:25:20, 45.72s/it]"
     ]
    },
    {
     "name": "stdout",
     "output_type": "stream",
     "text": [
      "{'task': 'sequence gene alias', 'question': \"What are the aliases of the gene that contains this sequnece:GTTGTACAGAAAATTGCTGTTGGGATGAAGCTTTGCAGCCTTGCAGTCCTTGTACCCATTGTTCTCTTCTGTGAGCAGCATGTCTTCGCGTTTCAGAGGTAACCCAATAGAA. Let's decompose the question to sub-questions and solve them step by step.\"}\n"
     ]
    },
    {
     "name": "stderr",
     "output_type": "stream",
     "text": [
      "Evaluating:  26%|██▌       | 39/150 [22:37<1:20:24, 43.47s/it]"
     ]
    },
    {
     "name": "stdout",
     "output_type": "stream",
     "text": [
      "{'task': 'sequence gene alias', 'question': \"What are the aliases of the gene that contains this sequnece:ATTACTCAGCTTTTCATCTGCTGTGTTGAAAGCCAACTTATCATTTTTCACATTATTGTATACATCTAAAAGACATCATAAACGAAGACTGGAAGTGAAAACTGAAAAACTGA. Let's decompose the question to sub-questions and solve them step by step.\"}\n"
     ]
    },
    {
     "name": "stderr",
     "output_type": "stream",
     "text": [
      "Evaluating:  27%|██▋       | 40/150 [23:14<1:15:58, 41.44s/it]"
     ]
    },
    {
     "name": "stdout",
     "output_type": "stream",
     "text": [
      "{'task': 'sequence gene alias', 'question': \"What are the aliases of the gene that contains this sequnece:GTTTGTTTACTTGGCGAGACTTGGAGCTGAGGTCATTTGGAGCTGTTTAATACTGAAGAGCTGTTGAGCACTGGAAAGTGCTGTGTAACCCTGGAAAAGAACCGTGTAACGCT. Let's decompose the question to sub-questions and solve them step by step.\"}\n"
     ]
    },
    {
     "name": "stderr",
     "output_type": "stream",
     "text": [
      "Evaluating:  27%|██▋       | 41/150 [23:53<1:13:38, 40.54s/it]"
     ]
    },
    {
     "name": "stdout",
     "output_type": "stream",
     "text": [
      "{'task': 'sequence gene alias', 'question': \"What are the aliases of the gene that contains this sequnece:AGCTGCCAGCACGCGCAGAAGGCGGACGCAGGCGGGGCGGAAGTGGGCCCGGCGGGCTGGGGCGGCGGGAGTGCGGGTGGGCGTTTAAAGGGGCCTTCGGCACCCAGGTCGGT. Let's decompose the question to sub-questions and solve them step by step.\"}\n"
     ]
    },
    {
     "name": "stderr",
     "output_type": "stream",
     "text": [
      "Evaluating:  28%|██▊       | 42/150 [24:22<1:07:11, 37.33s/it]"
     ]
    },
    {
     "name": "stdout",
     "output_type": "stream",
     "text": [
      "{'task': 'sequence gene alias', 'question': \"What are the aliases of the gene that contains this sequnece:AGATGTGAGTCCTCAATGAGCTATAACCACAGCCATAAATATCTCTCAAAGATGAGGAACATTCTCATGATGTTGACACTGCAATTTTTTGACAATTTCCCAACACTCTTAAG. Let's decompose the question to sub-questions and solve them step by step.\"}\n"
     ]
    },
    {
     "name": "stderr",
     "output_type": "stream",
     "text": [
      "Evaluating:  29%|██▊       | 43/150 [24:55<1:04:01, 35.91s/it]"
     ]
    },
    {
     "name": "stdout",
     "output_type": "stream",
     "text": [
      "{'task': 'sequence gene alias', 'question': \"What are the aliases of the gene that contains this sequnece:TCTTCCTCCAGCTGTTCCCACAGGCTCCATTATTCAAACTTTGGGGGAGGAAATCAGGGCTGGACAGATCATCAACTGCTGCTGCTGACAGACTGTGTTCCTGCCATGATGGG. Let's decompose the question to sub-questions and solve them step by step.\"}\n"
     ]
    },
    {
     "name": "stderr",
     "output_type": "stream",
     "text": [
      "Evaluating:  29%|██▉       | 44/150 [25:21<57:55, 32.79s/it]  "
     ]
    },
    {
     "name": "stdout",
     "output_type": "stream",
     "text": [
      "{'task': 'sequence gene alias', 'question': \"What are the aliases of the gene that contains this sequnece:CATTTCACCAGCCCAGGCTGGCTTCTGCTGTTGACTGGCTGTGGCACCTCAAGCAGCCCCTTTCCCCTCTAGCCTCAGTTTATCACCGCAAGAGCTACCATTCATCTAGCACA. Let's decompose the question to sub-questions and solve them step by step.\"}\n"
     ]
    },
    {
     "name": "stderr",
     "output_type": "stream",
     "text": [
      "Evaluating:  30%|███       | 45/150 [25:54<57:57, 33.12s/it]"
     ]
    },
    {
     "name": "stdout",
     "output_type": "stream",
     "text": [
      "{'task': 'sequence gene alias', 'question': \"What are the aliases of the gene that contains this sequnece:ATGGCTTTGCCTAGAAGCCAAGGCCATTGGTCCAACAAAGACATCTTGAGGTTACTGGAATGCATGGAGAATAATCGCCCATCTGATGACAACAGCACGTTTAGCTCAACTCA. Let's decompose the question to sub-questions and solve them step by step.\"}\n"
     ]
    },
    {
     "name": "stderr",
     "output_type": "stream",
     "text": [
      "Evaluating:  31%|███       | 46/150 [28:08<1:49:33, 63.21s/it]"
     ]
    },
    {
     "name": "stdout",
     "output_type": "stream",
     "text": [
      "{'task': 'sequence gene alias', 'question': \"What are the aliases of the gene that contains this sequnece:GCAGGCGCTGGCTGGCAGGTGTCGCTAACCGGACGGTGGTCGCCAGGGCGAGAGGCGGGAGCCGGAGAGGTGAGGCAGGACCCGGGCTCCACTGCCGCCTCTCCGAGCTCTTG. Let's decompose the question to sub-questions and solve them step by step.\"}\n"
     ]
    },
    {
     "name": "stderr",
     "output_type": "stream",
     "text": [
      "Evaluating:  31%|███▏      | 47/150 [28:44<1:34:29, 55.05s/it]"
     ]
    },
    {
     "name": "stdout",
     "output_type": "stream",
     "text": [
      "{'task': 'sequence gene alias', 'question': \"What are the aliases of the gene that contains this sequnece:ACGTGGCCGGGGTGGGACCTCAGGCGACCTGCGACCATCACTTTGTCTCCTCCTTCCTCCTTTGGGGCCGCCACCGCCAATCAGAGCCAGCGGATCCTGGTTGGAGTGCGACC. Let's decompose the question to sub-questions and solve them step by step.\"}\n"
     ]
    },
    {
     "name": "stderr",
     "output_type": "stream",
     "text": [
      "Evaluating:  32%|███▏      | 48/150 [29:22<1:25:12, 50.12s/it]"
     ]
    },
    {
     "name": "stdout",
     "output_type": "stream",
     "text": [
      "{'task': 'sequence gene alias', 'question': \"What are the aliases of the gene that contains this sequnece:AGGATTCCTGGAGTCTCCGGAGGGTGCCTTTGGCCTCTGGGATTCACCCGAGCCGTTGGCTTTTGCTCCCCCCACCCCACCCCCTGGCTTTTCTTGGCTTGGAGGGCAGCTGG. Let's decompose the question to sub-questions and solve them step by step.\"}\n"
     ]
    },
    {
     "name": "stderr",
     "output_type": "stream",
     "text": [
      "Evaluating:  33%|███▎      | 49/150 [29:50<1:13:00, 43.37s/it]"
     ]
    },
    {
     "name": "stdout",
     "output_type": "stream",
     "text": [
      "{'task': 'sequence gene alias', 'question': \"What are the aliases of the gene that contains this sequnece:ATGCTCAGTAGCCGCGGCGCTGCTGCTGGGCTGCTGGGCTGGCGCGGAGTCCACCCTGCCGTCTCCGCCTTGGCTTCTGGGCGTCCAGAAGGCCAGGCATTTGCCGCCTCTGA. Let's decompose the question to sub-questions and solve them step by step.\"}\n"
     ]
    },
    {
     "name": "stderr",
     "output_type": "stream",
     "text": [
      "Evaluating:  33%|███▎      | 50/150 [30:21<1:06:00, 39.60s/it]"
     ]
    },
    {
     "name": "stdout",
     "output_type": "stream",
     "text": [
      "{'task': 'Disease gene location', 'question': \"List chromosome locations of the genes related to Hemolytic anemia due to phosphofructokinase deficiency. Let's decompose the question to sub-questions and solve them step by step.\"}\n"
     ]
    },
    {
     "name": "stderr",
     "output_type": "stream",
     "text": [
      "Evaluating:  34%|███▍      | 51/150 [30:47<58:34, 35.50s/it]  "
     ]
    },
    {
     "name": "stdout",
     "output_type": "stream",
     "text": [
      "{'task': 'Disease gene location', 'question': \"List chromosome locations of the genes related to Distal renal tubular acidosis. Let's decompose the question to sub-questions and solve them step by step.\"}\n"
     ]
    },
    {
     "name": "stderr",
     "output_type": "stream",
     "text": [
      "Evaluating:  35%|███▍      | 52/150 [31:16<54:41, 33.49s/it]"
     ]
    },
    {
     "name": "stdout",
     "output_type": "stream",
     "text": [
      "{'task': 'Disease gene location', 'question': \"List chromosome locations of the genes related to Pseudohypoparathyroidism Ic. Let's decompose the question to sub-questions and solve them step by step.\"}\n"
     ]
    },
    {
     "name": "stderr",
     "output_type": "stream",
     "text": [
      "Evaluating:  35%|███▌      | 53/150 [31:40<49:49, 30.82s/it]"
     ]
    },
    {
     "name": "stdout",
     "output_type": "stream",
     "text": [
      "{'task': 'Disease gene location', 'question': \"List chromosome locations of the genes related to Glycine N-methyltransferase deficiency. Let's decompose the question to sub-questions and solve them step by step.\"}\n"
     ]
    },
    {
     "name": "stderr",
     "output_type": "stream",
     "text": [
      "Evaluating:  36%|███▌      | 54/150 [31:59<43:40, 27.30s/it]"
     ]
    },
    {
     "name": "stdout",
     "output_type": "stream",
     "text": [
      "{'task': 'Disease gene location', 'question': \"List chromosome locations of the genes related to Meesmann corneal dystrophy. Let's decompose the question to sub-questions and solve them step by step.\"}\n"
     ]
    },
    {
     "name": "stderr",
     "output_type": "stream",
     "text": [
      "Evaluating:  37%|███▋      | 55/150 [32:18<39:13, 24.77s/it]"
     ]
    },
    {
     "name": "stdout",
     "output_type": "stream",
     "text": [
      "{'task': 'Disease gene location', 'question': \"List chromosome locations of the genes related to Chronic atrial and intestinal dysrhythmia. Let's decompose the question to sub-questions and solve them step by step.\"}\n"
     ]
    },
    {
     "name": "stderr",
     "output_type": "stream",
     "text": [
      "Evaluating:  37%|███▋      | 56/150 [32:41<37:43, 24.08s/it]"
     ]
    },
    {
     "name": "stdout",
     "output_type": "stream",
     "text": [
      "{'task': 'Disease gene location', 'question': \"List chromosome locations of the genes related to Sensorineural deafness with mild renal dysfunction. Let's decompose the question to sub-questions and solve them step by step.\"}\n"
     ]
    },
    {
     "name": "stderr",
     "output_type": "stream",
     "text": [
      "Evaluating:  38%|███▊      | 57/150 [33:10<39:35, 25.54s/it]"
     ]
    },
    {
     "name": "stdout",
     "output_type": "stream",
     "text": [
      "{'task': 'Disease gene location', 'question': \"List chromosome locations of the genes related to Bile acid malabsorption. Let's decompose the question to sub-questions and solve them step by step.\"}\n"
     ]
    },
    {
     "name": "stderr",
     "output_type": "stream",
     "text": [
      "Evaluating:  39%|███▊      | 58/150 [33:36<39:25, 25.71s/it]"
     ]
    },
    {
     "name": "stdout",
     "output_type": "stream",
     "text": [
      "{'task': 'Disease gene location', 'question': \"List chromosome locations of the genes related to Immunodeficiency due to defect in MAPBP-interacting protein. Let's decompose the question to sub-questions and solve them step by step.\"}\n"
     ]
    },
    {
     "name": "stderr",
     "output_type": "stream",
     "text": [
      "Evaluating:  39%|███▉      | 59/150 [33:57<36:54, 24.33s/it]"
     ]
    },
    {
     "name": "stdout",
     "output_type": "stream",
     "text": [
      "{'task': 'Disease gene location', 'question': \"List chromosome locations of the genes related to Currarino syndrome. Let's decompose the question to sub-questions and solve them step by step.\"}\n"
     ]
    },
    {
     "name": "stderr",
     "output_type": "stream",
     "text": [
      "Evaluating:  40%|████      | 60/150 [34:14<33:14, 22.16s/it]"
     ]
    },
    {
     "name": "stdout",
     "output_type": "stream",
     "text": [
      "{'task': 'Disease gene location', 'question': \"List chromosome locations of the genes related to Intervertebral disc disease. Let's decompose the question to sub-questions and solve them step by step.\"}\n"
     ]
    },
    {
     "name": "stderr",
     "output_type": "stream",
     "text": [
      "Evaluating:  41%|████      | 61/150 [34:45<36:48, 24.82s/it]"
     ]
    },
    {
     "name": "stdout",
     "output_type": "stream",
     "text": [
      "{'task': 'Disease gene location', 'question': \"List chromosome locations of the genes related to Otofaciocervical syndrome. Let's decompose the question to sub-questions and solve them step by step.\"}\n"
     ]
    },
    {
     "name": "stderr",
     "output_type": "stream",
     "text": [
      "Evaluating:  41%|████▏     | 62/150 [35:16<39:08, 26.69s/it]"
     ]
    },
    {
     "name": "stdout",
     "output_type": "stream",
     "text": [
      "{'task': 'Disease gene location', 'question': \"List chromosome locations of the genes related to Brody myopathy. Let's decompose the question to sub-questions and solve them step by step.\"}\n"
     ]
    },
    {
     "name": "stderr",
     "output_type": "stream",
     "text": [
      "Evaluating:  42%|████▏     | 63/150 [35:39<36:53, 25.44s/it]"
     ]
    },
    {
     "name": "stdout",
     "output_type": "stream",
     "text": [
      "{'task': 'Disease gene location', 'question': \"List chromosome locations of the genes related to Neurodevelopmental disorder with gait disturbance. Let's decompose the question to sub-questions and solve them step by step.\"}\n"
     ]
    },
    {
     "name": "stderr",
     "output_type": "stream",
     "text": [
      "Evaluating:  43%|████▎     | 64/150 [36:07<37:38, 26.26s/it]"
     ]
    },
    {
     "name": "stdout",
     "output_type": "stream",
     "text": [
      "{'task': 'Disease gene location', 'question': \"List chromosome locations of the genes related to Mitochondrial DNA depletion syndrome 4A Alpers type. Let's decompose the question to sub-questions and solve them step by step.\"}\n"
     ]
    },
    {
     "name": "stderr",
     "output_type": "stream",
     "text": [
      "Evaluating:  43%|████▎     | 65/150 [36:31<36:13, 25.57s/it]"
     ]
    },
    {
     "name": "stdout",
     "output_type": "stream",
     "text": [
      "{'task': 'Disease gene location', 'question': \"List chromosome locations of the genes related to Nephropathy due to CFHR5 deficiency. Let's decompose the question to sub-questions and solve them step by step.\"}\n"
     ]
    },
    {
     "name": "stderr",
     "output_type": "stream",
     "text": [
      "Evaluating:  44%|████▍     | 66/150 [36:54<34:57, 24.97s/it]"
     ]
    },
    {
     "name": "stdout",
     "output_type": "stream",
     "text": [
      "{'task': 'Disease gene location', 'question': \"List chromosome locations of the genes related to Achromatopsia. Let's decompose the question to sub-questions and solve them step by step.\"}\n"
     ]
    },
    {
     "name": "stderr",
     "output_type": "stream",
     "text": [
      "Evaluating:  45%|████▍     | 67/150 [37:17<33:29, 24.21s/it]"
     ]
    },
    {
     "name": "stdout",
     "output_type": "stream",
     "text": [
      "{'task': 'Disease gene location', 'question': \"List chromosome locations of the genes related to Hyperphenylalaninemia. Let's decompose the question to sub-questions and solve them step by step.\"}\n"
     ]
    },
    {
     "name": "stderr",
     "output_type": "stream",
     "text": [
      "Evaluating:  45%|████▌     | 68/150 [37:48<35:55, 26.29s/it]"
     ]
    },
    {
     "name": "stdout",
     "output_type": "stream",
     "text": [
      "{'task': 'Disease gene location', 'question': \"List chromosome locations of the genes related to EDICT syndrome. Let's decompose the question to sub-questions and solve them step by step.\"}\n"
     ]
    },
    {
     "name": "stderr",
     "output_type": "stream",
     "text": [
      "Evaluating:  46%|████▌     | 69/150 [38:14<35:18, 26.15s/it]"
     ]
    },
    {
     "name": "stdout",
     "output_type": "stream",
     "text": [
      "{'task': 'Disease gene location', 'question': \"List chromosome locations of the genes related to Gastrointestinal defects and immunodeficiency syndrome. Let's decompose the question to sub-questions and solve them step by step.\"}\n"
     ]
    },
    {
     "name": "stderr",
     "output_type": "stream",
     "text": [
      "Evaluating:  47%|████▋     | 70/150 [38:49<38:37, 28.96s/it]"
     ]
    },
    {
     "name": "stdout",
     "output_type": "stream",
     "text": [
      "{'task': 'Disease gene location', 'question': \"List chromosome locations of the genes related to Cleft palate with ankyloglossia. Let's decompose the question to sub-questions and solve them step by step.\"}\n"
     ]
    },
    {
     "name": "stderr",
     "output_type": "stream",
     "text": [
      "Evaluating:  47%|████▋     | 71/150 [39:13<36:12, 27.50s/it]"
     ]
    },
    {
     "name": "stdout",
     "output_type": "stream",
     "text": [
      "{'task': 'Disease gene location', 'question': \"List chromosome locations of the genes related to Neurodevelopmental disorder with nonspecific brain abnormalities and with or without seizures. Let's decompose the question to sub-questions and solve them step by step.\"}\n"
     ]
    },
    {
     "name": "stderr",
     "output_type": "stream",
     "text": [
      "Evaluating:  48%|████▊     | 72/150 [39:42<36:20, 27.96s/it]"
     ]
    },
    {
     "name": "stdout",
     "output_type": "stream",
     "text": [
      "{'task': 'Disease gene location', 'question': \"List chromosome locations of the genes related to Spondylocarpotarsal synostosis syndrome. Let's decompose the question to sub-questions and solve them step by step.\"}\n"
     ]
    },
    {
     "name": "stderr",
     "output_type": "stream",
     "text": [
      "Evaluating:  49%|████▊     | 73/150 [40:03<32:55, 25.65s/it]"
     ]
    },
    {
     "name": "stdout",
     "output_type": "stream",
     "text": [
      "{'task': 'Disease gene location', 'question': \"List chromosome locations of the genes related to Haim-Munk syndrome. Let's decompose the question to sub-questions and solve them step by step.\"}\n"
     ]
    },
    {
     "name": "stderr",
     "output_type": "stream",
     "text": [
      "Evaluating:  49%|████▉     | 74/150 [40:24<30:55, 24.41s/it]"
     ]
    },
    {
     "name": "stdout",
     "output_type": "stream",
     "text": [
      "{'task': 'Disease gene location', 'question': \"List chromosome locations of the genes related to Sialidosis. Let's decompose the question to sub-questions and solve them step by step.\"}\n"
     ]
    },
    {
     "name": "stderr",
     "output_type": "stream",
     "text": [
      "Evaluating:  50%|█████     | 75/150 [40:47<29:47, 23.83s/it]"
     ]
    },
    {
     "name": "stdout",
     "output_type": "stream",
     "text": [
      "{'task': 'Disease gene location', 'question': \"List chromosome locations of the genes related to Siddiqi syndrome. Let's decompose the question to sub-questions and solve them step by step.\"}\n"
     ]
    },
    {
     "name": "stderr",
     "output_type": "stream",
     "text": [
      "Evaluating:  51%|█████     | 76/150 [41:08<28:26, 23.06s/it]"
     ]
    },
    {
     "name": "stdout",
     "output_type": "stream",
     "text": [
      "{'task': 'Disease gene location', 'question': \"List chromosome locations of the genes related to Corneal fleck dystrophy. Let's decompose the question to sub-questions and solve them step by step.\"}\n"
     ]
    },
    {
     "name": "stderr",
     "output_type": "stream",
     "text": [
      "Evaluating:  51%|█████▏    | 77/150 [41:34<29:05, 23.92s/it]"
     ]
    },
    {
     "name": "stdout",
     "output_type": "stream",
     "text": [
      "{'task': 'Disease gene location', 'question': \"List chromosome locations of the genes related to Liver failure. Let's decompose the question to sub-questions and solve them step by step.\"}\n"
     ]
    },
    {
     "name": "stderr",
     "output_type": "stream",
     "text": [
      "Evaluating:  52%|█████▏    | 78/150 [42:01<30:02, 25.03s/it]"
     ]
    },
    {
     "name": "stdout",
     "output_type": "stream",
     "text": [
      "{'task': 'Disease gene location', 'question': \"List chromosome locations of the genes related to Proteasome-associated autoinflammatory syndrome. Let's decompose the question to sub-questions and solve them step by step.\"}\n"
     ]
    },
    {
     "name": "stderr",
     "output_type": "stream",
     "text": [
      "Evaluating:  53%|█████▎    | 79/150 [42:21<27:50, 23.53s/it]"
     ]
    },
    {
     "name": "stdout",
     "output_type": "stream",
     "text": [
      "{'task': 'Disease gene location', 'question': \"List chromosome locations of the genes related to Orofaciodigital syndrome XIV. Let's decompose the question to sub-questions and solve them step by step.\"}\n"
     ]
    },
    {
     "name": "stderr",
     "output_type": "stream",
     "text": [
      "Evaluating:  53%|█████▎    | 80/150 [42:39<25:32, 21.90s/it]"
     ]
    },
    {
     "name": "stdout",
     "output_type": "stream",
     "text": [
      "{'task': 'Disease gene location', 'question': \"List chromosome locations of the genes related to Trichoepithelioma. Let's decompose the question to sub-questions and solve them step by step.\"}\n"
     ]
    },
    {
     "name": "stderr",
     "output_type": "stream",
     "text": [
      "Evaluating:  54%|█████▍    | 81/150 [43:05<26:23, 22.95s/it]"
     ]
    },
    {
     "name": "stdout",
     "output_type": "stream",
     "text": [
      "{'task': 'Disease gene location', 'question': \"List chromosome locations of the genes related to Medullary thyroid carcinoma. Let's decompose the question to sub-questions and solve them step by step.\"}\n"
     ]
    },
    {
     "name": "stderr",
     "output_type": "stream",
     "text": [
      "Evaluating:  55%|█████▍    | 82/150 [43:27<25:47, 22.75s/it]"
     ]
    },
    {
     "name": "stdout",
     "output_type": "stream",
     "text": [
      "{'task': 'Disease gene location', 'question': \"List chromosome locations of the genes related to Type diabetes mellitus. Let's decompose the question to sub-questions and solve them step by step.\"}\n"
     ]
    },
    {
     "name": "stderr",
     "output_type": "stream",
     "text": [
      "Evaluating:  55%|█████▌    | 83/150 [43:53<26:23, 23.63s/it]"
     ]
    },
    {
     "name": "stdout",
     "output_type": "stream",
     "text": [
      "{'task': 'Disease gene location', 'question': \"List chromosome locations of the genes related to Buschke-Ollendorff syndrome. Let's decompose the question to sub-questions and solve them step by step.\"}\n"
     ]
    },
    {
     "name": "stderr",
     "output_type": "stream",
     "text": [
      "Evaluating:  56%|█████▌    | 84/150 [44:13<24:58, 22.70s/it]"
     ]
    },
    {
     "name": "stdout",
     "output_type": "stream",
     "text": [
      "{'task': 'Disease gene location', 'question': \"List chromosome locations of the genes related to Vascular malformation. Let's decompose the question to sub-questions and solve them step by step.\"}\n"
     ]
    },
    {
     "name": "stderr",
     "output_type": "stream",
     "text": [
      "Evaluating:  57%|█████▋    | 85/150 [44:44<27:08, 25.06s/it]"
     ]
    },
    {
     "name": "stdout",
     "output_type": "stream",
     "text": [
      "{'task': 'Disease gene location', 'question': \"List chromosome locations of the genes related to Acrocallosal syndrome. Let's decompose the question to sub-questions and solve them step by step.\"}\n"
     ]
    },
    {
     "name": "stderr",
     "output_type": "stream",
     "text": [
      "Evaluating:  57%|█████▋    | 86/150 [45:04<25:09, 23.59s/it]"
     ]
    },
    {
     "name": "stdout",
     "output_type": "stream",
     "text": [
      "{'task': 'Disease gene location', 'question': \"List chromosome locations of the genes related to Congenital disorder of deglycosylation. Let's decompose the question to sub-questions and solve them step by step.\"}\n"
     ]
    },
    {
     "name": "stderr",
     "output_type": "stream",
     "text": [
      "Evaluating:  58%|█████▊    | 87/150 [45:44<29:50, 28.43s/it]"
     ]
    },
    {
     "name": "stdout",
     "output_type": "stream",
     "text": [
      "{'task': 'Disease gene location', 'question': \"List chromosome locations of the genes related to Spinal muscular atrophy with congenital bone fractures. Let's decompose the question to sub-questions and solve them step by step.\"}\n"
     ]
    },
    {
     "name": "stderr",
     "output_type": "stream",
     "text": [
      "Evaluating:  59%|█████▊    | 88/150 [46:20<31:53, 30.87s/it]"
     ]
    },
    {
     "name": "stdout",
     "output_type": "stream",
     "text": [
      "{'task': 'Disease gene location', 'question': \"List chromosome locations of the genes related to B-cell immunodeficiency. Let's decompose the question to sub-questions and solve them step by step.\"}\n"
     ]
    },
    {
     "name": "stderr",
     "output_type": "stream",
     "text": [
      "Evaluating:  59%|█████▉    | 89/150 [46:45<29:33, 29.08s/it]"
     ]
    },
    {
     "name": "stdout",
     "output_type": "stream",
     "text": [
      "{'task': 'Disease gene location', 'question': \"List chromosome locations of the genes related to Immunodeficiency with inflammatory disease and congenital thrombocytopenia. Let's decompose the question to sub-questions and solve them step by step.\"}\n"
     ]
    },
    {
     "name": "stderr",
     "output_type": "stream",
     "text": [
      "Evaluating:  60%|██████    | 90/150 [47:14<28:49, 28.82s/it]"
     ]
    },
    {
     "name": "stdout",
     "output_type": "stream",
     "text": [
      "{'task': 'Disease gene location', 'question': \"List chromosome locations of the genes related to Split-foot malformation with mesoaxial polydactyly. Let's decompose the question to sub-questions and solve them step by step.\"}\n"
     ]
    },
    {
     "name": "stderr",
     "output_type": "stream",
     "text": [
      "Evaluating:  61%|██████    | 91/150 [47:49<30:13, 30.73s/it]"
     ]
    },
    {
     "name": "stdout",
     "output_type": "stream",
     "text": [
      "{'task': 'Disease gene location', 'question': \"List chromosome locations of the genes related to Pigmented nodular adrenocortical disease. Let's decompose the question to sub-questions and solve them step by step.\"}\n"
     ]
    },
    {
     "name": "stderr",
     "output_type": "stream",
     "text": [
      "Evaluating:  61%|██████▏   | 92/150 [48:17<29:07, 30.13s/it]"
     ]
    },
    {
     "name": "stdout",
     "output_type": "stream",
     "text": [
      "{'task': 'Disease gene location', 'question': \"List chromosome locations of the genes related to Superoxide dismutase. Let's decompose the question to sub-questions and solve them step by step.\"}\n"
     ]
    },
    {
     "name": "stderr",
     "output_type": "stream",
     "text": [
      "Evaluating:  62%|██████▏   | 93/150 [48:41<26:52, 28.29s/it]"
     ]
    },
    {
     "name": "stdout",
     "output_type": "stream",
     "text": [
      "{'task': 'Disease gene location', 'question': \"List chromosome locations of the genes related to Leukoencephalopathy with dystonia and motor neuropathy. Let's decompose the question to sub-questions and solve them step by step.\"}\n"
     ]
    },
    {
     "name": "stderr",
     "output_type": "stream",
     "text": [
      "Evaluating:  63%|██████▎   | 94/150 [49:03<24:34, 26.33s/it]"
     ]
    },
    {
     "name": "stdout",
     "output_type": "stream",
     "text": [
      "{'task': 'Disease gene location', 'question': \"List chromosome locations of the genes related to Intracranial hemorrhage in brain cerebrovascular malformations. Let's decompose the question to sub-questions and solve them step by step.\"}\n"
     ]
    },
    {
     "name": "stderr",
     "output_type": "stream",
     "text": [
      "Evaluating:  63%|██████▎   | 95/150 [49:31<24:35, 26.83s/it]"
     ]
    },
    {
     "name": "stdout",
     "output_type": "stream",
     "text": [
      "{'task': 'Disease gene location', 'question': \"List chromosome locations of the genes related to Multiple system atrophy. Let's decompose the question to sub-questions and solve them step by step.\"}\n"
     ]
    },
    {
     "name": "stderr",
     "output_type": "stream",
     "text": [
      "Evaluating:  64%|██████▍   | 96/150 [50:04<25:48, 28.67s/it]"
     ]
    },
    {
     "name": "stdout",
     "output_type": "stream",
     "text": [
      "{'task': 'Disease gene location', 'question': \"List chromosome locations of the genes related to Cone dystrophy. Let's decompose the question to sub-questions and solve them step by step.\"}\n"
     ]
    },
    {
     "name": "stderr",
     "output_type": "stream",
     "text": [
      "Evaluating:  65%|██████▍   | 97/150 [50:37<26:21, 29.84s/it]"
     ]
    },
    {
     "name": "stdout",
     "output_type": "stream",
     "text": [
      "{'task': 'Disease gene location', 'question': \"List chromosome locations of the genes related to Holt-Oram syndrome. Let's decompose the question to sub-questions and solve them step by step.\"}\n"
     ]
    },
    {
     "name": "stderr",
     "output_type": "stream",
     "text": [
      "Evaluating:  65%|██████▌   | 98/150 [50:58<23:35, 27.21s/it]"
     ]
    },
    {
     "name": "stdout",
     "output_type": "stream",
     "text": [
      "{'task': 'Disease gene location', 'question': \"List chromosome locations of the genes related to Lichtenstein-Knorr syndrome. Let's decompose the question to sub-questions and solve them step by step.\"}\n"
     ]
    },
    {
     "name": "stderr",
     "output_type": "stream",
     "text": [
      "Evaluating:  66%|██████▌   | 99/150 [51:17<21:05, 24.82s/it]"
     ]
    },
    {
     "name": "stdout",
     "output_type": "stream",
     "text": [
      "{'task': 'Disease gene location', 'question': \"List chromosome locations of the genes related to Ablepharon-macrostomia syndrome. Let's decompose the question to sub-questions and solve them step by step.\"}\n"
     ]
    },
    {
     "name": "stderr",
     "output_type": "stream",
     "text": [
      "Evaluating:  67%|██████▋   | 100/150 [51:42<20:38, 24.77s/it]"
     ]
    },
    {
     "name": "stdout",
     "output_type": "stream",
     "text": [
      "{'task': 'SNP gene function', 'question': \"What is the function of the gene associated with SNP rs1217074595? Let's decompose the question to sub-questions and solve them step by step.\"}\n"
     ]
    },
    {
     "name": "stderr",
     "output_type": "stream",
     "text": [
      "Evaluating:  67%|██████▋   | 101/150 [52:06<20:12, 24.75s/it]"
     ]
    },
    {
     "name": "stdout",
     "output_type": "stream",
     "text": [
      "{'task': 'SNP gene function', 'question': \"What is the function of the gene associated with SNP rs1241371358? Let's decompose the question to sub-questions and solve them step by step.\"}\n"
     ]
    },
    {
     "name": "stderr",
     "output_type": "stream",
     "text": [
      "Evaluating:  68%|██████▊   | 102/150 [52:31<19:52, 24.85s/it]"
     ]
    },
    {
     "name": "stdout",
     "output_type": "stream",
     "text": [
      "{'task': 'SNP gene function', 'question': \"What is the function of the gene associated with SNP rs1481036795? Let's decompose the question to sub-questions and solve them step by step.\"}\n"
     ]
    },
    {
     "name": "stderr",
     "output_type": "stream",
     "text": [
      "Evaluating:  69%|██████▊   | 103/150 [52:57<19:34, 24.99s/it]"
     ]
    },
    {
     "name": "stdout",
     "output_type": "stream",
     "text": [
      "{'task': 'SNP gene function', 'question': \"What is the function of the gene associated with SNP rs1318850293? Let's decompose the question to sub-questions and solve them step by step.\"}\n"
     ]
    },
    {
     "name": "stderr",
     "output_type": "stream",
     "text": [
      "Evaluating:  69%|██████▉   | 104/150 [53:22<19:10, 25.01s/it]"
     ]
    },
    {
     "name": "stdout",
     "output_type": "stream",
     "text": [
      "{'task': 'SNP gene function', 'question': \"What is the function of the gene associated with SNP rs996319727? Let's decompose the question to sub-questions and solve them step by step.\"}\n"
     ]
    },
    {
     "name": "stderr",
     "output_type": "stream",
     "text": [
      "Evaluating:  70%|███████   | 105/150 [53:51<19:44, 26.33s/it]"
     ]
    },
    {
     "name": "stdout",
     "output_type": "stream",
     "text": [
      "{'task': 'SNP gene function', 'question': \"What is the function of the gene associated with SNP rs577757681? Let's decompose the question to sub-questions and solve them step by step.\"}\n"
     ]
    },
    {
     "name": "stderr",
     "output_type": "stream",
     "text": [
      "Evaluating:  71%|███████   | 106/150 [54:15<18:48, 25.64s/it]"
     ]
    },
    {
     "name": "stdout",
     "output_type": "stream",
     "text": [
      "{'task': 'SNP gene function', 'question': \"What is the function of the gene associated with SNP rs1294482311? Let's decompose the question to sub-questions and solve them step by step.\"}\n"
     ]
    },
    {
     "name": "stderr",
     "output_type": "stream",
     "text": [
      "Evaluating:  71%|███████▏  | 107/150 [54:38<17:42, 24.70s/it]"
     ]
    },
    {
     "name": "stdout",
     "output_type": "stream",
     "text": [
      "{'task': 'SNP gene function', 'question': \"What is the function of the gene associated with SNP rs979970652? Let's decompose the question to sub-questions and solve them step by step.\"}\n"
     ]
    },
    {
     "name": "stderr",
     "output_type": "stream",
     "text": [
      "Evaluating:  72%|███████▏  | 108/150 [55:02<17:15, 24.66s/it]"
     ]
    },
    {
     "name": "stdout",
     "output_type": "stream",
     "text": [
      "{'task': 'SNP gene function', 'question': \"What is the function of the gene associated with SNP rs1029002401? Let's decompose the question to sub-questions and solve them step by step.\"}\n"
     ]
    },
    {
     "name": "stderr",
     "output_type": "stream",
     "text": [
      "Evaluating:  73%|███████▎  | 109/150 [55:27<16:52, 24.69s/it]"
     ]
    },
    {
     "name": "stdout",
     "output_type": "stream",
     "text": [
      "{'task': 'SNP gene function', 'question': \"What is the function of the gene associated with SNP rs1015227? Let's decompose the question to sub-questions and solve them step by step.\"}\n"
     ]
    },
    {
     "name": "stderr",
     "output_type": "stream",
     "text": [
      "Evaluating:  73%|███████▎  | 110/150 [56:00<18:00, 27.01s/it]"
     ]
    },
    {
     "name": "stdout",
     "output_type": "stream",
     "text": [
      "{'task': 'SNP gene function', 'question': \"What is the function of the gene associated with SNP rs1278530438? Let's decompose the question to sub-questions and solve them step by step.\"}\n"
     ]
    },
    {
     "name": "stderr",
     "output_type": "stream",
     "text": [
      "Evaluating:  74%|███████▍  | 111/150 [56:22<16:39, 25.62s/it]"
     ]
    },
    {
     "name": "stdout",
     "output_type": "stream",
     "text": [
      "{'task': 'SNP gene function', 'question': \"What is the function of the gene associated with SNP rs745325402? Let's decompose the question to sub-questions and solve them step by step.\"}\n"
     ]
    },
    {
     "name": "stderr",
     "output_type": "stream",
     "text": [
      "Evaluating:  75%|███████▍  | 112/150 [56:48<16:16, 25.69s/it]"
     ]
    },
    {
     "name": "stdout",
     "output_type": "stream",
     "text": [
      "{'task': 'SNP gene function', 'question': \"What is the function of the gene associated with SNP rs4704888? Let's decompose the question to sub-questions and solve them step by step.\"}\n"
     ]
    },
    {
     "name": "stderr",
     "output_type": "stream",
     "text": [
      "Evaluating:  75%|███████▌  | 113/150 [57:16<16:23, 26.57s/it]"
     ]
    },
    {
     "name": "stdout",
     "output_type": "stream",
     "text": [
      "{'task': 'SNP gene function', 'question': \"What is the function of the gene associated with SNP rs1201372088? Let's decompose the question to sub-questions and solve them step by step.\"}\n"
     ]
    },
    {
     "name": "stderr",
     "output_type": "stream",
     "text": [
      "Evaluating:  76%|███████▌  | 114/150 [57:42<15:45, 26.25s/it]"
     ]
    },
    {
     "name": "stdout",
     "output_type": "stream",
     "text": [
      "{'task': 'SNP gene function', 'question': \"What is the function of the gene associated with SNP rs1324451169? Let's decompose the question to sub-questions and solve them step by step.\"}\n"
     ]
    },
    {
     "name": "stderr",
     "output_type": "stream",
     "text": [
      "Evaluating:  77%|███████▋  | 115/150 [58:06<14:52, 25.51s/it]"
     ]
    },
    {
     "name": "stdout",
     "output_type": "stream",
     "text": [
      "{'task': 'SNP gene function', 'question': \"What is the function of the gene associated with SNP rs983419152? Let's decompose the question to sub-questions and solve them step by step.\"}\n"
     ]
    },
    {
     "name": "stderr",
     "output_type": "stream",
     "text": [
      "Evaluating:  77%|███████▋  | 116/150 [58:34<14:58, 26.43s/it]"
     ]
    },
    {
     "name": "stdout",
     "output_type": "stream",
     "text": [
      "{'task': 'SNP gene function', 'question': \"What is the function of the gene associated with SNP rs745940901? Let's decompose the question to sub-questions and solve them step by step.\"}\n"
     ]
    },
    {
     "name": "stderr",
     "output_type": "stream",
     "text": [
      "Evaluating:  78%|███████▊  | 117/150 [59:01<14:35, 26.54s/it]"
     ]
    },
    {
     "name": "stdout",
     "output_type": "stream",
     "text": [
      "{'task': 'SNP gene function', 'question': \"What is the function of the gene associated with SNP rs1303680136? Let's decompose the question to sub-questions and solve them step by step.\"}\n"
     ]
    },
    {
     "name": "stderr",
     "output_type": "stream",
     "text": [
      "Evaluating:  79%|███████▊  | 118/150 [59:25<13:46, 25.82s/it]"
     ]
    },
    {
     "name": "stdout",
     "output_type": "stream",
     "text": [
      "{'task': 'SNP gene function', 'question': \"What is the function of the gene associated with SNP rs1053827498? Let's decompose the question to sub-questions and solve them step by step.\"}\n"
     ]
    },
    {
     "name": "stderr",
     "output_type": "stream",
     "text": [
      "Evaluating:  79%|███████▉  | 119/150 [59:51<13:19, 25.78s/it]"
     ]
    },
    {
     "name": "stdout",
     "output_type": "stream",
     "text": [
      "{'task': 'SNP gene function', 'question': \"What is the function of the gene associated with SNP rs1350154096? Let's decompose the question to sub-questions and solve them step by step.\"}\n"
     ]
    },
    {
     "name": "stderr",
     "output_type": "stream",
     "text": [
      "Evaluating:  80%|████████  | 120/150 [1:00:13<12:16, 24.56s/it]"
     ]
    },
    {
     "name": "stdout",
     "output_type": "stream",
     "text": [
      "{'task': 'SNP gene function', 'question': \"What is the function of the gene associated with SNP rs1037441458? Let's decompose the question to sub-questions and solve them step by step.\"}\n"
     ]
    },
    {
     "name": "stderr",
     "output_type": "stream",
     "text": [
      "Evaluating:  81%|████████  | 121/150 [1:00:33<11:18, 23.39s/it]"
     ]
    },
    {
     "name": "stdout",
     "output_type": "stream",
     "text": [
      "{'task': 'SNP gene function', 'question': \"What is the function of the gene associated with SNP rs900408143? Let's decompose the question to sub-questions and solve them step by step.\"}\n"
     ]
    },
    {
     "name": "stderr",
     "output_type": "stream",
     "text": [
      "Evaluating:  81%|████████▏ | 122/150 [1:00:57<10:54, 23.39s/it]"
     ]
    },
    {
     "name": "stdout",
     "output_type": "stream",
     "text": [
      "{'task': 'SNP gene function', 'question': \"What is the function of the gene associated with SNP rs900532834? Let's decompose the question to sub-questions and solve them step by step.\"}\n"
     ]
    },
    {
     "name": "stderr",
     "output_type": "stream",
     "text": [
      "Evaluating:  82%|████████▏ | 123/150 [1:01:19<10:24, 23.14s/it]"
     ]
    },
    {
     "name": "stdout",
     "output_type": "stream",
     "text": [
      "{'task': 'SNP gene function', 'question': \"What is the function of the gene associated with SNP rs1281200566? Let's decompose the question to sub-questions and solve them step by step.\"}\n"
     ]
    },
    {
     "name": "stderr",
     "output_type": "stream",
     "text": [
      "Evaluating:  83%|████████▎ | 124/150 [1:01:48<10:45, 24.81s/it]"
     ]
    },
    {
     "name": "stdout",
     "output_type": "stream",
     "text": [
      "{'task': 'SNP gene function', 'question': \"What is the function of the gene associated with SNP rs1431266687? Let's decompose the question to sub-questions and solve them step by step.\"}\n"
     ]
    },
    {
     "name": "stderr",
     "output_type": "stream",
     "text": [
      "Evaluating:  83%|████████▎ | 125/150 [1:02:12<10:11, 24.47s/it]"
     ]
    },
    {
     "name": "stdout",
     "output_type": "stream",
     "text": [
      "{'task': 'SNP gene function', 'question': \"What is the function of the gene associated with SNP rs900745020? Let's decompose the question to sub-questions and solve them step by step.\"}\n"
     ]
    },
    {
     "name": "stderr",
     "output_type": "stream",
     "text": [
      "Evaluating:  84%|████████▍ | 126/150 [1:02:37<09:53, 24.73s/it]"
     ]
    },
    {
     "name": "stdout",
     "output_type": "stream",
     "text": [
      "{'task': 'SNP gene function', 'question': \"What is the function of the gene associated with SNP rs1188606225? Let's decompose the question to sub-questions and solve them step by step.\"}\n"
     ]
    },
    {
     "name": "stderr",
     "output_type": "stream",
     "text": [
      "Evaluating:  85%|████████▍ | 127/150 [1:03:04<09:48, 25.59s/it]"
     ]
    },
    {
     "name": "stdout",
     "output_type": "stream",
     "text": [
      "{'task': 'SNP gene function', 'question': \"What is the function of the gene associated with SNP rs902730377? Let's decompose the question to sub-questions and solve them step by step.\"}\n"
     ]
    },
    {
     "name": "stderr",
     "output_type": "stream",
     "text": [
      "Evaluating:  85%|████████▌ | 128/150 [1:03:44<10:52, 29.68s/it]"
     ]
    },
    {
     "name": "stdout",
     "output_type": "stream",
     "text": [
      "{'task': 'SNP gene function', 'question': \"What is the function of the gene associated with SNP rs1044115387? Let's decompose the question to sub-questions and solve them step by step.\"}\n"
     ]
    },
    {
     "name": "stderr",
     "output_type": "stream",
     "text": [
      "Evaluating:  86%|████████▌ | 129/150 [1:04:14<10:28, 29.94s/it]"
     ]
    },
    {
     "name": "stdout",
     "output_type": "stream",
     "text": [
      "{'task': 'SNP gene function', 'question': \"What is the function of the gene associated with SNP rs979980368? Let's decompose the question to sub-questions and solve them step by step.\"}\n"
     ]
    },
    {
     "name": "stderr",
     "output_type": "stream",
     "text": [
      "Evaluating:  87%|████████▋ | 130/150 [1:04:27<08:14, 24.73s/it]"
     ]
    },
    {
     "name": "stdout",
     "output_type": "stream",
     "text": [
      "{'task': 'SNP gene function', 'question': \"What is the function of the gene associated with SNP rs1161130206? Let's decompose the question to sub-questions and solve them step by step.\"}\n"
     ]
    },
    {
     "name": "stderr",
     "output_type": "stream",
     "text": [
      "Evaluating:  87%|████████▋ | 131/150 [1:04:49<07:36, 24.03s/it]"
     ]
    },
    {
     "name": "stdout",
     "output_type": "stream",
     "text": [
      "{'task': 'SNP gene function', 'question': \"What is the function of the gene associated with SNP rs910422326? Let's decompose the question to sub-questions and solve them step by step.\"}\n"
     ]
    },
    {
     "name": "stderr",
     "output_type": "stream",
     "text": [
      "Evaluating:  88%|████████▊ | 132/150 [1:05:17<07:31, 25.08s/it]"
     ]
    },
    {
     "name": "stdout",
     "output_type": "stream",
     "text": [
      "{'task': 'SNP gene function', 'question': \"What is the function of the gene associated with SNP rs1035892430? Let's decompose the question to sub-questions and solve them step by step.\"}\n"
     ]
    },
    {
     "name": "stderr",
     "output_type": "stream",
     "text": [
      "Evaluating:  89%|████████▊ | 133/150 [1:05:48<07:36, 26.87s/it]"
     ]
    },
    {
     "name": "stdout",
     "output_type": "stream",
     "text": [
      "{'task': 'SNP gene function', 'question': \"What is the function of the gene associated with SNP rs1255093658? Let's decompose the question to sub-questions and solve them step by step.\"}\n"
     ]
    },
    {
     "name": "stderr",
     "output_type": "stream",
     "text": [
      "Evaluating:  89%|████████▉ | 134/150 [1:06:13<06:59, 26.22s/it]"
     ]
    },
    {
     "name": "stdout",
     "output_type": "stream",
     "text": [
      "{'task': 'SNP gene function', 'question': \"What is the function of the gene associated with SNP rs1257276516? Let's decompose the question to sub-questions and solve them step by step.\"}\n"
     ]
    },
    {
     "name": "stderr",
     "output_type": "stream",
     "text": [
      "Evaluating:  90%|█████████ | 135/150 [1:06:39<06:32, 26.20s/it]"
     ]
    },
    {
     "name": "stdout",
     "output_type": "stream",
     "text": [
      "{'task': 'SNP gene function', 'question': \"What is the function of the gene associated with SNP rs563369098? Let's decompose the question to sub-questions and solve them step by step.\"}\n"
     ]
    }
   ],
   "source": [
    "results = collect_structured_output(dataset, system_message[0])"
   ]
  },
  {
   "cell_type": "markdown",
   "metadata": {},
   "source": [
    "# calculate cosine similarity"
   ]
  },
  {
   "cell_type": "code",
   "execution_count": null,
   "metadata": {},
   "outputs": [],
   "source": [
    "import json\n",
    "from transformers import AutoTokenizer, AutoModel\n",
    "import torch\n",
    "import torch.nn.functional as F\n",
    "import os\n",
    "\n",
    "def mean_pooling(model_output, attention_mask):\n",
    "    token_embeddings = model_output[0]\n",
    "    input_mask_expanded = attention_mask.unsqueeze(-1).expand(token_embeddings.size()).float()\n",
    "    return torch.sum(token_embeddings * input_mask_expanded, 1) / torch.clamp(\n",
    "        input_mask_expanded.sum(1), min=1e-9\n",
    "    )\n",
    "\n",
    "\n",
    "tokenizer = AutoTokenizer.from_pretrained(\"FremyCompany/BioLORD-2023\")\n",
    "model = AutoModel.from_pretrained(\"FremyCompany/BioLORD-2023\")\n",
    "\n",
    "\n",
    "with open(\"/work/bioinformatics/s440708/MODULE_3_MATERIALS/outputs/genehop_results.csv\", \"r\") as f:\n",
    "    pred_data = json.load(f)\n",
    "\n",
    "with open(\"/work/bioinformatics/s440708/MODULE_3_MATERIALS/data/genehop.json\", \"r\") as f:\n",
    "    gold_data = json.load(f)\n",
    "\n",
    "\n",
    "results = []\n",
    "for entry in pred_data:\n",
    "    question = entry['question']\n",
    "    pred_answer = entry['answer']\n",
    "\n",
    "    found = False\n",
    "    for task, qa_dict in gold_data.items():\n",
    "        for gold_q, gold_a_list in qa_dict.items():\n",
    "            if gold_q.strip() == question.strip():\n",
    "                found = True\n",
    "                for gold_answer in gold_a_list:\n",
    "                   \n",
    "                    inputs = tokenizer([pred_answer, gold_answer], padding=True, truncation=True, return_tensors=\"pt\")\n",
    "                    with torch.no_grad():\n",
    "                        outputs = model(**inputs)\n",
    "                    embeddings = mean_pooling(outputs, inputs['attention_mask'])\n",
    "                    embeddings = F.normalize(embeddings, p=2, dim=1)\n",
    "                    cosine_sim = F.cosine_similarity(embeddings[0], embeddings[1], dim=0).item()\n",
    "                    results.append({\n",
    "                        'question': question,\n",
    "                        'predicted_answer': pred_answer,\n",
    "                        'gold_answer': gold_answer,\n",
    "                        'cosine_similarity': cosine_sim\n",
    "                    })\n",
    "    if not found:\n",
    "        results.append({\n",
    "            'question': question,\n",
    "            'predicted_answer': pred_answer,\n",
    "            'gold_answer': None,\n",
    "            'cosine_similarity': None,\n",
    "            'note': 'No gold answer found'\n",
    "        })\n",
    "\n",
    "import pandas as pd\n",
    "df = pd.DataFrame(results)\n"
   ]
  },
  {
   "cell_type": "code",
   "execution_count": null,
   "metadata": {},
   "outputs": [
    {
     "name": "stderr",
     "output_type": "stream",
     "text": [
      "100%|██████████| 3/3 [00:00<00:00, 5013.11it/s]\n"
     ]
    },
    {
     "name": "stdout",
     "output_type": "stream",
     "text": [
      "0.22228483855724335\n",
      "0.12435595691204071\n",
      "0.2232302576303482\n",
      "0.17944329977035522\n",
      "0.241394504904747\n",
      "0.3022831976413727\n",
      "0.3317318558692932\n",
      "0.22889623045921326\n",
      "0.2430797666311264\n",
      "0.44673436880111694\n",
      "0.5258044004440308\n",
      "0.31004586815834045\n",
      "0.20812499523162842\n",
      "0.26675739884376526\n",
      "0.256971538066864\n",
      "0.16082169115543365\n",
      "0.24365420639514923\n",
      "0.17847153544425964\n",
      "0.28906893730163574\n",
      "0.6071949005126953\n",
      "0.02541375160217285\n",
      "0.5200710296630859\n",
      "0.1370559185743332\n",
      "0.34150242805480957\n",
      "0.19680416584014893\n",
      "0.1015663743019104\n",
      "0.37616950273513794\n",
      "0.3683997690677643\n",
      "0.17296752333641052\n",
      "0.27167296409606934\n",
      "0.37701550126075745\n",
      "0.4135938286781311\n",
      "0.24612268805503845\n",
      "0.16213443875312805\n",
      "0.3622819781303406\n",
      "0.31128329038619995\n",
      "0.15481258928775787\n",
      "0.27907854318618774\n",
      "0.2902039587497711\n",
      "0.39749252796173096\n",
      "0.37894707918167114\n",
      "0.2619859576225281\n",
      "0.3804163932800293\n",
      "0.16254813969135284\n",
      "0.18180790543556213\n",
      "0.38003015518188477\n",
      "0.29259175062179565\n",
      "0.39297351241111755\n",
      "0.1963275521993637\n",
      "0.17553435266017914\n",
      "0.2015819549560547\n",
      "0.2130257785320282\n",
      "0.15569274127483368\n",
      "0.1835842877626419\n",
      "0.2329942286014557\n",
      "0.10736683011054993\n",
      "0.10470718145370483\n",
      "0.24593043327331543\n",
      "0.232389897108078\n",
      "0.26189959049224854\n",
      "0.11173422634601593\n",
      "0.21144475042819977\n",
      "0.14504289627075195\n",
      "0.23087280988693237\n",
      "0.3306926190853119\n",
      "0.21771368384361267\n",
      "0.2814180254936218\n",
      "0.3150196373462677\n",
      "0.22221802175045013\n",
      "0.06030736491084099\n",
      "0.07856589555740356\n",
      "0.22404450178146362\n",
      "0.22808700799942017\n",
      "0.3326791524887085\n",
      "0.15434908866882324\n",
      "0.08631044626235962\n",
      "0.1958734691143036\n",
      "0.15791457891464233\n",
      "0.2926234006881714\n",
      "0.17408716678619385\n",
      "0.16793890297412872\n",
      "0.18108664453029633\n",
      "0.2099268138408661\n",
      "0.3727337718009949\n",
      "0.09147804975509644\n",
      "0.28444626927375793\n",
      "0.13458436727523804\n",
      "0.23271724581718445\n",
      "0.08330076932907104\n",
      "0.07011617720127106\n",
      "0.14992116391658783\n",
      "0.3192451000213623\n",
      "0.2457270622253418\n",
      "0.34545502066612244\n",
      "0.16484278440475464\n",
      "0.20913919806480408\n",
      "0.20108486711978912\n",
      "0.21338853240013123\n",
      "0.17460186779499054\n",
      "0.214217871427536\n",
      "0.2928176820278168\n",
      "0.23718440532684326\n",
      "0.38249677419662476\n",
      "0.30916914343833923\n",
      "0.24183619022369385\n",
      "0.282639741897583\n",
      "0.2909585237503052\n",
      "0.5235232710838318\n",
      "0.25330936908721924\n",
      "0.20791757106781006\n",
      "0.2779938876628876\n",
      "0.33609315752983093\n",
      "0.4384472370147705\n",
      "0.3848971426486969\n",
      "0.2635022699832916\n",
      "0.2737969160079956\n",
      "0.36637961864471436\n",
      "0.18416224420070648\n",
      "0.2168807089328766\n",
      "0.29426559805870056\n",
      "0.2973993420600891\n",
      "0.42384278774261475\n",
      "0.5268286466598511\n",
      "0.31651225686073303\n",
      "0.39690572023391724\n",
      "0.40865328907966614\n",
      "0.4784074127674103\n",
      "0.10026095062494278\n",
      "0.329121470451355\n",
      "0.37439867854118347\n",
      "0.274014949798584\n",
      "0.39688733220100403\n",
      "0.5990618467330933\n",
      "0.4106404185295105\n",
      "0.1782262623310089\n",
      "0.23215706646442413\n",
      "0.38943564891815186\n",
      "0.34605976939201355\n",
      "0.2711978554725647\n",
      "0.41832002997398376\n",
      "0.27838343381881714\n",
      "0.2197684496641159\n",
      "0.37266114354133606\n",
      "0.5106511116027832\n",
      "0.3427574336528778\n",
      "0.3378036618232727\n",
      "0.3713197112083435\n",
      "0.3694756031036377\n",
      "0.23370899260044098\n",
      "0.32739031314849854\n"
     ]
    }
   ],
   "source": [
    "import json\n",
    "import torch\n",
    "import torch.nn.functional as F\n",
    "from transformers import AutoTokenizer, AutoModel\n",
    "import pandas as pd\n",
    "from tqdm import tqdm\n",
    "# Load model and tokenizer\n",
    "tokenizer = AutoTokenizer.from_pretrained(\"FremyCompany/BioLORD-2023\")\n",
    "model = AutoModel.from_pretrained(\"FremyCompany/BioLORD-2023\")\n",
    "\n",
    "# Helper function for mean pooling\n",
    "def mean_pooling(model_output, attention_mask):\n",
    "    token_embeddings = model_output[0]\n",
    "    input_mask_expanded = attention_mask.unsqueeze(-1).expand(token_embeddings.size()).float()\n",
    "    return torch.sum(token_embeddings * input_mask_expanded, 1) / torch.clamp(\n",
    "        input_mask_expanded.sum(1), min=1e-9\n",
    "    )\n",
    "\n",
    "# Load gold data\n",
    "with open(\"/work/bioinformatics/s440708/MODULE_3_MATERIALS/data/genehop.json\", \"r\") as f:\n",
    "    gold_data = json.load(f)\n",
    "\n",
    "# Load predictions\n",
    "with open(\"/work/bioinformatics/s440708/MODULE_3_MATERIALS/outputs/genehop_results.csv\", \"r\") as f:\n",
    "    pred_data = json.load(f)\n",
    "\n",
    "results = []\n",
    "gold_entries = []\n",
    "for task_name, task_dict in gold_data.items():\n",
    "    \n",
    "    for question, answers in task_dict.items():\n",
    "            gold_entries.append({\n",
    "                \"task\": task_name,\n",
    "                \"question\": question.replace(\"Let's decompose the question to sub-questions and solve them step by step.\",\"\").strip(),\n",
    "                \"gold_answers\": answers\n",
    "            })\n",
    "\n",
    "# Compute similarity\n",
    "for i, pred_entry in enumerate(pred_data):\n",
    "    question = pred_entry['question'].strip()\n",
    "    predicted_answer = pred_entry['answer'].strip()\n",
    "    task_name = pred_entry['task']\n",
    "\n",
    "    match = gold_entries[i]\n",
    "    gold_answer = match['gold_answers']\n",
    "    if isinstance(gold_answer, list):\n",
    "        gold_answer = \" \".join(gold_answer)\n",
    "\n",
    "   \n",
    "    inputs = tokenizer([predicted_answer, gold_answer], padding=True, truncation=True, return_tensors=\"pt\")\n",
    "    with torch.no_grad():\n",
    "        outputs = model(**inputs)\n",
    "        embeddings = mean_pooling(outputs, inputs['attention_mask'])\n",
    "        embeddings = F.normalize(embeddings, p=2, dim=1)\n",
    "        cosine_sim = F.cosine_similarity(embeddings[0], embeddings[1], dim=0).item()\n",
    "        print(cosine_sim)\n",
    "        results.append({\n",
    "            \"task\": task_name,\n",
    "            \"question\": question,\n",
    "            \"predicted_answer\": predicted_answer,\n",
    "            \"gold_answer\": gold_answer,\n",
    "            \"cosine_similarity\": cosine_sim\n",
    "        })\n",
    "    \n",
    "   \n",
    "\n",
    "df = pd.DataFrame(results)\n",
    "\n"
   ]
  },
  {
   "cell_type": "code",
   "execution_count": 30,
   "metadata": {},
   "outputs": [
    {
     "data": {
      "text/plain": [
       "np.float64(0.2703053500503302)"
      ]
     },
     "execution_count": 30,
     "metadata": {},
     "output_type": "execute_result"
    }
   ],
   "source": [
    "df['cosine_similarity'].mean()"
   ]
  },
  {
   "cell_type": "code",
   "execution_count": 36,
   "metadata": {},
   "outputs": [],
   "source": [
    "\n",
    "df.to_csv(os.path.join(data_config['output_path'], \"genehop_ollama_results.csv\"))"
   ]
  },
  {
   "cell_type": "markdown",
   "metadata": {},
   "source": [
    "# "
   ]
  }
 ],
 "metadata": {
  "kernelspec": {
   "display_name": "venv",
   "language": "python",
   "name": "python3"
  },
  "language_info": {
   "codemirror_mode": {
    "name": "ipython",
    "version": 3
   },
   "file_extension": ".py",
   "mimetype": "text/x-python",
   "name": "python",
   "nbconvert_exporter": "python",
   "pygments_lexer": "ipython3",
   "version": "3.12.1"
  }
 },
 "nbformat": 4,
 "nbformat_minor": 2
}
