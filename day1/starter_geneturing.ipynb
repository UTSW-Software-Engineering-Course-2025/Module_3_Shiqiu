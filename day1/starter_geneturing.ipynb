{
 "cells": [
  {
   "cell_type": "markdown",
   "id": "59a8b93f",
   "metadata": {
    "tags": [
     "skip"
    ]
   },
   "source": [
    "# Starter Notebook for GeneTuring Few-shot Evaluation"
   ]
  },
  {
   "cell_type": "markdown",
   "id": "7260d323",
   "metadata": {
    "tags": [
     "skip"
    ]
   },
   "source": [
    "Let's start of by implementing a basic harness to evaluate the Geneturing dataset using Ollama with a Few-Shot prompting strategy to evaluate the performance of these models before implementing the tool-using strategies outlined in the GeneGPT paper.\n",
    "\n",
    "As with most benchmarking code using pretrained models, our notebook will following typical outline of:\n",
    "\n",
    "1. **Imports**\n",
    "2. **Configuration**\n",
    "3. **Data Loading**\n",
    "4. **Model Specification**\n",
    "5. **Metrics**\n",
    "6. **Evaluation Loop**\n",
    "7. **Analysis**"
   ]
  },
  {
   "cell_type": "markdown",
   "id": "19ecb4f5",
   "metadata": {},
   "source": [
    "## 1. Imports"
   ]
  },
  {
   "cell_type": "markdown",
   "id": "6db83b1e",
   "metadata": {
    "tags": [
     "skip"
    ]
   },
   "source": [
    "Good hygiene for Jupyter notebooks includes placing all of the imports at the top of the notebook. This makes it easier to understand what dependencies are needed to run the notebook for new users and mirrors good practices for Python scripts."
   ]
  },
  {
   "cell_type": "code",
   "execution_count": null,
   "id": "2d92a833",
   "metadata": {},
   "outputs": [
    {
     "name": "stdout",
     "output_type": "stream",
     "text": [
      "Loaded API key: FJ5Gr...\n"
     ]
    }
   ],
   "source": [
    "from dotenv import load_dotenv\n",
    "import os\n",
    "os.environ[\"no_proxy\"] = \"*\"\n",
    "load_dotenv()\n",
    "\n",
    "AZURE_OPENAI_KEY = os.getenv(\"AZURE_OPENAI_KEY\")\n",
    "AZURE_OPENAI_ENDPOINT = os.getenv(\"AZURE_OPENAI_ENDPOINT\")\n",
    "AZURE_OPENAI_DEPLOYMENT_NAME = os.getenv(\"AZURE_OPENAI_DEPLOYMENT_NAME\")\n",
    "AZURE_OPENAI_API_VERSION = os.getenv(\"AZURE_OPENAI_API_VERSION\")\n",
    "\n",
    "print(\"Loaded API key:\", AZURE_OPENAI_KEY[:5] + \"...\" if AZURE_OPENAI_KEY else \"MISSING\")\n"
   ]
  },
  {
   "cell_type": "code",
   "execution_count": null,
   "id": "fb9107c5",
   "metadata": {},
   "outputs": [],
   "source": [
    "from typing import List, Dict, Optional\n",
    "\n",
    "from collections import defaultdict\n",
    "from dataclasses import dataclass\n"
   ]
  },
  {
   "cell_type": "markdown",
   "id": "26c15925",
   "metadata": {},
   "source": [
    "## 2. Configuration"
   ]
  },
  {
   "cell_type": "markdown",
   "id": "22cf9042",
   "metadata": {
    "tags": [
     "skip"
    ]
   },
   "source": [
    "Also, let's create a section that is specific to the configuration of the run. This will make it easier to change the configuration of the run without hunting for hard-coded values sprinkled throughout the code and makes it easier for others to understand the configuration of the run.\n",
    "\n",
    "We will leave it empty at the moment, but we will come back and fill it in as we identify global configuration options that we need to implement the code."
   ]
  },
  {
   "cell_type": "code",
   "execution_count": 3,
   "id": "71d543d4",
   "metadata": {},
   "outputs": [],
   "source": [
    "# 2.1 Data Configuration\n",
    "data_config = {\n",
    "    \"dataset_path\": \"/work/bioinformatics/s440708/MODULE_3_MATERIALS/data/geneturing.json\",  \n",
    "    \"output_path\": \"outputs/eval_outputs.json\",\n",
    "\n",
    "}\n"
   ]
  },
  {
   "cell_type": "code",
   "execution_count": 4,
   "id": "82e42308",
   "metadata": {},
   "outputs": [],
   "source": [
    "# 2.2 Model Configuration\n",
    "\n",
    "model_config = {           \n",
    "    \"model_name\": AZURE_OPENAI_DEPLOYMENT_NAME,         \n",
    "    'frequency_penalty': 0.0,\n",
    "    'presence_penalty': 0.0,\n",
    "    \"temperature\": 1.,\n",
    "    \"max_tokens\": 800,\n",
    "    \"top_p\": 1.0,\n",
    "    \n",
    "}\n"
   ]
  },
  {
   "cell_type": "code",
   "execution_count": 5,
   "id": "1ac0d904",
   "metadata": {},
   "outputs": [],
   "source": [
    "# 2.3 Evaluation and Logging Configuration\n",
    "\n",
    "\n"
   ]
  },
  {
   "cell_type": "markdown",
   "id": "c1904443",
   "metadata": {},
   "source": [
    "## 3. Data Loading"
   ]
  },
  {
   "cell_type": "markdown",
   "id": "f48d7a1f",
   "metadata": {
    "tags": [
     "skip"
    ]
   },
   "source": [
    "In this section we need to load the data that we will be using for our evaluation. \n",
    "\n",
    "The JSON file at `data/gene_turing.json` contains a dictionary of dictionaries. At the top level, the keys are the names of the tasks. Within each task, there are several key-value pairs where the keys are the questions and the values are the answers.\n",
    "\n",
    "Below is one example for each of the 9 tasks in the dataset:\n",
    "\n",
    "```json\n",
    "{\n",
    "    \"Gene alias\": {\n",
    "        \"What is the official gene symbol of LMP10?\": \"PSMB10\"\n",
    "    },\n",
    "    \"Gene disease association\": {\n",
    "        \"What are genes related to Hemolytic anemia due to phosphofructokinase deficiency?\": \"PFKL\"\n",
    "    },\n",
    "    \"Gene location\": {\n",
    "        \"Which chromosome is FAM66D gene located on human genome?\": \"chr8\"\n",
    "    },\n",
    "    \"Human genome DNA aligment\": {\n",
    "        \"Align the DNA sequence to the human genome:ATTCTGCCTTTAGTAATTTGATGACAGAGACTTCTTGGGAACCACAGCCAGGGAGCCACCCTTTACTCCACCAACAGGTGGCTTATATCCAATCTGAGAAAGAAAGAAAAAAAAAAAAGTATTTCTCT\": \"chr15:91950805-91950932\",\n",
    "    },\n",
    "    \"Multi-species DNA aligment\": {\n",
    "        \"Which organism does the DNA sequence come from:AGGGGCAGCAAACACCGGGACACACCCATTCGTGCACTAATCAGAAACTTTTTTTTCTCAAATAATTCAAACAATCAAAATTGGTTTTTTCGAGCAAGGTGGGAAATTTTTCGAT\": \"worm\",\n",
    "    },\n",
    "    \"Gene name conversion\": {\n",
    "        \"Convert ENSG00000215251 to official gene symbol.\": \"FASTKD5\",\n",
    "    },\n",
    "    \"Protein-coding genes\": {\n",
    "        \"Is ATP5F1EP2 a protein-coding gene?\": \"NA\",\n",
    "    },\n",
    "    \"Gene SNP association\": {\n",
    "        \"Which gene is SNP rs1217074595 associated with?\": \"LINC01270\",\n",
    "    },\n",
    "    \"SNP location\": {\n",
    "        \"Which chromosome does SNP rs1430464868 locate on human genome?\": \"chr13\",\n",
    "    }\n",
    "}\n",
    "```"
   ]
  },
  {
   "cell_type": "markdown",
   "id": "b61e217f",
   "metadata": {
    "tags": [
     "skip"
    ]
   },
   "source": [
    "\n",
    "We need to reformat this into a pandas dataframe with the following columns:\n",
    "- `id`: A serial ID number we will assign to each example (int)\n",
    "- `task`: The name of the task (str)\n",
    "- `question`: The question for the example (str)\n",
    "- `answer`: The answer for the example (str)\n",
    "\n",
    "The final dataframe we will create should look like this:\n",
    "\n",
    "| id | task | question | answer |\n",
    "|----|------|----------|--------|\n",
    "| 0 | Task1 | Question1 | Answer1 |\n",
    "| 1 | Task1 | Question2 | Answer2 |\n",
    "| 2 | Task2 | Question1 | Answer1 |\n",
    "| 3 | Task2 | Question2 | Answer2 |"
   ]
  },
  {
   "cell_type": "code",
   "execution_count": 6,
   "id": "2c2b9c4a",
   "metadata": {},
   "outputs": [
    {
     "name": "stdout",
     "output_type": "stream",
     "text": [
      "Loaded 450 examples from /work/bioinformatics/s440708/MODULE_3_MATERIALS/data/geneturing.json\n"
     ]
    }
   ],
   "source": [
    "# 3.1 Load the JSON file\n",
    "# Load the data here\n",
    "import json\n",
    "\n",
    "def load_geneturing(path: str) -> List[Dict[str, str]]:\n",
    "    with open(path, \"r\") as f:\n",
    "        raw_data = json.load(f)\n",
    "\n",
    "    flat_data = []\n",
    "    counter = 0\n",
    "    for task_name, qa_pairs in raw_data.items():\n",
    "        for question, answer in qa_pairs.items():\n",
    "            flat_data.append({\n",
    "                \"task\": task_name,\n",
    "                'id': counter,\n",
    "                \"question\": question,\n",
    "                \"answer\": answer\n",
    "            })\n",
    "            counter += 1\n",
    "    \n",
    "\n",
    "    return flat_data\n",
    "\n",
    "\n",
    "# config = Config()\n",
    "dataset = load_geneturing(data_config['dataset_path'])\n",
    "print(f\"Loaded {len(dataset)} examples from {data_config['dataset_path']}\")\n",
    "TASKS = set() "
   ]
  },
  {
   "cell_type": "code",
   "execution_count": 7,
   "id": "900886b4",
   "metadata": {},
   "outputs": [
    {
     "data": {
      "text/plain": [
       "[{'task': 'Gene alias',\n",
       "  'id': 0,\n",
       "  'question': 'What is the official gene symbol of LMP10?',\n",
       "  'answer': 'PSMB10'},\n",
       " {'task': 'Gene alias',\n",
       "  'id': 1,\n",
       "  'question': 'What is the official gene symbol of SNAT6?',\n",
       "  'answer': 'SLC38A6'},\n",
       " {'task': 'Gene alias',\n",
       "  'id': 2,\n",
       "  'question': 'What is the official gene symbol of IMD20?',\n",
       "  'answer': 'FCGR3A'},\n",
       " {'task': 'Gene alias',\n",
       "  'id': 3,\n",
       "  'question': 'What is the official gene symbol of C20orf195?',\n",
       "  'answer': 'FNDC11'},\n",
       " {'task': 'Gene alias',\n",
       "  'id': 4,\n",
       "  'question': 'What is the official gene symbol of CXorf40B?',\n",
       "  'answer': 'EOLA2'},\n",
       " {'task': 'Gene alias',\n",
       "  'id': 5,\n",
       "  'question': 'What is the official gene symbol of QSCN6L1?',\n",
       "  'answer': 'QSOX2'},\n",
       " {'task': 'Gene alias',\n",
       "  'id': 6,\n",
       "  'question': 'What is the official gene symbol of OR11-86?',\n",
       "  'answer': 'OR10A2'},\n",
       " {'task': 'Gene alias',\n",
       "  'id': 7,\n",
       "  'question': 'What is the official gene symbol of NPAP60L?',\n",
       "  'answer': 'NUP50'},\n",
       " {'task': 'Gene alias',\n",
       "  'id': 8,\n",
       "  'question': 'What is the official gene symbol of AF10?',\n",
       "  'answer': 'MLLT10'},\n",
       " {'task': 'Gene alias',\n",
       "  'id': 9,\n",
       "  'question': 'What is the official gene symbol of bMRP63?',\n",
       "  'answer': 'MRPL57'},\n",
       " {'task': 'Gene alias',\n",
       "  'id': 10,\n",
       "  'question': 'What is the official gene symbol of HsT1192?',\n",
       "  'answer': 'SYT4'},\n",
       " {'task': 'Gene alias',\n",
       "  'id': 11,\n",
       "  'question': 'What is the official gene symbol of ZNF482?',\n",
       "  'answer': 'ZBTB6'},\n",
       " {'task': 'Gene alias',\n",
       "  'id': 12,\n",
       "  'question': 'What is the official gene symbol of PTH1?',\n",
       "  'answer': 'PTH'},\n",
       " {'task': 'Gene alias',\n",
       "  'id': 13,\n",
       "  'question': 'What is the official gene symbol of AGTIL?',\n",
       "  'answer': 'ASIP'},\n",
       " {'task': 'Gene alias',\n",
       "  'id': 14,\n",
       "  'question': 'What is the official gene symbol of LEP9?',\n",
       "  'answer': 'LCE2A'},\n",
       " {'task': 'Gene alias',\n",
       "  'id': 15,\n",
       "  'question': 'What is the official gene symbol of SEP3?',\n",
       "  'answer': 'SEPTIN3'},\n",
       " {'task': 'Gene alias',\n",
       "  'id': 16,\n",
       "  'question': 'What is the official gene symbol of FFDD3?',\n",
       "  'answer': 'TWIST2'},\n",
       " {'task': 'Gene alias',\n",
       "  'id': 17,\n",
       "  'question': 'What is the official gene symbol of C6orf186?',\n",
       "  'answer': 'METTL24'},\n",
       " {'task': 'Gene alias',\n",
       "  'id': 18,\n",
       "  'question': 'What is the official gene symbol of hCAP?',\n",
       "  'answer': 'RNGTT'},\n",
       " {'task': 'Gene alias',\n",
       "  'id': 19,\n",
       "  'question': 'What is the official gene symbol of CKBBP1?',\n",
       "  'answer': 'RNF7'},\n",
       " {'task': 'Gene alias',\n",
       "  'id': 20,\n",
       "  'question': 'What is the official gene symbol of TFA?',\n",
       "  'answer': 'F3'},\n",
       " {'task': 'Gene alias',\n",
       "  'id': 21,\n",
       "  'question': 'What is the official gene symbol of BMSC-MCP?',\n",
       "  'answer': 'SLC25A33'},\n",
       " {'task': 'Gene alias',\n",
       "  'id': 22,\n",
       "  'question': 'What is the official gene symbol of PCH3?',\n",
       "  'answer': 'PCLO'},\n",
       " {'task': 'Gene alias',\n",
       "  'id': 23,\n",
       "  'question': 'What is the official gene symbol of OR11-75?',\n",
       "  'answer': 'OR56A1'},\n",
       " {'task': 'Gene alias',\n",
       "  'id': 24,\n",
       "  'question': 'What is the official gene symbol of RBAP1?',\n",
       "  'answer': 'E2F1'},\n",
       " {'task': 'Gene alias',\n",
       "  'id': 25,\n",
       "  'question': 'What is the official gene symbol of DCSCRIPT?',\n",
       "  'answer': 'ZNF366'},\n",
       " {'task': 'Gene alias',\n",
       "  'id': 26,\n",
       "  'question': 'What is the official gene symbol of 15-LOX?',\n",
       "  'answer': 'ALOX15'},\n",
       " {'task': 'Gene alias',\n",
       "  'id': 27,\n",
       "  'question': 'What is the official gene symbol of CT116?',\n",
       "  'answer': 'LYPD6B'},\n",
       " {'task': 'Gene alias',\n",
       "  'id': 28,\n",
       "  'question': 'What is the official gene symbol of PKCL?',\n",
       "  'answer': 'PRKCH'},\n",
       " {'task': 'Gene alias',\n",
       "  'id': 29,\n",
       "  'question': 'What is the official gene symbol of SGEF?',\n",
       "  'answer': 'ARHGEF26'},\n",
       " {'task': 'Gene alias',\n",
       "  'id': 30,\n",
       "  'question': 'What is the official gene symbol of CTGLF6?',\n",
       "  'answer': 'AGAP9'},\n",
       " {'task': 'Gene alias',\n",
       "  'id': 31,\n",
       "  'question': 'What is the official gene symbol of FAP9?',\n",
       "  'answer': 'IFT22'},\n",
       " {'task': 'Gene alias',\n",
       "  'id': 32,\n",
       "  'question': 'What is the official gene symbol of MPS4B?',\n",
       "  'answer': 'GLB1'},\n",
       " {'task': 'Gene alias',\n",
       "  'id': 33,\n",
       "  'question': 'What is the official gene symbol of LSDMCA2?',\n",
       "  'answer': 'COX7B'},\n",
       " {'task': 'Gene alias',\n",
       "  'id': 34,\n",
       "  'question': 'What is the official gene symbol of PLK-5?',\n",
       "  'answer': 'PLK5'},\n",
       " {'task': 'Gene alias',\n",
       "  'id': 35,\n",
       "  'question': 'What is the official gene symbol of C20orf86?',\n",
       "  'answer': 'ANKRD60'},\n",
       " {'task': 'Gene alias',\n",
       "  'id': 36,\n",
       "  'question': 'What is the official gene symbol of GalNAc-T4?',\n",
       "  'answer': 'POC1B-GALNT4'},\n",
       " {'task': 'Gene alias',\n",
       "  'id': 37,\n",
       "  'question': 'What is the official gene symbol of NEDCHS?',\n",
       "  'answer': 'INTS8'},\n",
       " {'task': 'Gene alias',\n",
       "  'id': 38,\n",
       "  'question': 'What is the official gene symbol of PCPB?',\n",
       "  'answer': 'CPB2'},\n",
       " {'task': 'Gene alias',\n",
       "  'id': 39,\n",
       "  'question': 'What is the official gene symbol of PFDN3?',\n",
       "  'answer': 'VBP1'},\n",
       " {'task': 'Gene alias',\n",
       "  'id': 40,\n",
       "  'question': 'What is the official gene symbol of TSH2B?',\n",
       "  'answer': 'H2BC1'},\n",
       " {'task': 'Gene alias',\n",
       "  'id': 41,\n",
       "  'question': 'What is the official gene symbol of RSG1?',\n",
       "  'answer': 'CPLANE2'},\n",
       " {'task': 'Gene alias',\n",
       "  'id': 42,\n",
       "  'question': 'What is the official gene symbol of M12.219?',\n",
       "  'answer': 'ADAMDEC1'},\n",
       " {'task': 'Gene alias',\n",
       "  'id': 43,\n",
       "  'question': 'What is the official gene symbol of beta3Gn-T8?',\n",
       "  'answer': 'B3GNT8'},\n",
       " {'task': 'Gene alias',\n",
       "  'id': 44,\n",
       "  'question': 'What is the official gene symbol of ASV?',\n",
       "  'answer': 'SRC'},\n",
       " {'task': 'Gene alias',\n",
       "  'id': 45,\n",
       "  'question': 'What is the official gene symbol of C11orf27?',\n",
       "  'answer': 'UBTFL1'},\n",
       " {'task': 'Gene alias',\n",
       "  'id': 46,\n",
       "  'question': 'What is the official gene symbol of GCS1?',\n",
       "  'answer': 'MOGS'},\n",
       " {'task': 'Gene alias',\n",
       "  'id': 47,\n",
       "  'question': 'What is the official gene symbol of FAM214B?',\n",
       "  'answer': 'ATOSB'},\n",
       " {'task': 'Gene alias',\n",
       "  'id': 48,\n",
       "  'question': 'What is the official gene symbol of CTTNBP1?',\n",
       "  'answer': 'SHANK2'},\n",
       " {'task': 'Gene alias',\n",
       "  'id': 49,\n",
       "  'question': 'What is the official gene symbol of PTP-SL?',\n",
       "  'answer': 'PTPRR'},\n",
       " {'task': 'Gene disease association',\n",
       "  'id': 50,\n",
       "  'question': 'What are genes related to Hemolytic anemia due to phosphofructokinase deficiency?',\n",
       "  'answer': 'PFKL'},\n",
       " {'task': 'Gene disease association',\n",
       "  'id': 51,\n",
       "  'question': 'What are genes related to Distal renal tubular acidosis?',\n",
       "  'answer': 'SLC4A1, ATP6V0A4'},\n",
       " {'task': 'Gene disease association',\n",
       "  'id': 52,\n",
       "  'question': 'What are genes related to Pseudohypoparathyroidism Ic?',\n",
       "  'answer': 'GNAS'},\n",
       " {'task': 'Gene disease association',\n",
       "  'id': 53,\n",
       "  'question': 'What are genes related to Glycine N-methyltransferase deficiency?',\n",
       "  'answer': 'GNMT'},\n",
       " {'task': 'Gene disease association',\n",
       "  'id': 54,\n",
       "  'question': 'What are genes related to Meesmann corneal dystrophy?',\n",
       "  'answer': 'KRT12, KRT3'},\n",
       " {'task': 'Gene disease association',\n",
       "  'id': 55,\n",
       "  'question': 'What are genes related to Chronic atrial and intestinal dysrhythmia?',\n",
       "  'answer': 'SGO1'},\n",
       " {'task': 'Gene disease association',\n",
       "  'id': 56,\n",
       "  'question': 'What are genes related to Sensorineural deafness with mild renal dysfunction?',\n",
       "  'answer': 'BSND'},\n",
       " {'task': 'Gene disease association',\n",
       "  'id': 57,\n",
       "  'question': 'What are genes related to Bile acid malabsorption?',\n",
       "  'answer': 'SLC10A2, SLC51B'},\n",
       " {'task': 'Gene disease association',\n",
       "  'id': 58,\n",
       "  'question': 'What are genes related to Immunodeficiency due to defect in MAPBP-interacting protein?',\n",
       "  'answer': 'LAMTOR2'},\n",
       " {'task': 'Gene disease association',\n",
       "  'id': 59,\n",
       "  'question': 'What are genes related to Currarino syndrome?',\n",
       "  'answer': 'MNX1'},\n",
       " {'task': 'Gene disease association',\n",
       "  'id': 60,\n",
       "  'question': 'What are genes related to Intervertebral disc disease?',\n",
       "  'answer': 'COL9A3'},\n",
       " {'task': 'Gene disease association',\n",
       "  'id': 61,\n",
       "  'question': 'What are genes related to Otofaciocervical syndrome?',\n",
       "  'answer': 'EYA1, PAX1'},\n",
       " {'task': 'Gene disease association',\n",
       "  'id': 62,\n",
       "  'question': 'What are genes related to Brody myopathy?',\n",
       "  'answer': 'ATP2A1'},\n",
       " {'task': 'Gene disease association',\n",
       "  'id': 63,\n",
       "  'question': 'What are genes related to Neurodevelopmental disorder with gait disturbance?',\n",
       "  'answer': 'TCEAL1'},\n",
       " {'task': 'Gene disease association',\n",
       "  'id': 64,\n",
       "  'question': 'What are genes related to Mitochondrial DNA depletion syndrome 4A Alpers type?',\n",
       "  'answer': 'POLG'},\n",
       " {'task': 'Gene disease association',\n",
       "  'id': 65,\n",
       "  'question': 'What are genes related to Nephropathy due to CFHR5 deficiency?',\n",
       "  'answer': 'CFHR5'},\n",
       " {'task': 'Gene disease association',\n",
       "  'id': 66,\n",
       "  'question': 'What are genes related to Achromatopsia?',\n",
       "  'answer': 'CNGA3, CNGB3, GNAT2, PDE6H, ATF6'},\n",
       " {'task': 'Gene disease association',\n",
       "  'id': 67,\n",
       "  'question': 'What are genes related to Hyperphenylalaninemia?',\n",
       "  'answer': 'PTS, GCH1, QDPR, PCBD1, DNAJC12, PAH'},\n",
       " {'task': 'Gene disease association',\n",
       "  'id': 68,\n",
       "  'question': 'What are genes related to EDICT syndrome?',\n",
       "  'answer': 'MIR184'},\n",
       " {'task': 'Gene disease association',\n",
       "  'id': 69,\n",
       "  'question': 'What are genes related to Gastrointestinal defects and immunodeficiency syndrome?',\n",
       "  'answer': 'PI4KA, TTC7A'},\n",
       " {'task': 'Gene disease association',\n",
       "  'id': 70,\n",
       "  'question': 'What are genes related to Cleft palate with ankyloglossia?',\n",
       "  'answer': 'TBX22'},\n",
       " {'task': 'Gene disease association',\n",
       "  'id': 71,\n",
       "  'question': 'What are genes related to Neurodevelopmental disorder with nonspecific brain abnormalities and with or without seizures?',\n",
       "  'answer': 'DLL1'},\n",
       " {'task': 'Gene disease association',\n",
       "  'id': 72,\n",
       "  'question': 'What are genes related to Spondylocarpotarsal synostosis syndrome?',\n",
       "  'answer': 'FLNB'},\n",
       " {'task': 'Gene disease association',\n",
       "  'id': 73,\n",
       "  'question': 'What are genes related to Haim-Munk syndrome?',\n",
       "  'answer': 'CTSC'},\n",
       " {'task': 'Gene disease association',\n",
       "  'id': 74,\n",
       "  'question': 'What are genes related to Sialidosis?',\n",
       "  'answer': 'NEU1'},\n",
       " {'task': 'Gene disease association',\n",
       "  'id': 75,\n",
       "  'question': 'What are genes related to Siddiqi syndrome?',\n",
       "  'answer': 'FITM2'},\n",
       " {'task': 'Gene disease association',\n",
       "  'id': 76,\n",
       "  'question': 'What are genes related to Corneal fleck dystrophy?',\n",
       "  'answer': 'PIKFYVE'},\n",
       " {'task': 'Gene disease association',\n",
       "  'id': 77,\n",
       "  'question': 'What are genes related to Liver failure?',\n",
       "  'answer': 'TRMU'},\n",
       " {'task': 'Gene disease association',\n",
       "  'id': 78,\n",
       "  'question': 'What are genes related to Proteasome-associated autoinflammatory syndrome?',\n",
       "  'answer': 'PSMB9, PSMG2, POMP, PSMB10'},\n",
       " {'task': 'Gene disease association',\n",
       "  'id': 79,\n",
       "  'question': 'What are genes related to Orofaciodigital syndrome XIV?',\n",
       "  'answer': 'C2CD3'},\n",
       " {'task': 'Gene disease association',\n",
       "  'id': 80,\n",
       "  'question': 'What are genes related to Trichoepithelioma?',\n",
       "  'answer': 'CYLD'},\n",
       " {'task': 'Gene disease association',\n",
       "  'id': 81,\n",
       "  'question': 'What are genes related to Medullary thyroid carcinoma?',\n",
       "  'answer': 'RET'},\n",
       " {'task': 'Gene disease association',\n",
       "  'id': 82,\n",
       "  'question': 'What are genes related to Type diabetes mellitus?',\n",
       "  'answer': 'HNF1B, IL6, GPD2, HMGA1, IRS1, NEUROD1, IL6'},\n",
       " {'task': 'Gene disease association',\n",
       "  'id': 83,\n",
       "  'question': 'What are genes related to Buschke-Ollendorff syndrome?',\n",
       "  'answer': 'LEMD3'},\n",
       " {'task': 'Gene disease association',\n",
       "  'id': 84,\n",
       "  'question': 'What are genes related to Vascular malformation?',\n",
       "  'answer': 'ELMO2'},\n",
       " {'task': 'Gene disease association',\n",
       "  'id': 85,\n",
       "  'question': 'What are genes related to Acrocallosal syndrome?',\n",
       "  'answer': 'KIF7'},\n",
       " {'task': 'Gene disease association',\n",
       "  'id': 86,\n",
       "  'question': 'What are genes related to Congenital disorder of deglycosylation?',\n",
       "  'answer': 'NGLY1, MAN2C1'},\n",
       " {'task': 'Gene disease association',\n",
       "  'id': 87,\n",
       "  'question': 'What are genes related to Spinal muscular atrophy with congenital bone fractures?',\n",
       "  'answer': 'TRIP4, ASCC1'},\n",
       " {'task': 'Gene disease association',\n",
       "  'id': 88,\n",
       "  'question': 'What are genes related to B-cell immunodeficiency?',\n",
       "  'answer': 'TOP2B'},\n",
       " {'task': 'Gene disease association',\n",
       "  'id': 89,\n",
       "  'question': 'What are genes related to Immunodeficiency with inflammatory disease and congenital thrombocytopenia?',\n",
       "  'answer': 'ARPC1B'},\n",
       " {'task': 'Gene disease association',\n",
       "  'id': 90,\n",
       "  'question': 'What are genes related to Split-foot malformation with mesoaxial polydactyly?',\n",
       "  'answer': 'MAP3K20'},\n",
       " {'task': 'Gene disease association',\n",
       "  'id': 91,\n",
       "  'question': 'What are genes related to Pigmented nodular adrenocortical disease?',\n",
       "  'answer': 'PRKAR1A, PDE11A, PDE8B'},\n",
       " {'task': 'Gene disease association',\n",
       "  'id': 92,\n",
       "  'question': 'What are genes related to Superoxide dismutase?',\n",
       "  'answer': 'SOD3'},\n",
       " {'task': 'Gene disease association',\n",
       "  'id': 93,\n",
       "  'question': 'What are genes related to Leukoencephalopathy with dystonia and motor neuropathy?',\n",
       "  'answer': 'SCP2'},\n",
       " {'task': 'Gene disease association',\n",
       "  'id': 94,\n",
       "  'question': 'What are genes related to Intracranial hemorrhage in brain cerebrovascular malformations?',\n",
       "  'answer': 'IL6'},\n",
       " {'task': 'Gene disease association',\n",
       "  'id': 95,\n",
       "  'question': 'What are genes related to Multiple system atrophy?',\n",
       "  'answer': 'COQ2'},\n",
       " {'task': 'Gene disease association',\n",
       "  'id': 96,\n",
       "  'question': 'What are genes related to Cone dystrophy?',\n",
       "  'answer': 'PDE6C, GUCA1A'},\n",
       " {'task': 'Gene disease association',\n",
       "  'id': 97,\n",
       "  'question': 'What are genes related to Holt-Oram syndrome?',\n",
       "  'answer': 'TBX5'},\n",
       " {'task': 'Gene disease association',\n",
       "  'id': 98,\n",
       "  'question': 'What are genes related to Lichtenstein-Knorr syndrome?',\n",
       "  'answer': 'SLC9A1'},\n",
       " {'task': 'Gene disease association',\n",
       "  'id': 99,\n",
       "  'question': 'What are genes related to Ablepharon-macrostomia syndrome?',\n",
       "  'answer': 'TWIST2'},\n",
       " {'task': 'Gene location',\n",
       "  'id': 100,\n",
       "  'question': 'Which chromosome is FAM66D gene located on human genome?',\n",
       "  'answer': 'chr8'},\n",
       " {'task': 'Gene location',\n",
       "  'id': 101,\n",
       "  'question': 'Which chromosome is TTTY7 gene located on human genome?',\n",
       "  'answer': 'chrY'},\n",
       " {'task': 'Gene location',\n",
       "  'id': 102,\n",
       "  'question': 'Which chromosome is LA16c-329F2.2 gene located on human genome?',\n",
       "  'answer': 'chr16'},\n",
       " {'task': 'Gene location',\n",
       "  'id': 103,\n",
       "  'question': 'Which chromosome is RGS16 gene located on human genome?',\n",
       "  'answer': 'chr1'},\n",
       " {'task': 'Gene location',\n",
       "  'id': 104,\n",
       "  'question': 'Which chromosome is FOXL2NB gene located on human genome?',\n",
       "  'answer': 'chr3'},\n",
       " {'task': 'Gene location',\n",
       "  'id': 105,\n",
       "  'question': 'Which chromosome is RP11-17A4.3 gene located on human genome?',\n",
       "  'answer': 'chr8'},\n",
       " {'task': 'Gene location',\n",
       "  'id': 106,\n",
       "  'question': 'Which chromosome is EML3 gene located on human genome?',\n",
       "  'answer': 'chr11'},\n",
       " {'task': 'Gene location',\n",
       "  'id': 107,\n",
       "  'question': 'Which chromosome is LPAR2 gene located on human genome?',\n",
       "  'answer': 'chr19'},\n",
       " {'task': 'Gene location',\n",
       "  'id': 108,\n",
       "  'question': 'Which chromosome is ENSG10010137169.1 gene located on human genome?',\n",
       "  'answer': 'chr4'},\n",
       " {'task': 'Gene location',\n",
       "  'id': 109,\n",
       "  'question': 'Which chromosome is AC018712.2 gene located on human genome?',\n",
       "  'answer': 'chr2'},\n",
       " {'task': 'Gene location',\n",
       "  'id': 110,\n",
       "  'question': 'Which chromosome is RRS1 gene located on human genome?',\n",
       "  'answer': 'chr8'},\n",
       " {'task': 'Gene location',\n",
       "  'id': 111,\n",
       "  'question': 'Which chromosome is LINC02599 gene located on human genome?',\n",
       "  'answer': 'chr8'},\n",
       " {'task': 'Gene location',\n",
       "  'id': 112,\n",
       "  'question': 'Which chromosome is ZNF117 gene located on human genome?',\n",
       "  'answer': 'chr7'},\n",
       " {'task': 'Gene location',\n",
       "  'id': 113,\n",
       "  'question': 'Which chromosome is RP11-829H16.3 gene located on human genome?',\n",
       "  'answer': 'chr14'},\n",
       " {'task': 'Gene location',\n",
       "  'id': 114,\n",
       "  'question': 'Which chromosome is RN7SKP265 gene located on human genome?',\n",
       "  'answer': 'chr3'},\n",
       " {'task': 'Gene location',\n",
       "  'id': 115,\n",
       "  'question': 'Which chromosome is RP11-1102P22.1 gene located on human genome?',\n",
       "  'answer': 'chr16'},\n",
       " {'task': 'Gene location',\n",
       "  'id': 116,\n",
       "  'question': 'Which chromosome is AC018892.8 gene located on human genome?',\n",
       "  'answer': 'chr2'},\n",
       " {'task': 'Gene location',\n",
       "  'id': 117,\n",
       "  'question': 'Which chromosome is RP11-255A11.4 gene located on human genome?',\n",
       "  'answer': 'chr9'},\n",
       " {'task': 'Gene location',\n",
       "  'id': 118,\n",
       "  'question': 'Which chromosome is NPTN gene located on human genome?',\n",
       "  'answer': 'chr15'},\n",
       " {'task': 'Gene location',\n",
       "  'id': 119,\n",
       "  'question': 'Which chromosome is RP11-123M21.2 gene located on human genome?',\n",
       "  'answer': 'chr12'},\n",
       " {'task': 'Gene location',\n",
       "  'id': 120,\n",
       "  'question': 'Which chromosome is ZNF574 gene located on human genome?',\n",
       "  'answer': 'chr19'},\n",
       " {'task': 'Gene location',\n",
       "  'id': 121,\n",
       "  'question': 'Which chromosome is RNU6-1143P gene located on human genome?',\n",
       "  'answer': 'chr11'},\n",
       " {'task': 'Gene location',\n",
       "  'id': 122,\n",
       "  'question': 'Which chromosome is RP11-303E16.8 gene located on human genome?',\n",
       "  'answer': 'chr16'},\n",
       " {'task': 'Gene location',\n",
       "  'id': 123,\n",
       "  'question': 'Which chromosome is SCO2 gene located on human genome?',\n",
       "  'answer': 'chr22'},\n",
       " {'task': 'Gene location',\n",
       "  'id': 124,\n",
       "  'question': 'Which chromosome is ERCC8 gene located on human genome?',\n",
       "  'answer': 'chr5'},\n",
       " {'task': 'Gene location',\n",
       "  'id': 125,\n",
       "  'question': 'Which chromosome is ENSG10010137820.1 gene located on human genome?',\n",
       "  'answer': 'chr2'},\n",
       " {'task': 'Gene location',\n",
       "  'id': 126,\n",
       "  'question': 'Which chromosome is RP11-215H18.5 gene located on human genome?',\n",
       "  'answer': 'chr11'},\n",
       " {'task': 'Gene location',\n",
       "  'id': 127,\n",
       "  'question': 'Which chromosome is RPS26P3 gene located on human genome?',\n",
       "  'answer': 'chr9'},\n",
       " {'task': 'Gene location',\n",
       "  'id': 128,\n",
       "  'question': 'Which chromosome is RN7SL465P gene located on human genome?',\n",
       "  'answer': 'chr6'},\n",
       " {'task': 'Gene location',\n",
       "  'id': 129,\n",
       "  'question': 'Which chromosome is TRGC2 gene located on human genome?',\n",
       "  'answer': 'chr7'},\n",
       " {'task': 'Gene location',\n",
       "  'id': 130,\n",
       "  'question': 'Which chromosome is RN7SL689P gene located on human genome?',\n",
       "  'answer': 'chr5'},\n",
       " {'task': 'Gene location',\n",
       "  'id': 131,\n",
       "  'question': 'Which chromosome is CTB-180A7.6 gene located on human genome?',\n",
       "  'answer': 'chr19'},\n",
       " {'task': 'Gene location',\n",
       "  'id': 132,\n",
       "  'question': 'Which chromosome is MTND2P25 gene located on human genome?',\n",
       "  'answer': 'chrX'},\n",
       " {'task': 'Gene location',\n",
       "  'id': 133,\n",
       "  'question': 'Which chromosome is MTND6P21 gene located on human genome?',\n",
       "  'answer': 'chr21'},\n",
       " {'task': 'Gene location',\n",
       "  'id': 134,\n",
       "  'question': 'Which chromosome is UBE2D4 gene located on human genome?',\n",
       "  'answer': 'chr7'},\n",
       " {'task': 'Gene location',\n",
       "  'id': 135,\n",
       "  'question': 'Which chromosome is SRD5A1P1 gene located on human genome?',\n",
       "  'answer': 'chrX'},\n",
       " {'task': 'Gene location',\n",
       "  'id': 136,\n",
       "  'question': 'Which chromosome is CTD-2272D18.2 gene located on human genome?',\n",
       "  'answer': 'chr8'},\n",
       " {'task': 'Gene location',\n",
       "  'id': 137,\n",
       "  'question': 'Which chromosome is SNORD4B gene located on human genome?',\n",
       "  'answer': 'chr17'},\n",
       " {'task': 'Gene location',\n",
       "  'id': 138,\n",
       "  'question': 'Which chromosome is AC006042.8 gene located on human genome?',\n",
       "  'answer': 'chr7'},\n",
       " {'task': 'Gene location',\n",
       "  'id': 139,\n",
       "  'question': 'Which chromosome is SLAIN2 gene located on human genome?',\n",
       "  'answer': 'chr4'},\n",
       " {'task': 'Gene location',\n",
       "  'id': 140,\n",
       "  'question': 'Which chromosome is RP11-173H9.2 gene located on human genome?',\n",
       "  'answer': 'chr2'},\n",
       " {'task': 'Gene location',\n",
       "  'id': 141,\n",
       "  'question': 'Which chromosome is AC093802.1 gene located on human genome?',\n",
       "  'answer': 'chr2'},\n",
       " {'task': 'Gene location',\n",
       "  'id': 142,\n",
       "  'question': 'Which chromosome is RP4-612B18.1 gene located on human genome?',\n",
       "  'answer': 'chr1'},\n",
       " {'task': 'Gene location',\n",
       "  'id': 143,\n",
       "  'question': 'Which chromosome is AKIRIN1P2 gene located on human genome?',\n",
       "  'answer': 'chrX'},\n",
       " {'task': 'Gene location',\n",
       "  'id': 144,\n",
       "  'question': 'Which chromosome is SIGLEC19P gene located on human genome?',\n",
       "  'answer': 'chr19'},\n",
       " {'task': 'Gene location',\n",
       "  'id': 145,\n",
       "  'question': 'Which chromosome is RP11-179D22.1 gene located on human genome?',\n",
       "  'answer': 'chr9'},\n",
       " {'task': 'Gene location',\n",
       "  'id': 146,\n",
       "  'question': 'Which chromosome is RPS3AP46 gene located on human genome?',\n",
       "  'answer': 'chr14'},\n",
       " {'task': 'Gene location',\n",
       "  'id': 147,\n",
       "  'question': 'Which chromosome is IFRD1 gene located on human genome?',\n",
       "  'answer': 'chr7'},\n",
       " {'task': 'Gene location',\n",
       "  'id': 148,\n",
       "  'question': 'Which chromosome is RP11-1299A16.3 gene located on human genome?',\n",
       "  'answer': 'chr4'},\n",
       " {'task': 'Gene location',\n",
       "  'id': 149,\n",
       "  'question': 'Which chromosome is OR51H2P gene located on human genome?',\n",
       "  'answer': 'chr11'},\n",
       " {'task': 'Human genome DNA aligment',\n",
       "  'id': 150,\n",
       "  'question': 'Align the DNA sequence to the human genome:ATTCTGCCTTTAGTAATTTGATGACAGAGACTTCTTGGGAACCACAGCCAGGGAGCCACCCTTTACTCCACCAACAGGTGGCTTATATCCAATCTGAGAAAGAAAGAAAAAAAAAAAAGTATTTCTCT',\n",
       "  'answer': 'chr15:91950805-91950932'},\n",
       " {'task': 'Human genome DNA aligment',\n",
       "  'id': 151,\n",
       "  'question': 'Align the DNA sequence to the human genome:GGACAGCTGAGATCACATCAAGGATTCCAGAAAGAATTGGCACAGGATCATTCAAGATGCATCTCTCCGTTGCCCCTGTTCCTGGCTTTCCTTCAACTTCCTCAAAGGGGACATCATTTCGGAGTTTGGCTTCCA',\n",
       "  'answer': 'chr8:7081648-7081782'},\n",
       " {'task': 'Human genome DNA aligment',\n",
       "  'id': 152,\n",
       "  'question': 'Align the DNA sequence to the human genome:AAACGATGTCTTCATTGCCTGGAAATGATGGCGCCCTTGTTCTTTATCCAAAGACTGATGGGGGAAAGAGTAATTCATTTAATAACATGGGGTCCTCATTACAGACTGGCCACCAATATAAAGCTTCGAATTTTTT',\n",
       "  'answer': 'chr10:7531973-7532108'},\n",
       " {'task': 'Human genome DNA aligment',\n",
       "  'id': 153,\n",
       "  'question': 'Align the DNA sequence to the human genome:AGGCCCTCACCTGGAAATTACTTACTCATGCTTCATGACCCAGTTCAAATTTTGTCACCTCTGTGAAACCTTCCCTGGGCCCCGTTGATCTCCTTGAAGGCA',\n",
       "  'answer': 'chr7:71368450-71368551'},\n",
       " {'task': 'Human genome DNA aligment',\n",
       "  'id': 154,\n",
       "  'question': 'Align the DNA sequence to the human genome:ATTAAACGCCCCTTAAATTACCCAGCTGTGGCAATCTGCTTCCTTGTGATACCCTGACTGATACGAATTATAAAGTAAATCCTGTGATACTCCCCCTCACCTCAAGCCCATGTTCCTGTAAGGTACAGAGTCATAGA',\n",
       "  'answer': 'chr17:30085086-30085222'},\n",
       " {'task': 'Human genome DNA aligment',\n",
       "  'id': 155,\n",
       "  'question': 'Align the DNA sequence to the human genome:TTTTTTGAGACGTTGTCTCACCCTGTCGCCCAGGCTGGAGTGCAGTGGTGCAGTCTTGGCTCACTGCAATCCCCACGTCCCAGGTTCAAACGATTCTCCTGCCTCAGTCTCCCAAGCAGCTGGGATTACAGGTGCCT',\n",
       "  'answer': 'chr6:25897419-25897555'},\n",
       " {'task': 'Human genome DNA aligment',\n",
       "  'id': 156,\n",
       "  'question': 'Align the DNA sequence to the human genome:CCTTAGCTTTGTCATATTAGAGGGCTGGGAGGGCCTGATCCCCTGGAACCTGCCTTTCCAACCTGATTTCCCATACTTCTTCCCATAAGCCAGATCCCATGATTTCTCTCATTTCTCCAAACAGGCCTCTTGATTTTCCACCTTGGAACT',\n",
       "  'answer': 'chr22:30683180-30683329'},\n",
       " {'task': 'Human genome DNA aligment',\n",
       "  'id': 157,\n",
       "  'question': 'Align the DNA sequence to the human genome:CTTCATACAAAACGAAGAGTTAAGACCTACCGGTTTTCCAAAGCCTCCCTATGAAAAACAGTATTTCTCTTAGTGGCAGGTTTGAGGTATGAGAGTCATTATTACACCTGTGAGCTGGCC',\n",
       "  'answer': 'chr21:7642925-7643044'},\n",
       " {'task': 'Human genome DNA aligment',\n",
       "  'id': 158,\n",
       "  'question': 'Align the DNA sequence to the human genome:TTGTCAATTTAACTCACAGAGAAAAATTTTAAAATTTGCAGCCTAATTTCTTCATTGACCCAGTGATCATTCAGGAAAATAATGCTTAATTTCTATGTATT',\n",
       "  'answer': 'chr21:18084464-18084564'},\n",
       " {'task': 'Human genome DNA aligment',\n",
       "  'id': 159,\n",
       "  'question': 'Align the DNA sequence to the human genome:AACATTAACTTATTTTACCCTCATGATACTTCATTGGGGTAAGTAATGTTAATATTCCTAATTGAAAGATGAGAAACTGGAAGATCAGAAGACTAAGTAATTTTTCCAAGA',\n",
       "  'answer': 'chr18:41101663-41101773'},\n",
       " {'task': 'Human genome DNA aligment',\n",
       "  'id': 160,\n",
       "  'question': 'Align the DNA sequence to the human genome:TGAGAGCACAGTGGTGAGGAGGACCCACATGCCTCCTATCCTTCATAGGAGGAGAAAGGCACAAACCAGAAAACCCCCCCAACACACACACACATACACAT',\n",
       "  'answer': 'chr1:234883857-234883957'},\n",
       " {'task': 'Human genome DNA aligment',\n",
       "  'id': 161,\n",
       "  'question': 'Align the DNA sequence to the human genome:CTACAAAATGGGCATATTACTCACCTCGTAGGTTATTAATAGATGAGTTAATAAGTGTAAAATACTTAGAACAGTGCATAGCCAGCAGGGCATGGTGGCTCACACCTGT',\n",
       "  'answer': 'chr10:96583669-96583777'},\n",
       " {'task': 'Human genome DNA aligment',\n",
       "  'id': 162,\n",
       "  'question': 'Align the DNA sequence to the human genome:AACAAACAAACAAAAAAACTGTAAGCCAAAATTTTATATCCTGCCAGAATAAGCTTAATAAATAAAAGAGATATAAAAAATTTCCCAGATAAGCAAACAACGCGGGACTCAGTAGTGAAAAAAAGTAGAAAGATCACAAATTAA',\n",
       "  'answer': 'chr7:124923900-124924043'},\n",
       " {'task': 'Human genome DNA aligment',\n",
       "  'id': 163,\n",
       "  'question': 'Align the DNA sequence to the human genome:TACAGATAATGCTAATATCAGAGTTACCAGAAATAAAGATAATATTTTGATCACCATATGCCAACTCCTCCTGCCCCCACCCTTCTTTCTCTACTGATTCAAGAATCTGGTGAAGAAACTAGGGCTAGAGAAATGGAAT',\n",
       "  'answer': 'chr14:65272135-65272273'},\n",
       " {'task': 'Human genome DNA aligment',\n",
       "  'id': 164,\n",
       "  'question': 'Align the DNA sequence to the human genome:TGGGCTCAAGTGATCCTCTTGCCTCAGCCTCCTAAAGTACTGGGATTACAGGTGCGAGCCACCACAACTGGCCTATAATTTTAAGTTTTCTTATAGTCACATTAAAAACATACAGAAGAAACATGAAATTAATTTCATAACATCTTA',\n",
       "  'answer': 'chr7:158890075-158890221'},\n",
       " {'task': 'Human genome DNA aligment',\n",
       "  'id': 165,\n",
       "  'question': 'Align the DNA sequence to the human genome:TGCAGATGTGCTCTGCGACTATGTGCTCTAGAGGTAAAAAGGAAGACACTACAAAAGATGCTTATATTAACTGGCATTGATTACTAAGTCCTTCACATTAGGAAGAATCTAGAGAAGAATCTTCTA',\n",
       "  'answer': 'chr18:45026043-45026168'},\n",
       " {'task': 'Human genome DNA aligment',\n",
       "  'id': 166,\n",
       "  'question': 'Align the DNA sequence to the human genome:TGAAATAATGTTTTGGATATAATGAAGTAAAAACATGTATTAATTTCACTGTTCTTTTTAAGGTATCTAATAGAAAATTTTAAATTACAAATGTGGCTTGCATTATATTTCTGTTGGATAGAGCTG',\n",
       "  'answer': 'chr3:156536294-156536419'},\n",
       " {'task': 'Human genome DNA aligment',\n",
       "  'id': 167,\n",
       "  'question': 'Align the DNA sequence to the human genome:GCATGGCCAACATGGCAAAACACTGTCTCCATTAAAAATACAAAAAAAATTAGCTGGGCGTGGTGGTGCACATCTGTAGTCCCAGCTACTTGGGAGGCTGAGGCAGGGGAATCACTTGAACCCGGGAGGCG',\n",
       "  'answer': 'chr19:32322319-32322449'},\n",
       " {'task': 'Human genome DNA aligment',\n",
       "  'id': 168,\n",
       "  'question': 'Align the DNA sequence to the human genome:TTCTTTACTGGTTCCTCATCTTCTCTCAAAATTCTCTTTTTAGGGATGCGAGGATGTTGAAAATGTTCTCTATTTTGATCTGGATGGCGGTTACATGGGTGTAGATCTGTGTTAAGATTGTACACTTAAGTTTCTG',\n",
       "  'answer': 'chrX:71742848-71742983'},\n",
       " {'task': 'Human genome DNA aligment',\n",
       "  'id': 169,\n",
       "  'question': 'Align the DNA sequence to the human genome:ACACAGTAAAGATCATTTATTTATAAACTGACAATGGCTGCTTTAACACTAGTAGAGCAGAGTCAAGTAATTGTGACAAAGACCAACCGGCCCATAAATTTGAAAATTTGTACTCTCTAGTCCTTTGTGTGAGAAGTTTGCTAA',\n",
       "  'answer': 'chrX:98833089-98833232'},\n",
       " {'task': 'Human genome DNA aligment',\n",
       "  'id': 170,\n",
       "  'question': 'Align the DNA sequence to the human genome:AGCCAAGGCCAGAGGACAAAGGTGAGCTCGCCAATAGGGCCAATACTGGGTCTGGCTGGAAGGGGAGGGTGGACAGAGATGGGTACTAAGAAGTGAAGATGGACAGGCAGGACCAGGTCT',\n",
       "  'answer': 'chr22:18817258-18817377'},\n",
       " {'task': 'Human genome DNA aligment',\n",
       "  'id': 171,\n",
       "  'question': 'Align the DNA sequence to the human genome:CCACTACACCTGGCCACAACTGTCTTATTTAAAGGAGGACAAAGGTTAGGCTCAAGATTATGTGTTGGATTATATAACATCACACAACTTTTAAATTCAATTCCACAGATCCTACTAGGCTAGG',\n",
       "  'answer': 'chr16:23611895-23612018'},\n",
       " {'task': 'Human genome DNA aligment',\n",
       "  'id': 172,\n",
       "  'question': 'Align the DNA sequence to the human genome:CAGCTAACAGAGTGGATCCTTTCTTTTTACAGAGCAGCTTTGAAACTCTATTTCTGTGGATTCTGCAAATTGATATTTGGGTTGATTTAACGATATCGATGGAAAAGGGAATATCTT',\n",
       "  'answer': 'chr21:12702345-12702461'},\n",
       " {'task': 'Human genome DNA aligment',\n",
       "  'id': 173,\n",
       "  'question': 'Align the DNA sequence to the human genome:AGATAACATTAAGGTTTACATTCTCTGTAGAAACCTGTCCCAGGAATTCGTTGATGTTTGCAGCATCCGATTACTCTATAGCCAGAGAAGGCCAAGAGTAGAACCTTCTATTTTTCTTGTTGACCTT',\n",
       "  'answer': 'chr6:163903884-163904010'},\n",
       " {'task': 'Human genome DNA aligment',\n",
       "  'id': 174,\n",
       "  'question': 'Align the DNA sequence to the human genome:AGGCCGTCTCTGACCCAGCTCTCTTTCTACTCCTCTCATCTCTTGCTCACAGCCTTCCAGCCACACTGGCCTTCTTCTTGTTCCCCTGACTCACTGTGCATGCACTCTGCTAAGAGTCTTAACTCCCTA',\n",
       "  'answer': 'chr18:54462342-54462470'},\n",
       " {'task': 'Human genome DNA aligment',\n",
       "  'id': 175,\n",
       "  'question': 'Align the DNA sequence to the human genome:ACAACTTGACATCAAGGGACCAGGATGAGAATCTTATTTCAATAACCTACTAGTTAAGTGGTTTTGGTTAAGTTTAATCATTTATCTTTAGTATTTGCAACCATAAATTTGGAATAGTGATATTAGTTGCAGGATT',\n",
       "  'answer': 'chr2:34350870-34351005'},\n",
       " {'task': 'Human genome DNA aligment',\n",
       "  'id': 176,\n",
       "  'question': 'Align the DNA sequence to the human genome:ATGAACTAAAGACTCATGACTCATTTACTCTCATTTTGACATCGCTTTGACAGTGGTGCCCAGCTTTCAAGGCAGTGACCTCTGCAGGAAGAGGCCCTTAGCTTCTGTGGAATGCTAAGTGC',\n",
       "  'answer': 'chr7:32588819-32588940'},\n",
       " {'task': 'Human genome DNA aligment',\n",
       "  'id': 177,\n",
       "  'question': 'Align the DNA sequence to the human genome:TAAAATGTTCTGTTGATGACTATTAAGTCAATTTGGTCTAAAGTGAAGTTTAAATCTAATGTTTCTTTCTTAAGTTTCTATTTTGTAGATCTGCCTTATGCTAAGAGTTGACTTTTGAAGTTCTCAAATATTAT',\n",
       "  'answer': 'chr14:83950330-83950463'},\n",
       " {'task': 'Human genome DNA aligment',\n",
       "  'id': 178,\n",
       "  'question': 'Align the DNA sequence to the human genome:GGCAGCAGTCACGAGAGCTTGTGCAGGGGAATTCTCATTTATAAAACCATTACATCTCATGATACTTATTCACTACCAGGAGAACGGTATGGGAGAAACCACCCCTATGACTCAATTATCTCCACCTGGTCCTTC',\n",
       "  'answer': 'chr11:37515333-37515467'},\n",
       " {'task': 'Human genome DNA aligment',\n",
       "  'id': 179,\n",
       "  'question': 'Align the DNA sequence to the human genome:AAGCTGGGATTACAGGCGCCCGCCACCACGCCCTGCTAATTTTTGTTTTTTTAGTAGAGACAGGGTTTCACCACGTTGAGGCCAGGCTGGTCTGAAACTACTGACAGGCAATCCGCCCACCTTGGCTTCCCAA',\n",
       "  'answer': 'chr19:23003880-23004012'},\n",
       " {'task': 'Human genome DNA aligment',\n",
       "  'id': 180,\n",
       "  'question': 'Align the DNA sequence to the human genome:GATGTTTAATTAATTGCAATTACTATCTTCAAAGGAAGCCCAGAGTTGAAAGTTGTTCCTAATTACTGTGTTATGATGTCGACCAGCTACTTAAATTGATTGTGTGAGAATTTCCGATGGAGAA',\n",
       "  'answer': 'chr8:141523256-141523379'},\n",
       " {'task': 'Human genome DNA aligment',\n",
       "  'id': 181,\n",
       "  'question': 'Align the DNA sequence to the human genome:TTAGTATTCTTTTCAAACTGCAAAGTGACTTTTCAGCAATTGGGGTTGTTGTTTGAAATGTTTTTGAATGGCTTGTCTTCTATCTTTCCCTCATAGGAAAAGAAAAATACGACACAT',\n",
       "  'answer': 'chr9:22210568-22210684'},\n",
       " {'task': 'Human genome DNA aligment',\n",
       "  'id': 182,\n",
       "  'question': 'Align the DNA sequence to the human genome:GTGATGGGCAATCCCGGAGCCACTGGCTTGCTGGTTCCAATTCTTAGAAGCAAAGTATGGATGGCCAGGATTTTATCTCTAGTAGGGTAACAGTGACTAAAAGTGCTGTAGAAATAAGATGGGAAA',\n",
       "  'answer': 'chrX:96520716-96520841'},\n",
       " {'task': 'Human genome DNA aligment',\n",
       "  'id': 183,\n",
       "  'question': 'Align the DNA sequence to the human genome:TTTTGTTTGTTTGTTTGTTTGTTTGTTTTGTTGTTGGGACGGATTCTCACTCTGTCTCCCAGGCTGGAGTGCAGTGGTGCGATCTCGGCTCACTGCAAGCTCCGCCTCCCGGGTTCACGCCATTCTCCTGCCTCAGCCT',\n",
       "  'answer': 'chr20:57571370-57571508'},\n",
       " {'task': 'Human genome DNA aligment',\n",
       "  'id': 184,\n",
       "  'question': 'Align the DNA sequence to the human genome:GTAGCTAGCCATGGTCAAGGCGGTCTAGACAGAGAGCAGTGTGGGGCTCCGTAAATACCGCACTGACGGAAAACATTAGCTTCCTGAACTGTACAGGTTATACCCAA',\n",
       "  'answer': 'chr17:9557107-9557213'},\n",
       " {'task': 'Human genome DNA aligment',\n",
       "  'id': 185,\n",
       "  'question': 'Align the DNA sequence to the human genome:ATTTCACGCTATATACAAAAATCAACTCAAAGCATTAAATGTAAGACACGAAACTGTAAAATTACTAGAAGAAAACATAGGGGAAATTTTCATAACATTGGTTTGGGCAATGCT',\n",
       "  'answer': 'chr1:189568643-189568756'},\n",
       " {'task': 'Human genome DNA aligment',\n",
       "  'id': 186,\n",
       "  'question': 'Align the DNA sequence to the human genome:TTATCTGAAAACACAGATCATTTTACTTCTTTCCAATTTGGATGTCTTTTTTTTTCTTGCCTAATTTCTCTGGCTAGGACTTCTAATACTGTGTCGAATAGACGTGGCAAAA',\n",
       "  'answer': 'chr19:41724898-41725009'},\n",
       " {'task': 'Human genome DNA aligment',\n",
       "  'id': 187,\n",
       "  'question': 'Align the DNA sequence to the human genome:GAATAAACGGTGGGCCTGGTCACCATAATGGCAGCAGGGTATGGAATGGGATGACTACAGAAATCTCTAACAGGGAGTAATGGATCATAGAATTCTTGGGGCTGAAATAGAACATTCCATTAAGGCCACGTTTGA',\n",
       "  'answer': 'chr6:119363354-119363488'},\n",
       " {'task': 'Human genome DNA aligment',\n",
       "  'id': 188,\n",
       "  'question': 'Align the DNA sequence to the human genome:CCAGGAGTTTGAGACCAGCTTGGGTAACCTGGCAAGACTCCGTCTCTCTCTCTCAACAACAACAACAACAAAAAGGCCGGGTGCGGTGGCTCATAACCCCAGCACTTCGGGAGGCTGAGGTGGACGGATCACTTGAG',\n",
       "  'answer': 'chr16:3779892-3780028'},\n",
       " {'task': 'Human genome DNA aligment',\n",
       "  'id': 189,\n",
       "  'question': 'Align the DNA sequence to the human genome:GTGTTGAACAGTCCCTTTCATAGAGCAGGTTTGAAACACTCTTTTTGTAGTATCTGGAAGTGGACATTAGGAACGCTCTCAGGACTGCGTTGAAAAAGGAAATATCTTCCAATAAAAGCTAGATAG',\n",
       "  'answer': 'chr2:93063432-93063557'},\n",
       " {'task': 'Human genome DNA aligment',\n",
       "  'id': 190,\n",
       "  'question': 'Align the DNA sequence to the human genome:CCTCCTTCCCACCTCTCCCTGGGCCTGCTCCTGGGAGGGACAGCTCCTGTTCGAGGGGCAGGAGTCCACGGTGAGTGGGACCCTCTGTGGGACGCCCCCTCTACTTCACTCCAGGATCCCATTTTGGCCATGCACAGAGAGG',\n",
       "  'answer': 'chr19:19162638-19162779'},\n",
       " {'task': 'Human genome DNA aligment',\n",
       "  'id': 191,\n",
       "  'question': 'Align the DNA sequence to the human genome:ACTCTTCTGTTGGGAGAGTTTATTCAACTTCATTTTGACTTCACTGACTTCTATACACTGATCCAAGGTGTTTTTTTATTGGCAGGTTGGATTTAATTTTCA',\n",
       "  'answer': 'chr9:8591402-8591503'},\n",
       " {'task': 'Human genome DNA aligment',\n",
       "  'id': 192,\n",
       "  'question': 'Align the DNA sequence to the human genome:AACCTCTGCCTTCTGGGTTCAAGAGATTCTTGCGCCTCAAGCCTCCTGAGTAGCTGGGCTTATAGGCATGCACCTCCACACGCAGCTAATTTTTGTACTTTTAGTAGAGACAGGGTTTTGCCATATTGGCCAGACTGGTCTC',\n",
       "  'answer': 'chr6:20935508-20935649'},\n",
       " {'task': 'Human genome DNA aligment',\n",
       "  'id': 193,\n",
       "  'question': 'Align the DNA sequence to the human genome:AGGAGGGGGAGGGGGAGAGGGAAGGGGCAGCCCCGCCTCCCGCAGGAGAAGGGAGCGCCTCATTACGCCGGGCTCGCCCGGGATGCCTGGCTCCCGGCGTCCGCTGCCTCCGCTGGGGACGTCCCGGGTCTG',\n",
       "  'answer': 'chr1:20486790-20486921'},\n",
       " {'task': 'Human genome DNA aligment',\n",
       "  'id': 194,\n",
       "  'question': 'Align the DNA sequence to the human genome:ATGTGGGATGTCCTGCACGTGGGCTCTGGAGTTAACAGAGGTGGGTTCTAAGTCAGGGTCATCACTTGCTTACTGAGCAACCTCGGCCAAGTTACTTATCCTCTTTGGGTTTTTTGTTAGTTTGTTCGTTTGTTTGTTTGT',\n",
       "  'answer': 'chr14:99402298-99402438'},\n",
       " {'task': 'Human genome DNA aligment',\n",
       "  'id': 195,\n",
       "  'question': 'Align the DNA sequence to the human genome:TTTCCACGATAGACCTGAAACTGCCTAAATATATCTCTTTGCAGATTCTACAAAAAGACTGTTTCCAAGCTGCTCAATCAAAGAAAGTTTTTACTCTGTGTGATGAATGCACACATCACA',\n",
       "  'answer': 'chr20:29228714-29228833'},\n",
       " {'task': 'Human genome DNA aligment',\n",
       "  'id': 196,\n",
       "  'question': 'Align the DNA sequence to the human genome:TGAGATTCTAGGTTCTCAGCCACCCAACCTTGCTGAACATGCTGGGCAACGTGGAACACGGGGACTCGTGGTCATGCTAATAACAGAACAAGTTTCCATTGGAAAGCTTTGCCTAAAAGAATCCTTAAAATACTATAAATTTACTC',\n",
       "  'answer': 'chr10:121721897-121722042'},\n",
       " {'task': 'Human genome DNA aligment',\n",
       "  'id': 197,\n",
       "  'question': 'Align the DNA sequence to the human genome:TCACTTGAGCCCAGGAGTTTGAGGCTGCAGTGAGCTCTGATTGCATCACTGCCCTGAAGCCTGGGCAACAGAGTGAGACCCTGTCTCTTAAATAAATAAATAAATAAATAAATAAATAAATAAAATTTTAAAAAATG',\n",
       "  'answer': 'chr10:8432390-8432526'},\n",
       " {'task': 'Human genome DNA aligment',\n",
       "  'id': 198,\n",
       "  'question': 'Align the DNA sequence to the human genome:TACTATAAATATCTCTGTGCACACCAACTAGAAAGTCTAGAGGAAATGAATAAACTCTTAGAAATATACAACCTCCCAAGATTGAATCAGGAATAAACAGAAGTCTTGAAGAAACCAAAA',\n",
       "  'answer': 'chr2:132111535-132111654'},\n",
       " {'task': 'Human genome DNA aligment',\n",
       "  'id': 199,\n",
       "  'question': 'Align the DNA sequence to the human genome:GAATGCAGTGGCATGATCATGGCTCACTATAGTCTTGACCTCTCGGGCTCTGGCGATGCTCCTGTGTCAGTCTCCTGAGTAGCTGGGACCACAGGTGCATACCACCATGCCTGGGTAGTTTATTTTTATTTTTTGTAGA',\n",
       "  'answer': 'chr20:34383091-34383229'},\n",
       " {'task': 'Multi-species DNA aligment',\n",
       "  'id': 200,\n",
       "  'question': 'Which organism does the DNA sequence come from:AGGGGCAGCAAACACCGGGACACACCCATTCGTGCACTAATCAGAAACTTTTTTTTCTCAAATAATTCAAACAATCAAAATTGGTTTTTTCGAGCAAGGTGGGAAATTTTTCGAT',\n",
       "  'answer': 'worm'},\n",
       " {'task': 'Multi-species DNA aligment',\n",
       "  'id': 201,\n",
       "  'question': 'Which organism does the DNA sequence come from:CGTACACCATTGGTGCCAGTGACTGTGGTCAATTCGGTAGAAGTAGAGGTAAAAGTGCTGTTCCATGGCTCAGTTGTAGTTATGATGGTGCTAGCAGTTGTTGGAGTTCTGATGACAATGACGGTTTCGTCAGTTG',\n",
       "  'answer': 'yeast'},\n",
       " {'task': 'Multi-species DNA aligment',\n",
       "  'id': 202,\n",
       "  'question': 'Which organism does the DNA sequence come from:GTGAAGATGATGGAGAATTTCATTGCCTGGCCACCAACCGTGCTGGAGACAAACTTAATTCCATTGAAGTTCAAGTAAACAATGCACCAAAAGGATCATTGTTTTTCTAT',\n",
       "  'answer': 'worm'},\n",
       " {'task': 'Multi-species DNA aligment',\n",
       "  'id': 203,\n",
       "  'question': 'Which organism does the DNA sequence come from:AAAAATAATTTCCCGTTAACTGTTAATAAGTATTAGCAGTGGCTCAATGCTGTAGTGACCTAATTTAAACAGAATCAAAGCGAGCTGTGCTAAAGGGCATGAGACAGTGGAATCTTTT',\n",
       "  'answer': 'human'},\n",
       " {'task': 'Multi-species DNA aligment',\n",
       "  'id': 204,\n",
       "  'question': 'Which organism does the DNA sequence come from:TTCAATTCTCTGTAGGCAAGGATGGCTCATCACCATTATCACCCTGACGAGACTTAGAAACACCACGGAGACACACCTCTGGGCACGAGTGTTATGGTGTTT',\n",
       "  'answer': 'rat'},\n",
       " {'task': 'Multi-species DNA aligment',\n",
       "  'id': 205,\n",
       "  'question': 'Which organism does the DNA sequence come from:ATGCACAGCAGAGAGCCCCAGGGTGGACTGTAAACCTAAAGATGACCGAGGATCCTGTTGAGAAGATGCCAAAGCTAAGGAGAGAGACATGCGTGCAGACTCTCCGACACTCTGATTTGGGGTCTTGGGTTCTGAGGAGAAAGC',\n",
       "  'answer': 'mouse'},\n",
       " {'task': 'Multi-species DNA aligment',\n",
       "  'id': 206,\n",
       "  'question': 'Which organism does the DNA sequence come from:GTTGATGTCAGCTCTCTACAGTTCATGACTGGACACACACACATAGCCCGTTTCATTAAAGAAATAGAATCCTAACAATGACATCATTGTAGAAGCTCCTGGGATGACAG',\n",
       "  'answer': 'zebrafish'},\n",
       " {'task': 'Multi-species DNA aligment',\n",
       "  'id': 207,\n",
       "  'question': 'Which organism does the DNA sequence come from:AAAAAAAAACTCCATAAAAACAACAAAAAGAGACGGACGCGGTTAACGAAGTAGTAACTTGATGAAAATGAATAAAAAAGAATAAAATTAACAAATAGAAAAGTTGAATCTTTTAAAACTCAAAGTCGCCATCGATCAAC',\n",
       "  'answer': 'yeast'},\n",
       " {'task': 'Multi-species DNA aligment',\n",
       "  'id': 208,\n",
       "  'question': 'Which organism does the DNA sequence come from:CTGCATTTACACAGCACACAGGAAAGGCGCAATGACCAGGAAAAAAAAAAAGAGCGGGTGCTGACTGACAGCTGATAATTAAAGAGTGTCTTTTCTCTATTCC',\n",
       "  'answer': 'zebrafish'},\n",
       " {'task': 'Multi-species DNA aligment',\n",
       "  'id': 209,\n",
       "  'question': 'Which organism does the DNA sequence come from:TGAGAGTATGATATCTATGCTACGAGACCCATATTACATCTCATACATATGGCACACTTCTTAAATATATTGCTAGGGCATATTTCTTATCTTGAATCATGCTCAGTCTGCCTCAACAAATACTTCT',\n",
       "  'answer': 'human'},\n",
       " {'task': 'Multi-species DNA aligment',\n",
       "  'id': 210,\n",
       "  'question': 'Which organism does the DNA sequence come from:ACCCCACACTGTTTTTATAGAAAGCATTAAAGACTCCCAACCTGGGGCTGGGGATTTAGCTCAGTGGTAGAGCGCTTCCAAGGCCCTGGGTTCGGTCCCCAGCTCCGAAAAAAAAAAAAAAAAAAAGAAC',\n",
       "  'answer': 'rat'},\n",
       " {'task': 'Multi-species DNA aligment',\n",
       "  'id': 211,\n",
       "  'question': 'Which organism does the DNA sequence come from:AATTATTCGCTGAAATTCAGTTAATATATGACGAAAATAAAATCATGAATCTAAATAAACCGTCCCAATACAAACAACACAGCGAATACAAAAATGTTTCTCGCACATCTCCAAACACGACTAA',\n",
       "  'answer': 'yeast'},\n",
       " {'task': 'Multi-species DNA aligment',\n",
       "  'id': 212,\n",
       "  'question': 'Which organism does the DNA sequence come from:CAGGAACAACAGCAAAACATTACTTCACGTGCAAACCGATCTGTAGGGCTAAAGAAGAGACCACACACAAGTTTCTCTGGATATTTTGAAACTATTTAATGAAGGAATTAAATTCCTGTAGCACAGCTCTAATAGTAGCCAT',\n",
       "  'answer': 'chicken'},\n",
       " {'task': 'Multi-species DNA aligment',\n",
       "  'id': 213,\n",
       "  'question': 'Which organism does the DNA sequence come from:TTCATCGGTCTGAGCAGAGGATGAAGTTGCAAATGATGCAAGCAAAACAGCTCAAAGATGAAGAGGAAAAGGCTATACACAACAGGAGCAATGTAGATACAGAAGGT',\n",
       "  'answer': 'rat'},\n",
       " {'task': 'Multi-species DNA aligment',\n",
       "  'id': 214,\n",
       "  'question': 'Which organism does the DNA sequence come from:ACAAGGAAAGACACTAATACCAGTTCTTAGGTGGGGAGAGATTGCTCACATTCCCCTGGGGTTCCCTGCTCCACAGTACAAGAGAACACGCAATGGTCCGTGAGAGCAGAGAA',\n",
       "  'answer': 'mouse'},\n",
       " {'task': 'Multi-species DNA aligment',\n",
       "  'id': 215,\n",
       "  'question': 'Which organism does the DNA sequence come from:ACCAAAAGAGTGCGCCACTTGTGGTGACACCTGGACTTCTCAGTGGAGAAGTGGACCTAATGGAAATGTTGAGCTATGTAGTCGATGTGGCATAGCATATAGGAAAAAAATGGAGAAAAAAATACGATCGCAACAA',\n",
       "  'answer': 'yeast'},\n",
       " {'task': 'Multi-species DNA aligment',\n",
       "  'id': 216,\n",
       "  'question': 'Which organism does the DNA sequence come from:TATGCGATGTTTGTCTTGCTGGTCTGATTACCTCACCCAATATAGTCTTTTTTAGGTCCATTCATTTACCTGAAAATTACATGATTTAATTATTTCTACAACAGAATAGCATC',\n",
       "  'answer': 'mouse'},\n",
       " {'task': 'Multi-species DNA aligment',\n",
       "  'id': 217,\n",
       "  'question': 'Which organism does the DNA sequence come from:GCTTACTGCAACTTCCGTCTCCCGGGTTCAAGTGATTCTCCTGCCTCAGCCTCGCGAGTAGCTGGGATTACAGGCACCCACCACCACGCCCAGCTAATTTTTTGTATTTTTAGTAGAGACAGGCTTT',\n",
       "  'answer': 'human'},\n",
       " {'task': 'Multi-species DNA aligment',\n",
       "  'id': 218,\n",
       "  'question': 'Which organism does the DNA sequence come from:CATGCAATGAGATTGCTGCACACCAGGAACCCTAACTTCCAGTCTTTTGTTTTCTGCTTGTAGCATGCTTGTTTTCTACACACTGTCATGGGTGTATGCAGATAAAAATAATCAATCCACGAC',\n",
       "  'answer': 'chicken'},\n",
       " {'task': 'Multi-species DNA aligment',\n",
       "  'id': 219,\n",
       "  'question': 'Which organism does the DNA sequence come from:TTGTTCATCCTCTAGAGAGAGAAGGGATACGCATTCATGGAGATCCTACTGTTGCAAACTCTGCATTAGGAGTTTTACATGAATTGTCTCATTTAGTCCTCACAACAGTCCTGTGAGGCAC',\n",
       "  'answer': 'human'},\n",
       " {'task': 'Multi-species DNA aligment',\n",
       "  'id': 220,\n",
       "  'question': 'Which organism does the DNA sequence come from:GCTAGTAAATATAAATATTTGTTATCATGTATTATGTGTTATTTTTGCGGGGAGTATGATTATGATGCTTTCATTACAAATGTAACGTTATATGTGCCTATGTGGTGCCATGTGCCAGGATGT',\n",
       "  'answer': 'worm'},\n",
       " {'task': 'Multi-species DNA aligment',\n",
       "  'id': 221,\n",
       "  'question': 'Which organism does the DNA sequence come from:ATGTGCTTGTAGGAAGCAGCACAGGCCAGAAGAGGTTGTCAGATTCCCTAGAACTGGAGTTAGAAGCAGTTGTGAGCTCCTCTATGTAGGTGCTGAGAACTAAACCTGGATCCCATGAGCCATCTCCCTAA',\n",
       "  'answer': 'mouse'},\n",
       " {'task': 'Multi-species DNA aligment',\n",
       "  'id': 222,\n",
       "  'question': 'Which organism does the DNA sequence come from:GCATGTTAGTTTGTGTGCACACATGCATATGCATGTGTATGGAGACCAGGGTTCGTATTAGCTGTCTTCCTCGATTGCAGCACTTCATGTGATTTTGAGAGCAGCTGTGACCCTGAACCTTGAGCTCGTTTCAGCTAGGCTGGCTGGCA',\n",
       "  'answer': 'rat'},\n",
       " {'task': 'Multi-species DNA aligment',\n",
       "  'id': 223,\n",
       "  'question': 'Which organism does the DNA sequence come from:ACTGTTGTTCTGTTCGAGAAAACTATCACAAAAAGATGACTGGCTCATAACTTTGATACGAATAGCAGTTCAAATATGTCACTGTTTTTCTTGTTTGAGTATTCATATGGTGAA',\n",
       "  'answer': 'worm'},\n",
       " {'task': 'Multi-species DNA aligment',\n",
       "  'id': 224,\n",
       "  'question': 'Which organism does the DNA sequence come from:ACTCAATCTATCACATATACTGAGAAAAACTGTATCTATTTTGATTTCCCTAAATGGAAAGTTAGAAGCTTACTCTGCAGGTGGCAGGTAAGCACCAATCCTT',\n",
       "  'answer': 'human'},\n",
       " {'task': 'Multi-species DNA aligment',\n",
       "  'id': 225,\n",
       "  'question': 'Which organism does the DNA sequence come from:AAAACGGTACGAAAAGGTAATATTGCCTAATCTGAAATAATGTAGTCACTCTAGAACTATTAATAAAGAAGCTTGTACTTCCTCTTATCCCTGGAATGGACGGTTATGCTGCTT',\n",
       "  'answer': 'yeast'},\n",
       " {'task': 'Multi-species DNA aligment',\n",
       "  'id': 226,\n",
       "  'question': 'Which organism does the DNA sequence come from:TGAAACCTTTTGTTCCATATGTATATTTACAATAAAAAAAATAATGCAAGTAAGCCATTTATCACAAAAACAGGTTTATTTAATATCTCTTTCTTTTTTAAAATAATTAGATTTATTC',\n",
       "  'answer': 'zebrafish'},\n",
       " {'task': 'Multi-species DNA aligment',\n",
       "  'id': 227,\n",
       "  'question': 'Which organism does the DNA sequence come from:AATTTTACCTTTCATGTCCACATTGCCCTTGCTCAGCTCCCTGTCATGCCACAACTAATAGCTGCTTTGGAATAGAAACAGCTAATGACACCTCTAAATAATGA',\n",
       "  'answer': 'chicken'},\n",
       " {'task': 'Multi-species DNA aligment',\n",
       "  'id': 228,\n",
       "  'question': 'Which organism does the DNA sequence come from:TGTGAGGGCTCTGGACCACCACAAGACTGGAAGTTTCCACGCACCCACTGCAAAGGGAGGGTGCAGCTCACCAAAACCAAGTTTGCTTTGATTCACGACGTCGTGTAAAGT',\n",
       "  'answer': 'rat'},\n",
       " {'task': 'Multi-species DNA aligment',\n",
       "  'id': 229,\n",
       "  'question': 'Which organism does the DNA sequence come from:CAGGTCCCCATGGCTTTGTTTCTTGGAGTCTCTCTCTTCACAGTCCTTTTCTCCAAGGCCAGTGAGGGAAGGAGAGATTTCAGGGGAAAAGCTACTGACTGGATTGGGAG',\n",
       "  'answer': 'human'},\n",
       " {'task': 'Multi-species DNA aligment',\n",
       "  'id': 230,\n",
       "  'question': 'Which organism does the DNA sequence come from:TGGGCAGAGTGTTCTCTCAAATATTTATGTATTTGAAGTAGAGGTGGATTGAAAAAAAATGTCAAAGTGATTTAGCATCACAAAGTGTTTCAGTGAAACAAAAACAGTTCACTTACATGTCT',\n",
       "  'answer': 'chicken'},\n",
       " {'task': 'Multi-species DNA aligment',\n",
       "  'id': 231,\n",
       "  'question': 'Which organism does the DNA sequence come from:TTTTTTTTTTTCACCCTTAACAGCAAGGTTGAACTCTATAAGGAAAAGGGATAGATCGTGCGGCACACCAGAAAAAGGGGATCAGTAAAGTGATGCAACATAAATACA',\n",
       "  'answer': 'yeast'},\n",
       " {'task': 'Multi-species DNA aligment',\n",
       "  'id': 232,\n",
       "  'question': 'Which organism does the DNA sequence come from:AATTGTTTATAGCCAAACTGTTATGCCCAGGTGTTGTCAAGGTGCTCAAATTTCAAATTTTATCAAATTTTAGGTCATTTTTTGAGCCACCATGTTTTTTGAGAAGTTTCCAAGAAGTTTCATCAGGAAATTCGGCGT',\n",
       "  'answer': 'worm'},\n",
       " {'task': 'Multi-species DNA aligment',\n",
       "  'id': 233,\n",
       "  'question': 'Which organism does the DNA sequence come from:GCTGGTAAATCCACCGGCCACCCCAAAAGCGCCGTTGCGCCCTTTACCAATTATAGAGATCCCCTTCAAGAGAATTGGTATGGATCTCATCGGGCCATTAGAGTGATCCGCACGCGGGCACCGGTTTGCATTAGT',\n",
       "  'answer': 'zebrafish'},\n",
       " {'task': 'Multi-species DNA aligment',\n",
       "  'id': 234,\n",
       "  'question': 'Which organism does the DNA sequence come from:AATACTAATGTTATTATTAATAGTAGTTAGATATATAAAAAAAAAATATATATATATATATACTATACTATATATATTATATATATATACACACACAGTATATA',\n",
       "  'answer': 'zebrafish'},\n",
       " {'task': 'Multi-species DNA aligment',\n",
       "  'id': 235,\n",
       "  'question': 'Which organism does the DNA sequence come from:TAGCAGCGTTCGGTTTATTAACCTGTATAGGGTTACTTGCATTCTTCGTTAATTGTGCAAGATTCTCATCTATTTGAGATTGCAATAATTTTTCTCGTTCTTCCGTTAATTTATTTAAATCAACATTCCCAGGTATTAGCGAATC',\n",
       "  'answer': 'yeast'},\n",
       " {'task': 'Multi-species DNA aligment',\n",
       "  'id': 236,\n",
       "  'question': 'Which organism does the DNA sequence come from:GTTTGGACTGTGGGGGAAACCGTAGCACCCGGAGGAAACCCACACCAACACGGGGAGAACATGCAAACTCCACACAGAAACACCAACTGACCCAGCCCGGACTCAAA',\n",
       "  'answer': 'zebrafish'},\n",
       " {'task': 'Multi-species DNA aligment',\n",
       "  'id': 237,\n",
       "  'question': 'Which organism does the DNA sequence come from:AAGGTATAGGGAGAGAGAACTGGTAGTAACACAGTTCAAATTATGAGACCTGCATCTGAATAGCTGGCTAGCGGGGGCGGGGGGGTGCACTTGAAGCATCTCTCTCCCTC',\n",
       "  'answer': 'mouse'},\n",
       " {'task': 'Multi-species DNA aligment',\n",
       "  'id': 238,\n",
       "  'question': 'Which organism does the DNA sequence come from:TGTTACTCAGGAACTCCTATGATGTGCTGGAGATTCAGAATGAACAAACTGAAAGCCATACTCCAAGCCTCTTCCTTTTATACCTGTATGTTTAGTTATTTCCCAGTGGTTAAGAGCAC',\n",
       "  'answer': 'human'},\n",
       " {'task': 'Multi-species DNA aligment',\n",
       "  'id': 239,\n",
       "  'question': 'Which organism does the DNA sequence come from:TCCATTGTAGGCAAAAGGATTTGCTTAGGATATAAAAAGTGGAAATGAATCATGTGAACAGCTTTTCCATATTGTCCATTATCCATTTTTGGATAACTTCAGTGGATACAAGCTGAAGGACAAGCTGCTTGTGTAC',\n",
       "  'answer': 'chicken'},\n",
       " {'task': 'Multi-species DNA aligment',\n",
       "  'id': 240,\n",
       "  'question': 'Which organism does the DNA sequence come from:TCATTATGTGCATGTCCTACTTTCTGTCTGTGTCTGTGCACAGGCAAATGTGTCCATTTTATGCATGTAAAATATGTATGGTTGGTACTTTTGAGAGCTATCCATTTAAATTCTGGCACA',\n",
       "  'answer': 'zebrafish'},\n",
       " {'task': 'Multi-species DNA aligment',\n",
       "  'id': 241,\n",
       "  'question': 'Which organism does the DNA sequence come from:TTTGGATGCTGCCATCCAAAGACATAATCGCTGCCTCTAATGAGCGTTACTTTGTGCACGCTAATGGGTCTCTTGATATACGAAATGTTAAATTATCTGATGCTGGGGAGTATGTCTGCATGGCTCGTAATGC',\n",
       "  'answer': 'zebrafish'},\n",
       " {'task': 'Multi-species DNA aligment',\n",
       "  'id': 242,\n",
       "  'question': 'Which organism does the DNA sequence come from:ATTACAGAGATCCTGAAACCTTCCCTCCACCTCTCCCTACCTTCCAACACAGGACACAGAAGGACAATTGGAACCCCTTGCAACTTGGTTTCATTCTGAATTG',\n",
       "  'answer': 'mouse'},\n",
       " {'task': 'Multi-species DNA aligment',\n",
       "  'id': 243,\n",
       "  'question': 'Which organism does the DNA sequence come from:GACAGGGATGTCATCAACGCATAATGATGTACAGTGTTGGATTGCATACCTGTATCGTACGTATCAGGATGCTGAATGTCACCTCTTGCAACAAATCTAGCTTTATGAG',\n",
       "  'answer': 'yeast'},\n",
       " {'task': 'Multi-species DNA aligment',\n",
       "  'id': 244,\n",
       "  'question': 'Which organism does the DNA sequence come from:TTTCCTTGTCACAGTATCACATCAATCTCTCACTTTAGTTATACATAATTAATGTCACTGTTGAGATAGTTTTAAAAAAATGTCCTTCTCATCTTGAAATGAACAACTTATTAGGAAGGAATTTCTCAAAACACTTGCCT',\n",
       "  'answer': 'worm'},\n",
       " {'task': 'Multi-species DNA aligment',\n",
       "  'id': 245,\n",
       "  'question': 'Which organism does the DNA sequence come from:CATGTACAATAAAAGAACTGGAGGTATCACCTTCCCTGATTTCAAGCTGTAGTACAAAGCATTGTAACAAAAACATGCATGATATTGGCATAACAAGGACAGGTTGATCAATGGAATTGAGTTGAAGACCCAGAAATACACCCA',\n",
       "  'answer': 'rat'},\n",
       " {'task': 'Multi-species DNA aligment',\n",
       "  'id': 246,\n",
       "  'question': 'Which organism does the DNA sequence come from:CCACAGTTTTTTTCCTGTATTAGTTTTTTTTGACTCTCATAGTGCTGGTAGTCAATAACTTGAATATTATAAATCCCCCCCAATTCCCCCCCAAAAAAAGCTAAAAATAGTTTCAGCTAAAAATCTAAA',\n",
       "  'answer': 'zebrafish'},\n",
       " {'task': 'Multi-species DNA aligment',\n",
       "  'id': 247,\n",
       "  'question': 'Which organism does the DNA sequence come from:TCCCAAATGTATTGCACAATGTGCACACGGACACACACACACACTTTACACCTCTGCGTCTCTTGTTCTCTTTCACCACCGAAATGCTTGCAAAATCTGGTTGAACGGTTTCCACGTCA',\n",
       "  'answer': 'worm'},\n",
       " {'task': 'Multi-species DNA aligment',\n",
       "  'id': 248,\n",
       "  'question': 'Which organism does the DNA sequence come from:TAAAAATTATAGGAAAAAAGACAAAAATTGCACAATCCCAAAAAAGGCAGAAAAACACAAAATCTTCTACTTTAAAAAAAAACCTATAAAATTTTCACATTTTCCCCGATTTTTAATCAAAAAACCAAAACTTTTCGCT',\n",
       "  'answer': 'worm'},\n",
       " {'task': 'Multi-species DNA aligment',\n",
       "  'id': 249,\n",
       "  'question': 'Which organism does the DNA sequence come from:GCTCGATTGAAACGAACTGTGGAGCGGTTCGATTGCAGTGAGAAAGCGATCCGATCCGAGCGCGGTTATATCACAGTGTTTTATGGATATGTAATAGGCTTACGGCTATATGAAGAGAGTTATGAGTATGGC',\n",
       "  'answer': 'zebrafish'},\n",
       " {'task': 'Gene name conversion',\n",
       "  'id': 250,\n",
       "  'question': 'Convert ENSG00000215251 to official gene symbol.',\n",
       "  'answer': 'FASTKD5'},\n",
       " {'task': 'Gene name conversion',\n",
       "  'id': 251,\n",
       "  'question': 'Convert ENSG00000205403 to official gene symbol.',\n",
       "  'answer': 'CFI'},\n",
       " {'task': 'Gene name conversion',\n",
       "  'id': 252,\n",
       "  'question': 'Convert ENSG00000140199 to official gene symbol.',\n",
       "  'answer': 'SLC12A6'},\n",
       " {'task': 'Gene name conversion',\n",
       "  'id': 253,\n",
       "  'question': 'Convert ENSG00000149476 to official gene symbol.',\n",
       "  'answer': 'TKFC'},\n",
       " {'task': 'Gene name conversion',\n",
       "  'id': 254,\n",
       "  'question': 'Convert ENSG00000291317 to official gene symbol.',\n",
       "  'answer': 'TMEM276'},\n",
       " {'task': 'Gene name conversion',\n",
       "  'id': 255,\n",
       "  'question': 'Convert ENSG00000174944 to official gene symbol.',\n",
       "  'answer': 'P2RY14'},\n",
       " {'task': 'Gene name conversion',\n",
       "  'id': 256,\n",
       "  'question': 'Convert ENSG00000138604 to official gene symbol.',\n",
       "  'answer': 'GLCE'},\n",
       " {'task': 'Gene name conversion',\n",
       "  'id': 257,\n",
       "  'question': 'Convert ENSG00000174233 to official gene symbol.',\n",
       "  'answer': 'ADCY6'},\n",
       " {'task': 'Gene name conversion',\n",
       "  'id': 258,\n",
       "  'question': 'Convert ENSG00000165487 to official gene symbol.',\n",
       "  'answer': 'MICU2'},\n",
       " {'task': 'Gene name conversion',\n",
       "  'id': 259,\n",
       "  'question': 'Convert ENSG00000124157 to official gene symbol.',\n",
       "  'answer': 'SEMG2'},\n",
       " {'task': 'Gene name conversion',\n",
       "  'id': 260,\n",
       "  'question': 'Convert ENSG00000182885 to official gene symbol.',\n",
       "  'answer': 'ADGRG3'},\n",
       " {'task': 'Gene name conversion',\n",
       "  'id': 261,\n",
       "  'question': 'Convert ENSG00000128322 to official gene symbol.',\n",
       "  'answer': 'IGLL1'},\n",
       " {'task': 'Gene name conversion',\n",
       "  'id': 262,\n",
       "  'question': 'Convert ENSG00000103199 to official gene symbol.',\n",
       "  'answer': 'ZNF500'},\n",
       " {'task': 'Gene name conversion',\n",
       "  'id': 263,\n",
       "  'question': 'Convert ENSG00000148824 to official gene symbol.',\n",
       "  'answer': 'MTG1'},\n",
       " {'task': 'Gene name conversion',\n",
       "  'id': 264,\n",
       "  'question': 'Convert ENSG00000188343 to official gene symbol.',\n",
       "  'answer': 'CIBAR1'},\n",
       " {'task': 'Gene name conversion',\n",
       "  'id': 265,\n",
       "  'question': 'Convert ENSG00000077984 to official gene symbol.',\n",
       "  'answer': 'CST7'},\n",
       " {'task': 'Gene name conversion',\n",
       "  'id': 266,\n",
       "  'question': 'Convert ENSG00000117528 to official gene symbol.',\n",
       "  'answer': 'ABCD3'},\n",
       " {'task': 'Gene name conversion',\n",
       "  'id': 267,\n",
       "  'question': 'Convert ENSG00000135338 to official gene symbol.',\n",
       "  'answer': 'LCA5'},\n",
       " {'task': 'Gene name conversion',\n",
       "  'id': 268,\n",
       "  'question': 'Convert ENSG00000139370 to official gene symbol.',\n",
       "  'answer': 'SLC15A4'},\n",
       " {'task': 'Gene name conversion',\n",
       "  'id': 269,\n",
       "  'question': 'Convert ENSG00000170209 to official gene symbol.',\n",
       "  'answer': 'ANKK1'},\n",
       " {'task': 'Gene name conversion',\n",
       "  'id': 270,\n",
       "  'question': 'Convert ENSG00000198681 to official gene symbol.',\n",
       "  'answer': 'MAGEA1'},\n",
       " {'task': 'Gene name conversion',\n",
       "  'id': 271,\n",
       "  'question': 'Convert ENSG00000078549 to official gene symbol.',\n",
       "  'answer': 'ADCYAP1R1'},\n",
       " {'task': 'Gene name conversion',\n",
       "  'id': 272,\n",
       "  'question': 'Convert ENSG00000091592 to official gene symbol.',\n",
       "  'answer': 'NLRP1'},\n",
       " {'task': 'Gene name conversion',\n",
       "  'id': 273,\n",
       "  'question': 'Convert ENSG00000148680 to official gene symbol.',\n",
       "  'answer': 'HTR7'},\n",
       " {'task': 'Gene name conversion',\n",
       "  'id': 274,\n",
       "  'question': 'Convert ENSG00000183943 to official gene symbol.',\n",
       "  'answer': 'PRKX'},\n",
       " {'task': 'Gene name conversion',\n",
       "  'id': 275,\n",
       "  'question': 'Convert ENSG00000160791 to official gene symbol.',\n",
       "  'answer': 'CCR5'},\n",
       " {'task': 'Gene name conversion',\n",
       "  'id': 276,\n",
       "  'question': 'Convert ENSG00000162849 to official gene symbol.',\n",
       "  'answer': 'KIF26B'},\n",
       " {'task': 'Gene name conversion',\n",
       "  'id': 277,\n",
       "  'question': 'Convert ENSG00000147202 to official gene symbol.',\n",
       "  'answer': 'DIAPH2'},\n",
       " {'task': 'Gene name conversion',\n",
       "  'id': 278,\n",
       "  'question': 'Convert ENSG00000117586 to official gene symbol.',\n",
       "  'answer': 'TNFSF4'},\n",
       " {'task': 'Gene name conversion',\n",
       "  'id': 279,\n",
       "  'question': 'Convert ENSG00000168591 to official gene symbol.',\n",
       "  'answer': 'TMUB2'},\n",
       " {'task': 'Gene name conversion',\n",
       "  'id': 280,\n",
       "  'question': 'Convert ENSG00000129474 to official gene symbol.',\n",
       "  'answer': 'AJUBA'},\n",
       " {'task': 'Gene name conversion',\n",
       "  'id': 281,\n",
       "  'question': 'Convert ENSG00000172009 to official gene symbol.',\n",
       "  'answer': 'THOP1'},\n",
       " {'task': 'Gene name conversion',\n",
       "  'id': 282,\n",
       "  'question': 'Convert ENSG00000189157 to official gene symbol.',\n",
       "  'answer': 'FAM47E'},\n",
       " {'task': 'Gene name conversion',\n",
       "  'id': 283,\n",
       "  'question': 'Convert ENSG00000196586 to official gene symbol.',\n",
       "  'answer': 'MYO6'},\n",
       " {'task': 'Gene name conversion',\n",
       "  'id': 284,\n",
       "  'question': 'Convert ENSG00000203783 to official gene symbol.',\n",
       "  'answer': 'PRR9'},\n",
       " {'task': 'Gene name conversion',\n",
       "  'id': 285,\n",
       "  'question': 'Convert ENSG00000126500 to official gene symbol.',\n",
       "  'answer': 'FLRT1'},\n",
       " {'task': 'Gene name conversion',\n",
       "  'id': 286,\n",
       "  'question': 'Convert ENSG00000010404 to official gene symbol.',\n",
       "  'answer': 'IDS'},\n",
       " {'task': 'Gene name conversion',\n",
       "  'id': 287,\n",
       "  'question': 'Convert ENSG00000182022 to official gene symbol.',\n",
       "  'answer': 'CHST15'},\n",
       " {'task': 'Gene name conversion',\n",
       "  'id': 288,\n",
       "  'question': 'Convert ENSG00000177051 to official gene symbol.',\n",
       "  'answer': 'FBXO46'},\n",
       " {'task': 'Gene name conversion',\n",
       "  'id': 289,\n",
       "  'question': 'Convert ENSG00000172296 to official gene symbol.',\n",
       "  'answer': 'SPTLC3'},\n",
       " {'task': 'Gene name conversion',\n",
       "  'id': 290,\n",
       "  'question': 'Convert ENSG00000120738 to official gene symbol.',\n",
       "  'answer': 'EGR1'},\n",
       " {'task': 'Gene name conversion',\n",
       "  'id': 291,\n",
       "  'question': 'Convert ENSG00000169548 to official gene symbol.',\n",
       "  'answer': 'ZNF280A'},\n",
       " {'task': 'Gene name conversion',\n",
       "  'id': 292,\n",
       "  'question': 'Convert ENSG00000153060 to official gene symbol.',\n",
       "  'answer': 'TEKT5'},\n",
       " {'task': 'Gene name conversion',\n",
       "  'id': 293,\n",
       "  'question': 'Convert ENSG00000176222 to official gene symbol.',\n",
       "  'answer': 'ZNF404'},\n",
       " {'task': 'Gene name conversion',\n",
       "  'id': 294,\n",
       "  'question': 'Convert ENSG00000168970 to official gene symbol.',\n",
       "  'answer': 'JMJD7-PLA2G4B'},\n",
       " {'task': 'Gene name conversion',\n",
       "  'id': 295,\n",
       "  'question': 'Convert ENSG00000185883 to official gene symbol.',\n",
       "  'answer': 'ATP6V0C'},\n",
       " {'task': 'Gene name conversion',\n",
       "  'id': 296,\n",
       "  'question': 'Convert ENSG00000240694 to official gene symbol.',\n",
       "  'answer': 'PNMA2'},\n",
       " {'task': 'Gene name conversion',\n",
       "  'id': 297,\n",
       "  'question': 'Convert ENSG00000167664 to official gene symbol.',\n",
       "  'answer': 'TMIGD2'},\n",
       " {'task': 'Gene name conversion',\n",
       "  'id': 298,\n",
       "  'question': 'Convert ENSG00000243660 to official gene symbol.',\n",
       "  'answer': 'ZNF487'},\n",
       " {'task': 'Gene name conversion',\n",
       "  'id': 299,\n",
       "  'question': 'Convert ENSG00000132205 to official gene symbol.',\n",
       "  'answer': 'EMILIN2'},\n",
       " {'task': 'Protein-coding genes',\n",
       "  'id': 300,\n",
       "  'question': 'Is ATP5F1EP2 a protein-coding gene?',\n",
       "  'answer': 'NA'},\n",
       " {'task': 'Protein-coding genes',\n",
       "  'id': 301,\n",
       "  'question': 'Is LOC124907753 a protein-coding gene?',\n",
       "  'answer': 'NA'},\n",
       " {'task': 'Protein-coding genes',\n",
       "  'id': 302,\n",
       "  'question': 'Is AMD1P4 a protein-coding gene?',\n",
       "  'answer': 'NA'},\n",
       " {'task': 'Protein-coding genes',\n",
       "  'id': 303,\n",
       "  'question': 'Is NODAL a protein-coding gene?',\n",
       "  'answer': 'TRUE'},\n",
       " {'task': 'Protein-coding genes',\n",
       "  'id': 304,\n",
       "  'question': 'Is MIR4436B2 a protein-coding gene?',\n",
       "  'answer': 'NA'},\n",
       " {'task': 'Protein-coding genes',\n",
       "  'id': 305,\n",
       "  'question': 'Is NAXE a protein-coding gene?',\n",
       "  'answer': 'TRUE'},\n",
       " {'task': 'Protein-coding genes',\n",
       "  'id': 306,\n",
       "  'question': 'Is LOC124909477 a protein-coding gene?',\n",
       "  'answer': 'NA'},\n",
       " {'task': 'Protein-coding genes',\n",
       "  'id': 307,\n",
       "  'question': 'Is LINC01560 a protein-coding gene?',\n",
       "  'answer': 'NA'},\n",
       " {'task': 'Protein-coding genes',\n",
       "  'id': 308,\n",
       "  'question': 'Is UCKL1-AS1 a protein-coding gene?',\n",
       "  'answer': 'NA'},\n",
       " {'task': 'Protein-coding genes',\n",
       "  'id': 309,\n",
       "  'question': 'Is MIR6843 a protein-coding gene?',\n",
       "  'answer': 'NA'},\n",
       " {'task': 'Protein-coding genes',\n",
       "  'id': 310,\n",
       "  'question': 'Is RPL7AP58 a protein-coding gene?',\n",
       "  'answer': 'NA'},\n",
       " {'task': 'Protein-coding genes',\n",
       "  'id': 311,\n",
       "  'question': 'Is SERF2 a protein-coding gene?',\n",
       "  'answer': 'TRUE'},\n",
       " {'task': 'Protein-coding genes',\n",
       "  'id': 312,\n",
       "  'question': 'Is LOC124907937 a protein-coding gene?',\n",
       "  'answer': 'NA'},\n",
       " {'task': 'Protein-coding genes',\n",
       "  'id': 313,\n",
       "  'question': 'Is RNU6-1193P a protein-coding gene?',\n",
       "  'answer': 'NA'},\n",
       " {'task': 'Protein-coding genes',\n",
       "  'id': 314,\n",
       "  'question': 'Is LOC124903168 a protein-coding gene?',\n",
       "  'answer': 'NA'},\n",
       " {'task': 'Protein-coding genes',\n",
       "  'id': 315,\n",
       "  'question': 'Is HMGB1P9 a protein-coding gene?',\n",
       "  'answer': 'NA'},\n",
       " {'task': 'Protein-coding genes',\n",
       "  'id': 316,\n",
       "  'question': 'Is LOC100420990 a protein-coding gene?',\n",
       "  'answer': 'NA'},\n",
       " {'task': 'Protein-coding genes',\n",
       "  'id': 317,\n",
       "  'question': 'Is RNU6-1212P a protein-coding gene?',\n",
       "  'answer': 'NA'},\n",
       " {'task': 'Protein-coding genes',\n",
       "  'id': 318,\n",
       "  'question': 'Is CPVL-AS2 a protein-coding gene?',\n",
       "  'answer': 'NA'},\n",
       " {'task': 'Protein-coding genes',\n",
       "  'id': 319,\n",
       "  'question': 'Is NPFFR1 a protein-coding gene?',\n",
       "  'answer': 'TRUE'},\n",
       " {'task': 'Protein-coding genes',\n",
       "  'id': 320,\n",
       "  'question': 'Is CYP4F10P a protein-coding gene?',\n",
       "  'answer': 'NA'},\n",
       " {'task': 'Protein-coding genes',\n",
       "  'id': 321,\n",
       "  'question': 'Is FANCG a protein-coding gene?',\n",
       "  'answer': 'TRUE'},\n",
       " {'task': 'Protein-coding genes',\n",
       "  'id': 322,\n",
       "  'question': 'Is CMKLR2 a protein-coding gene?',\n",
       "  'answer': 'TRUE'},\n",
       " {'task': 'Protein-coding genes',\n",
       "  'id': 323,\n",
       "  'question': 'Is SSBP3-AS1 a protein-coding gene?',\n",
       "  'answer': 'NA'},\n",
       " {'task': 'Protein-coding genes',\n",
       "  'id': 324,\n",
       "  'question': 'Is LOC100419835 a protein-coding gene?',\n",
       "  'answer': 'NA'},\n",
       " {'task': 'Protein-coding genes',\n",
       "  'id': 325,\n",
       "  'question': 'Is RNU7-171P a protein-coding gene?',\n",
       "  'answer': 'NA'},\n",
       " {'task': 'Protein-coding genes',\n",
       "  'id': 326,\n",
       "  'question': 'Is RPL34P34 a protein-coding gene?',\n",
       "  'answer': 'NA'},\n",
       " {'task': 'Protein-coding genes',\n",
       "  'id': 327,\n",
       "  'question': 'Is LOC100526841 a protein-coding gene?',\n",
       "  'answer': 'NA'},\n",
       " {'task': 'Protein-coding genes',\n",
       "  'id': 328,\n",
       "  'question': 'Is TTLL1 a protein-coding gene?',\n",
       "  'answer': 'TRUE'},\n",
       " {'task': 'Protein-coding genes',\n",
       "  'id': 329,\n",
       "  'question': 'Is CORO1A-AS1 a protein-coding gene?',\n",
       "  'answer': 'NA'},\n",
       " {'task': 'Protein-coding genes',\n",
       "  'id': 330,\n",
       "  'question': 'Is SPARC a protein-coding gene?',\n",
       "  'answer': 'TRUE'},\n",
       " {'task': 'Protein-coding genes',\n",
       "  'id': 331,\n",
       "  'question': 'Is LOC100129457 a protein-coding gene?',\n",
       "  'answer': 'NA'},\n",
       " {'task': 'Protein-coding genes',\n",
       "  'id': 332,\n",
       "  'question': 'Is HOTAIR a protein-coding gene?',\n",
       "  'answer': 'NA'},\n",
       " {'task': 'Protein-coding genes',\n",
       "  'id': 333,\n",
       "  'question': 'Is CAAP1 a protein-coding gene?',\n",
       "  'answer': 'TRUE'},\n",
       " {'task': 'Protein-coding genes',\n",
       "  'id': 334,\n",
       "  'question': 'Is PIGCP1 a protein-coding gene?',\n",
       "  'answer': 'NA'},\n",
       " {'task': 'Protein-coding genes',\n",
       "  'id': 335,\n",
       "  'question': 'Is LINC01054 a protein-coding gene?',\n",
       "  'answer': 'NA'},\n",
       " {'task': 'Protein-coding genes',\n",
       "  'id': 336,\n",
       "  'question': 'Is SPOP a protein-coding gene?',\n",
       "  'answer': 'TRUE'},\n",
       " {'task': 'Protein-coding genes',\n",
       "  'id': 337,\n",
       "  'question': 'Is RNU6-746P a protein-coding gene?',\n",
       "  'answer': 'NA'},\n",
       " {'task': 'Protein-coding genes',\n",
       "  'id': 338,\n",
       "  'question': 'Is POLE4P1 a protein-coding gene?',\n",
       "  'answer': 'NA'},\n",
       " {'task': 'Protein-coding genes',\n",
       "  'id': 339,\n",
       "  'question': 'Is RASSF3-DT a protein-coding gene?',\n",
       "  'answer': 'NA'},\n",
       " {'task': 'Protein-coding genes',\n",
       "  'id': 340,\n",
       "  'question': 'Is RPL31P19 a protein-coding gene?',\n",
       "  'answer': 'NA'},\n",
       " {'task': 'Protein-coding genes',\n",
       "  'id': 341,\n",
       "  'question': 'Is FBXO3-DT a protein-coding gene?',\n",
       "  'answer': 'NA'},\n",
       " {'task': 'Protein-coding genes',\n",
       "  'id': 342,\n",
       "  'question': 'Is DNAJB6P2 a protein-coding gene?',\n",
       "  'answer': 'NA'},\n",
       " {'task': 'Protein-coding genes',\n",
       "  'id': 343,\n",
       "  'question': 'Is LINC02865 a protein-coding gene?',\n",
       "  'answer': 'NA'},\n",
       " {'task': 'Protein-coding genes',\n",
       "  'id': 344,\n",
       "  'question': 'Is AFF1 a protein-coding gene?',\n",
       "  'answer': 'TRUE'},\n",
       " {'task': 'Protein-coding genes',\n",
       "  'id': 345,\n",
       "  'question': 'Is PWWP2A a protein-coding gene?',\n",
       "  'answer': 'TRUE'},\n",
       " {'task': 'Protein-coding genes',\n",
       "  'id': 346,\n",
       "  'question': 'Is LOC105369759 a protein-coding gene?',\n",
       "  'answer': 'NA'},\n",
       " {'task': 'Protein-coding genes',\n",
       "  'id': 347,\n",
       "  'question': 'Is B3GAT1 a protein-coding gene?',\n",
       "  'answer': 'TRUE'},\n",
       " {'task': 'Protein-coding genes',\n",
       "  'id': 348,\n",
       "  'question': 'Is MIR22HG a protein-coding gene?',\n",
       "  'answer': 'NA'},\n",
       " {'task': 'Protein-coding genes',\n",
       "  'id': 349,\n",
       "  'question': 'Is CGGBP1 a protein-coding gene?',\n",
       "  'answer': 'TRUE'},\n",
       " {'task': 'Gene SNP association',\n",
       "  'id': 350,\n",
       "  'question': 'Which gene is SNP rs1217074595 associated with?',\n",
       "  'answer': 'LINC01270'},\n",
       " {'task': 'Gene SNP association',\n",
       "  'id': 351,\n",
       "  'question': 'Which gene is SNP rs1241371358 associated with?',\n",
       "  'answer': 'LRRC23'},\n",
       " {'task': 'Gene SNP association',\n",
       "  'id': 352,\n",
       "  'question': 'Which gene is SNP rs1481036795 associated with?',\n",
       "  'answer': 'SEPTIN11'},\n",
       " {'task': 'Gene SNP association',\n",
       "  'id': 353,\n",
       "  'question': 'Which gene is SNP rs1318850293 associated with?',\n",
       "  'answer': 'PLEKHG7'},\n",
       " {'task': 'Gene SNP association',\n",
       "  'id': 354,\n",
       "  'question': 'Which gene is SNP rs996319727 associated with?',\n",
       "  'answer': 'USP39'},\n",
       " {'task': 'Gene SNP association',\n",
       "  'id': 355,\n",
       "  'question': 'Which gene is SNP rs577757681 associated with?',\n",
       "  'answer': 'OXR1'},\n",
       " {'task': 'Gene SNP association',\n",
       "  'id': 356,\n",
       "  'question': 'Which gene is SNP rs1294482311 associated with?',\n",
       "  'answer': 'DMXL1'},\n",
       " {'task': 'Gene SNP association',\n",
       "  'id': 357,\n",
       "  'question': 'Which gene is SNP rs979970652 associated with?',\n",
       "  'answer': 'KHDRBS2'},\n",
       " {'task': 'Gene SNP association',\n",
       "  'id': 358,\n",
       "  'question': 'Which gene is SNP rs1029002401 associated with?',\n",
       "  'answer': 'MAJIN'},\n",
       " {'task': 'Gene SNP association',\n",
       "  'id': 359,\n",
       "  'question': 'Which gene is SNP rs1015227 associated with?',\n",
       "  'answer': 'SCHLAP1'},\n",
       " {'task': 'Gene SNP association',\n",
       "  'id': 360,\n",
       "  'question': 'Which gene is SNP rs1278530438 associated with?',\n",
       "  'answer': 'LDLRAD4'},\n",
       " {'task': 'Gene SNP association',\n",
       "  'id': 361,\n",
       "  'question': 'Which gene is SNP rs745325402 associated with?',\n",
       "  'answer': 'CALCR'},\n",
       " {'task': 'Gene SNP association',\n",
       "  'id': 362,\n",
       "  'question': 'Which gene is SNP rs4704888 associated with?',\n",
       "  'answer': 'SGCD'},\n",
       " {'task': 'Gene SNP association',\n",
       "  'id': 363,\n",
       "  'question': 'Which gene is SNP rs1201372088 associated with?',\n",
       "  'answer': 'ZBTB25'},\n",
       " {'task': 'Gene SNP association',\n",
       "  'id': 364,\n",
       "  'question': 'Which gene is SNP rs1324451169 associated with?',\n",
       "  'answer': 'MED26'},\n",
       " {'task': 'Gene SNP association',\n",
       "  'id': 365,\n",
       "  'question': 'Which gene is SNP rs983419152 associated with?',\n",
       "  'answer': 'LINC02055'},\n",
       " {'task': 'Gene SNP association',\n",
       "  'id': 366,\n",
       "  'question': 'Which gene is SNP rs745940901 associated with?',\n",
       "  'answer': 'JMJD1C'},\n",
       " {'task': 'Gene SNP association',\n",
       "  'id': 367,\n",
       "  'question': 'Which gene is SNP rs1303680136 associated with?',\n",
       "  'answer': 'XKR9'},\n",
       " {'task': 'Gene SNP association',\n",
       "  'id': 368,\n",
       "  'question': 'Which gene is SNP rs1053827498 associated with?',\n",
       "  'answer': 'NSMCE1'},\n",
       " {'task': 'Gene SNP association',\n",
       "  'id': 369,\n",
       "  'question': 'Which gene is SNP rs1350154096 associated with?',\n",
       "  'answer': 'LOC107986092'},\n",
       " {'task': 'Gene SNP association',\n",
       "  'id': 370,\n",
       "  'question': 'Which gene is SNP rs1037441458 associated with?',\n",
       "  'answer': 'LOC105372191'},\n",
       " {'task': 'Gene SNP association',\n",
       "  'id': 371,\n",
       "  'question': 'Which gene is SNP rs900408143 associated with?',\n",
       "  'answer': 'RBFOX1'},\n",
       " {'task': 'Gene SNP association',\n",
       "  'id': 372,\n",
       "  'question': 'Which gene is SNP rs900532834 associated with?',\n",
       "  'answer': 'PAK1'},\n",
       " {'task': 'Gene SNP association',\n",
       "  'id': 373,\n",
       "  'question': 'Which gene is SNP rs1281200566 associated with?',\n",
       "  'answer': 'CCT8L2'},\n",
       " {'task': 'Gene SNP association',\n",
       "  'id': 374,\n",
       "  'question': 'Which gene is SNP rs1431266687 associated with?',\n",
       "  'answer': 'CACNB2'},\n",
       " {'task': 'Gene SNP association',\n",
       "  'id': 375,\n",
       "  'question': 'Which gene is SNP rs900745020 associated with?',\n",
       "  'answer': 'CREB5'},\n",
       " {'task': 'Gene SNP association',\n",
       "  'id': 376,\n",
       "  'question': 'Which gene is SNP rs1188606225 associated with?',\n",
       "  'answer': 'GAREM1'},\n",
       " {'task': 'Gene SNP association',\n",
       "  'id': 377,\n",
       "  'question': 'Which gene is SNP rs902730377 associated with?',\n",
       "  'answer': 'LOC105372323'},\n",
       " {'task': 'Gene SNP association',\n",
       "  'id': 378,\n",
       "  'question': 'Which gene is SNP rs1044115387 associated with?',\n",
       "  'answer': 'GLIS3'},\n",
       " {'task': 'Gene SNP association',\n",
       "  'id': 379,\n",
       "  'question': 'Which gene is SNP rs979980368 associated with?',\n",
       "  'answer': 'FAM53B'},\n",
       " {'task': 'Gene SNP association',\n",
       "  'id': 380,\n",
       "  'question': 'Which gene is SNP rs1161130206 associated with?',\n",
       "  'answer': 'EMX2OS'},\n",
       " {'task': 'Gene SNP association',\n",
       "  'id': 381,\n",
       "  'question': 'Which gene is SNP rs910422326 associated with?',\n",
       "  'answer': 'ANKFN1'},\n",
       " {'task': 'Gene SNP association',\n",
       "  'id': 382,\n",
       "  'question': 'Which gene is SNP rs1035892430 associated with?',\n",
       "  'answer': 'TSPAN15'},\n",
       " {'task': 'Gene SNP association',\n",
       "  'id': 383,\n",
       "  'question': 'Which gene is SNP rs1255093658 associated with?',\n",
       "  'answer': 'TENM3'},\n",
       " {'task': 'Gene SNP association',\n",
       "  'id': 384,\n",
       "  'question': 'Which gene is SNP rs1257276516 associated with?',\n",
       "  'answer': 'LOC100506403'},\n",
       " {'task': 'Gene SNP association',\n",
       "  'id': 385,\n",
       "  'question': 'Which gene is SNP rs563369098 associated with?',\n",
       "  'answer': 'LINC01673'},\n",
       " {'task': 'Gene SNP association',\n",
       "  'id': 386,\n",
       "  'question': 'Which gene is SNP rs1032834815 associated with?',\n",
       "  'answer': 'FNDC3B'},\n",
       " {'task': 'Gene SNP association',\n",
       "  'id': 387,\n",
       "  'question': 'Which gene is SNP rs552952471 associated with?',\n",
       "  'answer': 'RARB'},\n",
       " {'task': 'Gene SNP association',\n",
       "  'id': 388,\n",
       "  'question': 'Which gene is SNP rs1452964195 associated with?',\n",
       "  'answer': 'LINC03021'},\n",
       " {'task': 'Gene SNP association',\n",
       "  'id': 389,\n",
       "  'question': 'Which gene is SNP rs949202492 associated with?',\n",
       "  'answer': 'NECAB2'},\n",
       " {'task': 'Gene SNP association',\n",
       "  'id': 390,\n",
       "  'question': 'Which gene is SNP rs1218214598 associated with?',\n",
       "  'answer': 'MIR4527HG'},\n",
       " {'task': 'Gene SNP association',\n",
       "  'id': 391,\n",
       "  'question': 'Which gene is SNP rs1022906840 associated with?',\n",
       "  'answer': 'CCDC178'},\n",
       " {'task': 'Gene SNP association',\n",
       "  'id': 392,\n",
       "  'question': 'Which gene is SNP rs1199372758 associated with?',\n",
       "  'answer': 'RUBCN'},\n",
       " {'task': 'Gene SNP association',\n",
       "  'id': 393,\n",
       "  'question': 'Which gene is SNP rs1396355441 associated with?',\n",
       "  'answer': 'PTPRB'},\n",
       " {'task': 'Gene SNP association',\n",
       "  'id': 394,\n",
       "  'question': 'Which gene is SNP rs1432624213 associated with?',\n",
       "  'answer': 'SLC22A14'},\n",
       " {'task': 'Gene SNP association',\n",
       "  'id': 395,\n",
       "  'question': 'Which gene is SNP rs937944577 associated with?',\n",
       "  'answer': 'IFFO1'},\n",
       " {'task': 'Gene SNP association',\n",
       "  'id': 396,\n",
       "  'question': 'Which gene is SNP rs1450106117 associated with?',\n",
       "  'answer': 'MED13'},\n",
       " {'task': 'Gene SNP association',\n",
       "  'id': 397,\n",
       "  'question': 'Which gene is SNP rs34083046 associated with?',\n",
       "  'answer': 'MICU1'},\n",
       " {'task': 'Gene SNP association',\n",
       "  'id': 398,\n",
       "  'question': 'Which gene is SNP rs149916046 associated with?',\n",
       "  'answer': 'LINC02841'},\n",
       " {'task': 'Gene SNP association',\n",
       "  'id': 399,\n",
       "  'question': 'Which gene is SNP rs1385096481 associated with?',\n",
       "  'answer': 'LRFN5'},\n",
       " {'task': 'SNP location',\n",
       "  'id': 400,\n",
       "  'question': 'Which chromosome does SNP rs1430464868 locate on human genome?',\n",
       "  'answer': 'chr13'},\n",
       " {'task': 'SNP location',\n",
       "  'id': 401,\n",
       "  'question': 'Which chromosome does SNP rs545148486 locate on human genome?',\n",
       "  'answer': 'chr16'},\n",
       " {'task': 'SNP location',\n",
       "  'id': 402,\n",
       "  'question': 'Which chromosome does SNP rs895485955 locate on human genome?',\n",
       "  'answer': 'chr19'},\n",
       " {'task': 'SNP location',\n",
       "  'id': 403,\n",
       "  'question': 'Which chromosome does SNP rs1376217783 locate on human genome?',\n",
       "  'answer': 'chr11'},\n",
       " {'task': 'SNP location',\n",
       "  'id': 404,\n",
       "  'question': 'Which chromosome does SNP rs1420724913 locate on human genome?',\n",
       "  'answer': 'chr16'},\n",
       " {'task': 'SNP location',\n",
       "  'id': 405,\n",
       "  'question': 'Which chromosome does SNP rs992486373 locate on human genome?',\n",
       "  'answer': 'chr15'},\n",
       " {'task': 'SNP location',\n",
       "  'id': 406,\n",
       "  'question': 'Which chromosome does SNP rs975300764 locate on human genome?',\n",
       "  'answer': 'chr4'},\n",
       " {'task': 'SNP location',\n",
       "  'id': 407,\n",
       "  'question': 'Which chromosome does SNP rs993131098 locate on human genome?',\n",
       "  'answer': 'chr14'},\n",
       " {'task': 'SNP location',\n",
       "  'id': 408,\n",
       "  'question': 'Which chromosome does SNP rs899883800 locate on human genome?',\n",
       "  'answer': 'chr1'},\n",
       " {'task': 'SNP location',\n",
       "  'id': 409,\n",
       "  'question': 'Which chromosome does SNP rs547832386 locate on human genome?',\n",
       "  'answer': 'chr15'},\n",
       " {'task': 'SNP location',\n",
       "  'id': 410,\n",
       "  'question': 'Which chromosome does SNP rs1212113267 locate on human genome?',\n",
       "  'answer': 'chr22'},\n",
       " {'task': 'SNP location',\n",
       "  'id': 411,\n",
       "  'question': 'Which chromosome does SNP rs1435895561 locate on human genome?',\n",
       "  'answer': 'chr19'},\n",
       " {'task': 'SNP location',\n",
       "  'id': 412,\n",
       "  'question': 'Which chromosome does SNP rs427884 locate on human genome?',\n",
       "  'answer': 'chr11'},\n",
       " {'task': 'SNP location',\n",
       "  'id': 413,\n",
       "  'question': 'Which chromosome does SNP rs1188706680 locate on human genome?',\n",
       "  'answer': 'chr4'},\n",
       " {'task': 'SNP location',\n",
       "  'id': 414,\n",
       "  'question': 'Which chromosome does SNP rs1316126938 locate on human genome?',\n",
       "  'answer': 'chr18'},\n",
       " {'task': 'SNP location',\n",
       "  'id': 415,\n",
       "  'question': 'Which chromosome does SNP rs1398189587 locate on human genome?',\n",
       "  'answer': 'chr4'},\n",
       " {'task': 'SNP location',\n",
       "  'id': 416,\n",
       "  'question': 'Which chromosome does SNP rs1372020525 locate on human genome?',\n",
       "  'answer': 'chr14'},\n",
       " {'task': 'SNP location',\n",
       "  'id': 417,\n",
       "  'question': 'Which chromosome does SNP rs188137472 locate on human genome?',\n",
       "  'answer': 'chr17'},\n",
       " {'task': 'SNP location',\n",
       "  'id': 418,\n",
       "  'question': 'Which chromosome does SNP rs1246801490 locate on human genome?',\n",
       "  'answer': 'chr18'},\n",
       " {'task': 'SNP location',\n",
       "  'id': 419,\n",
       "  'question': 'Which chromosome does SNP rs983633514 locate on human genome?',\n",
       "  'answer': 'chr8'},\n",
       " {'task': 'SNP location',\n",
       "  'id': 420,\n",
       "  'question': 'Which chromosome does SNP rs1274126968 locate on human genome?',\n",
       "  'answer': 'chr14'},\n",
       " {'task': 'SNP location',\n",
       "  'id': 421,\n",
       "  'question': 'Which chromosome does SNP rs1392348488 locate on human genome?',\n",
       "  'answer': 'chr22'},\n",
       " {'task': 'SNP location',\n",
       "  'id': 422,\n",
       "  'question': 'Which chromosome does SNP rs965556407 locate on human genome?',\n",
       "  'answer': 'chr4'},\n",
       " {'task': 'SNP location',\n",
       "  'id': 423,\n",
       "  'question': 'Which chromosome does SNP rs999510594 locate on human genome?',\n",
       "  'answer': 'chr16'},\n",
       " {'task': 'SNP location',\n",
       "  'id': 424,\n",
       "  'question': 'Which chromosome does SNP rs1412275115 locate on human genome?',\n",
       "  'answer': 'chr17'},\n",
       " {'task': 'SNP location',\n",
       "  'id': 425,\n",
       "  'question': 'Which chromosome does SNP rs951388492 locate on human genome?',\n",
       "  'answer': 'chr14'},\n",
       " {'task': 'SNP location',\n",
       "  'id': 426,\n",
       "  'question': 'Which chromosome does SNP rs967011458 locate on human genome?',\n",
       "  'answer': 'chr4'},\n",
       " {'task': 'SNP location',\n",
       "  'id': 427,\n",
       "  'question': 'Which chromosome does SNP rs555675816 locate on human genome?',\n",
       "  'answer': 'chr8'},\n",
       " {'task': 'SNP location',\n",
       "  'id': 428,\n",
       "  'question': 'Which chromosome does SNP rs1333853138 locate on human genome?',\n",
       "  'answer': 'chr22'},\n",
       " {'task': 'SNP location',\n",
       "  'id': 429,\n",
       "  'question': 'Which chromosome does SNP rs910383316 locate on human genome?',\n",
       "  'answer': 'chr1'},\n",
       " {'task': 'SNP location',\n",
       "  'id': 430,\n",
       "  'question': 'Which chromosome does SNP rs563617526 locate on human genome?',\n",
       "  'answer': 'chr11'},\n",
       " {'task': 'SNP location',\n",
       "  'id': 431,\n",
       "  'question': 'Which chromosome does SNP rs1357251061 locate on human genome?',\n",
       "  'answer': 'chr21'},\n",
       " {'task': 'SNP location',\n",
       "  'id': 432,\n",
       "  'question': 'Which chromosome does SNP rs1401416674 locate on human genome?',\n",
       "  'answer': 'chr10'},\n",
       " {'task': 'SNP location',\n",
       "  'id': 433,\n",
       "  'question': 'Which chromosome does SNP rs76491275 locate on human genome?',\n",
       "  'answer': 'chr21'},\n",
       " {'task': 'SNP location',\n",
       "  'id': 434,\n",
       "  'question': 'Which chromosome does SNP rs141272872 locate on human genome?',\n",
       "  'answer': 'chr3'},\n",
       " {'task': 'SNP location',\n",
       "  'id': 435,\n",
       "  'question': 'Which chromosome does SNP rs1281763211 locate on human genome?',\n",
       "  'answer': 'chr4'},\n",
       " {'task': 'SNP location',\n",
       "  'id': 436,\n",
       "  'question': 'Which chromosome does SNP rs1278117191 locate on human genome?',\n",
       "  'answer': 'chr20'},\n",
       " {'task': 'SNP location',\n",
       "  'id': 437,\n",
       "  'question': 'Which chromosome does SNP rs1239675264 locate on human genome?',\n",
       "  'answer': 'chr21'},\n",
       " {'task': 'SNP location',\n",
       "  'id': 438,\n",
       "  'question': 'Which chromosome does SNP rs866998836 locate on human genome?',\n",
       "  'answer': 'chr17'},\n",
       " {'task': 'SNP location',\n",
       "  'id': 439,\n",
       "  'question': 'Which chromosome does SNP rs1228002921 locate on human genome?',\n",
       "  'answer': 'chr2'},\n",
       " {'task': 'SNP location',\n",
       "  'id': 440,\n",
       "  'question': 'Which chromosome does SNP rs976400036 locate on human genome?',\n",
       "  'answer': 'chr19'},\n",
       " {'task': 'SNP location',\n",
       "  'id': 441,\n",
       "  'question': 'Which chromosome does SNP rs397784008 locate on human genome?',\n",
       "  'answer': 'chr15'},\n",
       " {'task': 'SNP location',\n",
       "  'id': 442,\n",
       "  'question': 'Which chromosome does SNP rs1170945868 locate on human genome?',\n",
       "  'answer': 'chr22'},\n",
       " {'task': 'SNP location',\n",
       "  'id': 443,\n",
       "  'question': 'Which chromosome does SNP rs990783431 locate on human genome?',\n",
       "  'answer': 'chr3'},\n",
       " {'task': 'SNP location',\n",
       "  'id': 444,\n",
       "  'question': 'Which chromosome does SNP rs1041819671 locate on human genome?',\n",
       "  'answer': 'chr5'},\n",
       " {'task': 'SNP location',\n",
       "  'id': 445,\n",
       "  'question': 'Which chromosome does SNP rs139642661 locate on human genome?',\n",
       "  'answer': 'chr14'},\n",
       " {'task': 'SNP location',\n",
       "  'id': 446,\n",
       "  'question': 'Which chromosome does SNP rs1263053296 locate on human genome?',\n",
       "  'answer': 'chr14'},\n",
       " {'task': 'SNP location',\n",
       "  'id': 447,\n",
       "  'question': 'Which chromosome does SNP rs1391145256 locate on human genome?',\n",
       "  'answer': 'chr12'},\n",
       " {'task': 'SNP location',\n",
       "  'id': 448,\n",
       "  'question': 'Which chromosome does SNP rs1002944049 locate on human genome?',\n",
       "  'answer': 'chr9'},\n",
       " {'task': 'SNP location',\n",
       "  'id': 449,\n",
       "  'question': 'Which chromosome does SNP rs962314907 locate on human genome?',\n",
       "  'answer': 'chr5'}]"
      ]
     },
     "execution_count": 7,
     "metadata": {},
     "output_type": "execute_result"
    }
   ],
   "source": [
    "dataset"
   ]
  },
  {
   "cell_type": "code",
   "execution_count": 8,
   "id": "fe9a5062",
   "metadata": {},
   "outputs": [],
   "source": [
    "# 3.2 Iterate through the JSON data recursively to collect each of the rows into a list\n",
    "#     Each row should have a dictionary with keys of the columsn in the table above\n",
    "\n",
    "\n",
    "# def flatten_geneturing_json(raw_data) -> List[Dict[str, str]]:\n",
    "\n",
    "#     flat_data = []\n",
    "#     counter = 0\n",
    "\n",
    "#     for  in raw_data:\n",
    "#         for question, answer in qa_pairs.items():\n",
    "#             row = {\n",
    "#                 \"id\": counter,\n",
    "#                 \"task\": task_name,\n",
    "#                 \"question\": question,\n",
    "#                 \"answer\": answer\n",
    "#             }\n",
    "#             flat_data.append(row)\n",
    "#             counter += 1\n",
    "\n",
    "  \n",
    "\n",
    "#     return flat_data\n",
    "\n",
    "# dataset = flatten_geneturing_json(dataset)\n",
    "# print(f\"Flattened to {len(dataset)} rows.\")\n"
   ]
  },
  {
   "cell_type": "code",
   "execution_count": 9,
   "id": "7bdff6ef",
   "metadata": {},
   "outputs": [
    {
     "name": "stdout",
     "output_type": "stream",
     "text": [
      "DataFrame shape: (450, 3)\n"
     ]
    },
    {
     "data": {
      "application/vnd.microsoft.datawrangler.viewer.v0+json": {
       "columns": [
        {
         "name": "id",
         "rawType": "int64",
         "type": "integer"
        },
        {
         "name": "task",
         "rawType": "object",
         "type": "string"
        },
        {
         "name": "question",
         "rawType": "object",
         "type": "string"
        },
        {
         "name": "answer",
         "rawType": "object",
         "type": "string"
        }
       ],
       "ref": "bed8ca67-b871-4bc9-a445-7df7749945e0",
       "rows": [
        [
         "0",
         "Gene alias",
         "What is the official gene symbol of LMP10?",
         "PSMB10"
        ],
        [
         "1",
         "Gene alias",
         "What is the official gene symbol of SNAT6?",
         "SLC38A6"
        ],
        [
         "2",
         "Gene alias",
         "What is the official gene symbol of IMD20?",
         "FCGR3A"
        ],
        [
         "3",
         "Gene alias",
         "What is the official gene symbol of C20orf195?",
         "FNDC11"
        ],
        [
         "4",
         "Gene alias",
         "What is the official gene symbol of CXorf40B?",
         "EOLA2"
        ]
       ],
       "shape": {
        "columns": 3,
        "rows": 5
       }
      },
      "text/html": [
       "<div>\n",
       "<style scoped>\n",
       "    .dataframe tbody tr th:only-of-type {\n",
       "        vertical-align: middle;\n",
       "    }\n",
       "\n",
       "    .dataframe tbody tr th {\n",
       "        vertical-align: top;\n",
       "    }\n",
       "\n",
       "    .dataframe thead th {\n",
       "        text-align: right;\n",
       "    }\n",
       "</style>\n",
       "<table border=\"1\" class=\"dataframe\">\n",
       "  <thead>\n",
       "    <tr style=\"text-align: right;\">\n",
       "      <th></th>\n",
       "      <th>task</th>\n",
       "      <th>question</th>\n",
       "      <th>answer</th>\n",
       "    </tr>\n",
       "    <tr>\n",
       "      <th>id</th>\n",
       "      <th></th>\n",
       "      <th></th>\n",
       "      <th></th>\n",
       "    </tr>\n",
       "  </thead>\n",
       "  <tbody>\n",
       "    <tr>\n",
       "      <th>0</th>\n",
       "      <td>Gene alias</td>\n",
       "      <td>What is the official gene symbol of LMP10?</td>\n",
       "      <td>PSMB10</td>\n",
       "    </tr>\n",
       "    <tr>\n",
       "      <th>1</th>\n",
       "      <td>Gene alias</td>\n",
       "      <td>What is the official gene symbol of SNAT6?</td>\n",
       "      <td>SLC38A6</td>\n",
       "    </tr>\n",
       "    <tr>\n",
       "      <th>2</th>\n",
       "      <td>Gene alias</td>\n",
       "      <td>What is the official gene symbol of IMD20?</td>\n",
       "      <td>FCGR3A</td>\n",
       "    </tr>\n",
       "    <tr>\n",
       "      <th>3</th>\n",
       "      <td>Gene alias</td>\n",
       "      <td>What is the official gene symbol of C20orf195?</td>\n",
       "      <td>FNDC11</td>\n",
       "    </tr>\n",
       "    <tr>\n",
       "      <th>4</th>\n",
       "      <td>Gene alias</td>\n",
       "      <td>What is the official gene symbol of CXorf40B?</td>\n",
       "      <td>EOLA2</td>\n",
       "    </tr>\n",
       "  </tbody>\n",
       "</table>\n",
       "</div>"
      ],
      "text/plain": [
       "          task                                        question   answer\n",
       "id                                                                     \n",
       "0   Gene alias      What is the official gene symbol of LMP10?   PSMB10\n",
       "1   Gene alias      What is the official gene symbol of SNAT6?  SLC38A6\n",
       "2   Gene alias      What is the official gene symbol of IMD20?   FCGR3A\n",
       "3   Gene alias  What is the official gene symbol of C20orf195?   FNDC11\n",
       "4   Gene alias   What is the official gene symbol of CXorf40B?    EOLA2"
      ]
     },
     "metadata": {},
     "output_type": "display_data"
    }
   ],
   "source": [
    "# 3.3 Create the pandas dataframe from the collection of rows\n",
    "\n",
    "import pandas as pd\n",
    "\n",
    "def build_dataframe(flat_data: List[Dict[str, str]]) -> pd.DataFrame:\n",
    "\n",
    "    df = pd.DataFrame(flat_data)\n",
    "    \n",
    "    df = df[[\"id\", \"task\", \"question\", \"answer\"]]  \n",
    "    df.set_index(\"id\", inplace=True)\n",
    "    return df\n",
    "\n",
    "df = build_dataframe(dataset)\n",
    "print(f\"DataFrame shape: {df.shape}\")\n",
    "display(df.head())"
   ]
  },
  {
   "cell_type": "markdown",
   "id": "f5f330e0",
   "metadata": {},
   "source": [
    "## 4. Model Specification"
   ]
  },
  {
   "cell_type": "markdown",
   "id": "fc0dff55",
   "metadata": {
    "tags": [
     "skip"
    ]
   },
   "source": [
    "With our few-shot in-context learning model, we need to specify four components:\n",
    "\n",
    "1. The large language model to use\n",
    "2. The instructions for the model as a system prompt\n",
    "3. The few-shot examples to provide to the model to demonstrate the input-output format\n",
    "4. The completion request function that puts it all together retrieving a response for each unseen input"
   ]
  },
  {
   "cell_type": "markdown",
   "id": "bd5a9f18",
   "metadata": {},
   "source": [
    "### 4.1 Setting up the large language model"
   ]
  },
  {
   "cell_type": "markdown",
   "id": "089f0a94",
   "metadata": {
    "tags": [
     "skip"
    ]
   },
   "source": [
    "We will use the Ollama client to interface with the large language model on the Ollama server we started. With large language models, it is common to use a client library to interface with the model hosted by a server. This allows us to iterate quickly on the prompting and post-processing logic without having to incur the overhead of loading the model into memory each time.  Additionally, model code is oftentimes optimized for inference."
   ]
  },
  {
   "cell_type": "code",
   "execution_count": 10,
   "id": "35a90c6a",
   "metadata": {},
   "outputs": [],
   "source": [
    "# from ollama import Client\n",
    "# client = Client(\n",
    "#   host='http://localhost:11434',\n",
    "# )\n",
    "# response = client.chat(model='qwen3:4b', messages=[\n",
    "#   {\n",
    "#     'role': 'user',\n",
    "#     'content': 'Why is the sky blue?',\n",
    "#   },\n",
    "# ])"
   ]
  },
  {
   "cell_type": "code",
   "execution_count": 11,
   "id": "e045007a",
   "metadata": {},
   "outputs": [
    {
     "name": "stdout",
     "output_type": "stream",
     "text": [
      "How exciting! Paris is filled with iconic landmarks, world-class museums, beautiful neighborhoods, and delicious food. Here are some top recommendations to help you plan your trip:\n",
      "\n",
      "### Iconic Sights\n",
      "- **Eiffel Tower**: Go up for city views or picnic in the Champ de Mars park below.\n",
      "- **Louvre Museum**: See the Mona Lisa, the Venus de Milo, and countless masterpieces.\n",
      "- **Notre-Dame Cathedral**: Although restoration is still ongoing, the exterior is impressive and the nearby Île de la Cité is lovely to stroll around.\n",
      "- **Arc de Triomphe**: Climb to the top for panoramic views of the Champs-Élysées and Paris.\n",
      "- **Sacre-Cœur Basilica**: Perched atop Montmartre hill, with great views and a charming neighborhood to explore.\n",
      "\n",
      "### Neighborhoods to Explore\n",
      "- **Le Marais**: Trendy boutiques, cafés, and the historic Place des Vosges.\n",
      "- **Montmartre**: Bohemian charm, artists in Place du Tertre, and vintage shops.\n",
      "- **Latin Quarter**: Bookshops (like Shakespeare & Co.), Sorbonne University, and vibrant nightlife.\n",
      "- **Saint-Germain-des-Prés**: Chic cafés, art galleries, and designer boutiques.\n",
      "\n",
      "### Art & Culture\n",
      "- **Musée d’Orsay**: Impressionist masterpieces in a beautiful former railway station.\n",
      "- **Centre Pompidou**: Modern and contemporary art with a funky exterior.\n",
      "- **Opéra Garnier**: Take a tour or catch a performance if you can.\n",
      "\n",
      "### Parks & Gardens\n",
      "- **Jardin du Luxembourg**: Relax in these beautiful gardens.\n",
      "- **Tuileries Garden**: Between the Louvre and Place de la Concorde.\n",
      "- **Parc des Buttes-Chaumont**: Off the beaten path with rocky cliffs and waterfalls.\n",
      "\n",
      "### Food Experiences\n",
      "- **Bakery treats**: Try a fresh croissant or pain au chocolat.\n",
      "- **Local markets**: Such as Marché des Enfants Rouges in the Marais.\n",
      "- **Classic cuisine**: Consider a bistro meal or a wine-and-cheese tasting.\n",
      "\n",
      "### Other Unique Experiences\n",
      "- **Seine River Cruise**: Lovely at night with all the monuments lit up.\n",
      "- **Père Lachaise Cemetery**: See the graves of Jim Morrison, Oscar Wilde, and other famous figures.\n",
      "- **Catacombs of Paris**: Explore the fascinating tunnels beneath the city.\n",
      "\n",
      "### Tips\n",
      "- Paris is very walkable and has an excellent Metro system.\n",
      "- Consider buying “skip the line” tickets for major attractions.\n",
      "- Try to visit a mix of big attractions and small neighborhoods for the full Parisian experience!\n",
      "\n",
      "Let me know your interests (art, history, shopping, food, etc.), and I can customize more recommendations! Bon voyage!\n"
     ]
    }
   ],
   "source": [
    "# 4.1 Setting up the large language model Ollama model client\n",
    "from openai import AzureOpenAI\n",
    "\n",
    "OllamaClient = AzureOpenAI(\n",
    "    api_version=AZURE_OPENAI_API_VERSION,\n",
    "    azure_endpoint=AZURE_OPENAI_ENDPOINT,\n",
    "    api_key=AZURE_OPENAI_KEY,\n",
    ")\n",
    "\n",
    "response = OllamaClient.chat.completions.create(\n",
    "    messages=[\n",
    "        {\n",
    "            \"role\": \"system\",\n",
    "            \"content\": \"You are a helpful assistant.\",\n",
    "        },\n",
    "        {\n",
    "            \"role\": \"user\",\n",
    "            \"content\": \"I am going to Paris, what should I see?\",\n",
    "        }\n",
    "    ],\n",
    "   \n",
    "    max_completion_tokens=model_config['max_tokens'],\n",
    "    temperature=model_config['temperature'],\n",
    "    top_p=model_config['top_p'],\n",
    "    frequency_penalty=model_config['frequency_penalty'],\n",
    "    presence_penalty=model_config['presence_penalty'],\n",
    "    model=model_config['model_name']\n",
    "\n",
    ")\n",
    "\n",
    "print(response.choices[0].message.content)\n"
   ]
  },
  {
   "cell_type": "markdown",
   "id": "8caf45c9",
   "metadata": {},
   "source": [
    "### 4.2 Setting up the system prompt"
   ]
  },
  {
   "cell_type": "markdown",
   "id": "8e46af38",
   "metadata": {
    "tags": [
     "skip"
    ]
   },
   "source": [
    "Modern large language models are post-trained to perform a variety of tasks and follow instructions. To leverage this capability, we need to provide a system prompt that clearly outlines the task, any constraints, and the format of the output."
   ]
  },
  {
   "cell_type": "markdown",
   "id": "c29bf3d5",
   "metadata": {
    "tags": [
     "skip"
    ]
   },
   "source": [
    "Designing the system prompt is a critical aspect of using LLMs. Below are several resources for designing a system prompt:\n",
    "* [OpenAI Prompt Engineering](https://platform.openai.com/docs/guides/text?api-mode=responses#prompt-engineering)\n",
    "* [Kaggle/Google Prompt Engineering](https://www.kaggle.com/whitepaper-prompt-engineering?_bhlid=a2bfce2cac67662098bd85a241e7cb000576e5d4)\n",
    "* [Anthropic Prompt Engineering](https://docs.anthropic.com/en/docs/build-with-claude/prompt-engineering/overview)\n",
    "* [OpenAI GPT 4.1 Prompting Cookbook](https://cookbook.openai.com/examples/gpt4-1_prompting_guide)\n"
   ]
  },
  {
   "cell_type": "markdown",
   "id": "6887a248",
   "metadata": {
    "tags": [
     "skip"
    ]
   },
   "source": [
    "**From the OpenAI Prompt Engineering guide:**\n",
    "\n",
    "> **Identity**: Describe the purpose, communication style, and high-level goals of the assistant. \n",
    "> \n",
    "> **Instructions**: Provide guidance to the model on how to generate the response you want. What rules should it follow? What should the model do, and what should the model never do? This section could contain many subsections as relevant for your use case, like how the model should call custom functions.  \n",
    ">\n",
    "> **Examples**: Provide examples of possible inputs, along with the desired output from the model.  \n",
    "> \n",
    "> **Context**: Give the model any additional information it might need to generate a response, like private/proprietary data outside its training data, or any other data you know will be particularly relevant. This content is usually best positioned near the end of your prompt, as you may include different context for different generation requests.  "
   ]
  },
  {
   "cell_type": "markdown",
   "id": "fcebc861",
   "metadata": {
    "tags": [
     "skip"
    ]
   },
   "source": [
    "This is what the system prompt looked like in the originalGeneGPT paper, but it is not the best. Identify what it includes and what is missing. Implement your own system prompt incorporating best practices from some of the guides posted above. \n",
    "\n",
    "> \t'Hello. Your task is to use NCBI Web APIs to answer genomic questions.'"
   ]
  },
  {
   "cell_type": "code",
   "execution_count": 12,
   "id": "1d73bcd5",
   "metadata": {},
   "outputs": [],
   "source": [
    "# 4.2 Draft your own system prompt for our generic genomics question answering system. \n",
    "#     Replace the system message `content` below with your own.\n",
    "system_message = [\n",
    "    {\n",
    "        \"role\": \"system\",\n",
    "        \"content\": \"You are a genomic assistant. When answering questions, return only the final answer.\"\n",
    "         \"Do not include explanations, references, or formatting. For example, only reply 'chr1:123-456'\"\n",
    "        \"or 'GNAS' without additional context.\"\n",
    "    }\n",
    "]"
   ]
  },
  {
   "cell_type": "markdown",
   "id": "bcb0bf3f",
   "metadata": {},
   "source": [
    "### 4.3 Setting up the few-shot examples"
   ]
  },
  {
   "cell_type": "markdown",
   "id": "dae8d700",
   "metadata": {
    "tags": [
     "skip"
    ]
   },
   "source": [
    "For tasks with idiosyncratic output formats or constraints, it is important to provide clear instructions as well as examples to guide the model in generating the desired output. Mechanically, we provide these pairs of inputs and outputs as a sequence of user and assistant messages after the system prompt.\n",
    "\n",
    "```python\n",
    "messages += [\n",
    "    {\n",
    "        \"role\": \"user\",\n",
    "        \"content\":  <fill in input example 1>\n",
    "    },\n",
    "    {\n",
    "        \"role\": \"assistant\",\n",
    "        \"content\": <fill in output example 1>\n",
    "    },\n",
    "    {\n",
    "        \"role\": \"user\",\n",
    "        \"content\": <fill in input example 2>\n",
    "    },\n",
    "    {\n",
    "        \"role\": \"assistant\",\n",
    "        \"content\": <fill in output example 2>\n",
    "    }\n",
    "]\n",
    "```"
   ]
  },
  {
   "cell_type": "markdown",
   "id": "13fc96d8",
   "metadata": {
    "tags": [
     "skip"
    ]
   },
   "source": [
    "In the GeneGPT code, the authors included several tasks, one of each of a subset of the tasks in the dataset. We will use the same examples here.\n",
    "\n",
    "Please inspect the GeneGPT repository to find the few-shot examples in the prompt. \n",
    "\n",
    "Specifically the `get_prompt_header` function in `main.py` located here: [main.py](https://github.com/ncbi/GeneGPT/blob/main/main.py)"
   ]
  },
  {
   "cell_type": "code",
   "execution_count": 13,
   "id": "fcb78ee2",
   "metadata": {},
   "outputs": [],
   "source": [
    "# 4.3 Appending the few-shot examples to the `messages` list\n",
    "\n",
    "example_messages = [\n",
    "    {\n",
    "        \"role\": \"user\",\n",
    "        \"content\": \"hello\"\n",
    "    },\n",
    "    {\n",
    "        \"role\": \"assistant\",\n",
    "        \"content\": \"hello\"\n",
    "    },\n",
    "    {\n",
    "        \"role\": \"user\",\n",
    "        \"content\": \"hello\"\n",
    "    },\n",
    "    {\n",
    "        \"role\": \"assistant\",\n",
    "        \"content\": \"hello\"\n",
    "    }\n",
    "]\n",
    "\n"
   ]
  },
  {
   "cell_type": "markdown",
   "id": "35d89761",
   "metadata": {},
   "source": [
    "### 4.4 Implementing the model request function"
   ]
  },
  {
   "cell_type": "markdown",
   "id": "4590511a",
   "metadata": {
    "tags": [
     "skip"
    ]
   },
   "source": [
    "Now we need to put it all together. We need a function that accepts as arguments:\n",
    "1. The client\n",
    "2. The system message\n",
    "3. The few-shot examples\n",
    "4. The new user query -- this case the user's question from the GeneTuring dataset.\n",
    "\n",
    "The function should return the response from the model and extract the answer (everything after 'Answer :' based on the format of the examples above)\n",
    "\n"
   ]
  },
  {
   "cell_type": "code",
   "execution_count": 14,
   "id": "466037b6",
   "metadata": {},
   "outputs": [],
   "source": [
    "def query_model(\n",
    "    client,  \n",
    "    system_message: dict,\n",
    "    few_shot_examples: List[dict],\n",
    "    user_query: str,\n",
    ") -> str:\n",
    "    \n",
    "    messages = [system_message] + few_shot_examples + [{\"role\": \"user\", \"content\": user_query}]\n",
    "\n",
    "    response = client.chat.completions.create(\n",
    "        model=model_config['model_name'],\n",
    "        messages=messages,\n",
    "        max_tokens=model_config['max_tokens'],\n",
    "        temperature=model_config['temperature'],\n",
    "        top_p=model_config['top_p'],\n",
    "        frequency_penalty=model_config['frequency_penalty'],\n",
    "        presence_penalty=model_config['presence_penalty'],\n",
    "    )\n",
    "    \n",
    "\n",
    "\n",
    "    return response.choices[0].message.content\n"
   ]
  },
  {
   "cell_type": "markdown",
   "id": "3103ef75",
   "metadata": {},
   "source": [
    "## 5. Metrics"
   ]
  },
  {
   "cell_type": "markdown",
   "id": "79d88fd6",
   "metadata": {
    "tags": [
     "skip"
    ]
   },
   "source": [
    "The GeneTuring dataset has several task specific evaluation metrics that are variations on exact match depending on the expected cardinality of the output.\n",
    "\n",
    "Please inspect `evaluate.py` from the GeneGPT repository to find the metric functions and implement them here.\n",
    "\n",
    "Original functions: [evaluate.py](https://github.com/ncbi/GeneGPT/blob/main/evaluate.py)"
   ]
  },
  {
   "cell_type": "markdown",
   "id": "8cc440b3",
   "metadata": {
    "tags": [
     "skip"
    ]
   },
   "source": [
    "* **Default exact match** - The predicted answers and ground truth are both strings. The score is 1 if they are equal and 0 otherwise\n",
    "* **Gene disease association** - The predicted answers and ground truth are both lists of gene-disease associations. The score is the proportion of correct associations present in the prediction\n",
    "* **Disease gene location** - The predicted and true answers are lists (e.g., gene locations related to a disease), and the evaluation calculates the fraction of the correct items present in the prediction.\n",
    "* **Human genome DNA aligment** - 1 point for exact match, 0.5 point if chrX part matches, 0 otherwise"
   ]
  },
  {
   "cell_type": "code",
   "execution_count": 15,
   "id": "c575ab56",
   "metadata": {},
   "outputs": [],
   "source": [
    "# 5.1 Implement metrics\n",
    "\n",
    "def exact_match(pred: str, true: str) -> float:\n",
    "    # if isinstance(pred, list):\n",
    "    #     pred = [p.strip().lower() for p in pred]\n",
    "    #     return float(true.strip().lower() in pred)\n",
    "    # else:\n",
    "    #     return float(pred.strip().lower() == true.strip().lower())\n",
    "    return float(pred.strip().lower() == true.strip().lower())\n",
    "\n",
    "\n",
    "def gene_disease_association(pred: list, true: list) -> float:\n",
    "    pred_set = set(map(str.lower, map(str.strip, pred)))\n",
    "    true_set = set(map(str.lower, map(str.strip, true)))\n",
    "    if not true_set:\n",
    "        return 1.0 if not pred_set else 0.0\n",
    "    return len(pred_set & true_set) / len(true_set)\n",
    "\n",
    "def disease_gene_location(pred: list, true: list) -> float:\n",
    "    pred_set = set(map(str.lower, map(str.strip, pred)))\n",
    "    true_set = set(map(str.lower, map(str.strip, true)))\n",
    "    if not true_set:\n",
    "        return 1.0 if not pred_set else 0.0\n",
    "    return len(pred_set & true_set) / len(true_set)\n",
    "    \n",
    "def human_genome_dna_alignment(pred: str, true: str) -> float:\n",
    "    pred = pred.strip().lower()\n",
    "    true = true.strip().lower()\n",
    "    if pred == true:\n",
    "        return 1.0\n",
    "    pred_chr = pred.split(':')[0]\n",
    "    true_chr = true.split(':')[0]\n",
    "    return 0.5 if pred_chr == true_chr else 0.0\n",
    "\n",
    "metric_task_map = defaultdict(lambda: exact_match, {\n",
    "    \"Gene disease association\": gene_disease_association,\n",
    "    \"Gene location\": disease_gene_location,\n",
    "    \"Human genome DNA aligment\": human_genome_dna_alignment\n",
    "})\n"
   ]
  },
  {
   "cell_type": "markdown",
   "id": "8d1ebe36",
   "metadata": {
    "tags": [
     "skip"
    ]
   },
   "source": [
    "Many of the gold-answers are in a specific format. `evaluate.py` also implements an answer post-processing function `get_answer` to better align model outputs with the gold answers. We also need to implement a similar function."
   ]
  },
  {
   "cell_type": "code",
   "execution_count": 16,
   "id": "6c0254d2",
   "metadata": {},
   "outputs": [],
   "source": [
    "def get_answer(answer, task):\n",
    "\n",
    "\tmapper = {'Caenorhabditis elegans': 'worm',\n",
    "\t\t\t  'Homo sapiens': 'human',\n",
    "\t\t\t  'Danio rerio': 'zebrafish',\n",
    "\t\t\t  'Mus musculus': 'mouse',\n",
    "\t\t\t  'Saccharomyces cerevisiae': 'yeast',\n",
    "\t\t\t  'Rattus norvegicus': 'rat',\n",
    "\t\t\t  'Gallus gallus': 'chicken'}\n",
    "\n",
    "\tif task == 'SNP location':\n",
    "\t\tanswer = answer.strip().split()[-1]\n",
    "\t\tif 'chr' not in answer:\n",
    "\t\t\tanswer = 'chr' + answer\n",
    "\n",
    "\telif task == 'Gene location':\n",
    "\t\tanswer = answer.strip().split()[-1]\n",
    "\t\tif 'chr' not in answer:\n",
    "\t\t\tanswer = 'chr' + answer\n",
    "\n",
    "\telif task == 'Gene disease association':\n",
    "\t\tanswer = answer.strip().replace('Answer: ', '')\n",
    "\t\tanswer = answer.split(', ')\n",
    "\n",
    "\telif task == 'Disease gene location':\n",
    "\t\tanswer = answer.strip().replace('Answer: ', '')\n",
    "\t\tanswer = answer.split(', ')\n",
    "\n",
    "\telif task == 'Protein-coding genes':\n",
    "\t\tanswer = answer.strip().replace('Answer: ', '')\n",
    "\t\tif answer == 'Yes':\n",
    "\t\t\tanswer = 'TRUE'\n",
    "\t\telif answer == 'No':\n",
    "\t\t\tanswer = 'NA'\n",
    "\n",
    "\telif task == 'Multi-species DNA aligment':\n",
    "\t\tanswer = answer.strip().replace('Answer: ', '')\n",
    "\t\tanswer = mapper.get(answer, answer)\n",
    "\n",
    "\telse:\n",
    "\t\tanswer = answer.strip().replace('Answer: ', '')\n",
    "\t\t\n",
    "\tif isinstance(answer, list):\n",
    "\t\tanswer = answer[0]\n",
    "\treturn answer\n"
   ]
  },
  {
   "cell_type": "markdown",
   "id": "413e73a3",
   "metadata": {},
   "source": [
    "## 6. Evaluation Loop"
   ]
  },
  {
   "cell_type": "markdown",
   "id": "131aba90",
   "metadata": {
    "tags": [
     "skip"
    ]
   },
   "source": [
    "Now, let's implement the evaluation loop for the GeneTuring dataset. For now we will call the model function one at a time and collect the results in a list. Also, we will collect per-task metrics and the overall metrics for the dataset as we go. Once we're done, we will save the results to a CSV file."
   ]
  },
  {
   "cell_type": "code",
   "execution_count": 17,
   "id": "78868c8a",
   "metadata": {},
   "outputs": [],
   "source": [
    "# 6.1 Set up data structures for results\n",
    "from dataclasses import asdict\n",
    "\n",
    "@dataclass\n",
    "class Result:\n",
    "    id: int\n",
    "    task: str\n",
    "    question: str\n",
    "    answer: str\n",
    "    raw_prediction: Optional[str]\n",
    "    processed_prediction: Optional[str]\n",
    "    score: Optional[float]\n",
    "    success: bool\n",
    "\n",
    "\n",
    "def save_results(results: List[Result], results_csv_filename: str) -> None:\n",
    "    df = pd.DataFrame([asdict(r) for r in results])\n",
    "    df.to_csv(results_csv_filename, index=False)\n",
    "\n"
   ]
  },
  {
   "cell_type": "code",
   "execution_count": 18,
   "id": "56608117",
   "metadata": {},
   "outputs": [],
   "source": [
    "# 6.2 Loop over the dataset with a progress bar\n",
    "\n",
    "# * Do not forget to add the results to our Result list, both successful and failed predictions\n",
    "# * API calls will not always work, so make sure we capture the exceptions from failed calls\n",
    "#    and add them to the Result list with a `status=False`\n",
    "\n",
    "from tqdm import tqdm\n",
    "from typing import List, Dict\n",
    "\n",
    "def evaluate_with_progress(\n",
    "    client,\n",
    "    dataset: List[Dict],\n",
    "    system_message: Dict,\n",
    "    few_shot_examples: List[Dict],\n",
    ") -> List[Result]:\n",
    "    results: List[Result] = []\n",
    "\n",
    "    for item in tqdm(dataset, desc=\"Evaluating\"):\n",
    "        item_id = item.get(\"id\")\n",
    "        task = item.get(\"task\")\n",
    "        question = item.get(\"question\")\n",
    "        gold_answer = item.get(\"answer\")\n",
    "\n",
    "\n",
    "    \n",
    "        raw_pred = query_model(client, system_message, few_shot_examples, question)\n",
    "\n",
    "        # Post-process\n",
    "        print(\"task:\", task)\n",
    "        # print(\"raw pred:\", raw_pred)\n",
    "        pred = get_answer(raw_pred, task)\n",
    "        print(\"pred:\", pred)\n",
    "        true = get_answer(gold_answer, task)\n",
    "        print(\"true:\",true)\n",
    "\n",
    "\n",
    "        metric_fn = metric_task_map[task]\n",
    "        score = metric_fn(pred, true)\n",
    "        try:\n",
    "            result = Result(\n",
    "                id=item_id,\n",
    "                task=task,\n",
    "                question=question,\n",
    "                answer=gold_answer,\n",
    "                raw_prediction=raw_pred,\n",
    "                processed_prediction=str(pred),\n",
    "                score=score,\n",
    "                success=True\n",
    "            )\n",
    "\n",
    "        except Exception:\n",
    "        \n",
    "            result = Result(\n",
    "                id=item_id,\n",
    "                task=task,\n",
    "                question=question,\n",
    "                answer=gold_answer,\n",
    "                raw_prediction=None,\n",
    "                processed_prediction=None,\n",
    "                score=0.0,\n",
    "                success=False\n",
    "            )\n",
    "\n",
    "        results.append(result)\n",
    "\n",
    "    return results\n"
   ]
  },
  {
   "cell_type": "code",
   "execution_count": 19,
   "id": "6cc013b9",
   "metadata": {},
   "outputs": [
    {
     "name": "stderr",
     "output_type": "stream",
     "text": [
      "Evaluating:   0%|          | 0/450 [00:00<?, ?it/s]"
     ]
    },
    {
     "name": "stderr",
     "output_type": "stream",
     "text": [
      "Evaluating:   0%|          | 1/450 [00:00<05:22,  1.39it/s]"
     ]
    },
    {
     "name": "stdout",
     "output_type": "stream",
     "text": [
      "task: Gene alias\n",
      "pred: PSMB10\n",
      "true: PSMB10\n"
     ]
    },
    {
     "name": "stderr",
     "output_type": "stream",
     "text": [
      "Evaluating:   0%|          | 2/450 [00:01<04:49,  1.55it/s]"
     ]
    },
    {
     "name": "stdout",
     "output_type": "stream",
     "text": [
      "task: Gene alias\n",
      "pred: SLC38A6\n",
      "true: SLC38A6\n"
     ]
    },
    {
     "name": "stderr",
     "output_type": "stream",
     "text": [
      "Evaluating:   1%|          | 3/450 [00:01<03:37,  2.06it/s]"
     ]
    },
    {
     "name": "stdout",
     "output_type": "stream",
     "text": [
      "task: Gene alias\n",
      "pred: IKBKG\n",
      "true: FCGR3A\n"
     ]
    },
    {
     "name": "stderr",
     "output_type": "stream",
     "text": [
      "Evaluating:   1%|          | 4/450 [00:02<03:51,  1.93it/s]"
     ]
    },
    {
     "name": "stdout",
     "output_type": "stream",
     "text": [
      "task: Gene alias\n",
      "pred: TMEM230\n",
      "true: FNDC11\n"
     ]
    },
    {
     "name": "stderr",
     "output_type": "stream",
     "text": [
      "Evaluating:   1%|          | 5/450 [00:02<03:23,  2.19it/s]"
     ]
    },
    {
     "name": "stdout",
     "output_type": "stream",
     "text": [
      "task: Gene alias\n",
      "pred: ERVH48-1\n",
      "true: EOLA2\n"
     ]
    },
    {
     "name": "stderr",
     "output_type": "stream",
     "text": [
      "Evaluating:   1%|▏         | 6/450 [00:03<03:42,  1.99it/s]"
     ]
    },
    {
     "name": "stdout",
     "output_type": "stream",
     "text": [
      "task: Gene alias\n",
      "pred: QSER1\n",
      "true: QSOX2\n"
     ]
    },
    {
     "name": "stderr",
     "output_type": "stream",
     "text": [
      "Evaluating:   2%|▏         | 7/450 [00:03<03:15,  2.26it/s]"
     ]
    },
    {
     "name": "stdout",
     "output_type": "stream",
     "text": [
      "task: Gene alias\n",
      "pred: OR11H6\n",
      "true: OR10A2\n"
     ]
    },
    {
     "name": "stderr",
     "output_type": "stream",
     "text": [
      "Evaluating:   2%|▏         | 8/450 [00:03<02:56,  2.51it/s]"
     ]
    },
    {
     "name": "stdout",
     "output_type": "stream",
     "text": [
      "task: Gene alias\n",
      "pred: NPAP1\n",
      "true: NUP50\n"
     ]
    },
    {
     "name": "stderr",
     "output_type": "stream",
     "text": [
      "Evaluating:   2%|▏         | 9/450 [00:04<02:56,  2.50it/s]"
     ]
    },
    {
     "name": "stdout",
     "output_type": "stream",
     "text": [
      "task: Gene alias\n",
      "pred: MLLT10\n",
      "true: MLLT10\n"
     ]
    },
    {
     "name": "stderr",
     "output_type": "stream",
     "text": [
      "Evaluating:   2%|▏         | 10/450 [00:04<03:20,  2.20it/s]"
     ]
    },
    {
     "name": "stdout",
     "output_type": "stream",
     "text": [
      "task: Gene alias\n",
      "pred: FASTKD3\n",
      "true: MRPL57\n"
     ]
    },
    {
     "name": "stderr",
     "output_type": "stream",
     "text": [
      "Evaluating:   2%|▏         | 11/450 [00:05<03:34,  2.05it/s]"
     ]
    },
    {
     "name": "stdout",
     "output_type": "stream",
     "text": [
      "task: Gene alias\n",
      "pred: FZD10\n",
      "true: SYT4\n"
     ]
    },
    {
     "name": "stderr",
     "output_type": "stream",
     "text": [
      "Evaluating:   3%|▎         | 12/450 [00:05<03:08,  2.32it/s]"
     ]
    },
    {
     "name": "stdout",
     "output_type": "stream",
     "text": [
      "task: Gene alias\n",
      "pred: ZNF482\n",
      "true: ZBTB6\n"
     ]
    },
    {
     "name": "stderr",
     "output_type": "stream",
     "text": [
      "Evaluating:   3%|▎         | 13/450 [00:05<02:49,  2.58it/s]"
     ]
    },
    {
     "name": "stdout",
     "output_type": "stream",
     "text": [
      "task: Gene alias\n",
      "pred: PTH\n",
      "true: PTH\n"
     ]
    },
    {
     "name": "stderr",
     "output_type": "stream",
     "text": [
      "Evaluating:   3%|▎         | 14/450 [00:06<02:42,  2.69it/s]"
     ]
    },
    {
     "name": "stdout",
     "output_type": "stream",
     "text": [
      "task: Gene alias\n",
      "pred: There is no official gene symbol AGTIL.\n",
      "true: ASIP\n"
     ]
    },
    {
     "name": "stderr",
     "output_type": "stream",
     "text": [
      "Evaluating:   3%|▎         | 15/450 [00:06<03:14,  2.24it/s]"
     ]
    },
    {
     "name": "stdout",
     "output_type": "stream",
     "text": [
      "task: Gene alias\n",
      "pred: HIST1H2BL\n",
      "true: LCE2A\n"
     ]
    },
    {
     "name": "stderr",
     "output_type": "stream",
     "text": [
      "Evaluating:   4%|▎         | 16/450 [00:07<04:39,  1.55it/s]"
     ]
    },
    {
     "name": "stdout",
     "output_type": "stream",
     "text": [
      "task: Gene alias\n",
      "pred: RPL36A\n",
      "true: SEPTIN3\n"
     ]
    },
    {
     "name": "stderr",
     "output_type": "stream",
     "text": [
      "Evaluating:   4%|▍         | 17/450 [00:08<03:59,  1.81it/s]"
     ]
    },
    {
     "name": "stdout",
     "output_type": "stream",
     "text": [
      "task: Gene alias\n",
      "pred: No official gene symbol found for FFDD3.\n",
      "true: TWIST2\n"
     ]
    },
    {
     "name": "stderr",
     "output_type": "stream",
     "text": [
      "Evaluating:   4%|▍         | 18/450 [00:09<05:10,  1.39it/s]"
     ]
    },
    {
     "name": "stdout",
     "output_type": "stream",
     "text": [
      "task: Gene alias\n",
      "pred: CFAP206\n",
      "true: METTL24\n"
     ]
    },
    {
     "name": "stderr",
     "output_type": "stream",
     "text": [
      "Evaluating:   4%|▍         | 19/450 [00:09<04:48,  1.49it/s]"
     ]
    },
    {
     "name": "stdout",
     "output_type": "stream",
     "text": [
      "task: Gene alias\n",
      "pred: CAMP\n",
      "true: RNGTT\n"
     ]
    },
    {
     "name": "stderr",
     "output_type": "stream",
     "text": [
      "Evaluating:   4%|▍         | 20/450 [00:10<04:00,  1.79it/s]"
     ]
    },
    {
     "name": "stdout",
     "output_type": "stream",
     "text": [
      "task: Gene alias\n",
      "pred: LRRC43\n",
      "true: RNF7\n"
     ]
    },
    {
     "name": "stderr",
     "output_type": "stream",
     "text": [
      "Evaluating:   5%|▍         | 21/450 [00:10<03:28,  2.06it/s]"
     ]
    },
    {
     "name": "stdout",
     "output_type": "stream",
     "text": [
      "task: Gene alias\n",
      "pred: TF\n",
      "true: F3\n"
     ]
    },
    {
     "name": "stderr",
     "output_type": "stream",
     "text": [
      "Evaluating:   5%|▍         | 22/450 [00:10<03:04,  2.32it/s]"
     ]
    },
    {
     "name": "stdout",
     "output_type": "stream",
     "text": [
      "task: Gene alias\n",
      "pred: C1orf54\n",
      "true: SLC25A33\n"
     ]
    },
    {
     "name": "stderr",
     "output_type": "stream",
     "text": [
      "Evaluating:   5%|▌         | 23/450 [00:11<04:05,  1.74it/s]"
     ]
    },
    {
     "name": "stdout",
     "output_type": "stream",
     "text": [
      "task: Gene alias\n",
      "pred: TSEN54\n",
      "true: PCLO\n"
     ]
    },
    {
     "name": "stderr",
     "output_type": "stream",
     "text": [
      "Evaluating:   5%|▌         | 24/450 [00:12<03:32,  2.00it/s]"
     ]
    },
    {
     "name": "stdout",
     "output_type": "stream",
     "text": [
      "task: Gene alias\n",
      "pred: OR11H2\n",
      "true: OR56A1\n"
     ]
    },
    {
     "name": "stderr",
     "output_type": "stream",
     "text": [
      "Evaluating:   6%|▌         | 25/450 [00:12<03:10,  2.23it/s]"
     ]
    },
    {
     "name": "stdout",
     "output_type": "stream",
     "text": [
      "task: Gene alias\n",
      "pred: RBBP1\n",
      "true: E2F1\n"
     ]
    },
    {
     "name": "stderr",
     "output_type": "stream",
     "text": [
      "Evaluating:   6%|▌         | 26/450 [00:12<02:51,  2.47it/s]"
     ]
    },
    {
     "name": "stdout",
     "output_type": "stream",
     "text": [
      "task: Gene alias\n",
      "pred: ZNF366\n",
      "true: ZNF366\n"
     ]
    },
    {
     "name": "stderr",
     "output_type": "stream",
     "text": [
      "Evaluating:   6%|▌         | 27/450 [00:13<02:39,  2.66it/s]"
     ]
    },
    {
     "name": "stdout",
     "output_type": "stream",
     "text": [
      "task: Gene alias\n",
      "pred: ALOX15\n",
      "true: ALOX15\n"
     ]
    },
    {
     "name": "stderr",
     "output_type": "stream",
     "text": [
      "Evaluating:   6%|▌         | 28/450 [00:13<02:30,  2.80it/s]"
     ]
    },
    {
     "name": "stdout",
     "output_type": "stream",
     "text": [
      "task: Gene alias\n",
      "pred: TXNDC16\n",
      "true: LYPD6B\n"
     ]
    },
    {
     "name": "stderr",
     "output_type": "stream",
     "text": [
      "Evaluating:   6%|▋         | 29/450 [00:13<02:21,  2.97it/s]"
     ]
    },
    {
     "name": "stdout",
     "output_type": "stream",
     "text": [
      "task: Gene alias\n",
      "pred: PFKL\n",
      "true: PRKCH\n"
     ]
    },
    {
     "name": "stderr",
     "output_type": "stream",
     "text": [
      "Evaluating:   7%|▋         | 30/450 [00:13<02:21,  2.96it/s]"
     ]
    },
    {
     "name": "stdout",
     "output_type": "stream",
     "text": [
      "task: Gene alias\n",
      "pred: ARHGEF26\n",
      "true: ARHGEF26\n"
     ]
    },
    {
     "name": "stderr",
     "output_type": "stream",
     "text": [
      "Evaluating:   7%|▋         | 31/450 [00:14<02:25,  2.88it/s]"
     ]
    },
    {
     "name": "stdout",
     "output_type": "stream",
     "text": [
      "task: Gene alias\n",
      "pred: SERPINB11\n",
      "true: AGAP9\n"
     ]
    },
    {
     "name": "stderr",
     "output_type": "stream",
     "text": [
      "Evaluating:   7%|▋         | 32/450 [00:14<02:55,  2.38it/s]"
     ]
    },
    {
     "name": "stdout",
     "output_type": "stream",
     "text": [
      "task: Gene alias\n",
      "pred: CPLANE1\n",
      "true: IFT22\n"
     ]
    },
    {
     "name": "stderr",
     "output_type": "stream",
     "text": [
      "Evaluating:   7%|▋         | 33/450 [00:15<02:39,  2.61it/s]"
     ]
    },
    {
     "name": "stdout",
     "output_type": "stream",
     "text": [
      "task: Gene alias\n",
      "pred: SGSH\n",
      "true: GLB1\n"
     ]
    },
    {
     "name": "stderr",
     "output_type": "stream",
     "text": [
      "Evaluating:   8%|▊         | 34/450 [00:15<02:30,  2.76it/s]"
     ]
    },
    {
     "name": "stdout",
     "output_type": "stream",
     "text": [
      "task: Gene alias\n",
      "pred: NDUFA4\n",
      "true: COX7B\n"
     ]
    },
    {
     "name": "stderr",
     "output_type": "stream",
     "text": [
      "Evaluating:   8%|▊         | 35/450 [00:15<02:21,  2.93it/s]"
     ]
    },
    {
     "name": "stdout",
     "output_type": "stream",
     "text": [
      "task: Gene alias\n",
      "pred: PLK5\n",
      "true: PLK5\n"
     ]
    },
    {
     "name": "stderr",
     "output_type": "stream",
     "text": [
      "Evaluating:   8%|▊         | 36/450 [00:16<02:17,  3.02it/s]"
     ]
    },
    {
     "name": "stdout",
     "output_type": "stream",
     "text": [
      "task: Gene alias\n",
      "pred: SAMD7\n",
      "true: ANKRD60\n"
     ]
    },
    {
     "name": "stderr",
     "output_type": "stream",
     "text": [
      "Evaluating:   8%|▊         | 37/450 [00:16<02:47,  2.47it/s]"
     ]
    },
    {
     "name": "stdout",
     "output_type": "stream",
     "text": [
      "task: Gene alias\n",
      "pred: GALNT4\n",
      "true: POC1B-GALNT4\n"
     ]
    },
    {
     "name": "stderr",
     "output_type": "stream",
     "text": [
      "Evaluating:   8%|▊         | 38/450 [00:17<03:21,  2.04it/s]"
     ]
    },
    {
     "name": "stdout",
     "output_type": "stream",
     "text": [
      "task: Gene alias\n",
      "pred: PIGO\n",
      "true: INTS8\n"
     ]
    },
    {
     "name": "stderr",
     "output_type": "stream",
     "text": [
      "Evaluating:   9%|▊         | 39/450 [00:17<02:56,  2.33it/s]"
     ]
    },
    {
     "name": "stdout",
     "output_type": "stream",
     "text": [
      "task: Gene alias\n",
      "pred: PABPC1\n",
      "true: CPB2\n"
     ]
    },
    {
     "name": "stderr",
     "output_type": "stream",
     "text": [
      "Evaluating:   9%|▉         | 40/450 [00:18<03:15,  2.09it/s]"
     ]
    },
    {
     "name": "stdout",
     "output_type": "stream",
     "text": [
      "task: Gene alias\n",
      "pred: PFDN3\n",
      "true: VBP1\n"
     ]
    },
    {
     "name": "stderr",
     "output_type": "stream",
     "text": [
      "Evaluating:   9%|▉         | 41/450 [00:18<03:30,  1.94it/s]"
     ]
    },
    {
     "name": "stdout",
     "output_type": "stream",
     "text": [
      "task: Gene alias\n",
      "pred: H2AC20\n",
      "true: H2BC1\n"
     ]
    },
    {
     "name": "stderr",
     "output_type": "stream",
     "text": [
      "Evaluating:   9%|▉         | 42/450 [00:19<03:02,  2.24it/s]"
     ]
    },
    {
     "name": "stdout",
     "output_type": "stream",
     "text": [
      "task: Gene alias\n",
      "pred: RSG1\n",
      "true: CPLANE2\n"
     ]
    },
    {
     "name": "stderr",
     "output_type": "stream",
     "text": [
      "Evaluating:  10%|▉         | 43/450 [00:19<02:45,  2.46it/s]"
     ]
    },
    {
     "name": "stdout",
     "output_type": "stream",
     "text": [
      "task: Gene alias\n",
      "pred: SLC4A1\n",
      "true: ADAMDEC1\n"
     ]
    },
    {
     "name": "stderr",
     "output_type": "stream",
     "text": [
      "Evaluating:  10%|▉         | 44/450 [00:19<02:35,  2.62it/s]"
     ]
    },
    {
     "name": "stdout",
     "output_type": "stream",
     "text": [
      "task: Gene alias\n",
      "pred: B3GNT8\n",
      "true: B3GNT8\n"
     ]
    },
    {
     "name": "stderr",
     "output_type": "stream",
     "text": [
      "Evaluating:  10%|█         | 45/450 [00:20<03:01,  2.24it/s]"
     ]
    },
    {
     "name": "stdout",
     "output_type": "stream",
     "text": [
      "task: Gene alias\n",
      "pred: SERPINA1\n",
      "true: SRC\n"
     ]
    },
    {
     "name": "stderr",
     "output_type": "stream",
     "text": [
      "Evaluating:  10%|█         | 46/450 [00:21<03:24,  1.98it/s]"
     ]
    },
    {
     "name": "stdout",
     "output_type": "stream",
     "text": [
      "task: Gene alias\n",
      "pred: ACCSL\n",
      "true: UBTFL1\n"
     ]
    },
    {
     "name": "stderr",
     "output_type": "stream",
     "text": [
      "Evaluating:  10%|█         | 47/450 [00:21<02:59,  2.24it/s]"
     ]
    },
    {
     "name": "stdout",
     "output_type": "stream",
     "text": [
      "task: Gene alias\n",
      "pred: HAGA\n",
      "true: MOGS\n"
     ]
    },
    {
     "name": "stderr",
     "output_type": "stream",
     "text": [
      "Evaluating:  11%|█         | 48/450 [00:21<02:39,  2.52it/s]"
     ]
    },
    {
     "name": "stdout",
     "output_type": "stream",
     "text": [
      "task: Gene alias\n",
      "pred: FAM214B\n",
      "true: ATOSB\n"
     ]
    },
    {
     "name": "stderr",
     "output_type": "stream",
     "text": [
      "Evaluating:  11%|█         | 49/450 [00:21<02:32,  2.64it/s]"
     ]
    },
    {
     "name": "stdout",
     "output_type": "stream",
     "text": [
      "task: Gene alias\n",
      "pred: CTTNBP2NL\n",
      "true: SHANK2\n"
     ]
    },
    {
     "name": "stderr",
     "output_type": "stream",
     "text": [
      "Evaluating:  11%|█         | 50/450 [00:22<02:22,  2.80it/s]"
     ]
    },
    {
     "name": "stdout",
     "output_type": "stream",
     "text": [
      "task: Gene alias\n",
      "pred: PTPRH\n",
      "true: PTPRR\n"
     ]
    },
    {
     "name": "stderr",
     "output_type": "stream",
     "text": [
      "Evaluating:  11%|█▏        | 51/450 [00:22<02:19,  2.87it/s]"
     ]
    },
    {
     "name": "stdout",
     "output_type": "stream",
     "text": [
      "task: Gene disease association\n",
      "pred: PFKL\n",
      "true: PFKL\n"
     ]
    },
    {
     "name": "stderr",
     "output_type": "stream",
     "text": [
      "Evaluating:  12%|█▏        | 52/450 [00:23<03:03,  2.17it/s]"
     ]
    },
    {
     "name": "stdout",
     "output_type": "stream",
     "text": [
      "task: Gene disease association\n",
      "pred: SLC4A1\n",
      "true: SLC4A1\n"
     ]
    },
    {
     "name": "stderr",
     "output_type": "stream",
     "text": [
      "Evaluating:  12%|█▏        | 53/450 [00:23<03:17,  2.01it/s]"
     ]
    },
    {
     "name": "stdout",
     "output_type": "stream",
     "text": [
      "task: Gene disease association\n",
      "pred: GNAS\n",
      "true: GNAS\n"
     ]
    },
    {
     "name": "stderr",
     "output_type": "stream",
     "text": [
      "Evaluating:  12%|█▏        | 54/450 [00:24<03:11,  2.07it/s]"
     ]
    },
    {
     "name": "stdout",
     "output_type": "stream",
     "text": [
      "task: Gene disease association\n",
      "pred: GNMT\n",
      "true: GNMT\n"
     ]
    },
    {
     "name": "stderr",
     "output_type": "stream",
     "text": [
      "Evaluating:  12%|█▏        | 55/450 [00:24<03:04,  2.14it/s]"
     ]
    },
    {
     "name": "stdout",
     "output_type": "stream",
     "text": [
      "task: Gene disease association\n",
      "pred: KRT3\n",
      "true: KRT12\n"
     ]
    },
    {
     "name": "stderr",
     "output_type": "stream",
     "text": [
      "Evaluating:  12%|█▏        | 56/450 [00:25<02:47,  2.36it/s]"
     ]
    },
    {
     "name": "stdout",
     "output_type": "stream",
     "text": [
      "task: Gene disease association\n",
      "pred: SGO1\n",
      "true: SGO1\n"
     ]
    },
    {
     "name": "stderr",
     "output_type": "stream",
     "text": [
      "Evaluating:  13%|█▎        | 57/450 [00:25<03:04,  2.13it/s]"
     ]
    },
    {
     "name": "stdout",
     "output_type": "stream",
     "text": [
      "task: Gene disease association\n",
      "pred: CLDN14\n",
      "true: BSND\n"
     ]
    },
    {
     "name": "stderr",
     "output_type": "stream",
     "text": [
      "Evaluating:  13%|█▎        | 58/450 [00:26<03:03,  2.13it/s]"
     ]
    },
    {
     "name": "stdout",
     "output_type": "stream",
     "text": [
      "task: Gene disease association\n",
      "pred: SLC10A2\n",
      "true: SLC10A2\n"
     ]
    },
    {
     "name": "stderr",
     "output_type": "stream",
     "text": [
      "Evaluating:  13%|█▎        | 59/450 [00:26<02:45,  2.37it/s]"
     ]
    },
    {
     "name": "stdout",
     "output_type": "stream",
     "text": [
      "task: Gene disease association\n",
      "pred: MAPBPIP\n",
      "true: LAMTOR2\n"
     ]
    },
    {
     "name": "stderr",
     "output_type": "stream",
     "text": [
      "Evaluating:  13%|█▎        | 60/450 [00:27<03:02,  2.14it/s]"
     ]
    },
    {
     "name": "stdout",
     "output_type": "stream",
     "text": [
      "task: Gene disease association\n",
      "pred: MNX1\n",
      "true: MNX1\n"
     ]
    },
    {
     "name": "stderr",
     "output_type": "stream",
     "text": [
      "Evaluating:  14%|█▎        | 61/450 [00:27<03:57,  1.64it/s]"
     ]
    },
    {
     "name": "stdout",
     "output_type": "stream",
     "text": [
      "task: Gene disease association\n",
      "pred: COL9A2\n",
      "true: COL9A3\n"
     ]
    },
    {
     "name": "stderr",
     "output_type": "stream",
     "text": [
      "Evaluating:  14%|█▍        | 62/450 [00:28<03:28,  1.86it/s]"
     ]
    },
    {
     "name": "stdout",
     "output_type": "stream",
     "text": [
      "task: Gene disease association\n",
      "pred: EYA1\n",
      "true: EYA1\n"
     ]
    },
    {
     "name": "stderr",
     "output_type": "stream",
     "text": [
      "Evaluating:  14%|█▍        | 63/450 [00:28<03:10,  2.03it/s]"
     ]
    },
    {
     "name": "stdout",
     "output_type": "stream",
     "text": [
      "task: Gene disease association\n",
      "pred: ATP2A1\n",
      "true: ATP2A1\n"
     ]
    },
    {
     "name": "stderr",
     "output_type": "stream",
     "text": [
      "Evaluating:  14%|█▍        | 64/450 [00:29<03:22,  1.91it/s]"
     ]
    },
    {
     "name": "stdout",
     "output_type": "stream",
     "text": [
      "task: Gene disease association\n",
      "pred: HPDL\n",
      "true: TCEAL1\n"
     ]
    },
    {
     "name": "stderr",
     "output_type": "stream",
     "text": [
      "Evaluating:  14%|█▍        | 65/450 [00:29<02:56,  2.18it/s]"
     ]
    },
    {
     "name": "stdout",
     "output_type": "stream",
     "text": [
      "task: Gene disease association\n",
      "pred: POLG\n",
      "true: POLG\n"
     ]
    },
    {
     "name": "stderr",
     "output_type": "stream",
     "text": [
      "Evaluating:  15%|█▍        | 66/450 [00:30<03:09,  2.03it/s]"
     ]
    },
    {
     "name": "stdout",
     "output_type": "stream",
     "text": [
      "task: Gene disease association\n",
      "pred: CFHR5\n",
      "true: CFHR5\n"
     ]
    },
    {
     "name": "stderr",
     "output_type": "stream",
     "text": [
      "Evaluating:  15%|█▍        | 67/450 [00:30<03:39,  1.74it/s]"
     ]
    },
    {
     "name": "stdout",
     "output_type": "stream",
     "text": [
      "task: Gene disease association\n",
      "pred: CNGA3\n",
      "true: CNGA3\n"
     ]
    },
    {
     "name": "stderr",
     "output_type": "stream",
     "text": [
      "Evaluating:  15%|█▌        | 68/450 [00:31<04:00,  1.59it/s]"
     ]
    },
    {
     "name": "stdout",
     "output_type": "stream",
     "text": [
      "task: Gene disease association\n",
      "pred: PAH\n",
      "true: PTS\n"
     ]
    },
    {
     "name": "stderr",
     "output_type": "stream",
     "text": [
      "Evaluating:  15%|█▌        | 69/450 [00:32<03:24,  1.87it/s]"
     ]
    },
    {
     "name": "stdout",
     "output_type": "stream",
     "text": [
      "task: Gene disease association\n",
      "pred: ITGB4\n",
      "true: MIR184\n"
     ]
    },
    {
     "name": "stderr",
     "output_type": "stream",
     "text": [
      "Evaluating:  16%|█▌        | 70/450 [00:32<03:27,  1.83it/s]"
     ]
    },
    {
     "name": "stdout",
     "output_type": "stream",
     "text": [
      "task: Gene disease association\n",
      "pred: PLCG2\n",
      "true: PI4KA\n"
     ]
    },
    {
     "name": "stderr",
     "output_type": "stream",
     "text": [
      "Evaluating:  16%|█▌        | 71/450 [00:32<03:01,  2.09it/s]"
     ]
    },
    {
     "name": "stdout",
     "output_type": "stream",
     "text": [
      "task: Gene disease association\n",
      "pred: TBX22\n",
      "true: TBX22\n"
     ]
    },
    {
     "name": "stderr",
     "output_type": "stream",
     "text": [
      "Evaluating:  16%|█▌        | 72/450 [00:33<02:41,  2.34it/s]"
     ]
    },
    {
     "name": "stdout",
     "output_type": "stream",
     "text": [
      "task: Gene disease association\n",
      "pred: PPP1R21\n",
      "true: DLL1\n"
     ]
    },
    {
     "name": "stderr",
     "output_type": "stream",
     "text": [
      "Evaluating:  16%|█▌        | 73/450 [00:33<02:27,  2.56it/s]"
     ]
    },
    {
     "name": "stdout",
     "output_type": "stream",
     "text": [
      "task: Gene disease association\n",
      "pred: FLNB\n",
      "true: FLNB\n"
     ]
    },
    {
     "name": "stderr",
     "output_type": "stream",
     "text": [
      "Evaluating:  16%|█▋        | 74/450 [00:33<02:14,  2.80it/s]"
     ]
    },
    {
     "name": "stdout",
     "output_type": "stream",
     "text": [
      "task: Gene disease association\n",
      "pred: CTSC\n",
      "true: CTSC\n"
     ]
    },
    {
     "name": "stderr",
     "output_type": "stream",
     "text": [
      "Evaluating:  17%|█▋        | 75/450 [00:34<02:05,  2.98it/s]"
     ]
    },
    {
     "name": "stdout",
     "output_type": "stream",
     "text": [
      "task: Gene disease association\n",
      "pred: NEU1\n",
      "true: NEU1\n"
     ]
    },
    {
     "name": "stderr",
     "output_type": "stream",
     "text": [
      "Evaluating:  17%|█▋        | 76/450 [00:34<02:03,  3.02it/s]"
     ]
    },
    {
     "name": "stdout",
     "output_type": "stream",
     "text": [
      "task: Gene disease association\n",
      "pred: DEGS1\n",
      "true: FITM2\n"
     ]
    },
    {
     "name": "stderr",
     "output_type": "stream",
     "text": [
      "Evaluating:  17%|█▋        | 77/450 [00:35<02:32,  2.45it/s]"
     ]
    },
    {
     "name": "stdout",
     "output_type": "stream",
     "text": [
      "task: Gene disease association\n",
      "pred: PIP\n",
      "true: PIKFYVE\n"
     ]
    },
    {
     "name": "stderr",
     "output_type": "stream",
     "text": [
      "Evaluating:  17%|█▋        | 78/450 [00:35<02:51,  2.17it/s]"
     ]
    },
    {
     "name": "stdout",
     "output_type": "stream",
     "text": [
      "task: Gene disease association\n",
      "pred: ABCB11\n",
      "true: TRMU\n"
     ]
    },
    {
     "name": "stderr",
     "output_type": "stream",
     "text": [
      "Evaluating:  18%|█▊        | 79/450 [00:36<03:14,  1.91it/s]"
     ]
    },
    {
     "name": "stdout",
     "output_type": "stream",
     "text": [
      "task: Gene disease association\n",
      "pred: PSMB8\n",
      "true: PSMB9\n"
     ]
    },
    {
     "name": "stderr",
     "output_type": "stream",
     "text": [
      "Evaluating:  18%|█▊        | 80/450 [00:36<02:50,  2.17it/s]"
     ]
    },
    {
     "name": "stdout",
     "output_type": "stream",
     "text": [
      "task: Gene disease association\n",
      "pred: C2CD3\n",
      "true: C2CD3\n"
     ]
    },
    {
     "name": "stderr",
     "output_type": "stream",
     "text": [
      "Evaluating:  18%|█▊        | 81/450 [00:37<02:46,  2.22it/s]"
     ]
    },
    {
     "name": "stdout",
     "output_type": "stream",
     "text": [
      "task: Gene disease association\n",
      "pred: CYLD\n",
      "true: CYLD\n"
     ]
    },
    {
     "name": "stderr",
     "output_type": "stream",
     "text": [
      "Evaluating:  18%|█▊        | 82/450 [00:37<03:20,  1.84it/s]"
     ]
    },
    {
     "name": "stdout",
     "output_type": "stream",
     "text": [
      "task: Gene disease association\n",
      "pred: RET\n",
      "true: RET\n"
     ]
    },
    {
     "name": "stderr",
     "output_type": "stream",
     "text": [
      "Evaluating:  18%|█▊        | 83/450 [00:38<03:57,  1.54it/s]"
     ]
    },
    {
     "name": "stdout",
     "output_type": "stream",
     "text": [
      "task: Gene disease association\n",
      "pred: INS\n",
      "true: HNF1B\n"
     ]
    },
    {
     "name": "stderr",
     "output_type": "stream",
     "text": [
      "Evaluating:  19%|█▊        | 84/450 [00:38<03:18,  1.84it/s]"
     ]
    },
    {
     "name": "stdout",
     "output_type": "stream",
     "text": [
      "task: Gene disease association\n",
      "pred: LEMD3\n",
      "true: LEMD3\n"
     ]
    },
    {
     "name": "stderr",
     "output_type": "stream",
     "text": [
      "Evaluating:  19%|█▉        | 85/450 [00:39<03:59,  1.52it/s]"
     ]
    },
    {
     "name": "stdout",
     "output_type": "stream",
     "text": [
      "task: Gene disease association\n",
      "pred: RASA1\n",
      "true: ELMO2\n"
     ]
    },
    {
     "name": "stderr",
     "output_type": "stream",
     "text": [
      "Evaluating:  19%|█▉        | 86/450 [00:40<03:32,  1.71it/s]"
     ]
    },
    {
     "name": "stdout",
     "output_type": "stream",
     "text": [
      "task: Gene disease association\n",
      "pred: KIF7\n",
      "true: KIF7\n"
     ]
    },
    {
     "name": "stderr",
     "output_type": "stream",
     "text": [
      "Evaluating:  19%|█▉        | 87/450 [00:40<03:18,  1.83it/s]"
     ]
    },
    {
     "name": "stdout",
     "output_type": "stream",
     "text": [
      "task: Gene disease association\n",
      "pred: NGLY1\n",
      "true: NGLY1\n"
     ]
    },
    {
     "name": "stderr",
     "output_type": "stream",
     "text": [
      "Evaluating:  20%|█▉        | 88/450 [00:41<02:57,  2.04it/s]"
     ]
    },
    {
     "name": "stdout",
     "output_type": "stream",
     "text": [
      "task: Gene disease association\n",
      "pred: ASCC1\n",
      "true: TRIP4\n"
     ]
    },
    {
     "name": "stderr",
     "output_type": "stream",
     "text": [
      "Evaluating:  20%|█▉        | 89/450 [00:42<04:26,  1.36it/s]"
     ]
    },
    {
     "name": "stdout",
     "output_type": "stream",
     "text": [
      "task: Gene disease association\n",
      "pred: BTK\n",
      "true: TOP2B\n"
     ]
    },
    {
     "name": "stderr",
     "output_type": "stream",
     "text": [
      "Evaluating:  20%|██        | 90/450 [00:43<04:08,  1.45it/s]"
     ]
    },
    {
     "name": "stdout",
     "output_type": "stream",
     "text": [
      "task: Gene disease association\n",
      "pred: ARPC1B\n",
      "true: ARPC1B\n"
     ]
    },
    {
     "name": "stderr",
     "output_type": "stream",
     "text": [
      "Evaluating:  20%|██        | 91/450 [00:43<03:26,  1.74it/s]"
     ]
    },
    {
     "name": "stdout",
     "output_type": "stream",
     "text": [
      "task: Gene disease association\n",
      "pred: TP63\n",
      "true: MAP3K20\n"
     ]
    },
    {
     "name": "stderr",
     "output_type": "stream",
     "text": [
      "Evaluating:  20%|██        | 92/450 [00:44<03:38,  1.64it/s]"
     ]
    },
    {
     "name": "stdout",
     "output_type": "stream",
     "text": [
      "task: Gene disease association\n",
      "pred: PRKAR1A\n",
      "true: PRKAR1A\n"
     ]
    },
    {
     "name": "stderr",
     "output_type": "stream",
     "text": [
      "Evaluating:  21%|██        | 93/450 [00:44<03:19,  1.79it/s]"
     ]
    },
    {
     "name": "stdout",
     "output_type": "stream",
     "text": [
      "task: Gene disease association\n",
      "pred: SOD1\n",
      "true: SOD3\n"
     ]
    },
    {
     "name": "stderr",
     "output_type": "stream",
     "text": [
      "Evaluating:  21%|██        | 94/450 [00:45<03:25,  1.73it/s]"
     ]
    },
    {
     "name": "stdout",
     "output_type": "stream",
     "text": [
      "task: Gene disease association\n",
      "pred: CYB5R4\n",
      "true: SCP2\n"
     ]
    },
    {
     "name": "stderr",
     "output_type": "stream",
     "text": [
      "Evaluating:  21%|██        | 95/450 [00:45<03:18,  1.79it/s]"
     ]
    },
    {
     "name": "stdout",
     "output_type": "stream",
     "text": [
      "task: Gene disease association\n",
      "pred: KRIT1\n",
      "true: IL6\n"
     ]
    },
    {
     "name": "stderr",
     "output_type": "stream",
     "text": [
      "Evaluating:  21%|██▏       | 96/450 [00:46<03:08,  1.88it/s]"
     ]
    },
    {
     "name": "stdout",
     "output_type": "stream",
     "text": [
      "task: Gene disease association\n",
      "pred: COQ2\n",
      "true: COQ2\n"
     ]
    },
    {
     "name": "stderr",
     "output_type": "stream",
     "text": [
      "Evaluating:  22%|██▏       | 97/450 [00:47<04:14,  1.39it/s]"
     ]
    },
    {
     "name": "stdout",
     "output_type": "stream",
     "text": [
      "task: Gene disease association\n",
      "pred: GUCA1A\n",
      "true: PDE6C\n"
     ]
    },
    {
     "name": "stderr",
     "output_type": "stream",
     "text": [
      "Evaluating:  22%|██▏       | 98/450 [00:47<04:00,  1.46it/s]"
     ]
    },
    {
     "name": "stdout",
     "output_type": "stream",
     "text": [
      "task: Gene disease association\n",
      "pred: TBX5\n",
      "true: TBX5\n"
     ]
    },
    {
     "name": "stderr",
     "output_type": "stream",
     "text": [
      "Evaluating:  22%|██▏       | 99/450 [00:48<03:19,  1.76it/s]"
     ]
    },
    {
     "name": "stdout",
     "output_type": "stream",
     "text": [
      "task: Gene disease association\n",
      "pred: SLC9A1\n",
      "true: SLC9A1\n"
     ]
    },
    {
     "name": "stderr",
     "output_type": "stream",
     "text": [
      "Evaluating:  22%|██▏       | 100/450 [00:48<03:19,  1.76it/s]"
     ]
    },
    {
     "name": "stdout",
     "output_type": "stream",
     "text": [
      "task: Gene disease association\n",
      "pred: TWIST2\n",
      "true: TWIST2\n"
     ]
    },
    {
     "name": "stderr",
     "output_type": "stream",
     "text": [
      "Evaluating:  22%|██▏       | 101/450 [00:49<02:50,  2.04it/s]"
     ]
    },
    {
     "name": "stdout",
     "output_type": "stream",
     "text": [
      "task: Gene location\n",
      "pred: chr8\n",
      "true: chr8\n"
     ]
    },
    {
     "name": "stderr",
     "output_type": "stream",
     "text": [
      "Evaluating:  23%|██▎       | 102/450 [00:49<02:30,  2.32it/s]"
     ]
    },
    {
     "name": "stdout",
     "output_type": "stream",
     "text": [
      "task: Gene location\n",
      "pred: chrY\n",
      "true: chrY\n"
     ]
    },
    {
     "name": "stderr",
     "output_type": "stream",
     "text": [
      "Evaluating:  23%|██▎       | 103/450 [00:49<02:14,  2.58it/s]"
     ]
    },
    {
     "name": "stdout",
     "output_type": "stream",
     "text": [
      "task: Gene location\n",
      "pred: chr16\n",
      "true: chr16\n"
     ]
    },
    {
     "name": "stderr",
     "output_type": "stream",
     "text": [
      "Evaluating:  23%|██▎       | 104/450 [00:49<02:08,  2.70it/s]"
     ]
    },
    {
     "name": "stdout",
     "output_type": "stream",
     "text": [
      "task: Gene location\n",
      "pred: chr1\n",
      "true: chr1\n"
     ]
    },
    {
     "name": "stderr",
     "output_type": "stream",
     "text": [
      "Evaluating:  23%|██▎       | 105/450 [00:50<01:59,  2.89it/s]"
     ]
    },
    {
     "name": "stdout",
     "output_type": "stream",
     "text": [
      "task: Gene location\n",
      "pred: chr3\n",
      "true: chr3\n"
     ]
    },
    {
     "name": "stderr",
     "output_type": "stream",
     "text": [
      "Evaluating:  24%|██▎       | 106/450 [00:50<01:52,  3.06it/s]"
     ]
    },
    {
     "name": "stdout",
     "output_type": "stream",
     "text": [
      "task: Gene location\n",
      "pred: chr1\n",
      "true: chr8\n"
     ]
    },
    {
     "name": "stderr",
     "output_type": "stream",
     "text": [
      "Evaluating:  24%|██▍       | 107/450 [00:51<02:14,  2.54it/s]"
     ]
    },
    {
     "name": "stdout",
     "output_type": "stream",
     "text": [
      "task: Gene location\n",
      "pred: chr19\n",
      "true: chr11\n"
     ]
    },
    {
     "name": "stderr",
     "output_type": "stream",
     "text": [
      "Evaluating:  24%|██▍       | 108/450 [00:51<02:03,  2.76it/s]"
     ]
    },
    {
     "name": "stdout",
     "output_type": "stream",
     "text": [
      "task: Gene location\n",
      "pred: chr19\n",
      "true: chr19\n"
     ]
    },
    {
     "name": "stderr",
     "output_type": "stream",
     "text": [
      "Evaluating:  24%|██▍       | 109/450 [00:52<02:36,  2.17it/s]"
     ]
    },
    {
     "name": "stdout",
     "output_type": "stream",
     "text": [
      "task: Gene location\n",
      "pred: chrID.\n",
      "true: chr4\n"
     ]
    },
    {
     "name": "stderr",
     "output_type": "stream",
     "text": [
      "Evaluating:  24%|██▍       | 110/450 [00:52<02:21,  2.41it/s]"
     ]
    },
    {
     "name": "stdout",
     "output_type": "stream",
     "text": [
      "task: Gene location\n",
      "pred: chr7\n",
      "true: chr2\n"
     ]
    },
    {
     "name": "stderr",
     "output_type": "stream",
     "text": [
      "Evaluating:  25%|██▍       | 111/450 [00:52<02:35,  2.18it/s]"
     ]
    },
    {
     "name": "stdout",
     "output_type": "stream",
     "text": [
      "task: Gene location\n",
      "pred: chr8\n",
      "true: chr8\n"
     ]
    },
    {
     "name": "stderr",
     "output_type": "stream",
     "text": [
      "Evaluating:  25%|██▍       | 112/450 [00:53<02:17,  2.45it/s]"
     ]
    },
    {
     "name": "stdout",
     "output_type": "stream",
     "text": [
      "task: Gene location\n",
      "pred: chr2\n",
      "true: chr8\n"
     ]
    },
    {
     "name": "stderr",
     "output_type": "stream",
     "text": [
      "Evaluating:  25%|██▌       | 113/450 [00:53<02:09,  2.60it/s]"
     ]
    },
    {
     "name": "stdout",
     "output_type": "stream",
     "text": [
      "task: Gene location\n",
      "pred: chr7\n",
      "true: chr7\n"
     ]
    },
    {
     "name": "stderr",
     "output_type": "stream",
     "text": [
      "Evaluating:  25%|██▌       | 114/450 [00:53<02:03,  2.72it/s]"
     ]
    },
    {
     "name": "stdout",
     "output_type": "stream",
     "text": [
      "task: Gene location\n",
      "pred: chr19\n",
      "true: chr14\n"
     ]
    },
    {
     "name": "stderr",
     "output_type": "stream",
     "text": [
      "Evaluating:  26%|██▌       | 115/450 [00:54<01:57,  2.86it/s]"
     ]
    },
    {
     "name": "stdout",
     "output_type": "stream",
     "text": [
      "task: Gene location\n",
      "pred: chr10\n",
      "true: chr3\n"
     ]
    },
    {
     "name": "stderr",
     "output_type": "stream",
     "text": [
      "Evaluating:  26%|██▌       | 116/450 [00:54<01:56,  2.85it/s]"
     ]
    },
    {
     "name": "stdout",
     "output_type": "stream",
     "text": [
      "task: Gene location\n",
      "pred: chr3\n",
      "true: chr16\n"
     ]
    },
    {
     "name": "stderr",
     "output_type": "stream",
     "text": [
      "Evaluating:  26%|██▌       | 117/450 [00:54<01:54,  2.90it/s]"
     ]
    },
    {
     "name": "stdout",
     "output_type": "stream",
     "text": [
      "task: Gene location\n",
      "pred: chr18\n",
      "true: chr2\n"
     ]
    },
    {
     "name": "stderr",
     "output_type": "stream",
     "text": [
      "Evaluating:  26%|██▌       | 118/450 [00:55<02:02,  2.72it/s]"
     ]
    },
    {
     "name": "stdout",
     "output_type": "stream",
     "text": [
      "task: Gene location\n",
      "pred: chr10\n",
      "true: chr9\n"
     ]
    },
    {
     "name": "stderr",
     "output_type": "stream",
     "text": [
      "Evaluating:  26%|██▋       | 119/450 [00:55<02:19,  2.37it/s]"
     ]
    },
    {
     "name": "stdout",
     "output_type": "stream",
     "text": [
      "task: Gene location\n",
      "pred: chr15\n",
      "true: chr15\n"
     ]
    },
    {
     "name": "stderr",
     "output_type": "stream",
     "text": [
      "Evaluating:  27%|██▋       | 120/450 [00:56<02:05,  2.63it/s]"
     ]
    },
    {
     "name": "stdout",
     "output_type": "stream",
     "text": [
      "task: Gene location\n",
      "pred: chr8\n",
      "true: chr12\n"
     ]
    },
    {
     "name": "stderr",
     "output_type": "stream",
     "text": [
      "Evaluating:  27%|██▋       | 121/450 [00:56<01:55,  2.85it/s]"
     ]
    },
    {
     "name": "stdout",
     "output_type": "stream",
     "text": [
      "task: Gene location\n",
      "pred: chr19\n",
      "true: chr19\n"
     ]
    },
    {
     "name": "stderr",
     "output_type": "stream",
     "text": [
      "Evaluating:  27%|██▋       | 122/450 [00:56<02:16,  2.40it/s]"
     ]
    },
    {
     "name": "stdout",
     "output_type": "stream",
     "text": [
      "task: Gene location\n",
      "pred: chr8\n",
      "true: chr11\n"
     ]
    },
    {
     "name": "stderr",
     "output_type": "stream",
     "text": [
      "Evaluating:  27%|██▋       | 123/450 [00:57<02:29,  2.19it/s]"
     ]
    },
    {
     "name": "stdout",
     "output_type": "stream",
     "text": [
      "task: Gene location\n",
      "pred: chr10\n",
      "true: chr16\n"
     ]
    },
    {
     "name": "stderr",
     "output_type": "stream",
     "text": [
      "Evaluating:  28%|██▊       | 124/450 [00:58<02:37,  2.06it/s]"
     ]
    },
    {
     "name": "stdout",
     "output_type": "stream",
     "text": [
      "task: Gene location\n",
      "pred: chr22\n",
      "true: chr22\n"
     ]
    },
    {
     "name": "stderr",
     "output_type": "stream",
     "text": [
      "Evaluating:  28%|██▊       | 125/450 [00:58<02:17,  2.37it/s]"
     ]
    },
    {
     "name": "stdout",
     "output_type": "stream",
     "text": [
      "task: Gene location\n",
      "pred: chr5\n",
      "true: chr5\n"
     ]
    },
    {
     "name": "stderr",
     "output_type": "stream",
     "text": [
      "Evaluating:  28%|██▊       | 126/450 [00:58<02:13,  2.43it/s]"
     ]
    },
    {
     "name": "stdout",
     "output_type": "stream",
     "text": [
      "task: Gene location\n",
      "pred: chrENSG10010137820.1.\n",
      "true: chr2\n"
     ]
    },
    {
     "name": "stderr",
     "output_type": "stream",
     "text": [
      "Evaluating:  28%|██▊       | 127/450 [00:58<02:01,  2.66it/s]"
     ]
    },
    {
     "name": "stdout",
     "output_type": "stream",
     "text": [
      "task: Gene location\n",
      "pred: chr8\n",
      "true: chr11\n"
     ]
    },
    {
     "name": "stderr",
     "output_type": "stream",
     "text": [
      "Evaluating:  28%|██▊       | 128/450 [00:59<02:23,  2.25it/s]"
     ]
    },
    {
     "name": "stdout",
     "output_type": "stream",
     "text": [
      "task: Gene location\n",
      "pred: chr19\n",
      "true: chr9\n"
     ]
    },
    {
     "name": "stderr",
     "output_type": "stream",
     "text": [
      "Evaluating:  29%|██▊       | 129/450 [00:59<02:09,  2.49it/s]"
     ]
    },
    {
     "name": "stdout",
     "output_type": "stream",
     "text": [
      "task: Gene location\n",
      "pred: chr15\n",
      "true: chr6\n"
     ]
    },
    {
     "name": "stderr",
     "output_type": "stream",
     "text": [
      "Evaluating:  29%|██▉       | 130/450 [01:00<02:34,  2.07it/s]"
     ]
    },
    {
     "name": "stdout",
     "output_type": "stream",
     "text": [
      "task: Gene location\n",
      "pred: chr7\n",
      "true: chr7\n"
     ]
    },
    {
     "name": "stderr",
     "output_type": "stream",
     "text": [
      "Evaluating:  29%|██▉       | 131/450 [01:00<02:19,  2.28it/s]"
     ]
    },
    {
     "name": "stdout",
     "output_type": "stream",
     "text": [
      "task: Gene location\n",
      "pred: chr4\n",
      "true: chr5\n"
     ]
    },
    {
     "name": "stderr",
     "output_type": "stream",
     "text": [
      "Evaluating:  29%|██▉       | 132/450 [01:01<02:14,  2.36it/s]"
     ]
    },
    {
     "name": "stdout",
     "output_type": "stream",
     "text": [
      "task: Gene location\n",
      "pred: chr11\n",
      "true: chr19\n"
     ]
    },
    {
     "name": "stderr",
     "output_type": "stream",
     "text": [
      "Evaluating:  30%|██▉       | 133/450 [01:01<02:30,  2.11it/s]"
     ]
    },
    {
     "name": "stdout",
     "output_type": "stream",
     "text": [
      "task: Gene location\n",
      "pred: chr1\n",
      "true: chrX\n"
     ]
    },
    {
     "name": "stderr",
     "output_type": "stream",
     "text": [
      "Evaluating:  30%|██▉       | 134/450 [01:02<02:14,  2.35it/s]"
     ]
    },
    {
     "name": "stdout",
     "output_type": "stream",
     "text": [
      "task: Gene location\n",
      "pred: chr7\n",
      "true: chr21\n"
     ]
    },
    {
     "name": "stderr",
     "output_type": "stream",
     "text": [
      "Evaluating:  30%|███       | 135/450 [01:02<02:26,  2.15it/s]"
     ]
    },
    {
     "name": "stdout",
     "output_type": "stream",
     "text": [
      "task: Gene location\n",
      "pred: chr7\n",
      "true: chr7\n"
     ]
    },
    {
     "name": "stderr",
     "output_type": "stream",
     "text": [
      "Evaluating:  30%|███       | 136/450 [01:03<02:09,  2.42it/s]"
     ]
    },
    {
     "name": "stdout",
     "output_type": "stream",
     "text": [
      "task: Gene location\n",
      "pred: chr8\n",
      "true: chrX\n"
     ]
    },
    {
     "name": "stderr",
     "output_type": "stream",
     "text": [
      "Evaluating:  30%|███       | 137/450 [01:03<01:56,  2.69it/s]"
     ]
    },
    {
     "name": "stdout",
     "output_type": "stream",
     "text": [
      "task: Gene location\n",
      "pred: chr1\n",
      "true: chr8\n"
     ]
    },
    {
     "name": "stderr",
     "output_type": "stream",
     "text": [
      "Evaluating:  31%|███       | 138/450 [01:03<01:47,  2.90it/s]"
     ]
    },
    {
     "name": "stdout",
     "output_type": "stream",
     "text": [
      "task: Gene location\n",
      "pred: chr6\n",
      "true: chr17\n"
     ]
    },
    {
     "name": "stderr",
     "output_type": "stream",
     "text": [
      "Evaluating:  31%|███       | 139/450 [01:04<02:08,  2.43it/s]"
     ]
    },
    {
     "name": "stdout",
     "output_type": "stream",
     "text": [
      "task: Gene location\n",
      "pred: chr17\n",
      "true: chr7\n"
     ]
    },
    {
     "name": "stderr",
     "output_type": "stream",
     "text": [
      "Evaluating:  31%|███       | 140/450 [01:06<04:27,  1.16it/s]"
     ]
    },
    {
     "name": "stdout",
     "output_type": "stream",
     "text": [
      "task: Gene location\n",
      "pred: chr4\n",
      "true: chr4\n"
     ]
    },
    {
     "name": "stderr",
     "output_type": "stream",
     "text": [
      "Evaluating:  31%|███▏      | 141/450 [01:06<03:33,  1.45it/s]"
     ]
    },
    {
     "name": "stdout",
     "output_type": "stream",
     "text": [
      "task: Gene location\n",
      "pred: chr10\n",
      "true: chr2\n"
     ]
    },
    {
     "name": "stderr",
     "output_type": "stream",
     "text": [
      "Evaluating:  32%|███▏      | 142/450 [01:06<02:55,  1.75it/s]"
     ]
    },
    {
     "name": "stdout",
     "output_type": "stream",
     "text": [
      "task: Gene location\n",
      "pred: chr17\n",
      "true: chr2\n"
     ]
    },
    {
     "name": "stderr",
     "output_type": "stream",
     "text": [
      "Evaluating:  32%|███▏      | 143/450 [01:07<02:32,  2.01it/s]"
     ]
    },
    {
     "name": "stdout",
     "output_type": "stream",
     "text": [
      "task: Gene location\n",
      "pred: chr1\n",
      "true: chr1\n"
     ]
    },
    {
     "name": "stderr",
     "output_type": "stream",
     "text": [
      "Evaluating:  32%|███▏      | 144/450 [01:07<02:39,  1.92it/s]"
     ]
    },
    {
     "name": "stdout",
     "output_type": "stream",
     "text": [
      "task: Gene location\n",
      "pred: chr19\n",
      "true: chrX\n"
     ]
    },
    {
     "name": "stderr",
     "output_type": "stream",
     "text": [
      "Evaluating:  32%|███▏      | 145/450 [01:07<02:18,  2.20it/s]"
     ]
    },
    {
     "name": "stdout",
     "output_type": "stream",
     "text": [
      "task: Gene location\n",
      "pred: chr19\n",
      "true: chr19\n"
     ]
    },
    {
     "name": "stderr",
     "output_type": "stream",
     "text": [
      "Evaluating:  32%|███▏      | 146/450 [01:08<02:03,  2.45it/s]"
     ]
    },
    {
     "name": "stdout",
     "output_type": "stream",
     "text": [
      "task: Gene location\n",
      "pred: chr20\n",
      "true: chr9\n"
     ]
    },
    {
     "name": "stderr",
     "output_type": "stream",
     "text": [
      "Evaluating:  33%|███▎      | 147/450 [01:08<02:21,  2.14it/s]"
     ]
    },
    {
     "name": "stdout",
     "output_type": "stream",
     "text": [
      "task: Gene location\n",
      "pred: chr19\n",
      "true: chr14\n"
     ]
    },
    {
     "name": "stderr",
     "output_type": "stream",
     "text": [
      "Evaluating:  33%|███▎      | 148/450 [01:09<02:08,  2.36it/s]"
     ]
    },
    {
     "name": "stdout",
     "output_type": "stream",
     "text": [
      "task: Gene location\n",
      "pred: chr7\n",
      "true: chr7\n"
     ]
    },
    {
     "name": "stderr",
     "output_type": "stream",
     "text": [
      "Evaluating:  33%|███▎      | 149/450 [01:09<02:20,  2.14it/s]"
     ]
    },
    {
     "name": "stdout",
     "output_type": "stream",
     "text": [
      "task: Gene location\n",
      "pred: chr7\n",
      "true: chr4\n"
     ]
    },
    {
     "name": "stderr",
     "output_type": "stream",
     "text": [
      "Evaluating:  33%|███▎      | 150/450 [01:09<02:04,  2.41it/s]"
     ]
    },
    {
     "name": "stdout",
     "output_type": "stream",
     "text": [
      "task: Gene location\n",
      "pred: chr11\n",
      "true: chr11\n"
     ]
    },
    {
     "name": "stderr",
     "output_type": "stream",
     "text": [
      "Evaluating:  34%|███▎      | 151/450 [01:10<01:53,  2.62it/s]"
     ]
    },
    {
     "name": "stdout",
     "output_type": "stream",
     "text": [
      "task: Human genome DNA aligment\n",
      "pred: chr15:91950805-91950932\n",
      "true: chr15:91950805-91950932\n"
     ]
    },
    {
     "name": "stderr",
     "output_type": "stream",
     "text": [
      "Evaluating:  34%|███▍      | 152/450 [01:10<02:18,  2.16it/s]"
     ]
    },
    {
     "name": "stdout",
     "output_type": "stream",
     "text": [
      "task: Human genome DNA aligment\n",
      "pred: chr13:46047311-46047446\n",
      "true: chr8:7081648-7081782\n"
     ]
    },
    {
     "name": "stderr",
     "output_type": "stream",
     "text": [
      "Evaluating:  34%|███▍      | 153/450 [01:11<02:19,  2.12it/s]"
     ]
    },
    {
     "name": "stdout",
     "output_type": "stream",
     "text": [
      "task: Human genome DNA aligment\n",
      "pred: chr3:180629290-180629437\n",
      "true: chr10:7531973-7532108\n"
     ]
    },
    {
     "name": "stderr",
     "output_type": "stream",
     "text": [
      "Evaluating:  34%|███▍      | 154/450 [01:11<02:23,  2.07it/s]"
     ]
    },
    {
     "name": "stdout",
     "output_type": "stream",
     "text": [
      "task: Human genome DNA aligment\n",
      "pred: chr17:7669456-7669601\n",
      "true: chr7:71368450-71368551\n"
     ]
    },
    {
     "name": "stderr",
     "output_type": "stream",
     "text": [
      "Evaluating:  34%|███▍      | 155/450 [01:12<02:38,  1.86it/s]"
     ]
    },
    {
     "name": "stdout",
     "output_type": "stream",
     "text": [
      "task: Human genome DNA aligment\n",
      "pred: chr7:117555448-117555555\n",
      "true: chr17:30085086-30085222\n"
     ]
    },
    {
     "name": "stderr",
     "output_type": "stream",
     "text": [
      "Evaluating:  35%|███▍      | 156/450 [01:13<02:46,  1.77it/s]"
     ]
    },
    {
     "name": "stdout",
     "output_type": "stream",
     "text": [
      "task: Human genome DNA aligment\n",
      "pred: chr7:95703803-95703919\n",
      "true: chr6:25897419-25897555\n"
     ]
    },
    {
     "name": "stderr",
     "output_type": "stream",
     "text": [
      "Evaluating:  35%|███▍      | 157/450 [01:13<02:31,  1.94it/s]"
     ]
    },
    {
     "name": "stdout",
     "output_type": "stream",
     "text": [
      "task: Human genome DNA aligment\n",
      "pred: chr12:111910176-111910339\n",
      "true: chr22:30683180-30683329\n"
     ]
    },
    {
     "name": "stderr",
     "output_type": "stream",
     "text": [
      "Evaluating:  35%|███▌      | 158/450 [01:13<02:17,  2.13it/s]"
     ]
    },
    {
     "name": "stdout",
     "output_type": "stream",
     "text": [
      "task: Human genome DNA aligment\n",
      "pred: chr15:91950721-91950854\n",
      "true: chr21:7642925-7643044\n"
     ]
    },
    {
     "name": "stderr",
     "output_type": "stream",
     "text": [
      "Evaluating:  35%|███▌      | 159/450 [01:14<02:11,  2.22it/s]"
     ]
    },
    {
     "name": "stdout",
     "output_type": "stream",
     "text": [
      "task: Human genome DNA aligment\n",
      "pred: chr20:57419091-57419200\n",
      "true: chr21:18084464-18084564\n"
     ]
    },
    {
     "name": "stderr",
     "output_type": "stream",
     "text": [
      "Evaluating:  36%|███▌      | 160/450 [01:14<02:03,  2.34it/s]"
     ]
    },
    {
     "name": "stdout",
     "output_type": "stream",
     "text": [
      "task: Human genome DNA aligment\n",
      "pred: chr20:57471158-57471263\n",
      "true: chr18:41101663-41101773\n"
     ]
    },
    {
     "name": "stderr",
     "output_type": "stream",
     "text": [
      "Evaluating:  36%|███▌      | 161/450 [01:15<02:00,  2.41it/s]"
     ]
    },
    {
     "name": "stdout",
     "output_type": "stream",
     "text": [
      "task: Human genome DNA aligment\n",
      "pred: chr3:186367619-186367718\n",
      "true: chr1:234883857-234883957\n"
     ]
    },
    {
     "name": "stderr",
     "output_type": "stream",
     "text": [
      "Evaluating:  36%|███▌      | 162/450 [01:15<02:04,  2.30it/s]"
     ]
    },
    {
     "name": "stdout",
     "output_type": "stream",
     "text": [
      "task: Human genome DNA aligment\n",
      "pred: chr19:13269207-13269307\n",
      "true: chr10:96583669-96583777\n"
     ]
    },
    {
     "name": "stderr",
     "output_type": "stream",
     "text": [
      "Evaluating:  36%|███▌      | 163/450 [01:16<01:59,  2.40it/s]"
     ]
    },
    {
     "name": "stdout",
     "output_type": "stream",
     "text": [
      "task: Human genome DNA aligment\n",
      "pred: chr20:57554460-57554562\n",
      "true: chr7:124923900-124924043\n"
     ]
    },
    {
     "name": "stderr",
     "output_type": "stream",
     "text": [
      "Evaluating:  36%|███▋      | 164/450 [01:16<01:52,  2.54it/s]"
     ]
    },
    {
     "name": "stdout",
     "output_type": "stream",
     "text": [
      "task: Human genome DNA aligment\n",
      "pred: chr5:115853144-115853273\n",
      "true: chr14:65272135-65272273\n"
     ]
    },
    {
     "name": "stderr",
     "output_type": "stream",
     "text": [
      "Evaluating:  37%|███▋      | 165/450 [01:17<02:52,  1.66it/s]"
     ]
    },
    {
     "name": "stdout",
     "output_type": "stream",
     "text": [
      "task: Human genome DNA aligment\n",
      "pred: chr6:128036700-128036849\n",
      "true: chr7:158890075-158890221\n"
     ]
    },
    {
     "name": "stderr",
     "output_type": "stream",
     "text": [
      "Evaluating:  37%|███▋      | 166/450 [01:17<02:31,  1.87it/s]"
     ]
    },
    {
     "name": "stdout",
     "output_type": "stream",
     "text": [
      "task: Human genome DNA aligment\n",
      "pred: chr11:38485373-38485480\n",
      "true: chr18:45026043-45026168\n"
     ]
    },
    {
     "name": "stderr",
     "output_type": "stream",
     "text": [
      "Evaluating:  37%|███▋      | 167/450 [01:18<02:44,  1.72it/s]"
     ]
    },
    {
     "name": "stdout",
     "output_type": "stream",
     "text": [
      "task: Human genome DNA aligment\n",
      "pred: chr18:13715581-13715700\n",
      "true: chr3:156536294-156536419\n"
     ]
    },
    {
     "name": "stderr",
     "output_type": "stream",
     "text": [
      "Evaluating:  37%|███▋      | 168/450 [01:18<02:27,  1.91it/s]"
     ]
    },
    {
     "name": "stdout",
     "output_type": "stream",
     "text": [
      "task: Human genome DNA aligment\n",
      "pred: chr17:59351997-59352126\n",
      "true: chr19:32322319-32322449\n"
     ]
    },
    {
     "name": "stderr",
     "output_type": "stream",
     "text": [
      "Evaluating:  38%|███▊      | 169/450 [01:19<02:12,  2.13it/s]"
     ]
    },
    {
     "name": "stdout",
     "output_type": "stream",
     "text": [
      "task: Human genome DNA aligment\n",
      "pred: chr1:9634926-9635117\n",
      "true: chrX:71742848-71742983\n"
     ]
    },
    {
     "name": "stderr",
     "output_type": "stream",
     "text": [
      "Evaluating:  38%|███▊      | 170/450 [01:19<02:25,  1.92it/s]"
     ]
    },
    {
     "name": "stdout",
     "output_type": "stream",
     "text": [
      "task: Human genome DNA aligment\n",
      "pred: chr7:30723333-30723438\n",
      "true: chrX:98833089-98833232\n"
     ]
    },
    {
     "name": "stderr",
     "output_type": "stream",
     "text": [
      "Evaluating:  38%|███▊      | 171/450 [01:20<02:12,  2.10it/s]"
     ]
    },
    {
     "name": "stdout",
     "output_type": "stream",
     "text": [
      "task: Human genome DNA aligment\n",
      "pred: chr12:120963841-120963950\n",
      "true: chr22:18817258-18817377\n"
     ]
    },
    {
     "name": "stderr",
     "output_type": "stream",
     "text": [
      "Evaluating:  38%|███▊      | 172/450 [01:20<02:09,  2.14it/s]"
     ]
    },
    {
     "name": "stdout",
     "output_type": "stream",
     "text": [
      "task: Human genome DNA aligment\n",
      "pred: chr6:32003756-32003873\n",
      "true: chr16:23611895-23612018\n"
     ]
    },
    {
     "name": "stderr",
     "output_type": "stream",
     "text": [
      "Evaluating:  38%|███▊      | 173/450 [01:21<02:02,  2.27it/s]"
     ]
    },
    {
     "name": "stdout",
     "output_type": "stream",
     "text": [
      "task: Human genome DNA aligment\n",
      "pred: chr7:76285142-76285241\n",
      "true: chr21:12702345-12702461\n"
     ]
    },
    {
     "name": "stderr",
     "output_type": "stream",
     "text": [
      "Evaluating:  39%|███▊      | 174/450 [01:21<02:02,  2.24it/s]"
     ]
    },
    {
     "name": "stdout",
     "output_type": "stream",
     "text": [
      "task: Human genome DNA aligment\n",
      "pred: chr15:101070682-101070801\n",
      "true: chr6:163903884-163904010\n"
     ]
    },
    {
     "name": "stderr",
     "output_type": "stream",
     "text": [
      "Evaluating:  39%|███▉      | 175/450 [01:22<02:18,  1.99it/s]"
     ]
    },
    {
     "name": "stdout",
     "output_type": "stream",
     "text": [
      "task: Human genome DNA aligment\n",
      "pred: chr1:150504054-150504203\n",
      "true: chr18:54462342-54462470\n"
     ]
    },
    {
     "name": "stderr",
     "output_type": "stream",
     "text": [
      "Evaluating:  39%|███▉      | 176/450 [01:22<02:15,  2.02it/s]"
     ]
    },
    {
     "name": "stdout",
     "output_type": "stream",
     "text": [
      "task: Human genome DNA aligment\n",
      "pred: chr8:27343704-27343838\n",
      "true: chr2:34350870-34351005\n"
     ]
    },
    {
     "name": "stderr",
     "output_type": "stream",
     "text": [
      "Evaluating:  39%|███▉      | 177/450 [01:23<02:05,  2.18it/s]"
     ]
    },
    {
     "name": "stdout",
     "output_type": "stream",
     "text": [
      "task: Human genome DNA aligment\n",
      "pred: chr14:105683970-105684101\n",
      "true: chr7:32588819-32588940\n"
     ]
    },
    {
     "name": "stderr",
     "output_type": "stream",
     "text": [
      "Evaluating:  40%|███▉      | 178/450 [01:23<01:58,  2.29it/s]"
     ]
    },
    {
     "name": "stdout",
     "output_type": "stream",
     "text": [
      "task: Human genome DNA aligment\n",
      "pred: chr2:234191162-234191277\n",
      "true: chr14:83950330-83950463\n"
     ]
    },
    {
     "name": "stderr",
     "output_type": "stream",
     "text": [
      "Evaluating:  40%|███▉      | 179/450 [01:24<02:14,  2.01it/s]"
     ]
    },
    {
     "name": "stdout",
     "output_type": "stream",
     "text": [
      "task: Human genome DNA aligment\n",
      "pred: chr16:3814243-3814408\n",
      "true: chr11:37515333-37515467\n"
     ]
    },
    {
     "name": "stderr",
     "output_type": "stream",
     "text": [
      "Evaluating:  40%|████      | 180/450 [01:24<02:26,  1.84it/s]"
     ]
    },
    {
     "name": "stdout",
     "output_type": "stream",
     "text": [
      "task: Human genome DNA aligment\n",
      "pred: chr8:145662306-145662420\n",
      "true: chr19:23003880-23004012\n"
     ]
    },
    {
     "name": "stderr",
     "output_type": "stream",
     "text": [
      "Evaluating:  40%|████      | 181/450 [01:25<02:36,  1.72it/s]"
     ]
    },
    {
     "name": "stdout",
     "output_type": "stream",
     "text": [
      "task: Human genome DNA aligment\n",
      "pred: chr8:27393123-27393238\n",
      "true: chr8:141523256-141523379\n"
     ]
    },
    {
     "name": "stderr",
     "output_type": "stream",
     "text": [
      "Evaluating:  40%|████      | 182/450 [01:26<02:44,  1.63it/s]"
     ]
    },
    {
     "name": "stdout",
     "output_type": "stream",
     "text": [
      "task: Human genome DNA aligment\n",
      "pred: chr6:31234978-31235103\n",
      "true: chr9:22210568-22210684\n"
     ]
    },
    {
     "name": "stderr",
     "output_type": "stream",
     "text": [
      "Evaluating:  41%|████      | 183/450 [01:26<02:36,  1.70it/s]"
     ]
    },
    {
     "name": "stdout",
     "output_type": "stream",
     "text": [
      "task: Human genome DNA aligment\n",
      "pred: chr11:65480453-65480568\n",
      "true: chrX:96520716-96520841\n"
     ]
    },
    {
     "name": "stderr",
     "output_type": "stream",
     "text": [
      "Evaluating:  41%|████      | 184/450 [01:26<02:18,  1.91it/s]"
     ]
    },
    {
     "name": "stdout",
     "output_type": "stream",
     "text": [
      "task: Human genome DNA aligment\n",
      "pred: chr8:145158062-145158182\n",
      "true: chr20:57571370-57571508\n"
     ]
    },
    {
     "name": "stderr",
     "output_type": "stream",
     "text": [
      "Evaluating:  41%|████      | 185/450 [01:27<02:16,  1.94it/s]"
     ]
    },
    {
     "name": "stdout",
     "output_type": "stream",
     "text": [
      "task: Human genome DNA aligment\n",
      "pred: chr22:38342762-38342852\n",
      "true: chr17:9557107-9557213\n"
     ]
    },
    {
     "name": "stderr",
     "output_type": "stream",
     "text": [
      "Evaluating:  41%|████▏     | 186/450 [01:27<02:04,  2.12it/s]"
     ]
    },
    {
     "name": "stdout",
     "output_type": "stream",
     "text": [
      "task: Human genome DNA aligment\n",
      "pred: chr6:31232097-31232209\n",
      "true: chr1:189568643-189568756\n"
     ]
    },
    {
     "name": "stderr",
     "output_type": "stream",
     "text": [
      "Evaluating:  42%|████▏     | 187/450 [01:28<01:55,  2.27it/s]"
     ]
    },
    {
     "name": "stdout",
     "output_type": "stream",
     "text": [
      "task: Human genome DNA aligment\n",
      "pred: chr19:54128252-54128342\n",
      "true: chr19:41724898-41725009\n"
     ]
    },
    {
     "name": "stderr",
     "output_type": "stream",
     "text": [
      "Evaluating:  42%|████▏     | 188/450 [01:28<01:47,  2.44it/s]"
     ]
    },
    {
     "name": "stdout",
     "output_type": "stream",
     "text": [
      "task: Human genome DNA aligment\n",
      "pred: chr18:74446096-74446213\n",
      "true: chr6:119363354-119363488\n"
     ]
    },
    {
     "name": "stderr",
     "output_type": "stream",
     "text": [
      "Evaluating:  42%|████▏     | 189/450 [01:29<02:04,  2.10it/s]"
     ]
    },
    {
     "name": "stdout",
     "output_type": "stream",
     "text": [
      "task: Human genome DNA aligment\n",
      "pred: chr1:2217573-2217718\n",
      "true: chr16:3779892-3780028\n"
     ]
    },
    {
     "name": "stderr",
     "output_type": "stream",
     "text": [
      "Evaluating:  42%|████▏     | 190/450 [01:29<02:17,  1.89it/s]"
     ]
    },
    {
     "name": "stdout",
     "output_type": "stream",
     "text": [
      "task: Human genome DNA aligment\n",
      "pred: chr4:23101863-23101970\n",
      "true: chr2:93063432-93063557\n"
     ]
    },
    {
     "name": "stderr",
     "output_type": "stream",
     "text": [
      "Evaluating:  42%|████▏     | 191/450 [01:30<02:23,  1.80it/s]"
     ]
    },
    {
     "name": "stdout",
     "output_type": "stream",
     "text": [
      "task: Human genome DNA aligment\n",
      "pred: chr17:7577016-7577196\n",
      "true: chr19:19162638-19162779\n"
     ]
    },
    {
     "name": "stderr",
     "output_type": "stream",
     "text": [
      "Evaluating:  43%|████▎     | 192/450 [01:30<02:06,  2.04it/s]"
     ]
    },
    {
     "name": "stdout",
     "output_type": "stream",
     "text": [
      "task: Human genome DNA aligment\n",
      "pred: chr12:40688518-40688620\n",
      "true: chr9:8591402-8591503\n"
     ]
    },
    {
     "name": "stderr",
     "output_type": "stream",
     "text": [
      "Evaluating:  43%|████▎     | 193/450 [01:31<02:07,  2.01it/s]"
     ]
    },
    {
     "name": "stdout",
     "output_type": "stream",
     "text": [
      "task: Human genome DNA aligment\n",
      "pred: chr1:172411259-172411378\n",
      "true: chr6:20935508-20935649\n"
     ]
    },
    {
     "name": "stderr",
     "output_type": "stream",
     "text": [
      "Evaluating:  43%|████▎     | 194/450 [01:31<02:08,  1.99it/s]"
     ]
    },
    {
     "name": "stdout",
     "output_type": "stream",
     "text": [
      "task: Human genome DNA aligment\n",
      "pred: chr19:58220777-58220912\n",
      "true: chr1:20486790-20486921\n"
     ]
    },
    {
     "name": "stderr",
     "output_type": "stream",
     "text": [
      "Evaluating:  43%|████▎     | 195/450 [01:32<02:23,  1.78it/s]"
     ]
    },
    {
     "name": "stdout",
     "output_type": "stream",
     "text": [
      "task: Human genome DNA aligment\n",
      "pred: chr8:81811566-81811711\n",
      "true: chr14:99402298-99402438\n"
     ]
    },
    {
     "name": "stderr",
     "output_type": "stream",
     "text": [
      "Evaluating:  44%|████▎     | 196/450 [01:33<02:30,  1.69it/s]"
     ]
    },
    {
     "name": "stdout",
     "output_type": "stream",
     "text": [
      "task: Human genome DNA aligment\n",
      "pred: chr1:201553751-201553870\n",
      "true: chr20:29228714-29228833\n"
     ]
    },
    {
     "name": "stderr",
     "output_type": "stream",
     "text": [
      "Evaluating:  44%|████▍     | 197/450 [01:33<02:34,  1.64it/s]"
     ]
    },
    {
     "name": "stdout",
     "output_type": "stream",
     "text": [
      "task: Human genome DNA aligment\n",
      "pred: chr1:153963161-153963312\n",
      "true: chr10:121721897-121722042\n"
     ]
    },
    {
     "name": "stderr",
     "output_type": "stream",
     "text": [
      "Evaluating:  44%|████▍     | 198/450 [01:34<02:35,  1.62it/s]"
     ]
    },
    {
     "name": "stdout",
     "output_type": "stream",
     "text": [
      "task: Human genome DNA aligment\n",
      "pred: chr10:74069927-74070041\n",
      "true: chr10:8432390-8432526\n"
     ]
    },
    {
     "name": "stderr",
     "output_type": "stream",
     "text": [
      "Evaluating:  44%|████▍     | 199/450 [01:34<02:13,  1.88it/s]"
     ]
    },
    {
     "name": "stdout",
     "output_type": "stream",
     "text": [
      "task: Human genome DNA aligment\n",
      "pred: chr3:170118583-170118696\n",
      "true: chr2:132111535-132111654\n"
     ]
    },
    {
     "name": "stderr",
     "output_type": "stream",
     "text": [
      "Evaluating:  44%|████▍     | 200/450 [01:35<02:22,  1.76it/s]"
     ]
    },
    {
     "name": "stdout",
     "output_type": "stream",
     "text": [
      "task: Human genome DNA aligment\n",
      "pred: chr7:55651735-55651853\n",
      "true: chr20:34383091-34383229\n"
     ]
    },
    {
     "name": "stderr",
     "output_type": "stream",
     "text": [
      "Evaluating:  45%|████▍     | 201/450 [01:35<02:03,  2.02it/s]"
     ]
    },
    {
     "name": "stdout",
     "output_type": "stream",
     "text": [
      "task: Multi-species DNA aligment\n",
      "pred: worm\n",
      "true: worm\n"
     ]
    },
    {
     "name": "stderr",
     "output_type": "stream",
     "text": [
      "Evaluating:  45%|████▍     | 202/450 [01:36<02:07,  1.94it/s]"
     ]
    },
    {
     "name": "stdout",
     "output_type": "stream",
     "text": [
      "task: Multi-species DNA aligment\n",
      "pred: human\n",
      "true: yeast\n"
     ]
    },
    {
     "name": "stderr",
     "output_type": "stream",
     "text": [
      "Evaluating:  45%|████▌     | 203/450 [01:36<01:50,  2.23it/s]"
     ]
    },
    {
     "name": "stdout",
     "output_type": "stream",
     "text": [
      "task: Multi-species DNA aligment\n",
      "pred: mouse\n",
      "true: worm\n"
     ]
    },
    {
     "name": "stderr",
     "output_type": "stream",
     "text": [
      "Evaluating:  45%|████▌     | 204/450 [01:37<01:47,  2.29it/s]"
     ]
    },
    {
     "name": "stdout",
     "output_type": "stream",
     "text": [
      "task: Multi-species DNA aligment\n",
      "pred: human\n",
      "true: human\n"
     ]
    },
    {
     "name": "stderr",
     "output_type": "stream",
     "text": [
      "Evaluating:  46%|████▌     | 205/450 [01:37<01:56,  2.11it/s]"
     ]
    },
    {
     "name": "stdout",
     "output_type": "stream",
     "text": [
      "task: Multi-species DNA aligment\n",
      "pred: human\n",
      "true: rat\n"
     ]
    },
    {
     "name": "stderr",
     "output_type": "stream",
     "text": [
      "Evaluating:  46%|████▌     | 206/450 [01:38<02:02,  1.99it/s]"
     ]
    },
    {
     "name": "stdout",
     "output_type": "stream",
     "text": [
      "task: Multi-species DNA aligment\n",
      "pred: human\n",
      "true: mouse\n"
     ]
    },
    {
     "name": "stderr",
     "output_type": "stream",
     "text": [
      "Evaluating:  46%|████▌     | 207/450 [01:38<02:05,  1.93it/s]"
     ]
    },
    {
     "name": "stdout",
     "output_type": "stream",
     "text": [
      "task: Multi-species DNA aligment\n",
      "pred: human\n",
      "true: zebrafish\n"
     ]
    },
    {
     "name": "stderr",
     "output_type": "stream",
     "text": [
      "Evaluating:  46%|████▌     | 208/450 [01:38<01:46,  2.27it/s]"
     ]
    },
    {
     "name": "stdout",
     "output_type": "stream",
     "text": [
      "task: Multi-species DNA aligment\n",
      "pred: human\n",
      "true: yeast\n"
     ]
    },
    {
     "name": "stderr",
     "output_type": "stream",
     "text": [
      "Evaluating:  46%|████▋     | 209/450 [01:39<01:41,  2.36it/s]"
     ]
    },
    {
     "name": "stdout",
     "output_type": "stream",
     "text": [
      "task: Multi-species DNA aligment\n",
      "pred: human\n",
      "true: zebrafish\n"
     ]
    },
    {
     "name": "stderr",
     "output_type": "stream",
     "text": [
      "Evaluating:  47%|████▋     | 210/450 [01:39<01:35,  2.50it/s]"
     ]
    },
    {
     "name": "stdout",
     "output_type": "stream",
     "text": [
      "task: Multi-species DNA aligment\n",
      "pred: human\n",
      "true: human\n"
     ]
    },
    {
     "name": "stderr",
     "output_type": "stream",
     "text": [
      "Evaluating:  47%|████▋     | 211/450 [01:40<01:48,  2.21it/s]"
     ]
    },
    {
     "name": "stdout",
     "output_type": "stream",
     "text": [
      "task: Multi-species DNA aligment\n",
      "pred: human\n",
      "true: rat\n"
     ]
    },
    {
     "name": "stderr",
     "output_type": "stream",
     "text": [
      "Evaluating:  47%|████▋     | 212/450 [01:40<01:37,  2.45it/s]"
     ]
    },
    {
     "name": "stdout",
     "output_type": "stream",
     "text": [
      "task: Multi-species DNA aligment\n",
      "pred: zebrafish\n",
      "true: yeast\n"
     ]
    },
    {
     "name": "stderr",
     "output_type": "stream",
     "text": [
      "Evaluating:  47%|████▋     | 213/450 [01:41<01:48,  2.18it/s]"
     ]
    },
    {
     "name": "stdout",
     "output_type": "stream",
     "text": [
      "task: Multi-species DNA aligment\n",
      "pred: human\n",
      "true: chicken\n"
     ]
    },
    {
     "name": "stderr",
     "output_type": "stream",
     "text": [
      "Evaluating:  48%|████▊     | 214/450 [01:41<01:35,  2.47it/s]"
     ]
    },
    {
     "name": "stdout",
     "output_type": "stream",
     "text": [
      "task: Multi-species DNA aligment\n",
      "pred: human\n",
      "true: rat\n"
     ]
    },
    {
     "name": "stderr",
     "output_type": "stream",
     "text": [
      "Evaluating:  48%|████▊     | 215/450 [01:41<01:26,  2.71it/s]"
     ]
    },
    {
     "name": "stdout",
     "output_type": "stream",
     "text": [
      "task: Multi-species DNA aligment\n",
      "pred: human\n",
      "true: mouse\n"
     ]
    },
    {
     "name": "stderr",
     "output_type": "stream",
     "text": [
      "Evaluating:  48%|████▊     | 216/450 [01:42<01:26,  2.71it/s]"
     ]
    },
    {
     "name": "stdout",
     "output_type": "stream",
     "text": [
      "task: Multi-species DNA aligment\n",
      "pred: human\n",
      "true: yeast\n"
     ]
    },
    {
     "name": "stderr",
     "output_type": "stream",
     "text": [
      "Evaluating:  48%|████▊     | 217/450 [01:42<01:40,  2.32it/s]"
     ]
    },
    {
     "name": "stdout",
     "output_type": "stream",
     "text": [
      "task: Multi-species DNA aligment\n",
      "pred: human\n",
      "true: mouse\n"
     ]
    },
    {
     "name": "stderr",
     "output_type": "stream",
     "text": [
      "Evaluating:  48%|████▊     | 218/450 [01:42<01:28,  2.61it/s]"
     ]
    },
    {
     "name": "stdout",
     "output_type": "stream",
     "text": [
      "task: Multi-species DNA aligment\n",
      "pred: human\n",
      "true: human\n"
     ]
    },
    {
     "name": "stderr",
     "output_type": "stream",
     "text": [
      "Evaluating:  49%|████▊     | 219/450 [01:43<01:23,  2.78it/s]"
     ]
    },
    {
     "name": "stdout",
     "output_type": "stream",
     "text": [
      "task: Multi-species DNA aligment\n",
      "pred: human\n",
      "true: chicken\n"
     ]
    },
    {
     "name": "stderr",
     "output_type": "stream",
     "text": [
      "Evaluating:  49%|████▉     | 220/450 [01:43<01:20,  2.87it/s]"
     ]
    },
    {
     "name": "stdout",
     "output_type": "stream",
     "text": [
      "task: Multi-species DNA aligment\n",
      "pred: human\n",
      "true: human\n"
     ]
    },
    {
     "name": "stderr",
     "output_type": "stream",
     "text": [
      "Evaluating:  49%|████▉     | 221/450 [01:44<01:34,  2.42it/s]"
     ]
    },
    {
     "name": "stdout",
     "output_type": "stream",
     "text": [
      "task: Multi-species DNA aligment\n",
      "pred: human\n",
      "true: worm\n"
     ]
    },
    {
     "name": "stderr",
     "output_type": "stream",
     "text": [
      "Evaluating:  49%|████▉     | 222/450 [01:44<01:24,  2.71it/s]"
     ]
    },
    {
     "name": "stdout",
     "output_type": "stream",
     "text": [
      "task: Multi-species DNA aligment\n",
      "pred: human\n",
      "true: mouse\n"
     ]
    },
    {
     "name": "stderr",
     "output_type": "stream",
     "text": [
      "Evaluating:  50%|████▉     | 223/450 [01:44<01:16,  2.96it/s]"
     ]
    },
    {
     "name": "stdout",
     "output_type": "stream",
     "text": [
      "task: Multi-species DNA aligment\n",
      "pred: human\n",
      "true: rat\n"
     ]
    },
    {
     "name": "stderr",
     "output_type": "stream",
     "text": [
      "Evaluating:  50%|████▉     | 224/450 [01:44<01:12,  3.13it/s]"
     ]
    },
    {
     "name": "stdout",
     "output_type": "stream",
     "text": [
      "task: Multi-species DNA aligment\n",
      "pred: human\n",
      "true: worm\n"
     ]
    },
    {
     "name": "stderr",
     "output_type": "stream",
     "text": [
      "Evaluating:  50%|█████     | 225/450 [01:45<01:24,  2.66it/s]"
     ]
    },
    {
     "name": "stdout",
     "output_type": "stream",
     "text": [
      "task: Multi-species DNA aligment\n",
      "pred: human\n",
      "true: human\n"
     ]
    },
    {
     "name": "stderr",
     "output_type": "stream",
     "text": [
      "Evaluating:  50%|█████     | 226/450 [01:45<01:31,  2.44it/s]"
     ]
    },
    {
     "name": "stdout",
     "output_type": "stream",
     "text": [
      "task: Multi-species DNA aligment\n",
      "pred: human\n",
      "true: yeast\n"
     ]
    },
    {
     "name": "stderr",
     "output_type": "stream",
     "text": [
      "Evaluating:  50%|█████     | 227/450 [01:46<01:41,  2.20it/s]"
     ]
    },
    {
     "name": "stdout",
     "output_type": "stream",
     "text": [
      "task: Multi-species DNA aligment\n",
      "pred: human\n",
      "true: zebrafish\n"
     ]
    },
    {
     "name": "stderr",
     "output_type": "stream",
     "text": [
      "Evaluating:  51%|█████     | 228/450 [01:46<01:33,  2.37it/s]"
     ]
    },
    {
     "name": "stdout",
     "output_type": "stream",
     "text": [
      "task: Multi-species DNA aligment\n",
      "pred: human\n",
      "true: chicken\n"
     ]
    },
    {
     "name": "stderr",
     "output_type": "stream",
     "text": [
      "Evaluating:  51%|█████     | 229/450 [01:47<01:42,  2.16it/s]"
     ]
    },
    {
     "name": "stdout",
     "output_type": "stream",
     "text": [
      "task: Multi-species DNA aligment\n",
      "pred: human\n",
      "true: rat\n"
     ]
    },
    {
     "name": "stderr",
     "output_type": "stream",
     "text": [
      "Evaluating:  51%|█████     | 230/450 [01:47<01:33,  2.36it/s]"
     ]
    },
    {
     "name": "stdout",
     "output_type": "stream",
     "text": [
      "task: Multi-species DNA aligment\n",
      "pred: human\n",
      "true: human\n"
     ]
    },
    {
     "name": "stderr",
     "output_type": "stream",
     "text": [
      "Evaluating:  51%|█████▏    | 231/450 [01:48<01:48,  2.02it/s]"
     ]
    },
    {
     "name": "stdout",
     "output_type": "stream",
     "text": [
      "task: Multi-species DNA aligment\n",
      "pred: human\n",
      "true: chicken\n"
     ]
    },
    {
     "name": "stderr",
     "output_type": "stream",
     "text": [
      "Evaluating:  52%|█████▏    | 232/450 [01:48<01:45,  2.07it/s]"
     ]
    },
    {
     "name": "stdout",
     "output_type": "stream",
     "text": [
      "task: Multi-species DNA aligment\n",
      "pred: human\n",
      "true: yeast\n"
     ]
    },
    {
     "name": "stderr",
     "output_type": "stream",
     "text": [
      "Evaluating:  52%|█████▏    | 233/450 [01:49<01:50,  1.96it/s]"
     ]
    },
    {
     "name": "stdout",
     "output_type": "stream",
     "text": [
      "task: Multi-species DNA aligment\n",
      "pred: human\n",
      "true: worm\n"
     ]
    },
    {
     "name": "stderr",
     "output_type": "stream",
     "text": [
      "Evaluating:  52%|█████▏    | 234/450 [01:50<02:01,  1.78it/s]"
     ]
    },
    {
     "name": "stdout",
     "output_type": "stream",
     "text": [
      "task: Multi-species DNA aligment\n",
      "pred: human\n",
      "true: zebrafish\n"
     ]
    },
    {
     "name": "stderr",
     "output_type": "stream",
     "text": [
      "Evaluating:  52%|█████▏    | 235/450 [01:50<01:50,  1.95it/s]"
     ]
    },
    {
     "name": "stdout",
     "output_type": "stream",
     "text": [
      "task: Multi-species DNA aligment\n",
      "pred: zebrafish\n",
      "true: zebrafish\n"
     ]
    },
    {
     "name": "stderr",
     "output_type": "stream",
     "text": [
      "Evaluating:  52%|█████▏    | 236/450 [01:51<01:53,  1.88it/s]"
     ]
    },
    {
     "name": "stdout",
     "output_type": "stream",
     "text": [
      "task: Multi-species DNA aligment\n",
      "pred: zebrafish\n",
      "true: yeast\n"
     ]
    },
    {
     "name": "stderr",
     "output_type": "stream",
     "text": [
      "Evaluating:  53%|█████▎    | 237/450 [01:51<01:37,  2.18it/s]"
     ]
    },
    {
     "name": "stdout",
     "output_type": "stream",
     "text": [
      "task: Multi-species DNA aligment\n",
      "pred: human\n",
      "true: zebrafish\n"
     ]
    },
    {
     "name": "stderr",
     "output_type": "stream",
     "text": [
      "Evaluating:  53%|█████▎    | 238/450 [01:51<01:26,  2.45it/s]"
     ]
    },
    {
     "name": "stdout",
     "output_type": "stream",
     "text": [
      "task: Multi-species DNA aligment\n",
      "pred: human\n",
      "true: mouse\n"
     ]
    },
    {
     "name": "stderr",
     "output_type": "stream",
     "text": [
      "Evaluating:  53%|█████▎    | 239/450 [01:52<01:36,  2.18it/s]"
     ]
    },
    {
     "name": "stdout",
     "output_type": "stream",
     "text": [
      "task: Multi-species DNA aligment\n",
      "pred: human\n",
      "true: human\n"
     ]
    },
    {
     "name": "stderr",
     "output_type": "stream",
     "text": [
      "Evaluating:  53%|█████▎    | 240/450 [01:52<01:26,  2.43it/s]"
     ]
    },
    {
     "name": "stdout",
     "output_type": "stream",
     "text": [
      "task: Multi-species DNA aligment\n",
      "pred: human\n",
      "true: chicken\n"
     ]
    },
    {
     "name": "stderr",
     "output_type": "stream",
     "text": [
      "Evaluating:  54%|█████▎    | 241/450 [01:52<01:17,  2.68it/s]"
     ]
    },
    {
     "name": "stdout",
     "output_type": "stream",
     "text": [
      "task: Multi-species DNA aligment\n",
      "pred: human\n",
      "true: zebrafish\n"
     ]
    },
    {
     "name": "stderr",
     "output_type": "stream",
     "text": [
      "Evaluating:  54%|█████▍    | 242/450 [01:53<01:28,  2.35it/s]"
     ]
    },
    {
     "name": "stdout",
     "output_type": "stream",
     "text": [
      "task: Multi-species DNA aligment\n",
      "pred: human\n",
      "true: zebrafish\n"
     ]
    },
    {
     "name": "stderr",
     "output_type": "stream",
     "text": [
      "Evaluating:  54%|█████▍    | 243/450 [01:53<01:36,  2.15it/s]"
     ]
    },
    {
     "name": "stdout",
     "output_type": "stream",
     "text": [
      "task: Multi-species DNA aligment\n",
      "pred: human\n",
      "true: mouse\n"
     ]
    },
    {
     "name": "stderr",
     "output_type": "stream",
     "text": [
      "Evaluating:  54%|█████▍    | 244/450 [01:54<01:26,  2.39it/s]"
     ]
    },
    {
     "name": "stdout",
     "output_type": "stream",
     "text": [
      "task: Multi-species DNA aligment\n",
      "pred: zebrafish\n",
      "true: yeast\n"
     ]
    },
    {
     "name": "stderr",
     "output_type": "stream",
     "text": [
      "Evaluating:  54%|█████▍    | 245/450 [01:54<01:18,  2.62it/s]"
     ]
    },
    {
     "name": "stdout",
     "output_type": "stream",
     "text": [
      "task: Multi-species DNA aligment\n",
      "pred: human\n",
      "true: worm\n"
     ]
    },
    {
     "name": "stderr",
     "output_type": "stream",
     "text": [
      "Evaluating:  55%|█████▍    | 246/450 [01:54<01:11,  2.87it/s]"
     ]
    },
    {
     "name": "stdout",
     "output_type": "stream",
     "text": [
      "task: Multi-species DNA aligment\n",
      "pred: human\n",
      "true: rat\n"
     ]
    },
    {
     "name": "stderr",
     "output_type": "stream",
     "text": [
      "Evaluating:  55%|█████▍    | 247/450 [01:55<01:10,  2.88it/s]"
     ]
    },
    {
     "name": "stdout",
     "output_type": "stream",
     "text": [
      "task: Multi-species DNA aligment\n",
      "pred: human\n",
      "true: zebrafish\n"
     ]
    },
    {
     "name": "stderr",
     "output_type": "stream",
     "text": [
      "Evaluating:  55%|█████▌    | 248/450 [01:55<01:07,  2.99it/s]"
     ]
    },
    {
     "name": "stdout",
     "output_type": "stream",
     "text": [
      "task: Multi-species DNA aligment\n",
      "pred: human\n",
      "true: worm\n"
     ]
    },
    {
     "name": "stderr",
     "output_type": "stream",
     "text": [
      "Evaluating:  55%|█████▌    | 249/450 [01:55<01:04,  3.12it/s]"
     ]
    },
    {
     "name": "stdout",
     "output_type": "stream",
     "text": [
      "task: Multi-species DNA aligment\n",
      "pred: human\n",
      "true: worm\n"
     ]
    },
    {
     "name": "stderr",
     "output_type": "stream",
     "text": [
      "Evaluating:  56%|█████▌    | 250/450 [01:56<01:03,  3.15it/s]"
     ]
    },
    {
     "name": "stdout",
     "output_type": "stream",
     "text": [
      "task: Multi-species DNA aligment\n",
      "pred: human\n",
      "true: zebrafish\n"
     ]
    },
    {
     "name": "stderr",
     "output_type": "stream",
     "text": [
      "Evaluating:  56%|█████▌    | 251/450 [01:56<01:18,  2.54it/s]"
     ]
    },
    {
     "name": "stdout",
     "output_type": "stream",
     "text": [
      "task: Gene name conversion\n",
      "pred: FASTKD5\n",
      "true: FASTKD5\n"
     ]
    },
    {
     "name": "stderr",
     "output_type": "stream",
     "text": [
      "Evaluating:  56%|█████▌    | 252/450 [01:56<01:15,  2.62it/s]"
     ]
    },
    {
     "name": "stdout",
     "output_type": "stream",
     "text": [
      "task: Gene name conversion\n",
      "pred: RNU4ATAC\n",
      "true: CFI\n"
     ]
    },
    {
     "name": "stderr",
     "output_type": "stream",
     "text": [
      "Evaluating:  56%|█████▌    | 253/450 [01:57<01:26,  2.28it/s]"
     ]
    },
    {
     "name": "stdout",
     "output_type": "stream",
     "text": [
      "task: Gene name conversion\n",
      "pred: PITX2\n",
      "true: SLC12A6\n"
     ]
    },
    {
     "name": "stderr",
     "output_type": "stream",
     "text": [
      "Evaluating:  56%|█████▋    | 254/450 [01:58<01:34,  2.07it/s]"
     ]
    },
    {
     "name": "stdout",
     "output_type": "stream",
     "text": [
      "task: Gene name conversion\n",
      "pred: GNG3\n",
      "true: TKFC\n"
     ]
    },
    {
     "name": "stderr",
     "output_type": "stream",
     "text": [
      "Evaluating:  57%|█████▋    | 255/450 [01:58<01:44,  1.87it/s]"
     ]
    },
    {
     "name": "stdout",
     "output_type": "stream",
     "text": [
      "task: Gene name conversion\n",
      "pred: OR4C15P\n",
      "true: TMEM276\n"
     ]
    },
    {
     "name": "stderr",
     "output_type": "stream",
     "text": [
      "Evaluating:  57%|█████▋    | 256/450 [01:59<01:30,  2.15it/s]"
     ]
    },
    {
     "name": "stdout",
     "output_type": "stream",
     "text": [
      "task: Gene name conversion\n",
      "pred: FAM120A\n",
      "true: P2RY14\n"
     ]
    },
    {
     "name": "stderr",
     "output_type": "stream",
     "text": [
      "Evaluating:  57%|█████▋    | 257/450 [01:59<01:35,  2.02it/s]"
     ]
    },
    {
     "name": "stdout",
     "output_type": "stream",
     "text": [
      "task: Gene name conversion\n",
      "pred: PPARG\n",
      "true: GLCE\n"
     ]
    },
    {
     "name": "stderr",
     "output_type": "stream",
     "text": [
      "Evaluating:  57%|█████▋    | 258/450 [02:00<01:29,  2.15it/s]"
     ]
    },
    {
     "name": "stdout",
     "output_type": "stream",
     "text": [
      "task: Gene name conversion\n",
      "pred: RPS6KA2\n",
      "true: ADCY6\n"
     ]
    },
    {
     "name": "stderr",
     "output_type": "stream",
     "text": [
      "Evaluating:  58%|█████▊    | 259/450 [02:00<01:19,  2.40it/s]"
     ]
    },
    {
     "name": "stdout",
     "output_type": "stream",
     "text": [
      "task: Gene name conversion\n",
      "pred: AASS\n",
      "true: MICU2\n"
     ]
    },
    {
     "name": "stderr",
     "output_type": "stream",
     "text": [
      "Evaluating:  58%|█████▊    | 260/450 [02:00<01:12,  2.61it/s]"
     ]
    },
    {
     "name": "stdout",
     "output_type": "stream",
     "text": [
      "task: Gene name conversion\n",
      "pred: PGLYRP2\n",
      "true: SEMG2\n"
     ]
    },
    {
     "name": "stderr",
     "output_type": "stream",
     "text": [
      "Evaluating:  58%|█████▊    | 261/450 [02:00<01:06,  2.83it/s]"
     ]
    },
    {
     "name": "stdout",
     "output_type": "stream",
     "text": [
      "task: Gene name conversion\n",
      "pred: BLID\n",
      "true: ADGRG3\n"
     ]
    },
    {
     "name": "stderr",
     "output_type": "stream",
     "text": [
      "Evaluating:  58%|█████▊    | 262/450 [02:01<01:04,  2.91it/s]"
     ]
    },
    {
     "name": "stdout",
     "output_type": "stream",
     "text": [
      "task: Gene name conversion\n",
      "pred: GUK1\n",
      "true: IGLL1\n"
     ]
    },
    {
     "name": "stderr",
     "output_type": "stream",
     "text": [
      "Evaluating:  58%|█████▊    | 263/450 [02:01<01:03,  2.95it/s]"
     ]
    },
    {
     "name": "stdout",
     "output_type": "stream",
     "text": [
      "task: Gene name conversion\n",
      "pred: INPP5F\n",
      "true: ZNF500\n"
     ]
    },
    {
     "name": "stderr",
     "output_type": "stream",
     "text": [
      "Evaluating:  59%|█████▊    | 264/450 [02:02<01:16,  2.43it/s]"
     ]
    },
    {
     "name": "stdout",
     "output_type": "stream",
     "text": [
      "task: Gene name conversion\n",
      "pred: GCNT2\n",
      "true: MTG1\n"
     ]
    },
    {
     "name": "stderr",
     "output_type": "stream",
     "text": [
      "Evaluating:  59%|█████▉    | 265/450 [02:02<01:26,  2.13it/s]"
     ]
    },
    {
     "name": "stdout",
     "output_type": "stream",
     "text": [
      "task: Gene name conversion\n",
      "pred: MAN1A1\n",
      "true: CIBAR1\n"
     ]
    },
    {
     "name": "stderr",
     "output_type": "stream",
     "text": [
      "Evaluating:  59%|█████▉    | 266/450 [02:03<01:31,  2.01it/s]"
     ]
    },
    {
     "name": "stdout",
     "output_type": "stream",
     "text": [
      "task: Gene name conversion\n",
      "pred: GSR\n",
      "true: CST7\n"
     ]
    },
    {
     "name": "stderr",
     "output_type": "stream",
     "text": [
      "Evaluating:  59%|█████▉    | 267/450 [02:03<01:21,  2.24it/s]"
     ]
    },
    {
     "name": "stdout",
     "output_type": "stream",
     "text": [
      "task: Gene name conversion\n",
      "pred: TBC1D1\n",
      "true: ABCD3\n"
     ]
    },
    {
     "name": "stderr",
     "output_type": "stream",
     "text": [
      "Evaluating:  60%|█████▉    | 268/450 [02:04<01:31,  1.99it/s]"
     ]
    },
    {
     "name": "stdout",
     "output_type": "stream",
     "text": [
      "task: Gene name conversion\n",
      "pred: CIZ1\n",
      "true: LCA5\n"
     ]
    },
    {
     "name": "stderr",
     "output_type": "stream",
     "text": [
      "Evaluating:  60%|█████▉    | 269/450 [02:04<01:35,  1.89it/s]"
     ]
    },
    {
     "name": "stdout",
     "output_type": "stream",
     "text": [
      "task: Gene name conversion\n",
      "pred: LYZL1\n",
      "true: SLC15A4\n"
     ]
    },
    {
     "name": "stderr",
     "output_type": "stream",
     "text": [
      "Evaluating:  60%|██████    | 270/450 [02:05<01:23,  2.16it/s]"
     ]
    },
    {
     "name": "stdout",
     "output_type": "stream",
     "text": [
      "task: Gene name conversion\n",
      "pred: PRELID1\n",
      "true: ANKK1\n"
     ]
    },
    {
     "name": "stderr",
     "output_type": "stream",
     "text": [
      "Evaluating:  60%|██████    | 271/450 [02:05<01:14,  2.41it/s]"
     ]
    },
    {
     "name": "stdout",
     "output_type": "stream",
     "text": [
      "task: Gene name conversion\n",
      "pred: SEPTIN10\n",
      "true: MAGEA1\n"
     ]
    },
    {
     "name": "stderr",
     "output_type": "stream",
     "text": [
      "Evaluating:  60%|██████    | 272/450 [02:05<01:08,  2.61it/s]"
     ]
    },
    {
     "name": "stdout",
     "output_type": "stream",
     "text": [
      "task: Gene name conversion\n",
      "pred: MEIS2\n",
      "true: ADCYAP1R1\n"
     ]
    },
    {
     "name": "stderr",
     "output_type": "stream",
     "text": [
      "Evaluating:  61%|██████    | 273/450 [02:06<01:02,  2.85it/s]"
     ]
    },
    {
     "name": "stdout",
     "output_type": "stream",
     "text": [
      "task: Gene name conversion\n",
      "pred: CYBB\n",
      "true: NLRP1\n"
     ]
    },
    {
     "name": "stderr",
     "output_type": "stream",
     "text": [
      "Evaluating:  61%|██████    | 274/450 [02:06<01:09,  2.52it/s]"
     ]
    },
    {
     "name": "stdout",
     "output_type": "stream",
     "text": [
      "task: Gene name conversion\n",
      "pred: PDK3\n",
      "true: HTR7\n"
     ]
    },
    {
     "name": "stderr",
     "output_type": "stream",
     "text": [
      "Evaluating:  61%|██████    | 275/450 [02:06<01:05,  2.69it/s]"
     ]
    },
    {
     "name": "stdout",
     "output_type": "stream",
     "text": [
      "task: Gene name conversion\n",
      "pred: USP46\n",
      "true: PRKX\n"
     ]
    },
    {
     "name": "stderr",
     "output_type": "stream",
     "text": [
      "Evaluating:  61%|██████▏   | 276/450 [02:07<01:00,  2.87it/s]"
     ]
    },
    {
     "name": "stdout",
     "output_type": "stream",
     "text": [
      "task: Gene name conversion\n",
      "pred: LMNB1\n",
      "true: CCR5\n"
     ]
    },
    {
     "name": "stderr",
     "output_type": "stream",
     "text": [
      "Evaluating:  62%|██████▏   | 277/450 [02:07<01:14,  2.33it/s]"
     ]
    },
    {
     "name": "stdout",
     "output_type": "stream",
     "text": [
      "task: Gene name conversion\n",
      "pred: LTBP1\n",
      "true: KIF26B\n"
     ]
    },
    {
     "name": "stderr",
     "output_type": "stream",
     "text": [
      "Evaluating:  62%|██████▏   | 278/450 [02:08<01:08,  2.49it/s]"
     ]
    },
    {
     "name": "stdout",
     "output_type": "stream",
     "text": [
      "task: Gene name conversion\n",
      "pred: SLC7A2\n",
      "true: DIAPH2\n"
     ]
    },
    {
     "name": "stderr",
     "output_type": "stream",
     "text": [
      "Evaluating:  62%|██████▏   | 279/450 [02:08<01:02,  2.72it/s]"
     ]
    },
    {
     "name": "stdout",
     "output_type": "stream",
     "text": [
      "task: Gene name conversion\n",
      "pred: OTC\n",
      "true: TNFSF4\n"
     ]
    },
    {
     "name": "stderr",
     "output_type": "stream",
     "text": [
      "Evaluating:  62%|██████▏   | 280/450 [02:08<00:59,  2.87it/s]"
     ]
    },
    {
     "name": "stdout",
     "output_type": "stream",
     "text": [
      "task: Gene name conversion\n",
      "pred: KCNJ16\n",
      "true: TMUB2\n"
     ]
    },
    {
     "name": "stderr",
     "output_type": "stream",
     "text": [
      "Evaluating:  62%|██████▏   | 281/450 [02:09<01:10,  2.40it/s]"
     ]
    },
    {
     "name": "stdout",
     "output_type": "stream",
     "text": [
      "task: Gene name conversion\n",
      "pred: PIGT\n",
      "true: AJUBA\n"
     ]
    },
    {
     "name": "stderr",
     "output_type": "stream",
     "text": [
      "Evaluating:  63%|██████▎   | 282/450 [02:09<01:04,  2.61it/s]"
     ]
    },
    {
     "name": "stdout",
     "output_type": "stream",
     "text": [
      "task: Gene name conversion\n",
      "pred: DSC2\n",
      "true: THOP1\n"
     ]
    },
    {
     "name": "stderr",
     "output_type": "stream",
     "text": [
      "Evaluating:  63%|██████▎   | 283/450 [02:09<00:58,  2.84it/s]"
     ]
    },
    {
     "name": "stdout",
     "output_type": "stream",
     "text": [
      "task: Gene name conversion\n",
      "pred: SLC38A6\n",
      "true: FAM47E\n"
     ]
    },
    {
     "name": "stderr",
     "output_type": "stream",
     "text": [
      "Evaluating:  63%|██████▎   | 284/450 [02:10<01:11,  2.32it/s]"
     ]
    },
    {
     "name": "stdout",
     "output_type": "stream",
     "text": [
      "task: Gene name conversion\n",
      "pred: C1QTNF4\n",
      "true: MYO6\n"
     ]
    },
    {
     "name": "stderr",
     "output_type": "stream",
     "text": [
      "Evaluating:  63%|██████▎   | 285/450 [02:10<01:06,  2.49it/s]"
     ]
    },
    {
     "name": "stdout",
     "output_type": "stream",
     "text": [
      "task: Gene name conversion\n",
      "pred: MAGOHB\n",
      "true: PRR9\n"
     ]
    },
    {
     "name": "stderr",
     "output_type": "stream",
     "text": [
      "Evaluating:  64%|██████▎   | 286/450 [02:11<01:02,  2.62it/s]"
     ]
    },
    {
     "name": "stdout",
     "output_type": "stream",
     "text": [
      "task: Gene name conversion\n",
      "pred: PCDH9\n",
      "true: FLRT1\n"
     ]
    },
    {
     "name": "stderr",
     "output_type": "stream",
     "text": [
      "Evaluating:  64%|██████▍   | 287/450 [02:11<00:59,  2.75it/s]"
     ]
    },
    {
     "name": "stdout",
     "output_type": "stream",
     "text": [
      "task: Gene name conversion\n",
      "pred: APEX1\n",
      "true: IDS\n"
     ]
    },
    {
     "name": "stderr",
     "output_type": "stream",
     "text": [
      "Evaluating:  64%|██████▍   | 288/450 [02:11<01:00,  2.70it/s]"
     ]
    },
    {
     "name": "stdout",
     "output_type": "stream",
     "text": [
      "task: Gene name conversion\n",
      "pred: MYH7B\n",
      "true: CHST15\n"
     ]
    },
    {
     "name": "stderr",
     "output_type": "stream",
     "text": [
      "Evaluating:  64%|██████▍   | 289/450 [02:12<00:57,  2.82it/s]"
     ]
    },
    {
     "name": "stdout",
     "output_type": "stream",
     "text": [
      "task: Gene name conversion\n",
      "pred: INPP5A\n",
      "true: FBXO46\n"
     ]
    },
    {
     "name": "stderr",
     "output_type": "stream",
     "text": [
      "Evaluating:  64%|██████▍   | 290/450 [02:12<01:07,  2.37it/s]"
     ]
    },
    {
     "name": "stdout",
     "output_type": "stream",
     "text": [
      "task: Gene name conversion\n",
      "pred: RPL21\n",
      "true: SPTLC3\n"
     ]
    },
    {
     "name": "stderr",
     "output_type": "stream",
     "text": [
      "Evaluating:  65%|██████▍   | 291/450 [02:13<01:10,  2.26it/s]"
     ]
    },
    {
     "name": "stdout",
     "output_type": "stream",
     "text": [
      "task: Gene name conversion\n",
      "pred: HSD17B4\n",
      "true: EGR1\n"
     ]
    },
    {
     "name": "stderr",
     "output_type": "stream",
     "text": [
      "Evaluating:  65%|██████▍   | 292/450 [02:14<01:28,  1.78it/s]"
     ]
    },
    {
     "name": "stdout",
     "output_type": "stream",
     "text": [
      "task: Gene name conversion\n",
      "pred: TRIM29\n",
      "true: ZNF280A\n"
     ]
    },
    {
     "name": "stderr",
     "output_type": "stream",
     "text": [
      "Evaluating:  65%|██████▌   | 293/450 [02:14<01:17,  2.02it/s]"
     ]
    },
    {
     "name": "stdout",
     "output_type": "stream",
     "text": [
      "task: Gene name conversion\n",
      "pred: YPEL3\n",
      "true: TEKT5\n"
     ]
    },
    {
     "name": "stderr",
     "output_type": "stream",
     "text": [
      "Evaluating:  65%|██████▌   | 294/450 [02:14<01:08,  2.28it/s]"
     ]
    },
    {
     "name": "stdout",
     "output_type": "stream",
     "text": [
      "task: Gene name conversion\n",
      "pred: POLR1B\n",
      "true: ZNF404\n"
     ]
    },
    {
     "name": "stderr",
     "output_type": "stream",
     "text": [
      "Evaluating:  66%|██████▌   | 295/450 [02:15<01:05,  2.37it/s]"
     ]
    },
    {
     "name": "stdout",
     "output_type": "stream",
     "text": [
      "task: Gene name conversion\n",
      "pred: CCT6B\n",
      "true: JMJD7-PLA2G4B\n"
     ]
    },
    {
     "name": "stderr",
     "output_type": "stream",
     "text": [
      "Evaluating:  66%|██████▌   | 296/450 [02:15<01:00,  2.57it/s]"
     ]
    },
    {
     "name": "stdout",
     "output_type": "stream",
     "text": [
      "task: Gene name conversion\n",
      "pred: DEFB1\n",
      "true: ATP6V0C\n"
     ]
    },
    {
     "name": "stderr",
     "output_type": "stream",
     "text": [
      "Evaluating:  66%|██████▌   | 297/450 [02:15<01:04,  2.39it/s]"
     ]
    },
    {
     "name": "stdout",
     "output_type": "stream",
     "text": [
      "task: Gene name conversion\n",
      "pred: MIR1302-2HG\n",
      "true: PNMA2\n"
     ]
    },
    {
     "name": "stderr",
     "output_type": "stream",
     "text": [
      "Evaluating:  66%|██████▌   | 298/450 [02:16<00:59,  2.54it/s]"
     ]
    },
    {
     "name": "stdout",
     "output_type": "stream",
     "text": [
      "task: Gene name conversion\n",
      "pred: ALDH3B1\n",
      "true: TMIGD2\n"
     ]
    },
    {
     "name": "stderr",
     "output_type": "stream",
     "text": [
      "Evaluating:  66%|██████▋   | 299/450 [02:16<00:56,  2.68it/s]"
     ]
    },
    {
     "name": "stdout",
     "output_type": "stream",
     "text": [
      "task: Gene name conversion\n",
      "pred: MIR6832\n",
      "true: ZNF487\n"
     ]
    },
    {
     "name": "stderr",
     "output_type": "stream",
     "text": [
      "Evaluating:  67%|██████▋   | 300/450 [02:16<00:52,  2.87it/s]"
     ]
    },
    {
     "name": "stdout",
     "output_type": "stream",
     "text": [
      "task: Gene name conversion\n",
      "pred: PCSK1\n",
      "true: EMILIN2\n"
     ]
    },
    {
     "name": "stderr",
     "output_type": "stream",
     "text": [
      "Evaluating:  67%|██████▋   | 301/450 [02:17<00:48,  3.08it/s]"
     ]
    },
    {
     "name": "stdout",
     "output_type": "stream",
     "text": [
      "task: Protein-coding genes\n",
      "pred: NA\n",
      "true: NA\n"
     ]
    },
    {
     "name": "stderr",
     "output_type": "stream",
     "text": [
      "Evaluating:  67%|██████▋   | 302/450 [02:17<00:48,  3.07it/s]"
     ]
    },
    {
     "name": "stdout",
     "output_type": "stream",
     "text": [
      "task: Protein-coding genes\n",
      "pred: NA\n",
      "true: NA\n"
     ]
    },
    {
     "name": "stderr",
     "output_type": "stream",
     "text": [
      "Evaluating:  67%|██████▋   | 303/450 [02:17<00:46,  3.13it/s]"
     ]
    },
    {
     "name": "stdout",
     "output_type": "stream",
     "text": [
      "task: Protein-coding genes\n",
      "pred: NA\n",
      "true: NA\n"
     ]
    },
    {
     "name": "stderr",
     "output_type": "stream",
     "text": [
      "Evaluating:  68%|██████▊   | 304/450 [02:18<00:57,  2.54it/s]"
     ]
    },
    {
     "name": "stdout",
     "output_type": "stream",
     "text": [
      "task: Protein-coding genes\n",
      "pred: TRUE\n",
      "true: TRUE\n"
     ]
    },
    {
     "name": "stderr",
     "output_type": "stream",
     "text": [
      "Evaluating:  68%|██████▊   | 305/450 [02:18<00:51,  2.81it/s]"
     ]
    },
    {
     "name": "stdout",
     "output_type": "stream",
     "text": [
      "task: Protein-coding genes\n",
      "pred: NA\n",
      "true: NA\n"
     ]
    },
    {
     "name": "stderr",
     "output_type": "stream",
     "text": [
      "Evaluating:  68%|██████▊   | 306/450 [02:18<00:50,  2.88it/s]"
     ]
    },
    {
     "name": "stdout",
     "output_type": "stream",
     "text": [
      "task: Protein-coding genes\n",
      "pred: TRUE\n",
      "true: TRUE\n"
     ]
    },
    {
     "name": "stderr",
     "output_type": "stream",
     "text": [
      "Evaluating:  68%|██████▊   | 307/450 [02:19<00:46,  3.05it/s]"
     ]
    },
    {
     "name": "stdout",
     "output_type": "stream",
     "text": [
      "task: Protein-coding genes\n",
      "pred: NA\n",
      "true: NA\n"
     ]
    },
    {
     "name": "stderr",
     "output_type": "stream",
     "text": [
      "Evaluating:  68%|██████▊   | 308/450 [02:19<00:56,  2.52it/s]"
     ]
    },
    {
     "name": "stdout",
     "output_type": "stream",
     "text": [
      "task: Protein-coding genes\n",
      "pred: NA\n",
      "true: NA\n"
     ]
    },
    {
     "name": "stderr",
     "output_type": "stream",
     "text": [
      "Evaluating:  69%|██████▊   | 309/450 [02:20<00:52,  2.69it/s]"
     ]
    },
    {
     "name": "stdout",
     "output_type": "stream",
     "text": [
      "task: Protein-coding genes\n",
      "pred: NA\n",
      "true: NA\n"
     ]
    },
    {
     "name": "stderr",
     "output_type": "stream",
     "text": [
      "Evaluating:  69%|██████▉   | 310/450 [02:20<00:49,  2.83it/s]"
     ]
    },
    {
     "name": "stdout",
     "output_type": "stream",
     "text": [
      "task: Protein-coding genes\n",
      "pred: NA\n",
      "true: NA\n"
     ]
    },
    {
     "name": "stderr",
     "output_type": "stream",
     "text": [
      "Evaluating:  69%|██████▉   | 311/450 [02:20<00:46,  2.98it/s]"
     ]
    },
    {
     "name": "stdout",
     "output_type": "stream",
     "text": [
      "task: Protein-coding genes\n",
      "pred: NA\n",
      "true: NA\n"
     ]
    },
    {
     "name": "stderr",
     "output_type": "stream",
     "text": [
      "Evaluating:  69%|██████▉   | 312/450 [02:21<00:56,  2.46it/s]"
     ]
    },
    {
     "name": "stdout",
     "output_type": "stream",
     "text": [
      "task: Protein-coding genes\n",
      "pred: TRUE\n",
      "true: TRUE\n"
     ]
    },
    {
     "name": "stderr",
     "output_type": "stream",
     "text": [
      "Evaluating:  70%|██████▉   | 313/450 [02:21<01:02,  2.20it/s]"
     ]
    },
    {
     "name": "stdout",
     "output_type": "stream",
     "text": [
      "task: Protein-coding genes\n",
      "pred: NA\n",
      "true: NA\n"
     ]
    },
    {
     "name": "stderr",
     "output_type": "stream",
     "text": [
      "Evaluating:  70%|██████▉   | 314/450 [02:22<00:55,  2.45it/s]"
     ]
    },
    {
     "name": "stdout",
     "output_type": "stream",
     "text": [
      "task: Protein-coding genes\n",
      "pred: NA\n",
      "true: NA\n"
     ]
    },
    {
     "name": "stderr",
     "output_type": "stream",
     "text": [
      "Evaluating:  70%|███████   | 315/450 [02:22<00:50,  2.69it/s]"
     ]
    },
    {
     "name": "stdout",
     "output_type": "stream",
     "text": [
      "task: Protein-coding genes\n",
      "pred: NA\n",
      "true: NA\n"
     ]
    },
    {
     "name": "stderr",
     "output_type": "stream",
     "text": [
      "Evaluating:  70%|███████   | 316/450 [02:22<00:45,  2.92it/s]"
     ]
    },
    {
     "name": "stdout",
     "output_type": "stream",
     "text": [
      "task: Protein-coding genes\n",
      "pred: NA\n",
      "true: NA\n"
     ]
    },
    {
     "name": "stderr",
     "output_type": "stream",
     "text": [
      "Evaluating:  70%|███████   | 317/450 [02:22<00:42,  3.12it/s]"
     ]
    },
    {
     "name": "stdout",
     "output_type": "stream",
     "text": [
      "task: Protein-coding genes\n",
      "pred: NA\n",
      "true: NA\n"
     ]
    },
    {
     "name": "stderr",
     "output_type": "stream",
     "text": [
      "Evaluating:  71%|███████   | 318/450 [02:23<00:41,  3.15it/s]"
     ]
    },
    {
     "name": "stdout",
     "output_type": "stream",
     "text": [
      "task: Protein-coding genes\n",
      "pred: NA\n",
      "true: NA\n"
     ]
    },
    {
     "name": "stderr",
     "output_type": "stream",
     "text": [
      "Evaluating:  71%|███████   | 319/450 [02:23<00:46,  2.82it/s]"
     ]
    },
    {
     "name": "stdout",
     "output_type": "stream",
     "text": [
      "task: Protein-coding genes\n",
      "pred: NA\n",
      "true: NA\n"
     ]
    },
    {
     "name": "stderr",
     "output_type": "stream",
     "text": [
      "Evaluating:  71%|███████   | 320/450 [02:24<00:42,  3.03it/s]"
     ]
    },
    {
     "name": "stdout",
     "output_type": "stream",
     "text": [
      "task: Protein-coding genes\n",
      "pred: TRUE\n",
      "true: TRUE\n"
     ]
    },
    {
     "name": "stderr",
     "output_type": "stream",
     "text": [
      "Evaluating:  71%|███████▏  | 321/450 [02:24<00:52,  2.47it/s]"
     ]
    },
    {
     "name": "stdout",
     "output_type": "stream",
     "text": [
      "task: Protein-coding genes\n",
      "pred: NA\n",
      "true: NA\n"
     ]
    },
    {
     "name": "stderr",
     "output_type": "stream",
     "text": [
      "Evaluating:  72%|███████▏  | 322/450 [02:24<00:47,  2.72it/s]"
     ]
    },
    {
     "name": "stdout",
     "output_type": "stream",
     "text": [
      "task: Protein-coding genes\n",
      "pred: TRUE\n",
      "true: TRUE\n"
     ]
    },
    {
     "name": "stderr",
     "output_type": "stream",
     "text": [
      "Evaluating:  72%|███████▏  | 323/450 [02:25<00:42,  2.96it/s]"
     ]
    },
    {
     "name": "stdout",
     "output_type": "stream",
     "text": [
      "task: Protein-coding genes\n",
      "pred: TRUE\n",
      "true: TRUE\n"
     ]
    },
    {
     "name": "stderr",
     "output_type": "stream",
     "text": [
      "Evaluating:  72%|███████▏  | 324/450 [02:25<00:41,  3.01it/s]"
     ]
    },
    {
     "name": "stdout",
     "output_type": "stream",
     "text": [
      "task: Protein-coding genes\n",
      "pred: NA\n",
      "true: NA\n"
     ]
    },
    {
     "name": "stderr",
     "output_type": "stream",
     "text": [
      "Evaluating:  72%|███████▏  | 325/450 [02:25<00:39,  3.20it/s]"
     ]
    },
    {
     "name": "stdout",
     "output_type": "stream",
     "text": [
      "task: Protein-coding genes\n",
      "pred: NA\n",
      "true: NA\n"
     ]
    },
    {
     "name": "stderr",
     "output_type": "stream",
     "text": [
      "Evaluating:  72%|███████▏  | 326/450 [02:26<00:40,  3.06it/s]"
     ]
    },
    {
     "name": "stdout",
     "output_type": "stream",
     "text": [
      "task: Protein-coding genes\n",
      "pred: NA\n",
      "true: NA\n"
     ]
    },
    {
     "name": "stderr",
     "output_type": "stream",
     "text": [
      "Evaluating:  73%|███████▎  | 327/450 [02:26<00:50,  2.44it/s]"
     ]
    },
    {
     "name": "stdout",
     "output_type": "stream",
     "text": [
      "task: Protein-coding genes\n",
      "pred: NA\n",
      "true: NA\n"
     ]
    },
    {
     "name": "stderr",
     "output_type": "stream",
     "text": [
      "Evaluating:  73%|███████▎  | 328/450 [02:26<00:44,  2.71it/s]"
     ]
    },
    {
     "name": "stdout",
     "output_type": "stream",
     "text": [
      "task: Protein-coding genes\n",
      "pred: NA\n",
      "true: NA\n"
     ]
    },
    {
     "name": "stderr",
     "output_type": "stream",
     "text": [
      "Evaluating:  73%|███████▎  | 329/450 [02:27<00:41,  2.88it/s]"
     ]
    },
    {
     "name": "stdout",
     "output_type": "stream",
     "text": [
      "task: Protein-coding genes\n",
      "pred: TRUE\n",
      "true: TRUE\n"
     ]
    },
    {
     "name": "stderr",
     "output_type": "stream",
     "text": [
      "Evaluating:  73%|███████▎  | 330/450 [02:27<00:39,  3.02it/s]"
     ]
    },
    {
     "name": "stdout",
     "output_type": "stream",
     "text": [
      "task: Protein-coding genes\n",
      "pred: NA\n",
      "true: NA\n"
     ]
    },
    {
     "name": "stderr",
     "output_type": "stream",
     "text": [
      "Evaluating:  74%|███████▎  | 331/450 [02:27<00:36,  3.24it/s]"
     ]
    },
    {
     "name": "stdout",
     "output_type": "stream",
     "text": [
      "task: Protein-coding genes\n",
      "pred: TRUE\n",
      "true: TRUE\n"
     ]
    },
    {
     "name": "stderr",
     "output_type": "stream",
     "text": [
      "Evaluating:  74%|███████▍  | 332/450 [02:28<00:36,  3.27it/s]"
     ]
    },
    {
     "name": "stdout",
     "output_type": "stream",
     "text": [
      "task: Protein-coding genes\n",
      "pred: NA\n",
      "true: NA\n"
     ]
    },
    {
     "name": "stderr",
     "output_type": "stream",
     "text": [
      "Evaluating:  74%|███████▍  | 333/450 [02:28<00:44,  2.64it/s]"
     ]
    },
    {
     "name": "stdout",
     "output_type": "stream",
     "text": [
      "task: Protein-coding genes\n",
      "pred: NA\n",
      "true: NA\n"
     ]
    },
    {
     "name": "stderr",
     "output_type": "stream",
     "text": [
      "Evaluating:  74%|███████▍  | 334/450 [02:28<00:40,  2.86it/s]"
     ]
    },
    {
     "name": "stdout",
     "output_type": "stream",
     "text": [
      "task: Protein-coding genes\n",
      "pred: TRUE\n",
      "true: TRUE\n"
     ]
    },
    {
     "name": "stderr",
     "output_type": "stream",
     "text": [
      "Evaluating:  74%|███████▍  | 335/450 [02:29<00:48,  2.40it/s]"
     ]
    },
    {
     "name": "stdout",
     "output_type": "stream",
     "text": [
      "task: Protein-coding genes\n",
      "pred: NA\n",
      "true: NA\n"
     ]
    },
    {
     "name": "stderr",
     "output_type": "stream",
     "text": [
      "Evaluating:  75%|███████▍  | 336/450 [02:30<00:52,  2.18it/s]"
     ]
    },
    {
     "name": "stdout",
     "output_type": "stream",
     "text": [
      "task: Protein-coding genes\n",
      "pred: NA\n",
      "true: NA\n"
     ]
    },
    {
     "name": "stderr",
     "output_type": "stream",
     "text": [
      "Evaluating:  75%|███████▍  | 337/450 [02:30<00:45,  2.49it/s]"
     ]
    },
    {
     "name": "stdout",
     "output_type": "stream",
     "text": [
      "task: Protein-coding genes\n",
      "pred: TRUE\n",
      "true: TRUE\n"
     ]
    },
    {
     "name": "stderr",
     "output_type": "stream",
     "text": [
      "Evaluating:  75%|███████▌  | 338/450 [02:30<00:41,  2.73it/s]"
     ]
    },
    {
     "name": "stdout",
     "output_type": "stream",
     "text": [
      "task: Protein-coding genes\n",
      "pred: NA\n",
      "true: NA\n"
     ]
    },
    {
     "name": "stderr",
     "output_type": "stream",
     "text": [
      "Evaluating:  75%|███████▌  | 339/450 [02:30<00:37,  2.92it/s]"
     ]
    },
    {
     "name": "stdout",
     "output_type": "stream",
     "text": [
      "task: Protein-coding genes\n",
      "pred: NA\n",
      "true: NA\n"
     ]
    },
    {
     "name": "stderr",
     "output_type": "stream",
     "text": [
      "Evaluating:  76%|███████▌  | 340/450 [02:31<00:36,  3.04it/s]"
     ]
    },
    {
     "name": "stdout",
     "output_type": "stream",
     "text": [
      "task: Protein-coding genes\n",
      "pred: NA\n",
      "true: NA\n"
     ]
    },
    {
     "name": "stderr",
     "output_type": "stream",
     "text": [
      "Evaluating:  76%|███████▌  | 341/450 [02:31<00:34,  3.19it/s]"
     ]
    },
    {
     "name": "stdout",
     "output_type": "stream",
     "text": [
      "task: Protein-coding genes\n",
      "pred: NA\n",
      "true: NA\n"
     ]
    },
    {
     "name": "stderr",
     "output_type": "stream",
     "text": [
      "Evaluating:  76%|███████▌  | 342/450 [02:32<00:42,  2.57it/s]"
     ]
    },
    {
     "name": "stdout",
     "output_type": "stream",
     "text": [
      "task: Protein-coding genes\n",
      "pred: NA\n",
      "true: NA\n"
     ]
    },
    {
     "name": "stderr",
     "output_type": "stream",
     "text": [
      "Evaluating:  76%|███████▌  | 343/450 [02:32<00:48,  2.22it/s]"
     ]
    },
    {
     "name": "stdout",
     "output_type": "stream",
     "text": [
      "task: Protein-coding genes\n",
      "pred: NA\n",
      "true: NA\n"
     ]
    },
    {
     "name": "stderr",
     "output_type": "stream",
     "text": [
      "Evaluating:  76%|███████▋  | 344/450 [02:32<00:41,  2.53it/s]"
     ]
    },
    {
     "name": "stdout",
     "output_type": "stream",
     "text": [
      "task: Protein-coding genes\n",
      "pred: NA\n",
      "true: NA\n"
     ]
    },
    {
     "name": "stderr",
     "output_type": "stream",
     "text": [
      "Evaluating:  77%|███████▋  | 345/450 [02:33<00:49,  2.13it/s]"
     ]
    },
    {
     "name": "stdout",
     "output_type": "stream",
     "text": [
      "task: Protein-coding genes\n",
      "pred: TRUE\n",
      "true: TRUE\n"
     ]
    },
    {
     "name": "stderr",
     "output_type": "stream",
     "text": [
      "Evaluating:  77%|███████▋  | 346/450 [02:34<00:51,  2.03it/s]"
     ]
    },
    {
     "name": "stdout",
     "output_type": "stream",
     "text": [
      "task: Protein-coding genes\n",
      "pred: TRUE\n",
      "true: TRUE\n"
     ]
    },
    {
     "name": "stderr",
     "output_type": "stream",
     "text": [
      "Evaluating:  77%|███████▋  | 347/450 [02:34<00:53,  1.93it/s]"
     ]
    },
    {
     "name": "stdout",
     "output_type": "stream",
     "text": [
      "task: Protein-coding genes\n",
      "pred: NA\n",
      "true: NA\n"
     ]
    },
    {
     "name": "stderr",
     "output_type": "stream",
     "text": [
      "Evaluating:  77%|███████▋  | 348/450 [02:35<00:54,  1.86it/s]"
     ]
    },
    {
     "name": "stdout",
     "output_type": "stream",
     "text": [
      "task: Protein-coding genes\n",
      "pred: TRUE\n",
      "true: TRUE\n"
     ]
    },
    {
     "name": "stderr",
     "output_type": "stream",
     "text": [
      "Evaluating:  78%|███████▊  | 349/450 [02:35<00:47,  2.11it/s]"
     ]
    },
    {
     "name": "stdout",
     "output_type": "stream",
     "text": [
      "task: Protein-coding genes\n",
      "pred: NA\n",
      "true: NA\n"
     ]
    },
    {
     "name": "stderr",
     "output_type": "stream",
     "text": [
      "Evaluating:  78%|███████▊  | 350/450 [02:35<00:41,  2.42it/s]"
     ]
    },
    {
     "name": "stdout",
     "output_type": "stream",
     "text": [
      "task: Protein-coding genes\n",
      "pred: TRUE\n",
      "true: TRUE\n"
     ]
    },
    {
     "name": "stderr",
     "output_type": "stream",
     "text": [
      "Evaluating:  78%|███████▊  | 351/450 [02:36<00:37,  2.62it/s]"
     ]
    },
    {
     "name": "stdout",
     "output_type": "stream",
     "text": [
      "task: Gene SNP association\n",
      "pred: LINC01270\n",
      "true: LINC01270\n"
     ]
    },
    {
     "name": "stderr",
     "output_type": "stream",
     "text": [
      "Evaluating:  78%|███████▊  | 352/450 [02:36<00:36,  2.70it/s]"
     ]
    },
    {
     "name": "stdout",
     "output_type": "stream",
     "text": [
      "task: Gene SNP association\n",
      "pred: SUCLA2-AS1\n",
      "true: LRRC23\n"
     ]
    },
    {
     "name": "stderr",
     "output_type": "stream",
     "text": [
      "Evaluating:  78%|███████▊  | 353/450 [02:36<00:34,  2.84it/s]"
     ]
    },
    {
     "name": "stdout",
     "output_type": "stream",
     "text": [
      "task: Gene SNP association\n",
      "pred: LINC00535\n",
      "true: SEPTIN11\n"
     ]
    },
    {
     "name": "stderr",
     "output_type": "stream",
     "text": [
      "Evaluating:  79%|███████▊  | 354/450 [02:37<00:40,  2.35it/s]"
     ]
    },
    {
     "name": "stdout",
     "output_type": "stream",
     "text": [
      "task: Gene SNP association\n",
      "pred: SLC22A24\n",
      "true: PLEKHG7\n"
     ]
    },
    {
     "name": "stderr",
     "output_type": "stream",
     "text": [
      "Evaluating:  79%|███████▉  | 355/450 [02:38<00:45,  2.09it/s]"
     ]
    },
    {
     "name": "stdout",
     "output_type": "stream",
     "text": [
      "task: Gene SNP association\n",
      "pred: FAM86HP\n",
      "true: USP39\n"
     ]
    },
    {
     "name": "stderr",
     "output_type": "stream",
     "text": [
      "Evaluating:  79%|███████▉  | 356/450 [02:38<00:41,  2.28it/s]"
     ]
    },
    {
     "name": "stdout",
     "output_type": "stream",
     "text": [
      "task: Gene SNP association\n",
      "pred: ANKRD20A19P\n",
      "true: OXR1\n"
     ]
    },
    {
     "name": "stderr",
     "output_type": "stream",
     "text": [
      "Evaluating:  79%|███████▉  | 357/450 [02:38<00:44,  2.10it/s]"
     ]
    },
    {
     "name": "stdout",
     "output_type": "stream",
     "text": [
      "task: Gene SNP association\n",
      "pred: PRDM16\n",
      "true: DMXL1\n"
     ]
    },
    {
     "name": "stderr",
     "output_type": "stream",
     "text": [
      "Evaluating:  80%|███████▉  | 358/450 [02:39<00:40,  2.29it/s]"
     ]
    },
    {
     "name": "stdout",
     "output_type": "stream",
     "text": [
      "task: Gene SNP association\n",
      "pred: LINC02487\n",
      "true: KHDRBS2\n"
     ]
    },
    {
     "name": "stderr",
     "output_type": "stream",
     "text": [
      "Evaluating:  80%|███████▉  | 359/450 [02:39<00:36,  2.51it/s]"
     ]
    },
    {
     "name": "stdout",
     "output_type": "stream",
     "text": [
      "task: Gene SNP association\n",
      "pred: MUC5B\n",
      "true: MAJIN\n"
     ]
    },
    {
     "name": "stderr",
     "output_type": "stream",
     "text": [
      "Evaluating:  80%|████████  | 360/450 [02:39<00:33,  2.67it/s]"
     ]
    },
    {
     "name": "stdout",
     "output_type": "stream",
     "text": [
      "task: Gene SNP association\n",
      "pred: CSMD1\n",
      "true: SCHLAP1\n"
     ]
    },
    {
     "name": "stderr",
     "output_type": "stream",
     "text": [
      "Evaluating:  80%|████████  | 361/450 [02:40<00:38,  2.30it/s]"
     ]
    },
    {
     "name": "stdout",
     "output_type": "stream",
     "text": [
      "task: Gene SNP association\n",
      "pred: LINC00689\n",
      "true: LDLRAD4\n"
     ]
    },
    {
     "name": "stderr",
     "output_type": "stream",
     "text": [
      "Evaluating:  80%|████████  | 362/450 [02:40<00:35,  2.45it/s]"
     ]
    },
    {
     "name": "stdout",
     "output_type": "stream",
     "text": [
      "task: Gene SNP association\n",
      "pred: DBH\n",
      "true: CALCR\n"
     ]
    },
    {
     "name": "stderr",
     "output_type": "stream",
     "text": [
      "Evaluating:  81%|████████  | 363/450 [02:41<00:40,  2.14it/s]"
     ]
    },
    {
     "name": "stdout",
     "output_type": "stream",
     "text": [
      "task: Gene SNP association\n",
      "pred: KDM2A\n",
      "true: SGCD\n"
     ]
    },
    {
     "name": "stderr",
     "output_type": "stream",
     "text": [
      "Evaluating:  81%|████████  | 364/450 [02:41<00:35,  2.40it/s]"
     ]
    },
    {
     "name": "stdout",
     "output_type": "stream",
     "text": [
      "task: Gene SNP association\n",
      "pred: MUC5B\n",
      "true: ZBTB25\n"
     ]
    },
    {
     "name": "stderr",
     "output_type": "stream",
     "text": [
      "Evaluating:  81%|████████  | 365/450 [02:42<00:33,  2.57it/s]"
     ]
    },
    {
     "name": "stdout",
     "output_type": "stream",
     "text": [
      "task: Gene SNP association\n",
      "pred: SLC39A11\n",
      "true: MED26\n"
     ]
    },
    {
     "name": "stderr",
     "output_type": "stream",
     "text": [
      "Evaluating:  81%|████████▏ | 366/450 [02:42<00:31,  2.70it/s]"
     ]
    },
    {
     "name": "stdout",
     "output_type": "stream",
     "text": [
      "task: Gene SNP association\n",
      "pred: TAS2R7\n",
      "true: LINC02055\n"
     ]
    },
    {
     "name": "stderr",
     "output_type": "stream",
     "text": [
      "Evaluating:  82%|████████▏ | 367/450 [02:42<00:37,  2.23it/s]"
     ]
    },
    {
     "name": "stdout",
     "output_type": "stream",
     "text": [
      "task: Gene SNP association\n",
      "pred: ELANE\n",
      "true: JMJD1C\n"
     ]
    },
    {
     "name": "stderr",
     "output_type": "stream",
     "text": [
      "Evaluating:  82%|████████▏ | 368/450 [02:43<00:32,  2.49it/s]"
     ]
    },
    {
     "name": "stdout",
     "output_type": "stream",
     "text": [
      "task: Gene SNP association\n",
      "pred: BAG2\n",
      "true: XKR9\n"
     ]
    },
    {
     "name": "stderr",
     "output_type": "stream",
     "text": [
      "Evaluating:  82%|████████▏ | 369/450 [02:43<00:30,  2.64it/s]"
     ]
    },
    {
     "name": "stdout",
     "output_type": "stream",
     "text": [
      "task: Gene SNP association\n",
      "pred: OR4F16\n",
      "true: NSMCE1\n"
     ]
    },
    {
     "name": "stderr",
     "output_type": "stream",
     "text": [
      "Evaluating:  82%|████████▏ | 370/450 [02:43<00:28,  2.84it/s]"
     ]
    },
    {
     "name": "stdout",
     "output_type": "stream",
     "text": [
      "task: Gene SNP association\n",
      "pred: FGGY\n",
      "true: LOC107986092\n"
     ]
    },
    {
     "name": "stderr",
     "output_type": "stream",
     "text": [
      "Evaluating:  82%|████████▏ | 371/450 [02:44<00:26,  3.00it/s]"
     ]
    },
    {
     "name": "stdout",
     "output_type": "stream",
     "text": [
      "task: Gene SNP association\n",
      "pred: ZNF717\n",
      "true: LOC105372191\n"
     ]
    },
    {
     "name": "stderr",
     "output_type": "stream",
     "text": [
      "Evaluating:  83%|████████▎ | 372/450 [02:44<00:25,  3.02it/s]"
     ]
    },
    {
     "name": "stdout",
     "output_type": "stream",
     "text": [
      "task: Gene SNP association\n",
      "pred: CROCCP2\n",
      "true: RBFOX1\n"
     ]
    },
    {
     "name": "stderr",
     "output_type": "stream",
     "text": [
      "Evaluating:  83%|████████▎ | 373/450 [02:44<00:25,  2.98it/s]"
     ]
    },
    {
     "name": "stdout",
     "output_type": "stream",
     "text": [
      "task: Gene SNP association\n",
      "pred: ST6GALNAC1\n",
      "true: PAK1\n"
     ]
    },
    {
     "name": "stderr",
     "output_type": "stream",
     "text": [
      "Evaluating:  83%|████████▎ | 374/450 [02:45<00:24,  3.05it/s]"
     ]
    },
    {
     "name": "stdout",
     "output_type": "stream",
     "text": [
      "task: Gene SNP association\n",
      "pred: MYH14\n",
      "true: CCT8L2\n"
     ]
    },
    {
     "name": "stderr",
     "output_type": "stream",
     "text": [
      "Evaluating:  83%|████████▎ | 375/450 [02:45<00:23,  3.13it/s]"
     ]
    },
    {
     "name": "stdout",
     "output_type": "stream",
     "text": [
      "task: Gene SNP association\n",
      "pred: NRXN1\n",
      "true: CACNB2\n"
     ]
    },
    {
     "name": "stderr",
     "output_type": "stream",
     "text": [
      "Evaluating:  84%|████████▎ | 376/450 [02:45<00:23,  3.18it/s]"
     ]
    },
    {
     "name": "stdout",
     "output_type": "stream",
     "text": [
      "task: Gene SNP association\n",
      "pred: CR1L\n",
      "true: CREB5\n"
     ]
    },
    {
     "name": "stderr",
     "output_type": "stream",
     "text": [
      "Evaluating:  84%|████████▍ | 377/450 [02:46<00:29,  2.52it/s]"
     ]
    },
    {
     "name": "stdout",
     "output_type": "stream",
     "text": [
      "task: Gene SNP association\n",
      "pred: LINC01798\n",
      "true: GAREM1\n"
     ]
    },
    {
     "name": "stderr",
     "output_type": "stream",
     "text": [
      "Evaluating:  84%|████████▍ | 378/450 [02:46<00:26,  2.72it/s]"
     ]
    },
    {
     "name": "stdout",
     "output_type": "stream",
     "text": [
      "task: Gene SNP association\n",
      "pred: ARX\n",
      "true: LOC105372323\n"
     ]
    },
    {
     "name": "stderr",
     "output_type": "stream",
     "text": [
      "Evaluating:  84%|████████▍ | 379/450 [02:46<00:25,  2.83it/s]"
     ]
    },
    {
     "name": "stdout",
     "output_type": "stream",
     "text": [
      "task: Gene SNP association\n",
      "pred: NBEA\n",
      "true: GLIS3\n"
     ]
    },
    {
     "name": "stderr",
     "output_type": "stream",
     "text": [
      "Evaluating:  84%|████████▍ | 380/450 [02:47<00:23,  2.97it/s]"
     ]
    },
    {
     "name": "stdout",
     "output_type": "stream",
     "text": [
      "task: Gene SNP association\n",
      "pred: DPYD\n",
      "true: FAM53B\n"
     ]
    },
    {
     "name": "stderr",
     "output_type": "stream",
     "text": [
      "Evaluating:  85%|████████▍ | 381/450 [02:47<00:22,  3.01it/s]"
     ]
    },
    {
     "name": "stdout",
     "output_type": "stream",
     "text": [
      "task: Gene SNP association\n",
      "pred: FGF14-AS2\n",
      "true: EMX2OS\n"
     ]
    },
    {
     "name": "stderr",
     "output_type": "stream",
     "text": [
      "Evaluating:  85%|████████▍ | 382/450 [02:48<00:27,  2.45it/s]"
     ]
    },
    {
     "name": "stdout",
     "output_type": "stream",
     "text": [
      "task: Gene SNP association\n",
      "pred: ZDHHC11\n",
      "true: ANKFN1\n"
     ]
    },
    {
     "name": "stderr",
     "output_type": "stream",
     "text": [
      "Evaluating:  85%|████████▌ | 383/450 [02:48<00:31,  2.16it/s]"
     ]
    },
    {
     "name": "stdout",
     "output_type": "stream",
     "text": [
      "task: Gene SNP association\n",
      "pred: MBNL1-AS1\n",
      "true: TSPAN15\n"
     ]
    },
    {
     "name": "stderr",
     "output_type": "stream",
     "text": [
      "Evaluating:  85%|████████▌ | 384/450 [02:49<00:27,  2.39it/s]"
     ]
    },
    {
     "name": "stdout",
     "output_type": "stream",
     "text": [
      "task: Gene SNP association\n",
      "pred: LINC02338\n",
      "true: TENM3\n"
     ]
    },
    {
     "name": "stderr",
     "output_type": "stream",
     "text": [
      "Evaluating:  86%|████████▌ | 385/450 [02:49<00:30,  2.16it/s]"
     ]
    },
    {
     "name": "stdout",
     "output_type": "stream",
     "text": [
      "task: Gene SNP association\n",
      "pred: CDH4\n",
      "true: LOC100506403\n"
     ]
    },
    {
     "name": "stderr",
     "output_type": "stream",
     "text": [
      "Evaluating:  86%|████████▌ | 386/450 [02:49<00:26,  2.39it/s]"
     ]
    },
    {
     "name": "stdout",
     "output_type": "stream",
     "text": [
      "task: Gene SNP association\n",
      "pred: ISYNA1\n",
      "true: LINC01673\n"
     ]
    },
    {
     "name": "stderr",
     "output_type": "stream",
     "text": [
      "Evaluating:  86%|████████▌ | 387/450 [02:50<00:24,  2.60it/s]"
     ]
    },
    {
     "name": "stdout",
     "output_type": "stream",
     "text": [
      "task: Gene SNP association\n",
      "pred: FGFR1\n",
      "true: FNDC3B\n"
     ]
    },
    {
     "name": "stderr",
     "output_type": "stream",
     "text": [
      "Evaluating:  86%|████████▌ | 388/450 [02:50<00:22,  2.80it/s]"
     ]
    },
    {
     "name": "stdout",
     "output_type": "stream",
     "text": [
      "task: Gene SNP association\n",
      "pred: RYR1\n",
      "true: RARB\n"
     ]
    },
    {
     "name": "stderr",
     "output_type": "stream",
     "text": [
      "Evaluating:  86%|████████▋ | 389/450 [02:51<00:25,  2.36it/s]"
     ]
    },
    {
     "name": "stdout",
     "output_type": "stream",
     "text": [
      "task: Gene SNP association\n",
      "pred: AL356295.1\n",
      "true: LINC03021\n"
     ]
    },
    {
     "name": "stderr",
     "output_type": "stream",
     "text": [
      "Evaluating:  87%|████████▋ | 390/450 [02:51<00:24,  2.46it/s]"
     ]
    },
    {
     "name": "stdout",
     "output_type": "stream",
     "text": [
      "task: Gene SNP association\n",
      "pred: MUC5B\n",
      "true: NECAB2\n"
     ]
    },
    {
     "name": "stderr",
     "output_type": "stream",
     "text": [
      "Evaluating:  87%|████████▋ | 391/450 [02:51<00:23,  2.56it/s]"
     ]
    },
    {
     "name": "stdout",
     "output_type": "stream",
     "text": [
      "task: Gene SNP association\n",
      "pred: CEACAM7\n",
      "true: MIR4527HG\n"
     ]
    },
    {
     "name": "stderr",
     "output_type": "stream",
     "text": [
      "Evaluating:  87%|████████▋ | 392/450 [02:52<00:20,  2.79it/s]"
     ]
    },
    {
     "name": "stdout",
     "output_type": "stream",
     "text": [
      "task: Gene SNP association\n",
      "pred: TNC\n",
      "true: CCDC178\n"
     ]
    },
    {
     "name": "stderr",
     "output_type": "stream",
     "text": [
      "Evaluating:  87%|████████▋ | 393/450 [02:52<00:20,  2.83it/s]"
     ]
    },
    {
     "name": "stdout",
     "output_type": "stream",
     "text": [
      "task: Gene SNP association\n",
      "pred: FAM163A\n",
      "true: RUBCN\n"
     ]
    },
    {
     "name": "stderr",
     "output_type": "stream",
     "text": [
      "Evaluating:  88%|████████▊ | 394/450 [02:52<00:19,  2.91it/s]"
     ]
    },
    {
     "name": "stdout",
     "output_type": "stream",
     "text": [
      "task: Gene SNP association\n",
      "pred: LINC01560\n",
      "true: PTPRB\n"
     ]
    },
    {
     "name": "stderr",
     "output_type": "stream",
     "text": [
      "Evaluating:  88%|████████▊ | 395/450 [02:53<00:22,  2.39it/s]"
     ]
    },
    {
     "name": "stdout",
     "output_type": "stream",
     "text": [
      "task: Gene SNP association\n",
      "pred: USP21\n",
      "true: SLC22A14\n"
     ]
    },
    {
     "name": "stderr",
     "output_type": "stream",
     "text": [
      "Evaluating:  88%|████████▊ | 396/450 [02:53<00:21,  2.56it/s]"
     ]
    },
    {
     "name": "stdout",
     "output_type": "stream",
     "text": [
      "task: Gene SNP association\n",
      "pred: HBBP1\n",
      "true: IFFO1\n"
     ]
    },
    {
     "name": "stderr",
     "output_type": "stream",
     "text": [
      "Evaluating:  88%|████████▊ | 397/450 [02:54<00:19,  2.76it/s]"
     ]
    },
    {
     "name": "stdout",
     "output_type": "stream",
     "text": [
      "task: Gene SNP association\n",
      "pred: TOP3A\n",
      "true: MED13\n"
     ]
    },
    {
     "name": "stderr",
     "output_type": "stream",
     "text": [
      "Evaluating:  88%|████████▊ | 398/450 [02:54<00:17,  2.93it/s]"
     ]
    },
    {
     "name": "stdout",
     "output_type": "stream",
     "text": [
      "task: Gene SNP association\n",
      "pred: FTO\n",
      "true: MICU1\n"
     ]
    },
    {
     "name": "stderr",
     "output_type": "stream",
     "text": [
      "Evaluating:  89%|████████▊ | 399/450 [02:54<00:17,  2.93it/s]"
     ]
    },
    {
     "name": "stdout",
     "output_type": "stream",
     "text": [
      "task: Gene SNP association\n",
      "pred: CHRNA4\n",
      "true: LINC02841\n"
     ]
    },
    {
     "name": "stderr",
     "output_type": "stream",
     "text": [
      "Evaluating:  89%|████████▉ | 400/450 [02:55<00:17,  2.93it/s]"
     ]
    },
    {
     "name": "stdout",
     "output_type": "stream",
     "text": [
      "task: Gene SNP association\n",
      "pred: PPP1R1B\n",
      "true: LRFN5\n"
     ]
    },
    {
     "name": "stderr",
     "output_type": "stream",
     "text": [
      "Evaluating:  89%|████████▉ | 401/450 [02:55<00:16,  2.98it/s]"
     ]
    },
    {
     "name": "stdout",
     "output_type": "stream",
     "text": [
      "task: SNP location\n",
      "pred: chr13\n",
      "true: chr13\n"
     ]
    },
    {
     "name": "stderr",
     "output_type": "stream",
     "text": [
      "Evaluating:  89%|████████▉ | 402/450 [02:55<00:15,  3.02it/s]"
     ]
    },
    {
     "name": "stdout",
     "output_type": "stream",
     "text": [
      "task: SNP location\n",
      "pred: chr6\n",
      "true: chr16\n"
     ]
    },
    {
     "name": "stderr",
     "output_type": "stream",
     "text": [
      "Evaluating:  90%|████████▉ | 403/450 [02:55<00:15,  3.12it/s]"
     ]
    },
    {
     "name": "stdout",
     "output_type": "stream",
     "text": [
      "task: SNP location\n",
      "pred: chr2\n",
      "true: chr19\n"
     ]
    },
    {
     "name": "stderr",
     "output_type": "stream",
     "text": [
      "Evaluating:  90%|████████▉ | 404/450 [02:56<00:14,  3.12it/s]"
     ]
    },
    {
     "name": "stdout",
     "output_type": "stream",
     "text": [
      "task: SNP location\n",
      "pred: chr17\n",
      "true: chr11\n"
     ]
    },
    {
     "name": "stderr",
     "output_type": "stream",
     "text": [
      "Evaluating:  90%|█████████ | 405/450 [02:56<00:13,  3.26it/s]"
     ]
    },
    {
     "name": "stdout",
     "output_type": "stream",
     "text": [
      "task: SNP location\n",
      "pred: chr14\n",
      "true: chr16\n"
     ]
    },
    {
     "name": "stderr",
     "output_type": "stream",
     "text": [
      "Evaluating:  90%|█████████ | 406/450 [02:56<00:13,  3.29it/s]"
     ]
    },
    {
     "name": "stdout",
     "output_type": "stream",
     "text": [
      "task: SNP location\n",
      "pred: chr4\n",
      "true: chr15\n"
     ]
    },
    {
     "name": "stderr",
     "output_type": "stream",
     "text": [
      "Evaluating:  90%|█████████ | 407/450 [02:57<00:16,  2.54it/s]"
     ]
    },
    {
     "name": "stdout",
     "output_type": "stream",
     "text": [
      "task: SNP location\n",
      "pred: chr15\n",
      "true: chr4\n"
     ]
    },
    {
     "name": "stderr",
     "output_type": "stream",
     "text": [
      "Evaluating:  91%|█████████ | 408/450 [02:58<00:20,  2.10it/s]"
     ]
    },
    {
     "name": "stdout",
     "output_type": "stream",
     "text": [
      "task: SNP location\n",
      "pred: chr6\n",
      "true: chr14\n"
     ]
    },
    {
     "name": "stderr",
     "output_type": "stream",
     "text": [
      "Evaluating:  91%|█████████ | 409/450 [02:58<00:17,  2.31it/s]"
     ]
    },
    {
     "name": "stdout",
     "output_type": "stream",
     "text": [
      "task: SNP location\n",
      "pred: chr16\n",
      "true: chr1\n"
     ]
    },
    {
     "name": "stderr",
     "output_type": "stream",
     "text": [
      "Evaluating:  91%|█████████ | 410/450 [02:58<00:15,  2.54it/s]"
     ]
    },
    {
     "name": "stdout",
     "output_type": "stream",
     "text": [
      "task: SNP location\n",
      "pred: chr10\n",
      "true: chr15\n"
     ]
    },
    {
     "name": "stderr",
     "output_type": "stream",
     "text": [
      "Evaluating:  91%|█████████▏| 411/450 [02:59<00:13,  2.81it/s]"
     ]
    },
    {
     "name": "stdout",
     "output_type": "stream",
     "text": [
      "task: SNP location\n",
      "pred: chr4\n",
      "true: chr22\n"
     ]
    },
    {
     "name": "stderr",
     "output_type": "stream",
     "text": [
      "Evaluating:  92%|█████████▏| 412/450 [02:59<00:12,  3.04it/s]"
     ]
    },
    {
     "name": "stdout",
     "output_type": "stream",
     "text": [
      "task: SNP location\n",
      "pred: chr3\n",
      "true: chr19\n"
     ]
    },
    {
     "name": "stderr",
     "output_type": "stream",
     "text": [
      "Evaluating:  92%|█████████▏| 413/450 [02:59<00:11,  3.18it/s]"
     ]
    },
    {
     "name": "stdout",
     "output_type": "stream",
     "text": [
      "task: SNP location\n",
      "pred: chr22\n",
      "true: chr11\n"
     ]
    },
    {
     "name": "stderr",
     "output_type": "stream",
     "text": [
      "Evaluating:  92%|█████████▏| 414/450 [03:00<00:14,  2.56it/s]"
     ]
    },
    {
     "name": "stdout",
     "output_type": "stream",
     "text": [
      "task: SNP location\n",
      "pred: chr2\n",
      "true: chr4\n"
     ]
    },
    {
     "name": "stderr",
     "output_type": "stream",
     "text": [
      "Evaluating:  92%|█████████▏| 415/450 [03:00<00:12,  2.81it/s]"
     ]
    },
    {
     "name": "stdout",
     "output_type": "stream",
     "text": [
      "task: SNP location\n",
      "pred: chr10\n",
      "true: chr18\n"
     ]
    },
    {
     "name": "stderr",
     "output_type": "stream",
     "text": [
      "Evaluating:  92%|█████████▏| 416/450 [03:00<00:11,  3.03it/s]"
     ]
    },
    {
     "name": "stdout",
     "output_type": "stream",
     "text": [
      "task: SNP location\n",
      "pred: chr2\n",
      "true: chr4\n"
     ]
    },
    {
     "name": "stderr",
     "output_type": "stream",
     "text": [
      "Evaluating:  93%|█████████▎| 417/450 [03:01<00:13,  2.50it/s]"
     ]
    },
    {
     "name": "stdout",
     "output_type": "stream",
     "text": [
      "task: SNP location\n",
      "pred: chr13\n",
      "true: chr14\n"
     ]
    },
    {
     "name": "stderr",
     "output_type": "stream",
     "text": [
      "Evaluating:  93%|█████████▎| 418/450 [03:01<00:11,  2.75it/s]"
     ]
    },
    {
     "name": "stdout",
     "output_type": "stream",
     "text": [
      "task: SNP location\n",
      "pred: chrX\n",
      "true: chr17\n"
     ]
    },
    {
     "name": "stderr",
     "output_type": "stream",
     "text": [
      "Evaluating:  93%|█████████▎| 419/450 [03:01<00:10,  2.90it/s]"
     ]
    },
    {
     "name": "stdout",
     "output_type": "stream",
     "text": [
      "task: SNP location\n",
      "pred: chr2\n",
      "true: chr18\n"
     ]
    },
    {
     "name": "stderr",
     "output_type": "stream",
     "text": [
      "Evaluating:  93%|█████████▎| 420/450 [03:02<00:09,  3.08it/s]"
     ]
    },
    {
     "name": "stdout",
     "output_type": "stream",
     "text": [
      "task: SNP location\n",
      "pred: chr19\n",
      "true: chr8\n"
     ]
    },
    {
     "name": "stderr",
     "output_type": "stream",
     "text": [
      "Evaluating:  94%|█████████▎| 421/450 [03:02<00:09,  3.19it/s]"
     ]
    },
    {
     "name": "stdout",
     "output_type": "stream",
     "text": [
      "task: SNP location\n",
      "pred: chr1\n",
      "true: chr14\n"
     ]
    },
    {
     "name": "stderr",
     "output_type": "stream",
     "text": [
      "Evaluating:  94%|█████████▍| 422/450 [03:02<00:08,  3.23it/s]"
     ]
    },
    {
     "name": "stdout",
     "output_type": "stream",
     "text": [
      "task: SNP location\n",
      "pred: chr2\n",
      "true: chr22\n"
     ]
    },
    {
     "name": "stderr",
     "output_type": "stream",
     "text": [
      "Evaluating:  94%|█████████▍| 423/450 [03:03<00:10,  2.61it/s]"
     ]
    },
    {
     "name": "stdout",
     "output_type": "stream",
     "text": [
      "task: SNP location\n",
      "pred: chr3\n",
      "true: chr4\n"
     ]
    },
    {
     "name": "stderr",
     "output_type": "stream",
     "text": [
      "Evaluating:  94%|█████████▍| 424/450 [03:03<00:11,  2.26it/s]"
     ]
    },
    {
     "name": "stdout",
     "output_type": "stream",
     "text": [
      "task: SNP location\n",
      "pred: chr13\n",
      "true: chr16\n"
     ]
    },
    {
     "name": "stderr",
     "output_type": "stream",
     "text": [
      "Evaluating:  94%|█████████▍| 425/450 [03:04<00:09,  2.53it/s]"
     ]
    },
    {
     "name": "stdout",
     "output_type": "stream",
     "text": [
      "task: SNP location\n",
      "pred: chr2\n",
      "true: chr17\n"
     ]
    },
    {
     "name": "stderr",
     "output_type": "stream",
     "text": [
      "Evaluating:  95%|█████████▍| 426/450 [03:04<00:08,  2.76it/s]"
     ]
    },
    {
     "name": "stdout",
     "output_type": "stream",
     "text": [
      "task: SNP location\n",
      "pred: chr6\n",
      "true: chr14\n"
     ]
    },
    {
     "name": "stderr",
     "output_type": "stream",
     "text": [
      "Evaluating:  95%|█████████▍| 427/450 [03:05<00:10,  2.25it/s]"
     ]
    },
    {
     "name": "stdout",
     "output_type": "stream",
     "text": [
      "task: SNP location\n",
      "pred: chr1\n",
      "true: chr4\n"
     ]
    },
    {
     "name": "stderr",
     "output_type": "stream",
     "text": [
      "Evaluating:  95%|█████████▌| 428/450 [03:05<00:08,  2.52it/s]"
     ]
    },
    {
     "name": "stdout",
     "output_type": "stream",
     "text": [
      "task: SNP location\n",
      "pred: chr3\n",
      "true: chr8\n"
     ]
    },
    {
     "name": "stderr",
     "output_type": "stream",
     "text": [
      "Evaluating:  95%|█████████▌| 429/450 [03:05<00:07,  2.76it/s]"
     ]
    },
    {
     "name": "stdout",
     "output_type": "stream",
     "text": [
      "task: SNP location\n",
      "pred: chr6\n",
      "true: chr22\n"
     ]
    },
    {
     "name": "stderr",
     "output_type": "stream",
     "text": [
      "Evaluating:  96%|█████████▌| 430/450 [03:05<00:06,  2.98it/s]"
     ]
    },
    {
     "name": "stdout",
     "output_type": "stream",
     "text": [
      "task: SNP location\n",
      "pred: chr20\n",
      "true: chr1\n"
     ]
    },
    {
     "name": "stderr",
     "output_type": "stream",
     "text": [
      "Evaluating:  96%|█████████▌| 431/450 [03:06<00:06,  3.08it/s]"
     ]
    },
    {
     "name": "stdout",
     "output_type": "stream",
     "text": [
      "task: SNP location\n",
      "pred: chr19\n",
      "true: chr11\n"
     ]
    },
    {
     "name": "stderr",
     "output_type": "stream",
     "text": [
      "Evaluating:  96%|█████████▌| 432/450 [03:06<00:05,  3.20it/s]"
     ]
    },
    {
     "name": "stdout",
     "output_type": "stream",
     "text": [
      "task: SNP location\n",
      "pred: chr16\n",
      "true: chr21\n"
     ]
    },
    {
     "name": "stderr",
     "output_type": "stream",
     "text": [
      "Evaluating:  96%|█████████▌| 433/450 [03:07<00:06,  2.61it/s]"
     ]
    },
    {
     "name": "stdout",
     "output_type": "stream",
     "text": [
      "task: SNP location\n",
      "pred: chr7\n",
      "true: chr10\n"
     ]
    },
    {
     "name": "stderr",
     "output_type": "stream",
     "text": [
      "Evaluating:  96%|█████████▋| 434/450 [03:07<00:05,  2.86it/s]"
     ]
    },
    {
     "name": "stdout",
     "output_type": "stream",
     "text": [
      "task: SNP location\n",
      "pred: chr2\n",
      "true: chr21\n"
     ]
    },
    {
     "name": "stderr",
     "output_type": "stream",
     "text": [
      "Evaluating:  97%|█████████▋| 435/450 [03:07<00:05,  2.99it/s]"
     ]
    },
    {
     "name": "stdout",
     "output_type": "stream",
     "text": [
      "task: SNP location\n",
      "pred: chr4\n",
      "true: chr3\n"
     ]
    },
    {
     "name": "stderr",
     "output_type": "stream",
     "text": [
      "Evaluating:  97%|█████████▋| 436/450 [03:07<00:04,  3.12it/s]"
     ]
    },
    {
     "name": "stdout",
     "output_type": "stream",
     "text": [
      "task: SNP location\n",
      "pred: chr7\n",
      "true: chr4\n"
     ]
    },
    {
     "name": "stderr",
     "output_type": "stream",
     "text": [
      "Evaluating:  97%|█████████▋| 437/450 [03:08<00:05,  2.52it/s]"
     ]
    },
    {
     "name": "stdout",
     "output_type": "stream",
     "text": [
      "task: SNP location\n",
      "pred: chr1\n",
      "true: chr20\n"
     ]
    },
    {
     "name": "stderr",
     "output_type": "stream",
     "text": [
      "Evaluating:  97%|█████████▋| 438/450 [03:08<00:04,  2.78it/s]"
     ]
    },
    {
     "name": "stdout",
     "output_type": "stream",
     "text": [
      "task: SNP location\n",
      "pred: chr8\n",
      "true: chr21\n"
     ]
    },
    {
     "name": "stderr",
     "output_type": "stream",
     "text": [
      "Evaluating:  98%|█████████▊| 439/450 [03:09<00:04,  2.38it/s]"
     ]
    },
    {
     "name": "stdout",
     "output_type": "stream",
     "text": [
      "task: SNP location\n",
      "pred: chr10\n",
      "true: chr17\n"
     ]
    },
    {
     "name": "stderr",
     "output_type": "stream",
     "text": [
      "Evaluating:  98%|█████████▊| 440/450 [03:09<00:04,  2.18it/s]"
     ]
    },
    {
     "name": "stdout",
     "output_type": "stream",
     "text": [
      "task: SNP location\n",
      "pred: chr7\n",
      "true: chr2\n"
     ]
    },
    {
     "name": "stderr",
     "output_type": "stream",
     "text": [
      "Evaluating:  98%|█████████▊| 441/450 [03:10<00:03,  2.44it/s]"
     ]
    },
    {
     "name": "stdout",
     "output_type": "stream",
     "text": [
      "task: SNP location\n",
      "pred: chr1\n",
      "true: chr19\n"
     ]
    },
    {
     "name": "stderr",
     "output_type": "stream",
     "text": [
      "Evaluating:  98%|█████████▊| 442/450 [03:10<00:03,  2.63it/s]"
     ]
    },
    {
     "name": "stdout",
     "output_type": "stream",
     "text": [
      "task: SNP location\n",
      "pred: chr7\n",
      "true: chr15\n"
     ]
    },
    {
     "name": "stderr",
     "output_type": "stream",
     "text": [
      "Evaluating:  98%|█████████▊| 443/450 [03:10<00:02,  2.33it/s]"
     ]
    },
    {
     "name": "stdout",
     "output_type": "stream",
     "text": [
      "task: SNP location\n",
      "pred: chr9\n",
      "true: chr22\n"
     ]
    },
    {
     "name": "stderr",
     "output_type": "stream",
     "text": [
      "Evaluating:  99%|█████████▊| 444/450 [03:11<00:02,  2.12it/s]"
     ]
    },
    {
     "name": "stdout",
     "output_type": "stream",
     "text": [
      "task: SNP location\n",
      "pred: chr4\n",
      "true: chr3\n"
     ]
    },
    {
     "name": "stderr",
     "output_type": "stream",
     "text": [
      "Evaluating:  99%|█████████▉| 445/450 [03:11<00:02,  2.42it/s]"
     ]
    },
    {
     "name": "stdout",
     "output_type": "stream",
     "text": [
      "task: SNP location\n",
      "pred: chr2\n",
      "true: chr5\n"
     ]
    },
    {
     "name": "stderr",
     "output_type": "stream",
     "text": [
      "Evaluating:  99%|█████████▉| 446/450 [03:12<00:01,  2.63it/s]"
     ]
    },
    {
     "name": "stdout",
     "output_type": "stream",
     "text": [
      "task: SNP location\n",
      "pred: chr19\n",
      "true: chr14\n"
     ]
    },
    {
     "name": "stderr",
     "output_type": "stream",
     "text": [
      "Evaluating:  99%|█████████▉| 447/450 [03:12<00:01,  2.81it/s]"
     ]
    },
    {
     "name": "stdout",
     "output_type": "stream",
     "text": [
      "task: SNP location\n",
      "pred: chr7\n",
      "true: chr14\n"
     ]
    },
    {
     "name": "stderr",
     "output_type": "stream",
     "text": [
      "Evaluating: 100%|█████████▉| 448/450 [03:12<00:00,  2.41it/s]"
     ]
    },
    {
     "name": "stdout",
     "output_type": "stream",
     "text": [
      "task: SNP location\n",
      "pred: chr3\n",
      "true: chr12\n"
     ]
    },
    {
     "name": "stderr",
     "output_type": "stream",
     "text": [
      "Evaluating: 100%|█████████▉| 449/450 [03:13<00:00,  2.17it/s]"
     ]
    },
    {
     "name": "stdout",
     "output_type": "stream",
     "text": [
      "task: SNP location\n",
      "pred: chr2\n",
      "true: chr9\n"
     ]
    },
    {
     "name": "stderr",
     "output_type": "stream",
     "text": [
      "Evaluating: 100%|██████████| 450/450 [03:13<00:00,  2.32it/s]"
     ]
    },
    {
     "name": "stdout",
     "output_type": "stream",
     "text": [
      "task: SNP location\n",
      "pred: chr7\n",
      "true: chr5\n"
     ]
    },
    {
     "name": "stderr",
     "output_type": "stream",
     "text": [
      "\n"
     ]
    }
   ],
   "source": [
    "# 6.3 Save the results\n",
    "import random\n",
    "\n",
    "few_shot_examples = [\n",
    "    {\"role\": \"user\", \"content\": \"What is the official gene symbol of LMP10?\"},\n",
    "    {\"role\": \"assistant\", \"content\": \"SLC38A6\"},\n",
    "    {\"role\": \"user\", \"content\": \"What are genes related to Hemolytic anemia due to phosphofructokinase deficiency?\"},\n",
    "    {\"role\": \"assistant\", \"content\": \"PFKL\"},\n",
    "    {\"role\": \"user\", \"content\": \"Align the DNA sequence to the human genome:ATTCTGCCTTTAGTAATTTGATGACAGAGACTTCTTGGGAACCACAGCCAGGGAGCCACCCTTTACTCCACCAACAGGTGGCTTATATCCAATCTGAGAAAGAAAGAAAAAAAAAAAAGTATTTCTCT\"},\n",
    "    {\"role\": \"assistant\", \"content\": \"chr15:91950805-91950932\"},\n",
    "    {\"role\": \"user\", \"content\": \"Which organism does the DNA sequence come from:AGGGGCAGCAAACACCGGGACACACCCATTCGTGCACTAATCAGAAACTTTTTTTTCTCAAATAATTCAAACAATCAAAATTGGTTTTTTCGAGCAAGGTGGGAAATTTTTCGAT\"},\n",
    "    {\"role\": \"assistant\", \"content\": \"worm\"},\n",
    "    {\"role\": \"user\", \"content\": \"Convert ENSG00000215251 to official gene symbol.\"},\n",
    "    {\"role\": \"assistant\", \"content\": \"FASTKD5\"},\n",
    "    {\"role\": \"user\", \"content\": \"Is ATP5F1EP2 a protein-coding gene?\"},\n",
    "    {\"role\": \"assistant\", \"content\": \"NA\"},\n",
    "    {\"role\": \"user\", \"content\": \"Which gene is SNP rs1217074595 associated with?\"},\n",
    "    {\"role\": \"assistant\", \"content\": \"LINC01270\"},\n",
    "    {\"role\": \"user\", \"content\": \"Which chromosome does SNP rs1430464868 locate on human genome?\"},\n",
    "    {\"role\": \"assistant\", \"content\": \"chr13\"}\n",
    "    \n",
    "\n",
    "]\n",
    "sample = random.sample(dataset, 50)\n",
    "\n",
    "results = evaluate_with_progress(OllamaClient, dataset, system_message[0], few_shot_examples)\n",
    "save_results(results, \"geneturing_results.csv\")\n"
   ]
  },
  {
   "cell_type": "markdown",
   "id": "76dab8dd",
   "metadata": {},
   "source": [
    "## 7. Analysis"
   ]
  },
  {
   "cell_type": "markdown",
   "id": "afe4efaa",
   "metadata": {
    "tags": [
     "skip"
    ]
   },
   "source": [
    "Now that we have collected the first round of GeneTuring results, let's analyze them. Let's start by calculating what fraction of predictions were successful."
   ]
  },
  {
   "cell_type": "code",
   "execution_count": 20,
   "id": "dcca4f6d",
   "metadata": {},
   "outputs": [
    {
     "name": "stdout",
     "output_type": "stream",
     "text": [
      "Fraction of successful predictions: 100.00%\n"
     ]
    }
   ],
   "source": [
    "import pandas as pd\n",
    "\n",
    "df = pd.read_csv(\"geneturing_results.csv\")\n",
    "success_rate = df['success'].mean()\n",
    "print(f\"Fraction of successful predictions: {success_rate:.2%}\")\n"
   ]
  },
  {
   "cell_type": "markdown",
   "id": "b46a3607",
   "metadata": {
    "tags": [
     "skip"
    ]
   },
   "source": [
    "Now let's calculate both the overall score as well as the score by task."
   ]
  },
  {
   "cell_type": "code",
   "execution_count": 21,
   "id": "a3f7c69f",
   "metadata": {},
   "outputs": [
    {
     "name": "stdout",
     "output_type": "stream",
     "text": [
      "Overall average score: 0.337\n",
      "\n",
      "Score by task:\n",
      "task\n",
      "Gene SNP association          0.02000\n",
      "Gene alias                    0.18000\n",
      "Gene disease association      0.70181\n",
      "Gene location                 0.85700\n",
      "Gene name conversion          0.02000\n",
      "Human genome DNA aligment     0.05000\n",
      "Multi-species DNA aligment    0.18000\n",
      "Protein-coding genes          1.00000\n",
      "SNP location                  0.02000\n",
      "Name: score, dtype: float64\n"
     ]
    }
   ],
   "source": [
    "# 7.2 Calculate the overall score and the score by task\n",
    "\n",
    "valid_scores_df = df[df['score'].notna()]\n",
    "overall_score = valid_scores_df['score'].mean()\n",
    "score_by_task = valid_scores_df.groupby('task')['score'].mean()\n",
    "print(f\"Overall average score: {overall_score:.3f}\\n\")\n",
    "print(\"Score by task:\")\n",
    "print(score_by_task)\n"
   ]
  },
  {
   "cell_type": "markdown",
   "id": "e2fc369e",
   "metadata": {
    "tags": [
     "skip"
    ]
   },
   "source": [
    "Then, let's create a bar chart of the scores by task with a horizontal line for the overall score. Let's save the figure as well to our output directory."
   ]
  },
  {
   "cell_type": "code",
   "execution_count": 22,
   "id": "222356e5",
   "metadata": {},
   "outputs": [
    {
     "data": {
      "image/png": "[encoded data removed]",
      "text/plain": [
       "<Figure size 1000x600 with 1 Axes>"
      ]
     },
     "metadata": {},
     "output_type": "display_data"
    }
   ],
   "source": [
    "# 7.3 Create a bar chart of the scores by task with a horizontal line for the overall score\n",
    "import matplotlib.pyplot as plt\n",
    "plt.figure(figsize=(10, 6))\n",
    "score_by_task.plot(kind='bar', color='cornflowerblue')\n",
    "plt.axhline(y=overall_score, color='red', linestyle='--', label=f'Overall: {overall_score:.2f}')\n",
    "plt.title(\"Average Score by Task\")\n",
    "plt.xlabel(\"Task\")\n",
    "plt.ylabel(\"Average Score\")\n",
    "plt.ylim(0, 1)\n",
    "plt.xticks(rotation=45, ha='right')\n",
    "plt.legend()\n",
    "plt.tight_layout()\n",
    "plt.show()\n",
    "\n"
   ]
  },
  {
   "cell_type": "code",
   "execution_count": null,
   "id": "2f7a294f",
   "metadata": {},
   "outputs": [],
   "source": []
  }
 ],
 "metadata": {
  "kernelspec": {
   "display_name": "venv",
   "language": "python",
   "name": "python3"
  },
  "language_info": {
   "codemirror_mode": {
    "name": "ipython",
    "version": 3
   },
   "file_extension": ".py",
   "mimetype": "text/x-python",
   "name": "python",
   "nbconvert_exporter": "python",
   "pygments_lexer": "ipython3",
   "version": "3.12.1"
  }
 },
 "nbformat": 4,
 "nbformat_minor": 5
}
