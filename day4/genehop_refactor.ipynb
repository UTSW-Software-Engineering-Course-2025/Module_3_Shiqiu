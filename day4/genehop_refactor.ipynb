{
 "cells": [
  {
   "cell_type": "markdown",
   "metadata": {},
   "source": [
    "# Import"
   ]
  },
  {
   "cell_type": "code",
   "execution_count": 1,
   "metadata": {},
   "outputs": [
    {
     "name": "stdout",
     "output_type": "stream",
     "text": [
      "Loaded API key: FJ5Gr...\n"
     ]
    }
   ],
   "source": [
    "from dotenv import load_dotenv\n",
    "import os\n",
    "import mlflow\n",
    "from typing import List, Dict, Optional\n",
    "\n",
    "from collections import defaultdict\n",
    "from dataclasses import dataclass\n",
    "\n",
    "os.environ[\"no_proxy\"] = \"*\"\n",
    "\n",
    "mlflow.set_tracking_uri(\"http://198.215.61.34:8153/\")\n",
    "mlflow.set_experiment(\"s440708_Shiqiu\")\n",
    "load_dotenv()\n",
    "\n",
    "AZURE_OPENAI_KEY = os.getenv(\"AZURE_OPENAI_KEY\")\n",
    "AZURE_OPENAI_ENDPOINT = os.getenv(\"AZURE_OPENAI_ENDPOINT\")\n",
    "AZURE_OPENAI_DEPLOYMENT_NAME = os.getenv(\"AZURE_OPENAI_DEPLOYMENT_NAME\")\n",
    "AZURE_OPENAI_API_VERSION = os.getenv(\"AZURE_OPENAI_API_VERSION\")\n",
    "\n",
    "print(\"Loaded API key:\", AZURE_OPENAI_KEY[:5] + \"...\" if AZURE_OPENAI_KEY else \"MISSING\")"
   ]
  },
  {
   "cell_type": "markdown",
   "metadata": {},
   "source": [
    "# Config"
   ]
  },
  {
   "cell_type": "code",
   "execution_count": 35,
   "metadata": {},
   "outputs": [],
   "source": [
    "data_config = {\n",
    "    \"dataset_path\": \"/work/bioinformatics/s440708/MODULE_3_MATERIALS/data/7B_golden.json\",  \n",
    "    \"output_path\": \"/work/bioinformatics/s440708/MODULE_3_MATERIALS/outputs/\",\n",
    "    \"dataset_name\": \"bioasq\"\n",
    "}\n",
    "\n",
    "model_config = {           \n",
    "    \"model_name\": AZURE_OPENAI_DEPLOYMENT_NAME,     \n",
    "    #\"model_name\": \"qwen3:4b\",   \n",
    "    'frequency_penalty': 0.0,\n",
    "    'presence_penalty': 0.0,\n",
    "    \"temperature\": 1.,\n",
    "    \"max_tokens\": 800,\n",
    "    \"top_p\": 1.0,\n",
    "    \n",
    "}\n"
   ]
  },
  {
   "cell_type": "markdown",
   "metadata": {},
   "source": [
    "# Load data"
   ]
  },
  {
   "cell_type": "code",
   "execution_count": 12,
   "metadata": {},
   "outputs": [
    {
     "name": "stdout",
     "output_type": "stream",
     "text": [
      "Loaded 500 examples from /work/bioinformatics/s440708/MODULE_3_MATERIALS/data/7B_golden.json\n"
     ]
    }
   ],
   "source": [
    "\n",
    "import json\n",
    "\n",
    "def load_geneturing(path: str) -> List[Dict[str, str]]:\n",
    "    with open(path, \"r\") as f:\n",
    "        raw_data = json.load(f)\n",
    "\n",
    "    flat_data = []\n",
    "    counter = 0\n",
    "    for question, answers in raw_data.items():\n",
    "        for dicts in answers:\n",
    "    \n",
    "            flat_data.append({\n",
    "                \"task\": dicts['type'],\n",
    "                'id': counter,\n",
    "                \"question\": dicts['body'],\n",
    "                \"answer\": dicts['ideal_answer'][0]\n",
    "            })\n",
    "            counter += 1\n",
    "    \n",
    "\n",
    "    return flat_data\n",
    "\n",
    "# config = Config()\n",
    "dataset = load_geneturing(data_config['dataset_path'])\n",
    "print(f\"Loaded {len(dataset)} examples from {data_config['dataset_path']}\")\n"
   ]
  },
  {
   "cell_type": "code",
   "execution_count": 13,
   "metadata": {},
   "outputs": [
    {
     "name": "stdout",
     "output_type": "stream",
     "text": [
      "DataFrame shape: (500, 3)\n"
     ]
    },
    {
     "data": {
      "text/html": [
       "<div>\n",
       "<style scoped>\n",
       "    .dataframe tbody tr th:only-of-type {\n",
       "        vertical-align: middle;\n",
       "    }\n",
       "\n",
       "    .dataframe tbody tr th {\n",
       "        vertical-align: top;\n",
       "    }\n",
       "\n",
       "    .dataframe thead th {\n",
       "        text-align: right;\n",
       "    }\n",
       "</style>\n",
       "<table border=\"1\" class=\"dataframe\">\n",
       "  <thead>\n",
       "    <tr style=\"text-align: right;\">\n",
       "      <th></th>\n",
       "      <th>task</th>\n",
       "      <th>question</th>\n",
       "      <th>answer</th>\n",
       "    </tr>\n",
       "    <tr>\n",
       "      <th>id</th>\n",
       "      <th></th>\n",
       "      <th></th>\n",
       "      <th></th>\n",
       "    </tr>\n",
       "  </thead>\n",
       "  <tbody>\n",
       "    <tr>\n",
       "      <th>0</th>\n",
       "      <td>factoid</td>\n",
       "      <td>What does the pembrolizumab companion diagnost...</td>\n",
       "      <td>Administration of pembrolizumab requires a com...</td>\n",
       "    </tr>\n",
       "    <tr>\n",
       "      <th>1</th>\n",
       "      <td>factoid</td>\n",
       "      <td>What is the combined effect of Nfat and miR-25?</td>\n",
       "      <td>Increased calcineurin/Nfat signalling and decr...</td>\n",
       "    </tr>\n",
       "    <tr>\n",
       "      <th>2</th>\n",
       "      <td>list</td>\n",
       "      <td>In what states are GDF15 expression increased?</td>\n",
       "      <td>Growth differentiation factor 15 (GDF-15) is e...</td>\n",
       "    </tr>\n",
       "    <tr>\n",
       "      <th>3</th>\n",
       "      <td>factoid</td>\n",
       "      <td>Which genomic positions are preferentially sel...</td>\n",
       "      <td>Preferential integration occurs in non-coding ...</td>\n",
       "    </tr>\n",
       "    <tr>\n",
       "      <th>4</th>\n",
       "      <td>factoid</td>\n",
       "      <td>Which Lisp framework has been developed for im...</td>\n",
       "      <td>FunImageJ is a Lisp framework for scientific i...</td>\n",
       "    </tr>\n",
       "  </tbody>\n",
       "</table>\n",
       "</div>"
      ],
      "text/plain": [
       "       task                                           question  \\\n",
       "id                                                               \n",
       "0   factoid  What does the pembrolizumab companion diagnost...   \n",
       "1   factoid    What is the combined effect of Nfat and miR-25?   \n",
       "2      list     In what states are GDF15 expression increased?   \n",
       "3   factoid  Which genomic positions are preferentially sel...   \n",
       "4   factoid  Which Lisp framework has been developed for im...   \n",
       "\n",
       "                                               answer  \n",
       "id                                                     \n",
       "0   Administration of pembrolizumab requires a com...  \n",
       "1   Increased calcineurin/Nfat signalling and decr...  \n",
       "2   Growth differentiation factor 15 (GDF-15) is e...  \n",
       "3   Preferential integration occurs in non-coding ...  \n",
       "4   FunImageJ is a Lisp framework for scientific i...  "
      ]
     },
     "metadata": {},
     "output_type": "display_data"
    }
   ],
   "source": [
    "# 3.3 Create the pandas dataframe from the collection of rows\n",
    "\n",
    "import pandas as pd\n",
    "\n",
    "def build_dataframe(flat_data: List[Dict[str, str]]) -> pd.DataFrame:\n",
    "\n",
    "    df = pd.DataFrame(flat_data)\n",
    "    \n",
    "    df = df[[\"id\", \"task\", \"question\", \"answer\"]]  \n",
    "    df.set_index(\"id\", inplace=True)\n",
    "    return df\n",
    "\n",
    "df = build_dataframe(dataset)\n",
    "print(f\"DataFrame shape: {df.shape}\")\n",
    "display(df.head())"
   ]
  },
  {
   "cell_type": "markdown",
   "metadata": {},
   "source": [
    "# Create a Structured Output"
   ]
  },
  {
   "cell_type": "code",
   "execution_count": 14,
   "metadata": {},
   "outputs": [],
   "source": [
    "system_message = (\n",
    "    \"You are a genomics assistant that returns structured answers. \"\n",
    "    \"You will be provided with a gene-related question and should return your answer \"\n",
    "    \"in structured JSON format following a schema including task, question, answer, and explanation.\"\n",
    ")"
   ]
  },
  {
   "cell_type": "code",
   "execution_count": 37,
   "metadata": {},
   "outputs": [
    {
     "name": "stdout",
     "output_type": "stream",
     "text": [
      "{'choices': [{'content_filter_results': {'hate': {'filtered': False,\n",
      "                                                  'severity': 'safe'},\n",
      "                                         'protected_material_code': {'detected': False,\n",
      "                                                                     'filtered': False},\n",
      "                                         'protected_material_text': {'detected': False,\n",
      "                                                                     'filtered': False},\n",
      "                                         'self_harm': {'filtered': False,\n",
      "                                                       'severity': 'safe'},\n",
      "                                         'sexual': {'filtered': False,\n",
      "                                                    'severity': 'safe'},\n",
      "                                         'violence': {'filtered': False,\n",
      "                                                      'severity': 'safe'}},\n",
      "              'finish_reason': 'stop',\n",
      "              'index': 0,\n",
      "              'logprobs': None,\n",
      "              'message': {'annotations': [],\n",
      "                          'audio': None,\n",
      "                          'content': '{\"task\": \"SNP gene function\", '\n",
      "                                     '\"question\": \"What is the function of the '\n",
      "                                     'gene associated with SNP rs1217074595?\", '\n",
      "                                     '\"answer\": \"The gene associated with SNP '\n",
      "                                     'rs1217074595 is SLC22A5, which encodes a '\n",
      "                                     'carnitine transporter involved in the '\n",
      "                                     'uptake of carnitine into cells, '\n",
      "                                     'essential for fatty acid oxidation and '\n",
      "                                     'energy production.\", \"explanation\": '\n",
      "                                     '\"Step 1: Identify the gene associated '\n",
      "                                     'with rs1217074595. According to dbSNP '\n",
      "                                     'and genomic databases, rs1217074595 is '\n",
      "                                     'located in the SLC22A5 gene. Step 2: '\n",
      "                                     'Determine the function of SLC22A5. '\n",
      "                                     'SLC22A5 encodes a solute carrier protein '\n",
      "                                     '(OCTN2) that transports carnitine, a '\n",
      "                                     'molecule required for the transport of '\n",
      "                                     'long-chain fatty acids into mitochondria '\n",
      "                                     'for beta-oxidation. Defects in this gene '\n",
      "                                     'can lead to primary carnitine '\n",
      "                                     'deficiency.\"}',\n",
      "                          'function_call': None,\n",
      "                          'parsed': {'answer': 'The gene associated with SNP '\n",
      "                                               'rs1217074595 is SLC22A5, which '\n",
      "                                               'encodes a carnitine '\n",
      "                                               'transporter involved in the '\n",
      "                                               'uptake of carnitine into '\n",
      "                                               'cells, essential for fatty '\n",
      "                                               'acid oxidation and energy '\n",
      "                                               'production.',\n",
      "                                     'explanation': 'Step 1: Identify the gene '\n",
      "                                                    'associated with '\n",
      "                                                    'rs1217074595. According '\n",
      "                                                    'to dbSNP and genomic '\n",
      "                                                    'databases, rs1217074595 '\n",
      "                                                    'is located in the SLC22A5 '\n",
      "                                                    'gene. Step 2: Determine '\n",
      "                                                    'the function of SLC22A5. '\n",
      "                                                    'SLC22A5 encodes a solute '\n",
      "                                                    'carrier protein (OCTN2) '\n",
      "                                                    'that transports '\n",
      "                                                    'carnitine, a molecule '\n",
      "                                                    'required for the '\n",
      "                                                    'transport of long-chain '\n",
      "                                                    'fatty acids into '\n",
      "                                                    'mitochondria for '\n",
      "                                                    'beta-oxidation. Defects '\n",
      "                                                    'in this gene can lead to '\n",
      "                                                    'primary carnitine '\n",
      "                                                    'deficiency.',\n",
      "                                     'question': 'What is the function of the '\n",
      "                                                 'gene associated with SNP '\n",
      "                                                 'rs1217074595?',\n",
      "                                     'task': 'SNP gene function'},\n",
      "                          'refusal': None,\n",
      "                          'role': 'assistant',\n",
      "                          'tool_calls': None}}],\n",
      " 'created': 1749169345,\n",
      " 'id': 'chatcmpl-BfF8jyqENDzwx4Xx32x7sHC3mEmiD',\n",
      " 'model': 'gpt-4.1-2025-04-14',\n",
      " 'object': 'chat.completion',\n",
      " 'prompt_filter_results': [{'content_filter_results': {'hate': {'filtered': False,\n",
      "                                                                'severity': 'safe'},\n",
      "                                                       'jailbreak': {'detected': False,\n",
      "                                                                     'filtered': False},\n",
      "                                                       'self_harm': {'filtered': False,\n",
      "                                                                     'severity': 'safe'},\n",
      "                                                       'sexual': {'filtered': False,\n",
      "                                                                  'severity': 'safe'},\n",
      "                                                       'violence': {'filtered': False,\n",
      "                                                                    'severity': 'safe'}},\n",
      "                            'prompt_index': 0}],\n",
      " 'service_tier': None,\n",
      " 'system_fingerprint': 'fp_07e970ab25',\n",
      " 'usage': {'completion_tokens': 197,\n",
      "           'completion_tokens_details': {'accepted_prediction_tokens': 0,\n",
      "                                         'audio_tokens': 0,\n",
      "                                         'reasoning_tokens': 0,\n",
      "                                         'rejected_prediction_tokens': 0},\n",
      "           'prompt_tokens': 275,\n",
      "           'prompt_tokens_details': {'audio_tokens': 0, 'cached_tokens': 0},\n",
      "           'total_tokens': 472}}\n"
     ]
    }
   ],
   "source": [
    "from pydantic import BaseModel, Field\n",
    "from typing import Optional\n",
    "\n",
    "import os\n",
    "import pprint as pp\n",
    "from openai import AzureOpenAI\n",
    "\n",
    "class GeneHopAnswer(BaseModel):\n",
    "    \"\"\"\n",
    "    Structured answer format for gene-level LLM QA.\n",
    "    \"\"\"\n",
    "    task: str = Field(..., description=\"GeneHop task name, e.g., 'Gene alias'\")\n",
    "    question: str = Field(..., description=\"The user query\")\n",
    "    answer: str = Field(..., description=\"Structured, atomic answer returned by the model\")\n",
    "    explanation: Optional[str] = Field(\n",
    "        None,\n",
    "        description=\"Optional reasoning or justification provided by the model\"\n",
    "    )\n",
    "\n",
    "\n",
    "\n",
    "query = {\n",
    "    \"task\": \"SNP gene function\",\n",
    "    \"question\": \"What is the function of the gene associated with SNP rs1217074595? Let's decompose the question to sub-questions and solve them step by step.\",\n",
    "}\n",
    "\n",
    "prompt = f\"\"\"Here is a question: \"{query['question']}\". \n",
    "Return the answer in valid JSON format matching this schema: \n",
    "{{\"task\": str, \"question\": str, \"answer\": str, \"explanation\": Optional[str]}}.\n",
    "The 'task' should be '{query['task']}'.\n",
    "\"\"\"\n",
    "\n",
    "# few_shot_examples = [\n",
    "#     {\"role\": \"user\", \"content\": \"What are the aliases of the gene that contains this sequnece:\"\n",
    "#      \"ACTTCCAACATGGCGGCGGCCGGGGCGGCGGTGGCGCGCAGCCCGGGAATCGGAGCGGGACCTGCGCTGAGAGCCCGGCGCTCGCCCCCGCCGCGGGCCGCACGGCTGCCGCG.\"\n",
    "#      \"Let's decompose the question to sub-questions and solve them step by step.\"},\n",
    "#     {\"role\": \"assistant\", \"content\": \"QSOX2, SOXN, QSCN6L1\"},\n",
    "#     {\"role\": \"user\", \"content\": \"List chromosome locations of the genes related to Hemolytic anemia due to phosphofructokinase deficiency. Let's decompose the question to sub-questions and solve them step by step.\"},\n",
    "#     {\"role\": \"assistant\", \"content\": \"21q22.3\"},\n",
    "#     {\"role\": \"user\", \"content\": \"What is the function of the gene associated with SNP rs1241371358? Let's decompose the question to sub-questions and solve them step by step.\"},\n",
    "#     {\"role\": \"assistant\", \"content\": \"Predicted to be active in cytosol.\"}\n",
    "# ]\n",
    "\n",
    "messages = [{\"role\": \"system\", \"content\": system_message},\n",
    "                {\"role\": \"user\", \"content\": prompt}]\n",
    "\n",
    "\n",
    "\n",
    "client = AzureOpenAI(\n",
    "    api_key=os.getenv(\"AZURE_OPENAI_KEY\"),\n",
    "    api_version=\"2024-08-01-preview\",\n",
    "    azure_endpoint=os.getenv(\"AZURE_OPENAI_ENDPOINT\"),\n",
    "    timeout=10,\n",
    "    max_retries=3,\n",
    ")\n",
    "\n",
    "response = client.beta.chat.completions.parse(\n",
    "    model=os.getenv(\"AZURE_OPENAI_DEPLOYMENT_NAME\"),\n",
    "    messages=messages,\n",
    "    temperature=0,\n",
    "    max_tokens=1024,\n",
    "    response_format=GeneHopAnswer,\n",
    ")\n",
    "\n",
    "pp.pprint(response.model_dump())\n",
    "# from ollama import chat\n",
    "# response = chat(\n",
    "#   messages=messages,\n",
    "#   model= model_config['model_name'],\n",
    "#   format=GeneHopAnswer.model_json_schema(),\n",
    "# )\n",
    "\n",
    "# genehop_answer = GeneHopAnswer.model_validate_json(response.message.content)\n",
    "# answer = genehop_answer.model_dump()\n",
    "# pp.pprint(answer)\n",
    "\n",
    "\n"
   ]
  },
  {
   "cell_type": "markdown",
   "metadata": {},
   "source": [
    "# Create Query Model Function"
   ]
  },
  {
   "cell_type": "code",
   "execution_count": 41,
   "metadata": {},
   "outputs": [],
   "source": [
    "def query_model(\n",
    "    system_message: dict,\n",
    "    user_query: str,\n",
    ") -> str:\n",
    "    from ollama import chat\n",
    "    \n",
    "    prompt = f\"\"\"Here is a question: \"{user_query['question']}\". \n",
    "    Return the answer in valid JSON format matching this schema: \n",
    "    {{\"task\": str, \"question\": str, \"answer\": str, \"explanation\": Optional[str]}}.\n",
    "    The 'task' should be '{user_query['task']}'.\n",
    "    \"\"\"\n",
    "\n",
    "    messages = [{\"role\": \"system\", \"content\": system_message},\n",
    "                {\"role\": \"user\", \"content\": prompt}]\n",
    "\n",
    "\n",
    "    # response = chat(\n",
    "    #     messages=messages,\n",
    "    #     model= model_config['model_name'],\n",
    "    #     format=GeneHopAnswer.model_json_schema(),\n",
    "    #     )\n",
    "    response = client.beta.chat.completions.parse(\n",
    "    model=os.getenv(\"AZURE_OPENAI_DEPLOYMENT_NAME\"),\n",
    "    messages=messages,\n",
    "    temperature=0,\n",
    "    max_tokens=1024,\n",
    "    response_format=GeneHopAnswer,\n",
    "    )\n",
    "    answer = response.model_dump()\n",
    "    # genehop_answer = GeneHopAnswer.model_validate_json(response.message.content)\n",
    "    # answer = genehop_answer.model_dump()\n",
    "    return answer"
   ]
  },
  {
   "cell_type": "code",
   "execution_count": 42,
   "metadata": {},
   "outputs": [],
   "source": [
    "from tqdm import tqdm\n",
    "from typing import Any, Callable, Dict, List, Optional, Union, cast\n",
    "import json\n",
    "\n",
    "def collect_structured_output(\n",
    "    # client: Any,\n",
    "    dataset: List[Dict[str, str]],\n",
    "    system_message: Dict[str, str],\n",
    ") -> List[Dict[str, str]]:\n",
    "\n",
    "    answers = []\n",
    "\n",
    "    with mlflow.start_run(run_name=\"geneturing-eval\"):\n",
    "        mlflow.log_param(\"model\", model_config[\"model_name\"])\n",
    "        mlflow.log_param(\"temperature\", model_config[\"temperature\"])\n",
    "        mlflow.log_param(\"max_tokens\", model_config[\"max_tokens\"])\n",
    "        mlflow.log_param(\"top_p\", model_config[\"top_p\"])\n",
    "\n",
    "        for item in tqdm(dataset, desc=\"Evaluating\"):\n",
    "            item_id = item.get(\"id\")\n",
    "            task = item.get(\"task\")\n",
    "            question = item.get(\"question\")\n",
    "           \n",
    "            #gold_answer = item.get(\"answer\")\n",
    "            query = {'task': task, \"question\": question}\n",
    "            print(query)\n",
    "            # try:\n",
    "\n",
    "            answer = query_model(\n",
    "                system_message, query\n",
    "            )\n",
    "            answer['success'] = True\n",
    "            answer['id'] = item_id\n",
    "                \n",
    "\n",
    "            # except Exception:\n",
    "            #     answer = {}\n",
    "            #     answer['success'] = False\n",
    "            #     answer['id'] = item_id\n",
    "            #     answer['task'] = task\n",
    "            #     answer['question'] = question\n",
    "            #     answer['answer'] = \"\"\n",
    "            #     answer['explanation'] = \"\"\n",
    "        \n",
    "\n",
    "            answers.append(answer)\n",
    "\n",
    "        # Calculate and log metrics\n",
    "        df = pd.DataFrame(answers)\n",
    "        success_rate = df[\"success\"].mean()\n",
    "        print(success_rate)\n",
    "        #valid_scores_df = df[df[\"score\"].notna()]\n",
    "        #overall_score = valid_scores_df[\"score\"].mean()\n",
    "\n",
    "        mlflow.log_metric(\"success_rate\", success_rate)\n",
    "        #mlflow.log_metric(\"overall_score\", overall_score)\n",
    "\n",
    "        # for task_name, task_df in df.groupby(\"task\"):\n",
    "        #     mlflow.log_metric(\n",
    "        #         f\"score_{task_name.replace(' ', '_')}\", task_df[\"score\"].mean()\n",
    "        #     )\n",
    "\n",
    "        # Save to json and log as artifact\n",
    "        result_json_path = os.path.join(data_config['output_path'], f\"{data_config['dataset_name']}_results.csv\")\n",
    "        with open(result_json_path, 'w') as f:\n",
    "            json.dump(answers, f, indent=2)\n",
    "      \n",
    "        # df.to_csv(result_csv_path, index=False)\n",
    "        mlflow.log_artifact(result_json_path)\n",
    "\n",
    "    return answers"
   ]
  },
  {
   "cell_type": "code",
   "execution_count": 43,
   "metadata": {},
   "outputs": [
    {
     "name": "stderr",
     "output_type": "stream",
     "text": [
      "Evaluating:   0%|          | 0/500 [00:00<?, ?it/s]"
     ]
    },
    {
     "name": "stdout",
     "output_type": "stream",
     "text": [
      "{'task': 'factoid', 'question': 'What does the pembrolizumab companion diagnostic test assess?'}\n"
     ]
    },
    {
     "name": "stderr",
     "output_type": "stream",
     "text": [
      "Evaluating:   0%|          | 1/500 [00:01<11:12,  1.35s/it]"
     ]
    },
    {
     "name": "stdout",
     "output_type": "stream",
     "text": [
      "{'task': 'factoid', 'question': 'What is the combined effect of Nfat and miR-25?'}\n"
     ]
    },
    {
     "name": "stderr",
     "output_type": "stream",
     "text": [
      "Evaluating:   0%|          | 2/500 [00:02<09:55,  1.20s/it]"
     ]
    },
    {
     "name": "stdout",
     "output_type": "stream",
     "text": [
      "{'task': 'list', 'question': 'In what states are GDF15 expression increased?'}\n"
     ]
    },
    {
     "name": "stderr",
     "output_type": "stream",
     "text": [
      "Evaluating:   1%|          | 3/500 [00:03<10:24,  1.26s/it]"
     ]
    },
    {
     "name": "stdout",
     "output_type": "stream",
     "text": [
      "{'task': 'factoid', 'question': 'Which genomic positions are preferentially selected for transposon insertion?'}\n"
     ]
    },
    {
     "name": "stderr",
     "output_type": "stream",
     "text": [
      "Evaluating:   1%|          | 4/500 [00:05<11:42,  1.42s/it]"
     ]
    },
    {
     "name": "stdout",
     "output_type": "stream",
     "text": [
      "{'task': 'factoid', 'question': 'Which Lisp framework has been developed for image processing?'}\n"
     ]
    },
    {
     "name": "stderr",
     "output_type": "stream",
     "text": [
      "Evaluating:   1%|          | 5/500 [00:06<09:46,  1.19s/it]"
     ]
    },
    {
     "name": "stdout",
     "output_type": "stream",
     "text": [
      "{'task': 'factoid', 'question': 'Which gene controls the consistency of cerumen (ear wax)?'}\n"
     ]
    },
    {
     "name": "stderr",
     "output_type": "stream",
     "text": [
      "Evaluating:   1%|          | 6/500 [00:07<08:43,  1.06s/it]"
     ]
    },
    {
     "name": "stdout",
     "output_type": "stream",
     "text": [
      "{'task': 'factoid', 'question': 'What is the origin of human breast milk bacteria?'}\n"
     ]
    },
    {
     "name": "stderr",
     "output_type": "stream",
     "text": [
      "Evaluating:   1%|▏         | 7/500 [00:08<09:22,  1.14s/it]"
     ]
    },
    {
     "name": "stdout",
     "output_type": "stream",
     "text": [
      "{'task': 'factoid', 'question': 'Which species is the carrier of the SFTS ( severe fever with thrombocytopenia syndrome) virus?'}\n"
     ]
    },
    {
     "name": "stderr",
     "output_type": "stream",
     "text": [
      "Evaluating:   2%|▏         | 8/500 [00:09<09:06,  1.11s/it]"
     ]
    },
    {
     "name": "stdout",
     "output_type": "stream",
     "text": [
      "{'task': 'list', 'question': 'List four features of the WHIM syndrome.'}\n"
     ]
    },
    {
     "name": "stderr",
     "output_type": "stream",
     "text": [
      "Evaluating:   2%|▏         | 9/500 [00:10<09:23,  1.15s/it]"
     ]
    },
    {
     "name": "stdout",
     "output_type": "stream",
     "text": [
      "{'task': 'factoid', 'question': 'Which algorithm has been developed for the automatic extraction of co-expressed gene clusters from gene expression data?'}\n"
     ]
    },
    {
     "name": "stderr",
     "output_type": "stream",
     "text": [
      "Evaluating:   2%|▏         | 10/500 [00:11<08:53,  1.09s/it]"
     ]
    },
    {
     "name": "stdout",
     "output_type": "stream",
     "text": [
      "{'task': 'list', 'question': 'Which bacteria are enriched in the gut microbiome of infants following exposure to fury pets?'}\n"
     ]
    },
    {
     "name": "stderr",
     "output_type": "stream",
     "text": [
      "Evaluating:   2%|▏         | 11/500 [00:12<09:40,  1.19s/it]"
     ]
    },
    {
     "name": "stdout",
     "output_type": "stream",
     "text": [
      "{'task': 'list', 'question': 'List the main PPI databases.'}\n"
     ]
    },
    {
     "name": "stderr",
     "output_type": "stream",
     "text": [
      "Evaluating:   2%|▏         | 12/500 [00:13<09:15,  1.14s/it]"
     ]
    },
    {
     "name": "stdout",
     "output_type": "stream",
     "text": [
      "{'task': 'yesno', 'question': 'Is Baloxavir effective for influenza?'}\n"
     ]
    },
    {
     "name": "stderr",
     "output_type": "stream",
     "text": [
      "Evaluating:   3%|▎         | 13/500 [00:15<09:32,  1.18s/it]"
     ]
    },
    {
     "name": "stdout",
     "output_type": "stream",
     "text": [
      "{'task': 'factoid', 'question': 'Which member of the human mycobiota is associated to atherosclerosis?'}\n"
     ]
    },
    {
     "name": "stderr",
     "output_type": "stream",
     "text": [
      "Evaluating:   3%|▎         | 14/500 [00:16<08:58,  1.11s/it]"
     ]
    },
    {
     "name": "stdout",
     "output_type": "stream",
     "text": [
      "{'task': 'list', 'question': 'List intramembrane rhomboid peptidases'}\n"
     ]
    },
    {
     "name": "stderr",
     "output_type": "stream",
     "text": [
      "Evaluating:   3%|▎         | 15/500 [00:17<10:04,  1.25s/it]"
     ]
    },
    {
     "name": "stdout",
     "output_type": "stream",
     "text": [
      "{'task': 'factoid', 'question': 'Where is the protein Bouncer located?'}\n"
     ]
    },
    {
     "name": "stderr",
     "output_type": "stream",
     "text": [
      "Evaluating:   3%|▎         | 16/500 [00:19<10:02,  1.24s/it]"
     ]
    },
    {
     "name": "stdout",
     "output_type": "stream",
     "text": [
      "{'task': 'factoid', 'question': 'How many genes in S. cerevisiae are the result of an ancient whole genome duplication?'}\n"
     ]
    },
    {
     "name": "stderr",
     "output_type": "stream",
     "text": [
      "Evaluating:   3%|▎         | 17/500 [00:20<09:36,  1.19s/it]"
     ]
    },
    {
     "name": "stdout",
     "output_type": "stream",
     "text": [
      "{'task': 'factoid', 'question': \"Which intoxication is associated with Burton's line?\"}\n"
     ]
    },
    {
     "name": "stderr",
     "output_type": "stream",
     "text": [
      "Evaluating:   4%|▎         | 18/500 [00:20<08:21,  1.04s/it]"
     ]
    },
    {
     "name": "stdout",
     "output_type": "stream",
     "text": [
      "{'task': 'factoid', 'question': 'Which tool has been developed for coverage calculation for genomes?'}\n"
     ]
    },
    {
     "name": "stderr",
     "output_type": "stream",
     "text": [
      "Evaluating:   4%|▍         | 19/500 [00:21<07:42,  1.04it/s]"
     ]
    },
    {
     "name": "stdout",
     "output_type": "stream",
     "text": [
      "{'task': 'factoid', 'question': 'Which type of sarcoma has been associated with members of the oral microbiome?'}\n"
     ]
    },
    {
     "name": "stderr",
     "output_type": "stream",
     "text": [
      "Evaluating:   4%|▍         | 20/500 [00:22<08:04,  1.01s/it]"
     ]
    },
    {
     "name": "stdout",
     "output_type": "stream",
     "text": [
      "{'task': 'factoid', 'question': 'Which complex is bound by estrogen-related receptor β (Esrrb)?'}\n"
     ]
    },
    {
     "name": "stderr",
     "output_type": "stream",
     "text": [
      "Evaluating:   4%|▍         | 21/500 [00:23<08:15,  1.04s/it]"
     ]
    },
    {
     "name": "stdout",
     "output_type": "stream",
     "text": [
      "{'task': 'factoid', 'question': 'Which approach was used to diagnose a patient with Cutis Verticis Gyrata-Intellectual Disability (CVG-ID) syndrome?'}\n"
     ]
    },
    {
     "name": "stderr",
     "output_type": "stream",
     "text": [
      "Evaluating:   4%|▍         | 22/500 [00:24<08:38,  1.08s/it]"
     ]
    },
    {
     "name": "stdout",
     "output_type": "stream",
     "text": [
      "{'task': 'factoid', 'question': 'Cemiplimab is used for treatment of which cancer?'}\n"
     ]
    },
    {
     "name": "stderr",
     "output_type": "stream",
     "text": [
      "Evaluating:   5%|▍         | 23/500 [00:25<08:09,  1.03s/it]"
     ]
    },
    {
     "name": "stdout",
     "output_type": "stream",
     "text": [
      "{'task': 'factoid', 'question': 'Which cancer has the kynureninase pathway been associated to?'}\n"
     ]
    },
    {
     "name": "stderr",
     "output_type": "stream",
     "text": [
      "Evaluating:   5%|▍         | 24/500 [00:26<07:55,  1.00it/s]"
     ]
    },
    {
     "name": "stdout",
     "output_type": "stream",
     "text": [
      "{'task': 'list', 'question': 'Which organs are mostly affected in Systemic Lupus Erythematosus (SLE)?'}\n"
     ]
    },
    {
     "name": "stderr",
     "output_type": "stream",
     "text": [
      "Evaluating:   5%|▌         | 25/500 [00:28<08:55,  1.13s/it]"
     ]
    },
    {
     "name": "stdout",
     "output_type": "stream",
     "text": [
      "{'task': 'factoid', 'question': 'What is a GPI anchor?'}\n"
     ]
    },
    {
     "name": "stderr",
     "output_type": "stream",
     "text": [
      "Evaluating:   5%|▌         | 26/500 [00:29<08:27,  1.07s/it]"
     ]
    },
    {
     "name": "stdout",
     "output_type": "stream",
     "text": [
      "{'task': 'factoid', 'question': 'In which way does DNA hydroxymethylation affect patients with Systemic Lupus Erythematosus?'}\n"
     ]
    },
    {
     "name": "stderr",
     "output_type": "stream",
     "text": [
      "Evaluating:   5%|▌         | 27/500 [00:30<09:34,  1.21s/it]"
     ]
    },
    {
     "name": "stdout",
     "output_type": "stream",
     "text": [
      "{'task': 'factoid', 'question': 'What is the function of PAPOLA/PAP?'}\n"
     ]
    },
    {
     "name": "stderr",
     "output_type": "stream",
     "text": [
      "Evaluating:   6%|▌         | 28/500 [00:32<10:33,  1.34s/it]"
     ]
    },
    {
     "name": "stdout",
     "output_type": "stream",
     "text": [
      "{'task': 'list', 'question': 'List 3 diseases for which saRNAs have been evaluated as a potential treatment.'}\n"
     ]
    },
    {
     "name": "stderr",
     "output_type": "stream",
     "text": [
      "Evaluating:   6%|▌         | 29/500 [00:33<10:43,  1.37s/it]"
     ]
    },
    {
     "name": "stdout",
     "output_type": "stream",
     "text": [
      "{'task': 'factoid', 'question': 'What is the mechanism of action of Brigatinib?'}\n"
     ]
    },
    {
     "name": "stderr",
     "output_type": "stream",
     "text": [
      "Evaluating:   6%|▌         | 30/500 [00:34<10:05,  1.29s/it]"
     ]
    },
    {
     "name": "stdout",
     "output_type": "stream",
     "text": [
      "{'task': 'factoid', 'question': 'Which database associates human noncoding SNPs with their three-dimensional interacting genes?'}\n"
     ]
    },
    {
     "name": "stderr",
     "output_type": "stream",
     "text": [
      "Evaluating:   6%|▌         | 31/500 [00:35<09:22,  1.20s/it]"
     ]
    },
    {
     "name": "stdout",
     "output_type": "stream",
     "text": [
      "{'task': 'factoid', 'question': 'In which phase of clinical trials was sutezolid in 2018?'}\n"
     ]
    },
    {
     "name": "stderr",
     "output_type": "stream",
     "text": [
      "Evaluating:   6%|▋         | 32/500 [00:36<08:44,  1.12s/it]"
     ]
    },
    {
     "name": "stdout",
     "output_type": "stream",
     "text": [
      "{'task': 'factoid', 'question': 'What is gingipain?'}\n"
     ]
    },
    {
     "name": "stderr",
     "output_type": "stream",
     "text": [
      "Evaluating:   7%|▋         | 33/500 [00:37<08:19,  1.07s/it]"
     ]
    },
    {
     "name": "stdout",
     "output_type": "stream",
     "text": [
      "{'task': 'factoid', 'question': 'For which disease is sutezolid developed?'}\n"
     ]
    },
    {
     "name": "stderr",
     "output_type": "stream",
     "text": [
      "Evaluating:   7%|▋         | 34/500 [00:38<07:25,  1.05it/s]"
     ]
    },
    {
     "name": "stdout",
     "output_type": "stream",
     "text": [
      "{'task': 'factoid', 'question': 'What does gepotidacin do to bacteria?'}\n"
     ]
    },
    {
     "name": "stderr",
     "output_type": "stream",
     "text": [
      "Evaluating:   7%|▋         | 35/500 [00:39<07:45,  1.00s/it]"
     ]
    },
    {
     "name": "stdout",
     "output_type": "stream",
     "text": [
      "{'task': 'factoid', 'question': 'What is the role of fucokinase?'}\n"
     ]
    },
    {
     "name": "stderr",
     "output_type": "stream",
     "text": [
      "Evaluating:   7%|▋         | 36/500 [00:40<08:09,  1.06s/it]"
     ]
    },
    {
     "name": "stdout",
     "output_type": "stream",
     "text": [
      "{'task': 'yesno', 'question': 'Are there microbes in human breast milk?'}\n"
     ]
    },
    {
     "name": "stderr",
     "output_type": "stream",
     "text": [
      "Evaluating:   7%|▋         | 37/500 [00:41<07:42,  1.00it/s]"
     ]
    },
    {
     "name": "stdout",
     "output_type": "stream",
     "text": [
      "{'task': 'yesno', 'question': 'Is cariprazine effective for treatment of bipolar disorder?'}\n"
     ]
    },
    {
     "name": "stderr",
     "output_type": "stream",
     "text": [
      "Evaluating:   8%|▊         | 38/500 [00:42<07:58,  1.04s/it]"
     ]
    },
    {
     "name": "stdout",
     "output_type": "stream",
     "text": [
      "{'task': 'yesno', 'question': 'Is Bobble head doll syndrome associated with hydrocephalus?'}\n"
     ]
    },
    {
     "name": "stderr",
     "output_type": "stream",
     "text": [
      "Evaluating:   8%|▊         | 39/500 [00:43<07:27,  1.03it/s]"
     ]
    },
    {
     "name": "stdout",
     "output_type": "stream",
     "text": [
      "{'task': 'yesno', 'question': 'Can breastfeeding confer protection from type I diabetes?'}\n"
     ]
    },
    {
     "name": "stderr",
     "output_type": "stream",
     "text": [
      "Evaluating:   8%|▊         | 40/500 [00:44<07:58,  1.04s/it]"
     ]
    },
    {
     "name": "stdout",
     "output_type": "stream",
     "text": [
      "{'task': 'yesno', 'question': 'Can pets affect infant microbiomed?'}\n"
     ]
    },
    {
     "name": "stderr",
     "output_type": "stream",
     "text": [
      "Evaluating:   8%|▊         | 41/500 [00:46<08:35,  1.12s/it]"
     ]
    },
    {
     "name": "stdout",
     "output_type": "stream",
     "text": [
      "{'task': 'yesno', 'question': 'Is there any association between the human gut microbiome and depression?'}\n"
     ]
    },
    {
     "name": "stderr",
     "output_type": "stream",
     "text": [
      "Evaluating:   8%|▊         | 42/500 [00:47<08:42,  1.14s/it]"
     ]
    },
    {
     "name": "stdout",
     "output_type": "stream",
     "text": [
      "{'task': 'yesno', 'question': 'Are whole-genome duplications more divergent than small-scale duplications in yeast?'}\n"
     ]
    },
    {
     "name": "stderr",
     "output_type": "stream",
     "text": [
      "Evaluating:   9%|▊         | 43/500 [00:48<08:44,  1.15s/it]"
     ]
    },
    {
     "name": "stdout",
     "output_type": "stream",
     "text": [
      "{'task': 'yesno', 'question': 'Do yeast LTR give rise to circular DNA?'}\n"
     ]
    },
    {
     "name": "stderr",
     "output_type": "stream",
     "text": [
      "Evaluating:   9%|▉         | 44/500 [00:49<08:17,  1.09s/it]"
     ]
    },
    {
     "name": "stdout",
     "output_type": "stream",
     "text": [
      "{'task': 'yesno', 'question': 'Is cohesin linked to myeloid differentiation?'}\n"
     ]
    },
    {
     "name": "stderr",
     "output_type": "stream",
     "text": [
      "Evaluating:   9%|▉         | 45/500 [00:50<09:24,  1.24s/it]"
     ]
    },
    {
     "name": "stdout",
     "output_type": "stream",
     "text": [
      "{'task': 'yesno', 'question': \"Is pembrolizumab effective against Ewing's sarcoma?\"}\n"
     ]
    },
    {
     "name": "stderr",
     "output_type": "stream",
     "text": [
      "Evaluating:   9%|▉         | 46/500 [00:52<09:14,  1.22s/it]"
     ]
    },
    {
     "name": "stdout",
     "output_type": "stream",
     "text": [
      "{'task': 'yesno', 'question': 'Can gene therapy restore auditory function?'}\n"
     ]
    },
    {
     "name": "stderr",
     "output_type": "stream",
     "text": [
      "Evaluating:   9%|▉         | 47/500 [00:53<09:21,  1.24s/it]"
     ]
    },
    {
     "name": "stdout",
     "output_type": "stream",
     "text": [
      "{'task': 'yesno', 'question': 'Is the PINES framework being used for the prediction of coding variants?'}\n"
     ]
    },
    {
     "name": "stderr",
     "output_type": "stream",
     "text": [
      "Evaluating:  10%|▉         | 48/500 [00:54<09:12,  1.22s/it]"
     ]
    },
    {
     "name": "stdout",
     "output_type": "stream",
     "text": [
      "{'task': 'yesno', 'question': 'Is erythropoietin effective for treatment of amyotrophic lateral sclerosis?'}\n"
     ]
    },
    {
     "name": "stderr",
     "output_type": "stream",
     "text": [
      "Evaluating:  10%|▉         | 49/500 [00:55<08:51,  1.18s/it]"
     ]
    },
    {
     "name": "stdout",
     "output_type": "stream",
     "text": [
      "{'task': 'yesno', 'question': 'Is celecoxib effective for treatment of amyotrophic lateral sclerosis?'}\n"
     ]
    },
    {
     "name": "stderr",
     "output_type": "stream",
     "text": [
      "Evaluating:  10%|█         | 50/500 [00:56<08:30,  1.13s/it]"
     ]
    },
    {
     "name": "stdout",
     "output_type": "stream",
     "text": [
      "{'task': 'summary', 'question': 'What is hemolacria?'}\n"
     ]
    },
    {
     "name": "stderr",
     "output_type": "stream",
     "text": [
      "Evaluating:  10%|█         | 51/500 [00:57<08:31,  1.14s/it]"
     ]
    },
    {
     "name": "stdout",
     "output_type": "stream",
     "text": [
      "{'task': 'yesno', 'question': 'Are ultraconserved enhancers important for normal development?'}\n"
     ]
    },
    {
     "name": "stderr",
     "output_type": "stream",
     "text": [
      "Evaluating:  10%|█         | 52/500 [00:59<09:07,  1.22s/it]"
     ]
    },
    {
     "name": "stdout",
     "output_type": "stream",
     "text": [
      "{'task': 'yesno', 'question': 'Is chlorotoxin a peptide?'}\n"
     ]
    },
    {
     "name": "stderr",
     "output_type": "stream",
     "text": [
      "Evaluating:  11%|█         | 53/500 [01:00<08:20,  1.12s/it]"
     ]
    },
    {
     "name": "stdout",
     "output_type": "stream",
     "text": [
      "{'task': 'yesno', 'question': 'Does vesatolimod inhibit TLR7?'}\n"
     ]
    },
    {
     "name": "stderr",
     "output_type": "stream",
     "text": [
      "Evaluating:  11%|█         | 54/500 [01:00<07:24,  1.00it/s]"
     ]
    },
    {
     "name": "stdout",
     "output_type": "stream",
     "text": [
      "{'task': 'yesno', 'question': 'Is selenocysteine an aminoacid?'}\n"
     ]
    },
    {
     "name": "stderr",
     "output_type": "stream",
     "text": [
      "Evaluating:  11%|█         | 55/500 [01:02<09:29,  1.28s/it]"
     ]
    },
    {
     "name": "stdout",
     "output_type": "stream",
     "text": [
      "{'task': 'yesno', 'question': 'Is Tecovirimat effective for smallpox?'}\n"
     ]
    },
    {
     "name": "stderr",
     "output_type": "stream",
     "text": [
      "Evaluating:  11%|█         | 56/500 [01:03<09:17,  1.25s/it]"
     ]
    },
    {
     "name": "stdout",
     "output_type": "stream",
     "text": [
      "{'task': 'yesno', 'question': 'Can simvastatin alleviate depressive symptoms?'}\n"
     ]
    },
    {
     "name": "stderr",
     "output_type": "stream",
     "text": [
      "Evaluating:  11%|█▏        | 57/500 [01:05<09:02,  1.22s/it]"
     ]
    },
    {
     "name": "stdout",
     "output_type": "stream",
     "text": [
      "{'task': 'yesno', 'question': 'Is P. gingivalis bacteria found in brain?'}\n"
     ]
    },
    {
     "name": "stderr",
     "output_type": "stream",
     "text": [
      "Evaluating:  12%|█▏        | 58/500 [01:06<08:39,  1.18s/it]"
     ]
    },
    {
     "name": "stdout",
     "output_type": "stream",
     "text": [
      "{'task': 'yesno', 'question': 'Is ibudilast effective for multiple sclerosis?'}\n"
     ]
    },
    {
     "name": "stderr",
     "output_type": "stream",
     "text": [
      "Evaluating:  12%|█▏        | 59/500 [01:07<08:37,  1.17s/it]"
     ]
    },
    {
     "name": "stdout",
     "output_type": "stream",
     "text": [
      "{'task': 'yesno', 'question': 'Does gepotidacin activate bacterial topoisomerase?'}\n"
     ]
    },
    {
     "name": "stderr",
     "output_type": "stream",
     "text": [
      "Evaluating:  12%|█▏        | 60/500 [01:08<08:04,  1.10s/it]"
     ]
    },
    {
     "name": "stdout",
     "output_type": "stream",
     "text": [
      "{'task': 'summary', 'question': 'What is the 3D genome browser?'}\n"
     ]
    },
    {
     "name": "stderr",
     "output_type": "stream",
     "text": [
      "Evaluating:  12%|█▏        | 61/500 [01:09<08:26,  1.15s/it]"
     ]
    },
    {
     "name": "stdout",
     "output_type": "stream",
     "text": [
      "{'task': 'summary', 'question': 'Are gut proteobacteria associated with inflammatory disease?'}\n"
     ]
    },
    {
     "name": "stderr",
     "output_type": "stream",
     "text": [
      "Evaluating:  12%|█▏        | 62/500 [01:10<08:51,  1.21s/it]"
     ]
    },
    {
     "name": "stdout",
     "output_type": "stream",
     "text": [
      "{'task': 'factoid', 'question': 'What brain procedure can be done using the NeuroBlate system?'}\n"
     ]
    },
    {
     "name": "stderr",
     "output_type": "stream",
     "text": [
      "Evaluating:  13%|█▎        | 63/500 [01:12<08:40,  1.19s/it]"
     ]
    },
    {
     "name": "stdout",
     "output_type": "stream",
     "text": [
      "{'task': 'summary', 'question': 'Describe genomiser'}\n"
     ]
    },
    {
     "name": "stderr",
     "output_type": "stream",
     "text": [
      "Evaluating:  13%|█▎        | 64/500 [01:13<09:55,  1.36s/it]"
     ]
    },
    {
     "name": "stdout",
     "output_type": "stream",
     "text": [
      "{'task': 'factoid', 'question': 'Which ultraconserved element is associated with Embryonic Stem Cells (ESC) self-renewal?'}\n"
     ]
    },
    {
     "name": "stderr",
     "output_type": "stream",
     "text": [
      "Evaluating:  13%|█▎        | 65/500 [01:14<08:44,  1.21s/it]"
     ]
    },
    {
     "name": "stdout",
     "output_type": "stream",
     "text": [
      "{'task': 'summary', 'question': 'What is TPMCalculator?'}\n"
     ]
    },
    {
     "name": "stderr",
     "output_type": "stream",
     "text": [
      "Evaluating:  13%|█▎        | 66/500 [01:15<08:31,  1.18s/it]"
     ]
    },
    {
     "name": "stdout",
     "output_type": "stream",
     "text": [
      "{'task': 'summary', 'question': 'Describe clinical presentation of Escobar syndrome.'}\n"
     ]
    },
    {
     "name": "stderr",
     "output_type": "stream",
     "text": [
      "Evaluating:  13%|█▎        | 67/500 [01:17<09:31,  1.32s/it]"
     ]
    },
    {
     "name": "stdout",
     "output_type": "stream",
     "text": [
      "{'task': 'summary', 'question': 'What is small-activating RNA?'}\n"
     ]
    },
    {
     "name": "stderr",
     "output_type": "stream",
     "text": [
      "Evaluating:  14%|█▎        | 68/500 [01:18<09:36,  1.34s/it]"
     ]
    },
    {
     "name": "stdout",
     "output_type": "stream",
     "text": [
      "{'task': 'summary', 'question': 'What is the mechanism of action of Ivosidenib?'}\n"
     ]
    },
    {
     "name": "stderr",
     "output_type": "stream",
     "text": [
      "Evaluating:  14%|█▍        | 69/500 [01:20<10:06,  1.41s/it]"
     ]
    },
    {
     "name": "stdout",
     "output_type": "stream",
     "text": [
      "{'task': 'summary', 'question': 'Which is the basis of the ATAC-Seq protocol?'}\n"
     ]
    },
    {
     "name": "stderr",
     "output_type": "stream",
     "text": [
      "Evaluating:  14%|█▍        | 70/500 [01:22<10:50,  1.51s/it]"
     ]
    },
    {
     "name": "stdout",
     "output_type": "stream",
     "text": [
      "{'task': 'summary', 'question': 'What is vcfanno?'}\n"
     ]
    },
    {
     "name": "stderr",
     "output_type": "stream",
     "text": [
      "Evaluating:  14%|█▍        | 71/500 [01:23<10:23,  1.45s/it]"
     ]
    },
    {
     "name": "stdout",
     "output_type": "stream",
     "text": [
      "{'task': 'summary', 'question': 'What is the association of Disease-Associated STRs (daSTRs) with domain boundaries?'}\n"
     ]
    },
    {
     "name": "stderr",
     "output_type": "stream",
     "text": [
      "Evaluating:  14%|█▍        | 72/500 [01:25<10:35,  1.49s/it]"
     ]
    },
    {
     "name": "stdout",
     "output_type": "stream",
     "text": [
      "{'task': 'summary', 'question': 'What is the link between ultraconserved elements and three-dimensional mammalian genome organization?'}\n"
     ]
    },
    {
     "name": "stderr",
     "output_type": "stream",
     "text": [
      "Evaluating:  15%|█▍        | 73/500 [01:26<10:29,  1.48s/it]"
     ]
    },
    {
     "name": "stdout",
     "output_type": "stream",
     "text": [
      "{'task': 'summary', 'question': 'What are the \"Ohnologs\"?'}\n"
     ]
    },
    {
     "name": "stderr",
     "output_type": "stream",
     "text": [
      "Evaluating:  15%|█▍        | 74/500 [01:28<10:42,  1.51s/it]"
     ]
    },
    {
     "name": "stdout",
     "output_type": "stream",
     "text": [
      "{'task': 'summary', 'question': 'What is TissueEnrich?'}\n"
     ]
    },
    {
     "name": "stderr",
     "output_type": "stream",
     "text": [
      "Evaluating:  15%|█▌        | 75/500 [01:29<10:02,  1.42s/it]"
     ]
    },
    {
     "name": "stdout",
     "output_type": "stream",
     "text": [
      "{'task': 'summary', 'question': 'Describe OligoSTORM'}\n"
     ]
    },
    {
     "name": "stderr",
     "output_type": "stream",
     "text": [
      "Evaluating:  15%|█▌        | 76/500 [01:32<13:56,  1.97s/it]"
     ]
    },
    {
     "name": "stdout",
     "output_type": "stream",
     "text": [
      "{'task': 'list', 'question': 'Which metabolic pathways have been associated with Systemic Lupus Erythematosus?'}\n"
     ]
    },
    {
     "name": "stderr",
     "output_type": "stream",
     "text": [
      "Evaluating:  15%|█▌        | 77/500 [01:34<13:18,  1.89s/it]"
     ]
    },
    {
     "name": "stdout",
     "output_type": "stream",
     "text": [
      "{'task': 'list', 'question': 'What are the 3 main bacteria found in human milk?'}\n"
     ]
    },
    {
     "name": "stderr",
     "output_type": "stream",
     "text": [
      "Evaluating:  16%|█▌        | 78/500 [01:35<11:11,  1.59s/it]"
     ]
    },
    {
     "name": "stdout",
     "output_type": "stream",
     "text": [
      "{'task': 'factoid', 'question': 'Which algorithm has been developed for trio-based benchmarking of variant calls?'}\n"
     ]
    },
    {
     "name": "stderr",
     "output_type": "stream",
     "text": [
      "Evaluating:  16%|█▌        | 79/500 [01:36<10:05,  1.44s/it]"
     ]
    },
    {
     "name": "stdout",
     "output_type": "stream",
     "text": [
      "{'task': 'factoid', 'question': 'Which molecule is targeted by Caplacizumab?'}\n"
     ]
    },
    {
     "name": "stderr",
     "output_type": "stream",
     "text": [
      "Evaluating:  16%|█▌        | 80/500 [01:37<08:54,  1.27s/it]"
     ]
    },
    {
     "name": "stdout",
     "output_type": "stream",
     "text": [
      "{'task': 'list', 'question': 'In which tissues is the lincRNA Xist expressed?'}\n"
     ]
    },
    {
     "name": "stderr",
     "output_type": "stream",
     "text": [
      "Evaluating:  16%|█▌        | 81/500 [01:38<09:45,  1.40s/it]"
     ]
    },
    {
     "name": "stdout",
     "output_type": "stream",
     "text": [
      "{'task': 'factoid', 'question': 'Which is the main component of the Lewy body?'}\n"
     ]
    },
    {
     "name": "stderr",
     "output_type": "stream",
     "text": [
      "Evaluating:  16%|█▋        | 82/500 [01:39<09:04,  1.30s/it]"
     ]
    },
    {
     "name": "stdout",
     "output_type": "stream",
     "text": [
      "{'task': 'list', 'question': 'What forms part of the senescence associated secretory phenotype, or SASP?'}\n"
     ]
    },
    {
     "name": "stderr",
     "output_type": "stream",
     "text": [
      "Evaluating:  17%|█▋        | 83/500 [01:41<10:40,  1.54s/it]"
     ]
    },
    {
     "name": "stdout",
     "output_type": "stream",
     "text": [
      "{'task': 'factoid', 'question': 'How many pseudogenes are contained in the C. elegans genome?'}\n"
     ]
    },
    {
     "name": "stderr",
     "output_type": "stream",
     "text": [
      "Evaluating:  17%|█▋        | 84/500 [01:42<09:08,  1.32s/it]"
     ]
    },
    {
     "name": "stdout",
     "output_type": "stream",
     "text": [
      "{'task': 'factoid', 'question': 'What is a Aquaporin channel?'}\n"
     ]
    },
    {
     "name": "stderr",
     "output_type": "stream",
     "text": [
      "Evaluating:  17%|█▋        | 85/500 [01:43<08:39,  1.25s/it]"
     ]
    },
    {
     "name": "stdout",
     "output_type": "stream",
     "text": [
      "{'task': 'factoid', 'question': 'What is cluster of differentiation?'}\n"
     ]
    },
    {
     "name": "stderr",
     "output_type": "stream",
     "text": [
      "Evaluating:  17%|█▋        | 86/500 [01:45<09:00,  1.31s/it]"
     ]
    },
    {
     "name": "stdout",
     "output_type": "stream",
     "text": [
      "{'task': 'list', 'question': 'List two medication included in the Juluca pill.'}\n"
     ]
    },
    {
     "name": "stderr",
     "output_type": "stream",
     "text": [
      "Evaluating:  17%|█▋        | 87/500 [01:46<08:21,  1.21s/it]"
     ]
    },
    {
     "name": "stdout",
     "output_type": "stream",
     "text": [
      "{'task': 'factoid', 'question': 'Which tool has been developed for tagging biomedical concepts via interactive learning?'}\n"
     ]
    },
    {
     "name": "stderr",
     "output_type": "stream",
     "text": [
      "Evaluating:  18%|█▊        | 88/500 [01:47<07:54,  1.15s/it]"
     ]
    },
    {
     "name": "stdout",
     "output_type": "stream",
     "text": [
      "{'task': 'factoid', 'question': 'Which cells produce Interleukin 17A?'}\n"
     ]
    },
    {
     "name": "stderr",
     "output_type": "stream",
     "text": [
      "Evaluating:  18%|█▊        | 89/500 [01:48<07:41,  1.12s/it]"
     ]
    },
    {
     "name": "stdout",
     "output_type": "stream",
     "text": [
      "{'task': 'yesno', 'question': 'Is durvalumab used for lung cancer treatment?'}\n"
     ]
    },
    {
     "name": "stderr",
     "output_type": "stream",
     "text": [
      "Evaluating:  18%|█▊        | 90/500 [01:49<07:29,  1.10s/it]"
     ]
    },
    {
     "name": "stdout",
     "output_type": "stream",
     "text": [
      "{'task': 'yesno', 'question': 'Is  LRP1 interacting with Urokinase receptor?'}\n"
     ]
    },
    {
     "name": "stderr",
     "output_type": "stream",
     "text": [
      "Evaluating:  18%|█▊        | 91/500 [01:50<07:08,  1.05s/it]"
     ]
    },
    {
     "name": "stdout",
     "output_type": "stream",
     "text": [
      "{'task': 'yesno', 'question': 'Is obesity related to cognitive decline?'}\n"
     ]
    },
    {
     "name": "stderr",
     "output_type": "stream",
     "text": [
      "Evaluating:  18%|█▊        | 92/500 [01:51<07:40,  1.13s/it]"
     ]
    },
    {
     "name": "stdout",
     "output_type": "stream",
     "text": [
      "{'task': 'summary', 'question': 'Describe the mechanism of action of ibalizumab.'}\n"
     ]
    },
    {
     "name": "stderr",
     "output_type": "stream",
     "text": [
      "Evaluating:  19%|█▊        | 93/500 [01:53<08:59,  1.32s/it]"
     ]
    },
    {
     "name": "stdout",
     "output_type": "stream",
     "text": [
      "{'task': 'summary', 'question': 'Describe information obtained by immunophenotyping.'}\n"
     ]
    },
    {
     "name": "stderr",
     "output_type": "stream",
     "text": [
      "Evaluating:  19%|█▉        | 94/500 [01:54<09:13,  1.36s/it]"
     ]
    },
    {
     "name": "stdout",
     "output_type": "stream",
     "text": [
      "{'task': 'summary', 'question': 'What is the mechanism of action of Emicizumab?'}\n"
     ]
    },
    {
     "name": "stderr",
     "output_type": "stream",
     "text": [
      "Evaluating:  19%|█▉        | 95/500 [01:56<09:22,  1.39s/it]"
     ]
    },
    {
     "name": "stdout",
     "output_type": "stream",
     "text": [
      "{'task': 'yesno', 'question': 'Is cabozantinib effective for hepatocellular carcinoma?'}\n"
     ]
    },
    {
     "name": "stderr",
     "output_type": "stream",
     "text": [
      "Evaluating:  19%|█▉        | 96/500 [01:57<08:41,  1.29s/it]"
     ]
    },
    {
     "name": "stdout",
     "output_type": "stream",
     "text": [
      "{'task': 'factoid', 'question': 'What is the genetic cause of Roberts syndrome?'}\n"
     ]
    },
    {
     "name": "stderr",
     "output_type": "stream",
     "text": [
      "Evaluating:  19%|█▉        | 97/500 [01:58<08:16,  1.23s/it]"
     ]
    },
    {
     "name": "stdout",
     "output_type": "stream",
     "text": [
      "{'task': 'summary', 'question': 'What is DiseaseEnhancer?'}\n"
     ]
    },
    {
     "name": "stderr",
     "output_type": "stream",
     "text": [
      "Evaluating:  20%|█▉        | 98/500 [01:59<08:33,  1.28s/it]"
     ]
    },
    {
     "name": "stdout",
     "output_type": "stream",
     "text": [
      "{'task': 'yesno', 'question': 'Is Tisagenlecleucel effective for B-Cell Lymphoma?'}\n"
     ]
    },
    {
     "name": "stderr",
     "output_type": "stream",
     "text": [
      "Evaluating:  20%|█▉        | 99/500 [02:01<09:17,  1.39s/it]"
     ]
    },
    {
     "name": "stdout",
     "output_type": "stream",
     "text": [
      "{'task': 'summary', 'question': 'What is the function of GFRAL?'}\n"
     ]
    },
    {
     "name": "stderr",
     "output_type": "stream",
     "text": [
      "Evaluating:  20%|██        | 100/500 [02:03<09:57,  1.49s/it]"
     ]
    },
    {
     "name": "stdout",
     "output_type": "stream",
     "text": [
      "{'task': 'summary', 'question': 'What is the role of ZCCHC17?'}\n"
     ]
    },
    {
     "name": "stderr",
     "output_type": "stream",
     "text": [
      "Evaluating:  20%|██        | 101/500 [02:04<09:52,  1.49s/it]"
     ]
    },
    {
     "name": "stdout",
     "output_type": "stream",
     "text": [
      "{'task': 'yesno', 'question': 'Is ADP-ribosylation a PTM?'}\n"
     ]
    },
    {
     "name": "stderr",
     "output_type": "stream",
     "text": [
      "Evaluating:  20%|██        | 102/500 [02:05<08:38,  1.30s/it]"
     ]
    },
    {
     "name": "stdout",
     "output_type": "stream",
     "text": [
      "{'task': 'yesno', 'question': 'Does epidural anesthesia for pain management during labor affect the Apgar score of the the infant?'}\n"
     ]
    },
    {
     "name": "stderr",
     "output_type": "stream",
     "text": [
      "Evaluating:  21%|██        | 103/500 [02:06<08:28,  1.28s/it]"
     ]
    },
    {
     "name": "stdout",
     "output_type": "stream",
     "text": [
      "{'task': 'summary', 'question': 'What is latex bead phagocytosis?'}\n"
     ]
    },
    {
     "name": "stderr",
     "output_type": "stream",
     "text": [
      "Evaluating:  21%|██        | 104/500 [02:08<08:38,  1.31s/it]"
     ]
    },
    {
     "name": "stdout",
     "output_type": "stream",
     "text": [
      "{'task': 'yesno', 'question': 'Is phospholipid hydroperoxide glutathione peroxidase a selenoprotein?'}\n"
     ]
    },
    {
     "name": "stderr",
     "output_type": "stream",
     "text": [
      "Evaluating:  21%|██        | 105/500 [02:09<08:57,  1.36s/it]"
     ]
    },
    {
     "name": "stdout",
     "output_type": "stream",
     "text": [
      "{'task': 'summary', 'question': 'Describe CGmapTools'}\n"
     ]
    },
    {
     "name": "stderr",
     "output_type": "stream",
     "text": [
      "Evaluating:  21%|██        | 106/500 [02:11<09:06,  1.39s/it]"
     ]
    },
    {
     "name": "stdout",
     "output_type": "stream",
     "text": [
      "{'task': 'yesno', 'question': 'Is inositol effective for trichotillomania?'}\n"
     ]
    },
    {
     "name": "stderr",
     "output_type": "stream",
     "text": [
      "Evaluating:  21%|██▏       | 107/500 [02:12<08:41,  1.33s/it]"
     ]
    },
    {
     "name": "stdout",
     "output_type": "stream",
     "text": [
      "{'task': 'summary', 'question': 'How is the Regulatory Trait Concordance (RTC) calculated?'}\n"
     ]
    },
    {
     "name": "stderr",
     "output_type": "stream",
     "text": [
      "Evaluating:  22%|██▏       | 108/500 [02:14<09:56,  1.52s/it]"
     ]
    },
    {
     "name": "stdout",
     "output_type": "stream",
     "text": [
      "{'task': 'summary', 'question': 'What is filipin staining used for?'}\n"
     ]
    },
    {
     "name": "stderr",
     "output_type": "stream",
     "text": [
      "Evaluating:  22%|██▏       | 109/500 [02:15<09:22,  1.44s/it]"
     ]
    },
    {
     "name": "stdout",
     "output_type": "stream",
     "text": [
      "{'task': 'yesno', 'question': 'Is TIAM1 favoring tumor progression in colorectal cancer (CRC)?'}\n"
     ]
    },
    {
     "name": "stderr",
     "output_type": "stream",
     "text": [
      "Evaluating:  22%|██▏       | 110/500 [02:16<08:44,  1.35s/it]"
     ]
    },
    {
     "name": "stdout",
     "output_type": "stream",
     "text": [
      "{'task': 'factoid', 'question': 'Which database has been developed that contains experimentally-confirmed carbonylated proteins?'}\n"
     ]
    },
    {
     "name": "stderr",
     "output_type": "stream",
     "text": [
      "Evaluating:  22%|██▏       | 111/500 [02:17<07:52,  1.21s/it]"
     ]
    },
    {
     "name": "stdout",
     "output_type": "stream",
     "text": [
      "{'task': 'summary', 'question': 'What is the function of the Nup153 protein?'}\n"
     ]
    },
    {
     "name": "stderr",
     "output_type": "stream",
     "text": [
      "Evaluating:  22%|██▏       | 112/500 [02:19<08:33,  1.32s/it]"
     ]
    },
    {
     "name": "stdout",
     "output_type": "stream",
     "text": [
      "{'task': 'yesno', 'question': 'Is pacritinib effective for treatment of myelofibrosis?'}\n"
     ]
    },
    {
     "name": "stderr",
     "output_type": "stream",
     "text": [
      "Evaluating:  23%|██▎       | 113/500 [02:20<09:17,  1.44s/it]"
     ]
    },
    {
     "name": "stdout",
     "output_type": "stream",
     "text": [
      "{'task': 'summary', 'question': 'How can PEGylation improve recombinant drugs?'}\n"
     ]
    },
    {
     "name": "stderr",
     "output_type": "stream",
     "text": [
      "Evaluating:  23%|██▎       | 114/500 [02:22<09:01,  1.40s/it]"
     ]
    },
    {
     "name": "stdout",
     "output_type": "stream",
     "text": [
      "{'task': 'yesno', 'question': 'Can exposure to heavy metals like lead(Pb) or cadmium(Cd) cause changes in DNA methylation patterns in Isoetes sinensis?'}\n"
     ]
    },
    {
     "name": "stderr",
     "output_type": "stream",
     "text": [
      "Evaluating:  23%|██▎       | 115/500 [02:23<08:27,  1.32s/it]"
     ]
    },
    {
     "name": "stdout",
     "output_type": "stream",
     "text": [
      "{'task': 'summary', 'question': 'Describe GeneCodeq'}\n"
     ]
    },
    {
     "name": "stderr",
     "output_type": "stream",
     "text": [
      "Evaluating:  23%|██▎       | 116/500 [02:24<08:11,  1.28s/it]"
     ]
    },
    {
     "name": "stdout",
     "output_type": "stream",
     "text": [
      "{'task': 'yesno', 'question': 'Has Glyceraldehyde 3-phosphate dehydrogenase (GAPDH) been reported to be a plasminogen receptor in pathogenic bacteria?'}\n"
     ]
    },
    {
     "name": "stderr",
     "output_type": "stream",
     "text": [
      "Evaluating:  23%|██▎       | 117/500 [02:25<08:20,  1.31s/it]"
     ]
    },
    {
     "name": "stdout",
     "output_type": "stream",
     "text": [
      "{'task': 'list', 'question': 'Which de novo truncating mutations in WASF1 cause intellectual disability?'}\n"
     ]
    },
    {
     "name": "stderr",
     "output_type": "stream",
     "text": [
      "Evaluating:  24%|██▎       | 118/500 [02:27<09:07,  1.43s/it]"
     ]
    },
    {
     "name": "stdout",
     "output_type": "stream",
     "text": [
      "{'task': 'yesno', 'question': 'Can CPX-351 be used for the treatment of tuberculosis?'}\n"
     ]
    },
    {
     "name": "stderr",
     "output_type": "stream",
     "text": [
      "Evaluating:  24%|██▍       | 119/500 [02:28<08:46,  1.38s/it]"
     ]
    },
    {
     "name": "stdout",
     "output_type": "stream",
     "text": [
      "{'task': 'list', 'question': 'Which proteins form the nuclear pore basket in human cells?'}\n"
     ]
    },
    {
     "name": "stderr",
     "output_type": "stream",
     "text": [
      "Evaluating:  24%|██▍       | 120/500 [02:30<08:58,  1.42s/it]"
     ]
    },
    {
     "name": "stdout",
     "output_type": "stream",
     "text": [
      "{'task': 'yesno', 'question': 'Does lucatumumab bind to CD140?'}\n"
     ]
    },
    {
     "name": "stderr",
     "output_type": "stream",
     "text": [
      "Evaluating:  24%|██▍       | 121/500 [02:31<08:03,  1.27s/it]"
     ]
    },
    {
     "name": "stdout",
     "output_type": "stream",
     "text": [
      "{'task': 'summary', 'question': 'What is the mechanism of action of arimoclomol?'}\n"
     ]
    },
    {
     "name": "stderr",
     "output_type": "stream",
     "text": [
      "Evaluating:  24%|██▍       | 122/500 [02:32<08:23,  1.33s/it]"
     ]
    },
    {
     "name": "stdout",
     "output_type": "stream",
     "text": [
      "{'task': 'list', 'question': 'What are the effects of STEF depletion?'}\n"
     ]
    },
    {
     "name": "stderr",
     "output_type": "stream",
     "text": [
      "Evaluating:  25%|██▍       | 123/500 [02:34<09:05,  1.45s/it]"
     ]
    },
    {
     "name": "stdout",
     "output_type": "stream",
     "text": [
      "{'task': 'list', 'question': 'Please list symptoms of measles.'}\n"
     ]
    },
    {
     "name": "stderr",
     "output_type": "stream",
     "text": [
      "Evaluating:  25%|██▍       | 124/500 [02:35<08:41,  1.39s/it]"
     ]
    },
    {
     "name": "stdout",
     "output_type": "stream",
     "text": [
      "{'task': 'yesno', 'question': 'Does simvastatin improve outcomes of aneurysmal subarachnoid hemorrhage?'}\n"
     ]
    },
    {
     "name": "stderr",
     "output_type": "stream",
     "text": [
      "Evaluating:  25%|██▌       | 125/500 [02:36<07:39,  1.22s/it]"
     ]
    },
    {
     "name": "stdout",
     "output_type": "stream",
     "text": [
      "{'task': 'list', 'question': \"Which databases can exchange data using Matchmaker Exchange's API?\"}\n"
     ]
    },
    {
     "name": "stderr",
     "output_type": "stream",
     "text": [
      "Evaluating:  25%|██▌       | 126/500 [02:38<08:39,  1.39s/it]"
     ]
    },
    {
     "name": "stdout",
     "output_type": "stream",
     "text": [
      "{'task': 'yesno', 'question': 'Is pazopanib an effective treatment of glioblastoma?'}\n"
     ]
    },
    {
     "name": "stderr",
     "output_type": "stream",
     "text": [
      "Evaluating:  25%|██▌       | 127/500 [02:39<08:15,  1.33s/it]"
     ]
    },
    {
     "name": "stdout",
     "output_type": "stream",
     "text": [
      "{'task': 'summary', 'question': 'What is the purpose of the Ottawa Ankle Rule?'}\n"
     ]
    },
    {
     "name": "stderr",
     "output_type": "stream",
     "text": [
      "Evaluating:  26%|██▌       | 128/500 [02:40<08:18,  1.34s/it]"
     ]
    },
    {
     "name": "stdout",
     "output_type": "stream",
     "text": [
      "{'task': 'summary', 'question': 'What is CIBERSORT used for?'}\n"
     ]
    },
    {
     "name": "stderr",
     "output_type": "stream",
     "text": [
      "Evaluating:  26%|██▌       | 129/500 [02:42<07:56,  1.28s/it]"
     ]
    },
    {
     "name": "stdout",
     "output_type": "stream",
     "text": [
      "{'task': 'yesno', 'question': 'Are de novo mutations in regulatory elements responsible for neurodevelopmental disorders?'}\n"
     ]
    },
    {
     "name": "stderr",
     "output_type": "stream",
     "text": [
      "Evaluating:  26%|██▌       | 130/500 [02:43<07:30,  1.22s/it]"
     ]
    },
    {
     "name": "stdout",
     "output_type": "stream",
     "text": [
      "{'task': 'factoid', 'question': 'Which molecule is targeted by Olaratumab?'}\n"
     ]
    },
    {
     "name": "stderr",
     "output_type": "stream",
     "text": [
      "Evaluating:  26%|██▌       | 131/500 [02:44<07:52,  1.28s/it]"
     ]
    },
    {
     "name": "stdout",
     "output_type": "stream",
     "text": [
      "{'task': 'summary', 'question': 'What is PANDAS disease?'}\n"
     ]
    },
    {
     "name": "stderr",
     "output_type": "stream",
     "text": [
      "Evaluating:  26%|██▋       | 132/500 [02:45<07:52,  1.28s/it]"
     ]
    },
    {
     "name": "stdout",
     "output_type": "stream",
     "text": [
      "{'task': 'yesno', 'question': 'Are phagosomal proteins ubiquitinated?'}\n"
     ]
    },
    {
     "name": "stderr",
     "output_type": "stream",
     "text": [
      "Evaluating:  27%|██▋       | 133/500 [02:46<07:35,  1.24s/it]"
     ]
    },
    {
     "name": "stdout",
     "output_type": "stream",
     "text": [
      "{'task': 'factoid', 'question': 'A herd immunity of what percentage of the population is required to prevent sporadic outbreaks?'}\n"
     ]
    },
    {
     "name": "stderr",
     "output_type": "stream",
     "text": [
      "Evaluating:  27%|██▋       | 134/500 [02:48<07:19,  1.20s/it]"
     ]
    },
    {
     "name": "stdout",
     "output_type": "stream",
     "text": [
      "{'task': 'yesno', 'question': 'Does tremelimumab improve survival of mesothelioma patients?'}\n"
     ]
    },
    {
     "name": "stderr",
     "output_type": "stream",
     "text": [
      "Evaluating:  27%|██▋       | 135/500 [02:48<06:39,  1.10s/it]"
     ]
    },
    {
     "name": "stdout",
     "output_type": "stream",
     "text": [
      "{'task': 'yesno', 'question': 'Can enasidenib be used for the treatment of acute myeloid leukemia?'}\n"
     ]
    },
    {
     "name": "stderr",
     "output_type": "stream",
     "text": [
      "Evaluating:  27%|██▋       | 136/500 [02:49<06:23,  1.05s/it]"
     ]
    },
    {
     "name": "stdout",
     "output_type": "stream",
     "text": [
      "{'task': 'list', 'question': 'What membrane proteins constitute TAM family of receptor tyrosine kinases (RTKs)?'}\n"
     ]
    },
    {
     "name": "stderr",
     "output_type": "stream",
     "text": [
      "Evaluating:  27%|██▋       | 137/500 [02:50<06:07,  1.01s/it]"
     ]
    },
    {
     "name": "stdout",
     "output_type": "stream",
     "text": [
      "{'task': 'list', 'question': 'What are the effects of the deletion of all three Pcdh clusters (tricluster deletion) in mice?'}\n"
     ]
    },
    {
     "name": "stderr",
     "output_type": "stream",
     "text": [
      "Evaluating:  28%|██▊       | 138/500 [02:52<07:43,  1.28s/it]"
     ]
    },
    {
     "name": "stdout",
     "output_type": "stream",
     "text": [
      "{'task': 'summary', 'question': 'What is CPX351?'}\n"
     ]
    },
    {
     "name": "stderr",
     "output_type": "stream",
     "text": [
      "Evaluating:  28%|██▊       | 139/500 [02:53<07:42,  1.28s/it]"
     ]
    },
    {
     "name": "stdout",
     "output_type": "stream",
     "text": [
      "{'task': 'yesno', 'question': 'Is collagen the most abundant human protein?'}\n"
     ]
    },
    {
     "name": "stderr",
     "output_type": "stream",
     "text": [
      "Evaluating:  28%|██▊       | 140/500 [02:55<07:14,  1.21s/it]"
     ]
    },
    {
     "name": "stdout",
     "output_type": "stream",
     "text": [
      "{'task': 'list', 'question': 'What micro-RNAs are useful in the diagnosis and prognosis of Heart Failure?'}\n"
     ]
    },
    {
     "name": "stderr",
     "output_type": "stream",
     "text": [
      "Evaluating:  28%|██▊       | 141/500 [02:57<09:07,  1.53s/it]"
     ]
    },
    {
     "name": "stdout",
     "output_type": "stream",
     "text": [
      "{'task': 'summary', 'question': 'What is ivosidenib?'}\n"
     ]
    },
    {
     "name": "stderr",
     "output_type": "stream",
     "text": [
      "Evaluating:  28%|██▊       | 142/500 [02:58<09:03,  1.52s/it]"
     ]
    },
    {
     "name": "stdout",
     "output_type": "stream",
     "text": [
      "{'task': 'list', 'question': 'List proteins interacting with Star-PAP'}\n"
     ]
    },
    {
     "name": "stderr",
     "output_type": "stream",
     "text": [
      "Evaluating:  29%|██▊       | 143/500 [03:01<11:11,  1.88s/it]"
     ]
    },
    {
     "name": "stdout",
     "output_type": "stream",
     "text": [
      "{'task': 'summary', 'question': 'Describe symptoms of the Visual snow syndrome.'}\n"
     ]
    },
    {
     "name": "stderr",
     "output_type": "stream",
     "text": [
      "Evaluating:  29%|██▉       | 144/500 [03:03<10:42,  1.81s/it]"
     ]
    },
    {
     "name": "stdout",
     "output_type": "stream",
     "text": [
      "{'task': 'summary', 'question': 'What is the role of the Leucosporidium ice-binding protein'}\n"
     ]
    },
    {
     "name": "stderr",
     "output_type": "stream",
     "text": [
      "Evaluating:  29%|██▉       | 145/500 [03:04<10:09,  1.72s/it]"
     ]
    },
    {
     "name": "stdout",
     "output_type": "stream",
     "text": [
      "{'task': 'yesno', 'question': 'Is the enzyme ERAP2 associated with the disease birdshot chorioretinopathy?'}\n"
     ]
    },
    {
     "name": "stderr",
     "output_type": "stream",
     "text": [
      "Evaluating:  29%|██▉       | 146/500 [03:06<09:48,  1.66s/it]"
     ]
    },
    {
     "name": "stdout",
     "output_type": "stream",
     "text": [
      "{'task': 'factoid', 'question': 'As of September 2018, what machine learning algorithm is used to for cardiac arrhythmia detection from a  short single-lead ECG recorded by a wearable device?'}\n"
     ]
    },
    {
     "name": "stderr",
     "output_type": "stream",
     "text": [
      "Evaluating:  29%|██▉       | 147/500 [03:07<08:52,  1.51s/it]"
     ]
    },
    {
     "name": "stdout",
     "output_type": "stream",
     "text": [
      "{'task': 'yesno', 'question': 'Does Panitumumab prolong survival of biliary tract cancer patients?'}\n"
     ]
    },
    {
     "name": "stderr",
     "output_type": "stream",
     "text": [
      "Evaluating:  30%|██▉       | 148/500 [03:08<07:50,  1.34s/it]"
     ]
    },
    {
     "name": "stdout",
     "output_type": "stream",
     "text": [
      "{'task': 'factoid', 'question': 'Which microRNA is the mediator of the obesity phenotype of patients carrying 1p21.3 microdeletions?'}\n"
     ]
    },
    {
     "name": "stderr",
     "output_type": "stream",
     "text": [
      "Evaluating:  30%|██▉       | 149/500 [03:10<09:21,  1.60s/it]"
     ]
    },
    {
     "name": "stdout",
     "output_type": "stream",
     "text": [
      "{'task': 'summary', 'question': 'What is the aim of the METABRIC project?'}\n"
     ]
    },
    {
     "name": "stderr",
     "output_type": "stream",
     "text": [
      "Evaluating:  30%|███       | 150/500 [03:11<08:59,  1.54s/it]"
     ]
    },
    {
     "name": "stdout",
     "output_type": "stream",
     "text": [
      "{'task': 'list', 'question': 'Name 3 diseases for which lucatumumab is being tested?'}\n"
     ]
    },
    {
     "name": "stderr",
     "output_type": "stream",
     "text": [
      "Evaluating:  30%|███       | 151/500 [03:13<08:20,  1.43s/it]"
     ]
    },
    {
     "name": "stdout",
     "output_type": "stream",
     "text": [
      "{'task': 'factoid', 'question': 'Which transcription factor binding site is contained in Alu repeats?'}\n"
     ]
    },
    {
     "name": "stderr",
     "output_type": "stream",
     "text": [
      "Evaluating:  30%|███       | 152/500 [03:13<07:16,  1.26s/it]"
     ]
    },
    {
     "name": "stdout",
     "output_type": "stream",
     "text": [
      "{'task': 'summary', 'question': 'What is ferroptosis?'}\n"
     ]
    },
    {
     "name": "stderr",
     "output_type": "stream",
     "text": [
      "Evaluating:  31%|███       | 153/500 [03:15<07:35,  1.31s/it]"
     ]
    },
    {
     "name": "stdout",
     "output_type": "stream",
     "text": [
      "{'task': 'factoid', 'question': 'What disease is treated with Laparoscopic Heller Myotomy (LHM)?'}\n"
     ]
    },
    {
     "name": "stderr",
     "output_type": "stream",
     "text": [
      "Evaluating:  31%|███       | 154/500 [03:16<06:56,  1.20s/it]"
     ]
    },
    {
     "name": "stdout",
     "output_type": "stream",
     "text": [
      "{'task': 'list', 'question': 'Name 4 side effects of enasidenib'}\n"
     ]
    },
    {
     "name": "stderr",
     "output_type": "stream",
     "text": [
      "Evaluating:  31%|███       | 155/500 [03:17<06:24,  1.11s/it]"
     ]
    },
    {
     "name": "stdout",
     "output_type": "stream",
     "text": [
      "{'task': 'yesno', 'question': 'Is lucatumumab a polyclonal antibody?'}\n"
     ]
    },
    {
     "name": "stderr",
     "output_type": "stream",
     "text": [
      "Evaluating:  31%|███       | 156/500 [03:18<05:53,  1.03s/it]"
     ]
    },
    {
     "name": "stdout",
     "output_type": "stream",
     "text": [
      "{'task': 'factoid', 'question': 'What is evaluated with the SAD PERSONS scale?'}\n"
     ]
    },
    {
     "name": "stderr",
     "output_type": "stream",
     "text": [
      "Evaluating:  31%|███▏      | 157/500 [03:19<05:50,  1.02s/it]"
     ]
    },
    {
     "name": "stdout",
     "output_type": "stream",
     "text": [
      "{'task': 'summary', 'question': 'Briefly describe a deep learning system that is more accurate than human experts at detecting melanoma.'}\n"
     ]
    },
    {
     "name": "stderr",
     "output_type": "stream",
     "text": [
      "Evaluating:  32%|███▏      | 158/500 [03:20<06:21,  1.12s/it]"
     ]
    },
    {
     "name": "stdout",
     "output_type": "stream",
     "text": [
      "{'task': 'factoid', 'question': 'Which human disease is experimental autoimmune encephalomyelitis (EAE) model for?'}\n"
     ]
    },
    {
     "name": "stderr",
     "output_type": "stream",
     "text": [
      "Evaluating:  32%|███▏      | 159/500 [03:21<06:09,  1.08s/it]"
     ]
    },
    {
     "name": "stdout",
     "output_type": "stream",
     "text": [
      "{'task': 'factoid', 'question': 'What is the cause if the rare disease cystinosis?'}\n"
     ]
    },
    {
     "name": "stderr",
     "output_type": "stream",
     "text": [
      "Evaluating:  32%|███▏      | 160/500 [03:22<05:49,  1.03s/it]"
     ]
    },
    {
     "name": "stdout",
     "output_type": "stream",
     "text": [
      "{'task': 'yesno', 'question': 'Is lithium effective for treatment of amyotrophic lateral sclerosis?'}\n"
     ]
    },
    {
     "name": "stderr",
     "output_type": "stream",
     "text": [
      "Evaluating:  32%|███▏      | 161/500 [03:23<06:02,  1.07s/it]"
     ]
    },
    {
     "name": "stdout",
     "output_type": "stream",
     "text": [
      "{'task': 'yesno', 'question': 'Should dacomitinib be used for treatment of glioblastoma patients?'}\n"
     ]
    },
    {
     "name": "stderr",
     "output_type": "stream",
     "text": [
      "Evaluating:  32%|███▏      | 162/500 [03:24<06:09,  1.09s/it]"
     ]
    },
    {
     "name": "stdout",
     "output_type": "stream",
     "text": [
      "{'task': 'factoid', 'question': 'Which molecular does daratumumab target?'}\n"
     ]
    },
    {
     "name": "stderr",
     "output_type": "stream",
     "text": [
      "Evaluating:  33%|███▎      | 163/500 [03:25<05:43,  1.02s/it]"
     ]
    },
    {
     "name": "stdout",
     "output_type": "stream",
     "text": [
      "{'task': 'factoid', 'question': 'What is etarfolatide used for?'}\n"
     ]
    },
    {
     "name": "stderr",
     "output_type": "stream",
     "text": [
      "Evaluating:  33%|███▎      | 164/500 [03:26<05:45,  1.03s/it]"
     ]
    },
    {
     "name": "stdout",
     "output_type": "stream",
     "text": [
      "{'task': 'factoid', 'question': 'What is the function of Plasminogen activator inhibitor 1?'}\n"
     ]
    },
    {
     "name": "stderr",
     "output_type": "stream",
     "text": [
      "Evaluating:  33%|███▎      | 165/500 [03:27<06:26,  1.15s/it]"
     ]
    },
    {
     "name": "stdout",
     "output_type": "stream",
     "text": [
      "{'task': 'summary', 'question': 'What is the mechanism of action of durvalumab?'}\n"
     ]
    },
    {
     "name": "stderr",
     "output_type": "stream",
     "text": [
      "Evaluating:  33%|███▎      | 166/500 [03:29<06:44,  1.21s/it]"
     ]
    },
    {
     "name": "stdout",
     "output_type": "stream",
     "text": [
      "{'task': 'factoid', 'question': 'Which tool has been developed for GPU-accelerated alignment of bisulfite-treated DNA sequences?'}\n"
     ]
    },
    {
     "name": "stderr",
     "output_type": "stream",
     "text": [
      "Evaluating:  33%|███▎      | 167/500 [03:30<06:07,  1.10s/it]"
     ]
    },
    {
     "name": "stdout",
     "output_type": "stream",
     "text": [
      "{'task': 'factoid', 'question': 'Which disease is gemtuzumab ozogamicin used for?'}\n"
     ]
    },
    {
     "name": "stderr",
     "output_type": "stream",
     "text": [
      "Evaluating:  34%|███▎      | 168/500 [03:31<05:52,  1.06s/it]"
     ]
    },
    {
     "name": "stdout",
     "output_type": "stream",
     "text": [
      "{'task': 'summary', 'question': 'What is GeneWeaver used for?'}\n"
     ]
    },
    {
     "name": "stderr",
     "output_type": "stream",
     "text": [
      "Evaluating:  34%|███▍      | 169/500 [03:32<06:07,  1.11s/it]"
     ]
    },
    {
     "name": "stdout",
     "output_type": "stream",
     "text": [
      "{'task': 'yesno', 'question': 'Are there ultraconserved regions in the budding yeast (Saccharomyces cerevisiae)?'}\n"
     ]
    },
    {
     "name": "stderr",
     "output_type": "stream",
     "text": [
      "Evaluating:  34%|███▍      | 170/500 [03:33<05:43,  1.04s/it]"
     ]
    },
    {
     "name": "stdout",
     "output_type": "stream",
     "text": [
      "{'task': 'factoid', 'question': 'Which disease can be classified with the Awaji Criteria?'}\n"
     ]
    },
    {
     "name": "stderr",
     "output_type": "stream",
     "text": [
      "Evaluating:  34%|███▍      | 171/500 [03:33<05:12,  1.05it/s]"
     ]
    },
    {
     "name": "stdout",
     "output_type": "stream",
     "text": [
      "{'task': 'summary', 'question': 'Endolymphatic hydrops is associated with Meniere’s disease. Please provide a summary of endoymphatic hydrops including the symptoms and affected body part.'}\n"
     ]
    },
    {
     "name": "stderr",
     "output_type": "stream",
     "text": [
      "Evaluating:  34%|███▍      | 172/500 [03:35<06:49,  1.25s/it]"
     ]
    },
    {
     "name": "stdout",
     "output_type": "stream",
     "text": [
      "{'task': 'factoid', 'question': 'Where does gemtuzumab ozogamicin bind?'}\n"
     ]
    },
    {
     "name": "stderr",
     "output_type": "stream",
     "text": [
      "Evaluating:  35%|███▍      | 173/500 [03:36<06:14,  1.15s/it]"
     ]
    },
    {
     "name": "stdout",
     "output_type": "stream",
     "text": [
      "{'task': 'factoid', 'question': 'Where, in what US state, was there a measles outbreak in an Amish community'}\n"
     ]
    },
    {
     "name": "stderr",
     "output_type": "stream",
     "text": [
      "Evaluating:  35%|███▍      | 174/500 [03:37<06:03,  1.11s/it]"
     ]
    },
    {
     "name": "stdout",
     "output_type": "stream",
     "text": [
      "{'task': 'yesno', 'question': 'Is there any role for HUWE1 in MYC signalling?'}\n"
     ]
    },
    {
     "name": "stderr",
     "output_type": "stream",
     "text": [
      "Evaluating:  35%|███▌      | 175/500 [03:38<05:52,  1.08s/it]"
     ]
    },
    {
     "name": "stdout",
     "output_type": "stream",
     "text": [
      "{'task': 'list', 'question': 'List MHC-I-associated inflammatory disorders.'}\n"
     ]
    },
    {
     "name": "stderr",
     "output_type": "stream",
     "text": [
      "Evaluating:  35%|███▌      | 176/500 [03:40<07:09,  1.32s/it]"
     ]
    },
    {
     "name": "stdout",
     "output_type": "stream",
     "text": [
      "{'task': 'factoid', 'question': 'What is the predicted function for TMEM132 family?'}\n"
     ]
    },
    {
     "name": "stderr",
     "output_type": "stream",
     "text": [
      "Evaluating:  35%|███▌      | 177/500 [03:41<06:49,  1.27s/it]"
     ]
    },
    {
     "name": "stdout",
     "output_type": "stream",
     "text": [
      "{'task': 'factoid', 'question': 'What type of topoisomerase inhibitor is gepotidacin?'}\n"
     ]
    },
    {
     "name": "stderr",
     "output_type": "stream",
     "text": [
      "Evaluating:  36%|███▌      | 178/500 [03:42<06:23,  1.19s/it]"
     ]
    },
    {
     "name": "stdout",
     "output_type": "stream",
     "text": [
      "{'task': 'summary', 'question': 'What is the mechanism of action of Alpelisib?'}\n"
     ]
    },
    {
     "name": "stderr",
     "output_type": "stream",
     "text": [
      "Evaluating:  36%|███▌      | 179/500 [03:44<06:49,  1.28s/it]"
     ]
    },
    {
     "name": "stdout",
     "output_type": "stream",
     "text": [
      "{'task': 'factoid', 'question': 'What is the normal function p53?'}\n"
     ]
    },
    {
     "name": "stderr",
     "output_type": "stream",
     "text": [
      "Evaluating:  36%|███▌      | 180/500 [03:45<07:10,  1.35s/it]"
     ]
    },
    {
     "name": "stdout",
     "output_type": "stream",
     "text": [
      "{'task': 'summary', 'question': 'What is eravacycline?'}\n"
     ]
    },
    {
     "name": "stderr",
     "output_type": "stream",
     "text": [
      "Evaluating:  36%|███▌      | 181/500 [03:47<07:06,  1.34s/it]"
     ]
    },
    {
     "name": "stdout",
     "output_type": "stream",
     "text": [
      "{'task': 'summary', 'question': 'What is PEGylation?'}\n"
     ]
    },
    {
     "name": "stderr",
     "output_type": "stream",
     "text": [
      "Evaluating:  36%|███▋      | 182/500 [03:48<07:13,  1.36s/it]"
     ]
    },
    {
     "name": "stdout",
     "output_type": "stream",
     "text": [
      "{'task': 'factoid', 'question': 'What is the 3D tomography imaging technique for diagnosis of  eye disease?'}\n"
     ]
    },
    {
     "name": "stderr",
     "output_type": "stream",
     "text": [
      "Evaluating:  37%|███▋      | 183/500 [03:49<06:24,  1.21s/it]"
     ]
    },
    {
     "name": "stdout",
     "output_type": "stream",
     "text": [
      "{'task': 'factoid', 'question': 'Which was the first mutant IDH2 inhibitor to be approved for patients with acute myeloid leukemia?'}\n"
     ]
    },
    {
     "name": "stderr",
     "output_type": "stream",
     "text": [
      "Evaluating:  37%|███▋      | 184/500 [03:50<06:16,  1.19s/it]"
     ]
    },
    {
     "name": "stdout",
     "output_type": "stream",
     "text": [
      "{'task': 'factoid', 'question': \"What part of the body is affected by Meniere's disease?\"}\n"
     ]
    },
    {
     "name": "stderr",
     "output_type": "stream",
     "text": [
      "Evaluating:  37%|███▋      | 185/500 [03:51<05:17,  1.01s/it]"
     ]
    },
    {
     "name": "stdout",
     "output_type": "stream",
     "text": [
      "{'task': 'list', 'question': 'Which two drugs are included in the MAVYRET pill?'}\n"
     ]
    },
    {
     "name": "stderr",
     "output_type": "stream",
     "text": [
      "Evaluating:  37%|███▋      | 186/500 [03:52<05:35,  1.07s/it]"
     ]
    },
    {
     "name": "stdout",
     "output_type": "stream",
     "text": [
      "{'task': 'summary', 'question': 'Describe the 4D-CHAINS algorithm'}\n"
     ]
    },
    {
     "name": "stderr",
     "output_type": "stream",
     "text": [
      "Evaluating:  37%|███▋      | 187/500 [03:54<07:02,  1.35s/it]"
     ]
    },
    {
     "name": "stdout",
     "output_type": "stream",
     "text": [
      "{'task': 'summary', 'question': 'What is an organoid?'}\n"
     ]
    },
    {
     "name": "stderr",
     "output_type": "stream",
     "text": [
      "Evaluating:  38%|███▊      | 188/500 [03:55<06:34,  1.26s/it]"
     ]
    },
    {
     "name": "stdout",
     "output_type": "stream",
     "text": [
      "{'task': 'yesno', 'question': 'Do raspberries improve postprandial glucose and acute and chronic inflammation in adults with type 2 Diabetes?'}\n"
     ]
    },
    {
     "name": "stderr",
     "output_type": "stream",
     "text": [
      "Evaluating:  38%|███▊      | 189/500 [03:57<07:50,  1.51s/it]"
     ]
    },
    {
     "name": "stdout",
     "output_type": "stream",
     "text": [
      "{'task': 'yesno', 'question': 'Are Mesenchymal stem cells (MSC) multipotent cells?'}\n"
     ]
    },
    {
     "name": "stderr",
     "output_type": "stream",
     "text": [
      "Evaluating:  38%|███▊      | 190/500 [03:58<06:59,  1.35s/it]"
     ]
    },
    {
     "name": "stdout",
     "output_type": "stream",
     "text": [
      "{'task': 'list', 'question': 'Which two drugs are included in the Entresto pill?'}\n"
     ]
    },
    {
     "name": "stderr",
     "output_type": "stream",
     "text": [
      "Evaluating:  38%|███▊      | 191/500 [03:59<06:23,  1.24s/it]"
     ]
    },
    {
     "name": "stdout",
     "output_type": "stream",
     "text": [
      "{'task': 'yesno', 'question': 'Is there a deep-learning algorithm for protein solubility prediction?'}\n"
     ]
    },
    {
     "name": "stderr",
     "output_type": "stream",
     "text": [
      "Evaluating:  38%|███▊      | 192/500 [04:00<05:49,  1.14s/it]"
     ]
    },
    {
     "name": "stdout",
     "output_type": "stream",
     "text": [
      "{'task': 'yesno', 'question': 'Have machine learning methods been used to predict the severity of major depressive disorder(MDD)?'}\n"
     ]
    },
    {
     "name": "stderr",
     "output_type": "stream",
     "text": [
      "Evaluating:  39%|███▊      | 193/500 [04:01<05:28,  1.07s/it]"
     ]
    },
    {
     "name": "stdout",
     "output_type": "stream",
     "text": [
      "{'task': 'summary', 'question': 'What is known about the gut bacteria and depression.'}\n"
     ]
    },
    {
     "name": "stderr",
     "output_type": "stream",
     "text": [
      "Evaluating:  39%|███▉      | 194/500 [04:03<07:20,  1.44s/it]"
     ]
    },
    {
     "name": "stdout",
     "output_type": "stream",
     "text": [
      "{'task': 'yesno', 'question': 'Can midostaurin inhibit angiogenesis?'}\n"
     ]
    },
    {
     "name": "stderr",
     "output_type": "stream",
     "text": [
      "Evaluating:  39%|███▉      | 195/500 [04:04<06:31,  1.28s/it]"
     ]
    },
    {
     "name": "stdout",
     "output_type": "stream",
     "text": [
      "{'task': 'list', 'question': 'For which indications has midostaurin received FDA and EMA approval?'}\n"
     ]
    },
    {
     "name": "stderr",
     "output_type": "stream",
     "text": [
      "Evaluating:  39%|███▉      | 196/500 [04:06<07:33,  1.49s/it]"
     ]
    },
    {
     "name": "stdout",
     "output_type": "stream",
     "text": [
      "{'task': 'yesno', 'question': 'Does Groucho related gene 5 (GRG5) have a role only in late development?'}\n"
     ]
    },
    {
     "name": "stderr",
     "output_type": "stream",
     "text": [
      "Evaluating:  39%|███▉      | 197/500 [04:07<06:53,  1.37s/it]"
     ]
    },
    {
     "name": "stdout",
     "output_type": "stream",
     "text": [
      "{'task': 'list', 'question': 'Which drugs are included in the Orkambi pill?'}\n"
     ]
    },
    {
     "name": "stderr",
     "output_type": "stream",
     "text": [
      "Evaluating:  40%|███▉      | 198/500 [04:08<06:06,  1.21s/it]"
     ]
    },
    {
     "name": "stdout",
     "output_type": "stream",
     "text": [
      "{'task': 'list', 'question': 'List available R packages for processing NanoString data'}\n"
     ]
    },
    {
     "name": "stderr",
     "output_type": "stream",
     "text": [
      "Evaluating:  40%|███▉      | 199/500 [04:09<06:29,  1.29s/it]"
     ]
    },
    {
     "name": "stdout",
     "output_type": "stream",
     "text": [
      "{'task': 'factoid', 'question': 'Which disease is PGT121 used for?'}\n"
     ]
    },
    {
     "name": "stderr",
     "output_type": "stream",
     "text": [
      "Evaluating:  40%|████      | 200/500 [04:10<05:44,  1.15s/it]"
     ]
    },
    {
     "name": "stdout",
     "output_type": "stream",
     "text": [
      "{'task': 'summary', 'question': 'What is the mechanism of action of anlotinib?'}\n"
     ]
    },
    {
     "name": "stderr",
     "output_type": "stream",
     "text": [
      "Evaluating:  40%|████      | 201/500 [04:12<06:42,  1.35s/it]"
     ]
    },
    {
     "name": "stdout",
     "output_type": "stream",
     "text": [
      "{'task': 'summary', 'question': 'Describe Canvas SPW'}\n"
     ]
    },
    {
     "name": "stderr",
     "output_type": "stream",
     "text": [
      "Evaluating:  40%|████      | 202/500 [04:14<06:51,  1.38s/it]"
     ]
    },
    {
     "name": "stdout",
     "output_type": "stream",
     "text": [
      "{'task': 'list', 'question': 'List phagosomal markers.'}\n"
     ]
    },
    {
     "name": "stderr",
     "output_type": "stream",
     "text": [
      "Evaluating:  41%|████      | 203/500 [04:15<06:42,  1.35s/it]"
     ]
    },
    {
     "name": "stdout",
     "output_type": "stream",
     "text": [
      "{'task': 'list', 'question': 'List bacterial families for which delafloxacin has been shown to be effective.'}\n"
     ]
    },
    {
     "name": "stderr",
     "output_type": "stream",
     "text": [
      "Evaluating:  41%|████      | 204/500 [04:16<06:32,  1.33s/it]"
     ]
    },
    {
     "name": "stdout",
     "output_type": "stream",
     "text": [
      "{'task': 'factoid', 'question': 'What is the cause of Sandhoff disease?'}\n"
     ]
    },
    {
     "name": "stderr",
     "output_type": "stream",
     "text": [
      "Evaluating:  41%|████      | 205/500 [04:17<06:16,  1.28s/it]"
     ]
    },
    {
     "name": "stdout",
     "output_type": "stream",
     "text": [
      "{'task': 'yesno', 'question': 'Are there tools for reviewing variant calls?'}\n"
     ]
    },
    {
     "name": "stderr",
     "output_type": "stream",
     "text": [
      "Evaluating:  41%|████      | 206/500 [04:18<05:36,  1.14s/it]"
     ]
    },
    {
     "name": "stdout",
     "output_type": "stream",
     "text": [
      "{'task': 'factoid', 'question': 'Name one CCR4 targeted drug.'}\n"
     ]
    },
    {
     "name": "stderr",
     "output_type": "stream",
     "text": [
      "Evaluating:  41%|████▏     | 207/500 [04:19<05:03,  1.04s/it]"
     ]
    },
    {
     "name": "stdout",
     "output_type": "stream",
     "text": [
      "{'task': 'summary', 'question': 'What is the mechanism of action of cemiplimab?'}\n"
     ]
    },
    {
     "name": "stderr",
     "output_type": "stream",
     "text": [
      "Evaluating:  42%|████▏     | 208/500 [04:20<05:37,  1.16s/it]"
     ]
    },
    {
     "name": "stdout",
     "output_type": "stream",
     "text": [
      "{'task': 'factoid', 'question': 'Which algorithm has been developed for finding conserved non-coding elements (CNEs) in genomes?'}\n"
     ]
    },
    {
     "name": "stderr",
     "output_type": "stream",
     "text": [
      "Evaluating:  42%|████▏     | 209/500 [04:22<06:05,  1.26s/it]"
     ]
    },
    {
     "name": "stdout",
     "output_type": "stream",
     "text": [
      "{'task': 'factoid', 'question': 'What causes Bathing suit Ichthyosis(BSI)?'}\n"
     ]
    },
    {
     "name": "stderr",
     "output_type": "stream",
     "text": [
      "Evaluating:  42%|████▏     | 210/500 [04:23<06:06,  1.26s/it]"
     ]
    },
    {
     "name": "stdout",
     "output_type": "stream",
     "text": [
      "{'task': 'list', 'question': 'What type of data does the UK biobank resource contain?'}\n"
     ]
    },
    {
     "name": "stderr",
     "output_type": "stream",
     "text": [
      "Evaluating:  42%|████▏     | 211/500 [04:24<05:56,  1.24s/it]"
     ]
    },
    {
     "name": "stdout",
     "output_type": "stream",
     "text": [
      "{'task': 'yesno', 'question': 'Has ivosidenib been FDA approved for use against acute myeloid leukemia?'}\n"
     ]
    },
    {
     "name": "stderr",
     "output_type": "stream",
     "text": [
      "Evaluating:  42%|████▏     | 212/500 [04:25<05:26,  1.13s/it]"
     ]
    },
    {
     "name": "stdout",
     "output_type": "stream",
     "text": [
      "{'task': 'list', 'question': 'Which two surgical methods were compared in the RAZOR trial?'}\n"
     ]
    },
    {
     "name": "stderr",
     "output_type": "stream",
     "text": [
      "Evaluating:  43%|████▎     | 213/500 [04:26<05:12,  1.09s/it]"
     ]
    },
    {
     "name": "stdout",
     "output_type": "stream",
     "text": [
      "{'task': 'yesno', 'question': 'Are Copy Number Variants (CNVs) depleted in regions of low mappability?'}\n"
     ]
    },
    {
     "name": "stderr",
     "output_type": "stream",
     "text": [
      "Evaluating:  43%|████▎     | 214/500 [04:27<05:21,  1.12s/it]"
     ]
    },
    {
     "name": "stdout",
     "output_type": "stream",
     "text": [
      "{'task': 'list', 'question': 'List potential reasons regarding why potentially important genes are ignored'}\n"
     ]
    },
    {
     "name": "stderr",
     "output_type": "stream",
     "text": [
      "Evaluating:  43%|████▎     | 215/500 [04:29<06:14,  1.32s/it]"
     ]
    },
    {
     "name": "stdout",
     "output_type": "stream",
     "text": [
      "{'task': 'factoid', 'question': 'Which molecule is targeted by upadacitinib?'}\n"
     ]
    },
    {
     "name": "stderr",
     "output_type": "stream",
     "text": [
      "Evaluating:  43%|████▎     | 216/500 [04:30<05:28,  1.16s/it]"
     ]
    },
    {
     "name": "stdout",
     "output_type": "stream",
     "text": [
      "{'task': 'factoid', 'question': 'Which random forest method has been developed for detecting Copy Numbers Variants (CNVs)?'}\n"
     ]
    },
    {
     "name": "stderr",
     "output_type": "stream",
     "text": [
      "Evaluating:  43%|████▎     | 217/500 [04:31<05:51,  1.24s/it]"
     ]
    },
    {
     "name": "stdout",
     "output_type": "stream",
     "text": [
      "{'task': 'factoid', 'question': 'What is the indication for Truvada?'}\n"
     ]
    },
    {
     "name": "stderr",
     "output_type": "stream",
     "text": [
      "Evaluating:  44%|████▎     | 218/500 [04:33<05:56,  1.27s/it]"
     ]
    },
    {
     "name": "stdout",
     "output_type": "stream",
     "text": [
      "{'task': 'yesno', 'question': 'Is Adar3 involved in learning and memory?'}\n"
     ]
    },
    {
     "name": "stderr",
     "output_type": "stream",
     "text": [
      "Evaluating:  44%|████▍     | 219/500 [04:34<06:06,  1.30s/it]"
     ]
    },
    {
     "name": "stdout",
     "output_type": "stream",
     "text": [
      "{'task': 'list', 'question': 'List STING agonists.'}\n"
     ]
    },
    {
     "name": "stderr",
     "output_type": "stream",
     "text": [
      "Evaluating:  44%|████▍     | 220/500 [04:36<06:55,  1.48s/it]"
     ]
    },
    {
     "name": "stdout",
     "output_type": "stream",
     "text": [
      "{'task': 'list', 'question': 'List drugs that were tested in the CheckMate 214 trial.'}\n"
     ]
    },
    {
     "name": "stderr",
     "output_type": "stream",
     "text": [
      "Evaluating:  44%|████▍     | 221/500 [04:37<06:10,  1.33s/it]"
     ]
    },
    {
     "name": "stdout",
     "output_type": "stream",
     "text": [
      "{'task': 'factoid', 'question': 'Mutations in which gene have been found in patients with the CLAPO syndrome?'}\n"
     ]
    },
    {
     "name": "stderr",
     "output_type": "stream",
     "text": [
      "Evaluating:  44%|████▍     | 222/500 [04:38<05:38,  1.22s/it]"
     ]
    },
    {
     "name": "stdout",
     "output_type": "stream",
     "text": [
      "{'task': 'summary', 'question': 'What is CamurWeb?'}\n"
     ]
    },
    {
     "name": "stderr",
     "output_type": "stream",
     "text": [
      "Evaluating:  45%|████▍     | 223/500 [04:39<05:21,  1.16s/it]"
     ]
    },
    {
     "name": "stdout",
     "output_type": "stream",
     "text": [
      "{'task': 'summary', 'question': 'Describe SLIC-CAGE'}\n"
     ]
    },
    {
     "name": "stderr",
     "output_type": "stream",
     "text": [
      "Evaluating:  45%|████▍     | 224/500 [04:41<06:16,  1.36s/it]"
     ]
    },
    {
     "name": "stdout",
     "output_type": "stream",
     "text": [
      "{'task': 'yesno', 'question': 'There is no drug available to prevent HIV infection, Pre-exposure prophylaxis (PrEP), yes or no?'}\n"
     ]
    },
    {
     "name": "stderr",
     "output_type": "stream",
     "text": [
      "Evaluating:  45%|████▌     | 225/500 [04:42<05:43,  1.25s/it]"
     ]
    },
    {
     "name": "stdout",
     "output_type": "stream",
     "text": [
      "{'task': 'factoid', 'question': 'Burosumab is used for treatment of which disease?'}\n"
     ]
    },
    {
     "name": "stderr",
     "output_type": "stream",
     "text": [
      "Evaluating:  45%|████▌     | 226/500 [04:43<05:12,  1.14s/it]"
     ]
    },
    {
     "name": "stdout",
     "output_type": "stream",
     "text": [
      "{'task': 'factoid', 'question': 'What is the most common monogenic cause of common variable immunodeficiency (CVID) in Europeans?'}\n"
     ]
    },
    {
     "name": "stderr",
     "output_type": "stream",
     "text": [
      "Evaluating:  45%|████▌     | 227/500 [04:44<05:23,  1.19s/it]"
     ]
    },
    {
     "name": "stdout",
     "output_type": "stream",
     "text": [
      "{'task': 'list', 'question': 'List two indications of Letermovir?'}\n"
     ]
    },
    {
     "name": "stderr",
     "output_type": "stream",
     "text": [
      "Evaluating:  46%|████▌     | 228/500 [04:45<05:46,  1.28s/it]"
     ]
    },
    {
     "name": "stdout",
     "output_type": "stream",
     "text": [
      "{'task': 'summary', 'question': 'What is achalasia?'}\n"
     ]
    },
    {
     "name": "stderr",
     "output_type": "stream",
     "text": [
      "Evaluating:  46%|████▌     | 229/500 [04:47<05:45,  1.28s/it]"
     ]
    },
    {
     "name": "stdout",
     "output_type": "stream",
     "text": [
      "{'task': 'yesno', 'question': 'Does allele phasing improve the phylogenetic utility of ultraconserved elements?'}\n"
     ]
    },
    {
     "name": "stderr",
     "output_type": "stream",
     "text": [
      "Evaluating:  46%|████▌     | 230/500 [04:48<05:38,  1.25s/it]"
     ]
    },
    {
     "name": "stdout",
     "output_type": "stream",
     "text": [
      "{'task': 'summary', 'question': 'What is Burning Mouth Syndrome(BMS)?'}\n"
     ]
    },
    {
     "name": "stderr",
     "output_type": "stream",
     "text": [
      "Evaluating:  46%|████▌     | 231/500 [04:49<05:46,  1.29s/it]"
     ]
    },
    {
     "name": "stdout",
     "output_type": "stream",
     "text": [
      "{'task': 'factoid', 'question': 'When is serum AFP used as marker?'}\n"
     ]
    },
    {
     "name": "stderr",
     "output_type": "stream",
     "text": [
      "Evaluating:  46%|████▋     | 232/500 [04:51<06:15,  1.40s/it]"
     ]
    },
    {
     "name": "stdout",
     "output_type": "stream",
     "text": [
      "{'task': 'yesno', 'question': 'Have yeast prions become important models for the study of the basic mechanisms underlying human amyloid diseases?'}\n"
     ]
    },
    {
     "name": "stderr",
     "output_type": "stream",
     "text": [
      "Evaluating:  47%|████▋     | 233/500 [04:52<06:14,  1.40s/it]"
     ]
    },
    {
     "name": "stdout",
     "output_type": "stream",
     "text": [
      "{'task': 'factoid', 'question': 'RV3-BB vaccine is used for prevention of which viral infection?'}\n"
     ]
    },
    {
     "name": "stderr",
     "output_type": "stream",
     "text": [
      "Evaluating:  47%|████▋     | 234/500 [04:53<05:23,  1.22s/it]"
     ]
    },
    {
     "name": "stdout",
     "output_type": "stream",
     "text": [
      "{'task': 'yesno', 'question': 'Is dupilumab effective for treatment of asthma?'}\n"
     ]
    },
    {
     "name": "stderr",
     "output_type": "stream",
     "text": [
      "Evaluating:  47%|████▋     | 235/500 [04:54<04:56,  1.12s/it]"
     ]
    },
    {
     "name": "stdout",
     "output_type": "stream",
     "text": [
      "{'task': 'summary', 'question': 'What is the role of the Mcm2-Ctf4-Polα axis?'}\n"
     ]
    },
    {
     "name": "stderr",
     "output_type": "stream",
     "text": [
      "Evaluating:  47%|████▋     | 236/500 [04:55<05:25,  1.23s/it]"
     ]
    },
    {
     "name": "stdout",
     "output_type": "stream",
     "text": [
      "{'task': 'factoid', 'question': 'What is anophthalmia?'}\n"
     ]
    },
    {
     "name": "stderr",
     "output_type": "stream",
     "text": [
      "Evaluating:  47%|████▋     | 237/500 [04:57<05:36,  1.28s/it]"
     ]
    },
    {
     "name": "stdout",
     "output_type": "stream",
     "text": [
      "{'task': 'list', 'question': 'What are the roles of LEM-3?'}\n"
     ]
    },
    {
     "name": "stderr",
     "output_type": "stream",
     "text": [
      "Evaluating:  48%|████▊     | 238/500 [04:59<06:44,  1.54s/it]"
     ]
    },
    {
     "name": "stdout",
     "output_type": "stream",
     "text": [
      "{'task': 'summary', 'question': 'What is the contribution of ultraconserved elements in Australasian smurf-weevils?'}\n"
     ]
    },
    {
     "name": "stderr",
     "output_type": "stream",
     "text": [
      "Evaluating:  48%|████▊     | 239/500 [05:00<06:22,  1.46s/it]"
     ]
    },
    {
     "name": "stdout",
     "output_type": "stream",
     "text": [
      "{'task': 'summary', 'question': 'How does botulism toxin act on the muscle?'}\n"
     ]
    },
    {
     "name": "stderr",
     "output_type": "stream",
     "text": [
      "Evaluating:  48%|████▊     | 240/500 [05:02<06:08,  1.42s/it]"
     ]
    },
    {
     "name": "stdout",
     "output_type": "stream",
     "text": [
      "{'task': 'factoid', 'question': 'What is the most common pediatric glioma?'}\n"
     ]
    },
    {
     "name": "stderr",
     "output_type": "stream",
     "text": [
      "Evaluating:  48%|████▊     | 241/500 [05:02<05:20,  1.24s/it]"
     ]
    },
    {
     "name": "stdout",
     "output_type": "stream",
     "text": [
      "{'task': 'factoid', 'question': 'What is the function of the protein encoded by the gene STING?'}\n"
     ]
    },
    {
     "name": "stderr",
     "output_type": "stream",
     "text": [
      "Evaluating:  48%|████▊     | 242/500 [05:04<05:59,  1.39s/it]"
     ]
    },
    {
     "name": "stdout",
     "output_type": "stream",
     "text": [
      "{'task': 'list', 'question': 'List uniparental disomy (UPD) detection algorithms'}\n"
     ]
    },
    {
     "name": "stderr",
     "output_type": "stream",
     "text": [
      "Evaluating:  49%|████▊     | 243/500 [05:06<06:51,  1.60s/it]"
     ]
    },
    {
     "name": "stdout",
     "output_type": "stream",
     "text": [
      "{'task': 'summary', 'question': 'Describe the mechanism of action of apalutamide.'}\n"
     ]
    },
    {
     "name": "stderr",
     "output_type": "stream",
     "text": [
      "Evaluating:  49%|████▉     | 244/500 [05:08<06:34,  1.54s/it]"
     ]
    },
    {
     "name": "stdout",
     "output_type": "stream",
     "text": [
      "{'task': 'factoid', 'question': 'Which molecule is inhibited by larotrectinib?'}\n"
     ]
    },
    {
     "name": "stderr",
     "output_type": "stream",
     "text": [
      "Evaluating:  49%|████▉     | 245/500 [05:09<05:53,  1.39s/it]"
     ]
    },
    {
     "name": "stdout",
     "output_type": "stream",
     "text": [
      "{'task': 'summary', 'question': 'What is Bayesian haplotyping used for?'}\n"
     ]
    },
    {
     "name": "stderr",
     "output_type": "stream",
     "text": [
      "Evaluating:  49%|████▉     | 246/500 [05:11<06:39,  1.57s/it]"
     ]
    },
    {
     "name": "stdout",
     "output_type": "stream",
     "text": [
      "{'task': 'list', 'question': 'List major features of TEMPI Syndrome.'}\n"
     ]
    },
    {
     "name": "stderr",
     "output_type": "stream",
     "text": [
      "Evaluating:  49%|████▉     | 247/500 [05:12<06:29,  1.54s/it]"
     ]
    },
    {
     "name": "stdout",
     "output_type": "stream",
     "text": [
      "{'task': 'summary', 'question': 'Describe Herpetic Whitlow.'}\n"
     ]
    },
    {
     "name": "stderr",
     "output_type": "stream",
     "text": [
      "Evaluating:  50%|████▉     | 248/500 [05:15<08:38,  2.06s/it]"
     ]
    },
    {
     "name": "stdout",
     "output_type": "stream",
     "text": [
      "{'task': 'factoid', 'question': 'Sweat Chloride Testing is used  for which disease?'}\n"
     ]
    },
    {
     "name": "stderr",
     "output_type": "stream",
     "text": [
      "Evaluating:  50%|████▉     | 249/500 [05:16<06:54,  1.65s/it]"
     ]
    },
    {
     "name": "stdout",
     "output_type": "stream",
     "text": [
      "{'task': 'factoid', 'question': 'What is nyctinasty in plants?'}\n"
     ]
    },
    {
     "name": "stderr",
     "output_type": "stream",
     "text": [
      "Evaluating:  50%|█████     | 250/500 [05:18<06:42,  1.61s/it]"
     ]
    },
    {
     "name": "stdout",
     "output_type": "stream",
     "text": [
      "{'task': 'yesno', 'question': 'Does Eucommia ulmoides leaf extract ameliorates steatosis/fatty liver induced by high-fat diet?'}\n"
     ]
    },
    {
     "name": "stderr",
     "output_type": "stream",
     "text": [
      "Evaluating:  50%|█████     | 251/500 [05:19<06:35,  1.59s/it]"
     ]
    },
    {
     "name": "stdout",
     "output_type": "stream",
     "text": [
      "{'task': 'list', 'question': 'List the releases of tmVar'}\n"
     ]
    },
    {
     "name": "stderr",
     "output_type": "stream",
     "text": [
      "Evaluating:  50%|█████     | 252/500 [05:21<06:34,  1.59s/it]"
     ]
    },
    {
     "name": "stdout",
     "output_type": "stream",
     "text": [
      "{'task': 'factoid', 'question': 'Which deep learning algorithm has been developed for variant calling?'}\n"
     ]
    },
    {
     "name": "stderr",
     "output_type": "stream",
     "text": [
      "Evaluating:  51%|█████     | 253/500 [05:22<05:47,  1.41s/it]"
     ]
    },
    {
     "name": "stdout",
     "output_type": "stream",
     "text": [
      "{'task': 'list', 'question': 'What 2 biological processes are regulated by STAMP2 in adipocytes?'}\n"
     ]
    },
    {
     "name": "stderr",
     "output_type": "stream",
     "text": [
      "Evaluating:  51%|█████     | 254/500 [05:23<05:22,  1.31s/it]"
     ]
    },
    {
     "name": "stdout",
     "output_type": "stream",
     "text": [
      "{'task': 'summary', 'question': 'What is the mechanism of action of Pitolisant?'}\n"
     ]
    },
    {
     "name": "stderr",
     "output_type": "stream",
     "text": [
      "Evaluating:  51%|█████     | 255/500 [05:24<05:20,  1.31s/it]"
     ]
    },
    {
     "name": "stdout",
     "output_type": "stream",
     "text": [
      "{'task': 'list', 'question': 'Which methods have been developed for extracting sequence variants from the literature?'}\n"
     ]
    },
    {
     "name": "stderr",
     "output_type": "stream",
     "text": [
      "Evaluating:  51%|█████     | 256/500 [05:26<06:10,  1.52s/it]"
     ]
    },
    {
     "name": "stdout",
     "output_type": "stream",
     "text": [
      "{'task': 'list', 'question': 'Which molecules are targeted by defactinib?'}\n"
     ]
    },
    {
     "name": "stderr",
     "output_type": "stream",
     "text": [
      "Evaluating:  51%|█████▏    | 257/500 [05:27<05:46,  1.42s/it]"
     ]
    },
    {
     "name": "stdout",
     "output_type": "stream",
     "text": [
      "{'task': 'summary', 'question': 'What is Chrysophanol?'}\n"
     ]
    },
    {
     "name": "stderr",
     "output_type": "stream",
     "text": [
      "Evaluating:  52%|█████▏    | 258/500 [05:29<05:53,  1.46s/it]"
     ]
    },
    {
     "name": "stdout",
     "output_type": "stream",
     "text": [
      "{'task': 'factoid', 'question': 'What is the percentage of individuals at risk of dominant medically actionable disease?'}\n"
     ]
    },
    {
     "name": "stderr",
     "output_type": "stream",
     "text": [
      "Evaluating:  52%|█████▏    | 259/500 [05:30<05:23,  1.34s/it]"
     ]
    },
    {
     "name": "stdout",
     "output_type": "stream",
     "text": [
      "{'task': 'list', 'question': 'Please list the 4 genes involved in Sanfilippo syndrome, also known as mucopolysaccharidosis III (MPS-III).'}\n"
     ]
    },
    {
     "name": "stderr",
     "output_type": "stream",
     "text": [
      "Evaluating:  52%|█████▏    | 260/500 [05:31<05:03,  1.27s/it]"
     ]
    },
    {
     "name": "stdout",
     "output_type": "stream",
     "text": [
      "{'task': 'summary', 'question': 'What is CardioClassifier?'}\n"
     ]
    },
    {
     "name": "stderr",
     "output_type": "stream",
     "text": [
      "Evaluating:  52%|█████▏    | 261/500 [05:32<05:10,  1.30s/it]"
     ]
    },
    {
     "name": "stdout",
     "output_type": "stream",
     "text": [
      "{'task': 'list', 'question': 'List clinical disorders or diseases where uc.189 is involved?'}\n"
     ]
    },
    {
     "name": "stderr",
     "output_type": "stream",
     "text": [
      "Evaluating:  52%|█████▏    | 262/500 [05:34<05:11,  1.31s/it]"
     ]
    },
    {
     "name": "stdout",
     "output_type": "stream",
     "text": [
      "{'task': 'yesno', 'question': 'Is verubecestat effective for Alzheimer’s Disease?'}\n"
     ]
    },
    {
     "name": "stderr",
     "output_type": "stream",
     "text": [
      "Evaluating:  53%|█████▎    | 263/500 [05:35<04:35,  1.16s/it]"
     ]
    },
    {
     "name": "stdout",
     "output_type": "stream",
     "text": [
      "{'task': 'summary', 'question': 'What is the role of metalloproteinase-17 (ADAM17) in NK cells?'}\n"
     ]
    },
    {
     "name": "stderr",
     "output_type": "stream",
     "text": [
      "Evaluating:  53%|█████▎    | 264/500 [05:36<05:04,  1.29s/it]"
     ]
    },
    {
     "name": "stdout",
     "output_type": "stream",
     "text": [
      "{'task': 'list', 'question': 'What is the triad of Melkersson-Rosenthal syndrome?'}\n"
     ]
    },
    {
     "name": "stderr",
     "output_type": "stream",
     "text": [
      "Evaluating:  53%|█████▎    | 265/500 [05:38<05:14,  1.34s/it]"
     ]
    },
    {
     "name": "stdout",
     "output_type": "stream",
     "text": [
      "{'task': 'yesno', 'question': 'Is galcanezumab effective for treatment of migraine?'}\n"
     ]
    },
    {
     "name": "stderr",
     "output_type": "stream",
     "text": [
      "Evaluating:  53%|█████▎    | 266/500 [05:39<04:50,  1.24s/it]"
     ]
    },
    {
     "name": "stdout",
     "output_type": "stream",
     "text": [
      "{'task': 'yesno', 'question': 'Can mitochondria be inherited by both parents in humans?'}\n"
     ]
    },
    {
     "name": "stderr",
     "output_type": "stream",
     "text": [
      "Evaluating:  53%|█████▎    | 267/500 [05:39<04:21,  1.12s/it]"
     ]
    },
    {
     "name": "stdout",
     "output_type": "stream",
     "text": [
      "{'task': 'yesno', 'question': 'Can Diazepam be beneficial  in the treatment of  traumatic brain injury?'}\n"
     ]
    },
    {
     "name": "stderr",
     "output_type": "stream",
     "text": [
      "Evaluating:  54%|█████▎    | 268/500 [05:42<05:31,  1.43s/it]"
     ]
    },
    {
     "name": "stdout",
     "output_type": "stream",
     "text": [
      "{'task': 'list', 'question': 'Name the algorithms for counting multi-mapping reads'}\n"
     ]
    },
    {
     "name": "stderr",
     "output_type": "stream",
     "text": [
      "Evaluating:  54%|█████▍    | 269/500 [05:43<05:44,  1.49s/it]"
     ]
    },
    {
     "name": "stdout",
     "output_type": "stream",
     "text": [
      "{'task': 'yesno', 'question': 'In clinical trials, the H3 R antagonist CEP-26401 has a positive effect on cognition, yes or no?'}\n"
     ]
    },
    {
     "name": "stderr",
     "output_type": "stream",
     "text": [
      "Evaluating:  54%|█████▍    | 270/500 [05:45<05:35,  1.46s/it]"
     ]
    },
    {
     "name": "stdout",
     "output_type": "stream",
     "text": [
      "{'task': 'factoid', 'question': 'Fecal transplantation is used to treat infection with what bacteria?'}\n"
     ]
    },
    {
     "name": "stderr",
     "output_type": "stream",
     "text": [
      "Evaluating:  54%|█████▍    | 271/500 [05:46<04:55,  1.29s/it]"
     ]
    },
    {
     "name": "stdout",
     "output_type": "stream",
     "text": [
      "{'task': 'yesno', 'question': \"Is pimavanserin effective for Parkinson's disease psychosis?\"}\n"
     ]
    },
    {
     "name": "stderr",
     "output_type": "stream",
     "text": [
      "Evaluating:  54%|█████▍    | 272/500 [05:46<04:20,  1.14s/it]"
     ]
    },
    {
     "name": "stdout",
     "output_type": "stream",
     "text": [
      "{'task': 'factoid', 'question': 'When did delafloxacin receive its first approval in the USA for acute bacterial skin and skin structure infections?'}\n"
     ]
    },
    {
     "name": "stderr",
     "output_type": "stream",
     "text": [
      "Evaluating:  55%|█████▍    | 273/500 [05:47<04:09,  1.10s/it]"
     ]
    },
    {
     "name": "stdout",
     "output_type": "stream",
     "text": [
      "{'task': 'factoid', 'question': 'Erenumab, used to treat migraine headaches, binds to what protein?'}\n"
     ]
    },
    {
     "name": "stderr",
     "output_type": "stream",
     "text": [
      "Evaluating:  55%|█████▍    | 274/500 [05:48<04:03,  1.08s/it]"
     ]
    },
    {
     "name": "stdout",
     "output_type": "stream",
     "text": [
      "{'task': 'summary', 'question': 'What are the CADD scores?'}\n"
     ]
    },
    {
     "name": "stderr",
     "output_type": "stream",
     "text": [
      "Evaluating:  55%|█████▌    | 275/500 [05:50<04:31,  1.21s/it]"
     ]
    },
    {
     "name": "stdout",
     "output_type": "stream",
     "text": [
      "{'task': 'summary', 'question': 'What is a prolactinoma and where in the body would they be found?'}\n"
     ]
    },
    {
     "name": "stderr",
     "output_type": "stream",
     "text": [
      "Evaluating:  55%|█████▌    | 276/500 [05:51<04:47,  1.28s/it]"
     ]
    },
    {
     "name": "stdout",
     "output_type": "stream",
     "text": [
      "{'task': 'list', 'question': 'Which integrin genes are activated by the immune system in inflammatory bowel disease?'}\n"
     ]
    },
    {
     "name": "stderr",
     "output_type": "stream",
     "text": [
      "Evaluating:  55%|█████▌    | 277/500 [05:54<06:47,  1.83s/it]"
     ]
    },
    {
     "name": "stdout",
     "output_type": "stream",
     "text": [
      "{'task': 'factoid', 'question': 'Which is the database of somatic mutations in normal cells?'}\n"
     ]
    },
    {
     "name": "stderr",
     "output_type": "stream",
     "text": [
      "Evaluating:  56%|█████▌    | 278/500 [05:55<05:29,  1.48s/it]"
     ]
    },
    {
     "name": "stdout",
     "output_type": "stream",
     "text": [
      "{'task': 'list', 'question': 'Which drugs are included in the Lonsurf pill?'}\n"
     ]
    },
    {
     "name": "stderr",
     "output_type": "stream",
     "text": [
      "Evaluating:  56%|█████▌    | 279/500 [05:56<05:07,  1.39s/it]"
     ]
    },
    {
     "name": "stdout",
     "output_type": "stream",
     "text": [
      "{'task': 'summary', 'question': 'What is the association of epigallocatechin with the cardiovascular system?'}\n"
     ]
    },
    {
     "name": "stderr",
     "output_type": "stream",
     "text": [
      "Evaluating:  56%|█████▌    | 280/500 [05:58<05:44,  1.57s/it]"
     ]
    },
    {
     "name": "stdout",
     "output_type": "stream",
     "text": [
      "{'task': 'summary', 'question': 'What is the mechanism of action of tucatinib?'}\n"
     ]
    },
    {
     "name": "stderr",
     "output_type": "stream",
     "text": [
      "Evaluating:  56%|█████▌    | 281/500 [06:00<05:37,  1.54s/it]"
     ]
    },
    {
     "name": "stdout",
     "output_type": "stream",
     "text": [
      "{'task': 'factoid', 'question': 'Which enzyme is inhibited by a drug Lorlatinib?'}\n"
     ]
    },
    {
     "name": "stderr",
     "output_type": "stream",
     "text": [
      "Evaluating:  56%|█████▋    | 282/500 [06:01<04:48,  1.32s/it]"
     ]
    },
    {
     "name": "stdout",
     "output_type": "stream",
     "text": [
      "{'task': 'factoid', 'question': \"What periodontal disease associated bacteria is also associated with Alzheimer's disease?\"}\n"
     ]
    },
    {
     "name": "stderr",
     "output_type": "stream",
     "text": [
      "Evaluating:  57%|█████▋    | 283/500 [06:02<04:34,  1.27s/it]"
     ]
    },
    {
     "name": "stdout",
     "output_type": "stream",
     "text": [
      "{'task': 'yesno', 'question': 'Is deletion at 6q24.2-26 associated with longer survival of patients with high-grade serous ovarian carcinoma (HGSOCs)?'}\n"
     ]
    },
    {
     "name": "stderr",
     "output_type": "stream",
     "text": [
      "Evaluating:  57%|█████▋    | 284/500 [06:03<04:45,  1.32s/it]"
     ]
    },
    {
     "name": "stdout",
     "output_type": "stream",
     "text": [
      "{'task': 'factoid', 'question': 'How does the Cholera toxin enter a cell?'}\n"
     ]
    },
    {
     "name": "stderr",
     "output_type": "stream",
     "text": [
      "Evaluating:  57%|█████▋    | 285/500 [06:04<04:31,  1.26s/it]"
     ]
    },
    {
     "name": "stdout",
     "output_type": "stream",
     "text": [
      "{'task': 'summary', 'question': 'Describe the mechanism of action of Lurbinectedin.'}\n"
     ]
    },
    {
     "name": "stderr",
     "output_type": "stream",
     "text": [
      "Evaluating:  57%|█████▋    | 286/500 [06:06<04:47,  1.34s/it]"
     ]
    },
    {
     "name": "stdout",
     "output_type": "stream",
     "text": [
      "{'task': 'yesno', 'question': 'Can mogamulizumab be used for the treatment of cutaneous T-cell lymphoma?'}\n"
     ]
    },
    {
     "name": "stderr",
     "output_type": "stream",
     "text": [
      "Evaluating:  57%|█████▋    | 287/500 [06:07<04:17,  1.21s/it]"
     ]
    },
    {
     "name": "stdout",
     "output_type": "stream",
     "text": [
      "{'task': 'list', 'question': 'Which enzymes are inhibited by Duvelisib?'}\n"
     ]
    },
    {
     "name": "stderr",
     "output_type": "stream",
     "text": [
      "Evaluating:  58%|█████▊    | 288/500 [06:08<03:59,  1.13s/it]"
     ]
    },
    {
     "name": "stdout",
     "output_type": "stream",
     "text": [
      "{'task': 'list', 'question': 'List search engines used in proteomics.'}\n"
     ]
    },
    {
     "name": "stderr",
     "output_type": "stream",
     "text": [
      "Evaluating:  58%|█████▊    | 289/500 [06:09<03:56,  1.12s/it]"
     ]
    },
    {
     "name": "stdout",
     "output_type": "stream",
     "text": [
      "{'task': 'yesno', 'question': 'Is avelumab effective for bladder cancer?'}\n"
     ]
    },
    {
     "name": "stderr",
     "output_type": "stream",
     "text": [
      "Evaluating:  58%|█████▊    | 290/500 [06:10<04:07,  1.18s/it]"
     ]
    },
    {
     "name": "stdout",
     "output_type": "stream",
     "text": [
      "{'task': 'yesno', 'question': 'Is cabozantinib effective for Hepatocellular Carcinoma?'}\n"
     ]
    },
    {
     "name": "stderr",
     "output_type": "stream",
     "text": [
      "Evaluating:  58%|█████▊    | 291/500 [06:11<04:04,  1.17s/it]"
     ]
    },
    {
     "name": "stdout",
     "output_type": "stream",
     "text": [
      "{'task': 'list', 'question': 'De novo mutations in which novel genes are involved in systemic lupus erythematosus?'}\n"
     ]
    },
    {
     "name": "stderr",
     "output_type": "stream",
     "text": [
      "Evaluating:  58%|█████▊    | 292/500 [06:13<04:18,  1.24s/it]"
     ]
    },
    {
     "name": "stdout",
     "output_type": "stream",
     "text": [
      "{'task': 'yesno', 'question': 'Is there a link between BCL11B haploinsufficiency and syndromic neurodevelopmental delay?'}\n"
     ]
    },
    {
     "name": "stderr",
     "output_type": "stream",
     "text": [
      "Evaluating:  59%|█████▊    | 293/500 [06:14<04:23,  1.27s/it]"
     ]
    },
    {
     "name": "stdout",
     "output_type": "stream",
     "text": [
      "{'task': 'summary', 'question': 'What is the mechanism of action of motolimod?'}\n"
     ]
    },
    {
     "name": "stderr",
     "output_type": "stream",
     "text": [
      "Evaluating:  59%|█████▉    | 294/500 [06:16<04:53,  1.42s/it]"
     ]
    },
    {
     "name": "stdout",
     "output_type": "stream",
     "text": [
      "{'task': 'yesno', 'question': 'Is Lasmiditan effective for migraine?'}\n"
     ]
    },
    {
     "name": "stderr",
     "output_type": "stream",
     "text": [
      "Evaluating:  59%|█████▉    | 295/500 [06:17<04:14,  1.24s/it]"
     ]
    },
    {
     "name": "stdout",
     "output_type": "stream",
     "text": [
      "{'task': 'list', 'question': 'List drugs included in the TRIUMEQ pill.'}\n"
     ]
    },
    {
     "name": "stderr",
     "output_type": "stream",
     "text": [
      "Evaluating:  59%|█████▉    | 296/500 [06:17<03:42,  1.09s/it]"
     ]
    },
    {
     "name": "stdout",
     "output_type": "stream",
     "text": [
      "{'task': 'yesno', 'question': 'Are there graph kernel libraries available implemented in JAVA?'}\n"
     ]
    },
    {
     "name": "stderr",
     "output_type": "stream",
     "text": [
      "Evaluating:  59%|█████▉    | 297/500 [06:18<03:32,  1.05s/it]"
     ]
    },
    {
     "name": "stdout",
     "output_type": "stream",
     "text": [
      "{'task': 'factoid', 'question': 'What organism causes hepatic capillariasis?'}\n"
     ]
    },
    {
     "name": "stderr",
     "output_type": "stream",
     "text": [
      "Evaluating:  60%|█████▉    | 298/500 [06:19<03:33,  1.06s/it]"
     ]
    },
    {
     "name": "stdout",
     "output_type": "stream",
     "text": [
      "{'task': 'factoid', 'question': 'Cerliponase alfa is apprived for treatment of which disease?'}\n"
     ]
    },
    {
     "name": "stderr",
     "output_type": "stream",
     "text": [
      "Evaluating:  60%|█████▉    | 299/500 [06:21<03:43,  1.11s/it]"
     ]
    },
    {
     "name": "stdout",
     "output_type": "stream",
     "text": [
      "{'task': 'yesno', 'question': 'Is baricitinib effective for rheumatoid arthritis?'}\n"
     ]
    },
    {
     "name": "stderr",
     "output_type": "stream",
     "text": [
      "Evaluating:  60%|██████    | 300/500 [06:21<03:31,  1.06s/it]"
     ]
    },
    {
     "name": "stdout",
     "output_type": "stream",
     "text": [
      "{'task': 'summary', 'question': 'What is the function of PARP1?'}\n"
     ]
    },
    {
     "name": "stderr",
     "output_type": "stream",
     "text": [
      "Evaluating:  60%|██████    | 301/500 [06:24<04:29,  1.35s/it]"
     ]
    },
    {
     "name": "stdout",
     "output_type": "stream",
     "text": [
      "{'task': 'yesno', 'question': \"Is Semagacestat effective for treatment of Alzheimer's disease?\"}\n"
     ]
    },
    {
     "name": "stderr",
     "output_type": "stream",
     "text": [
      "Evaluating:  60%|██████    | 302/500 [06:24<04:00,  1.21s/it]"
     ]
    },
    {
     "name": "stdout",
     "output_type": "stream",
     "text": [
      "{'task': 'factoid', 'question': 'Which molecule is inhibited by ivosidenib?'}\n"
     ]
    },
    {
     "name": "stderr",
     "output_type": "stream",
     "text": [
      "Evaluating:  61%|██████    | 303/500 [06:26<03:58,  1.21s/it]"
     ]
    },
    {
     "name": "stdout",
     "output_type": "stream",
     "text": [
      "{'task': 'summary', 'question': 'What is COG112?'}\n"
     ]
    },
    {
     "name": "stderr",
     "output_type": "stream",
     "text": [
      "Evaluating:  61%|██████    | 304/500 [06:27<04:07,  1.26s/it]"
     ]
    },
    {
     "name": "stdout",
     "output_type": "stream",
     "text": [
      "{'task': 'list', 'question': 'List the four advances integrated into the SHERLOCKv2 platform.'}\n"
     ]
    },
    {
     "name": "stderr",
     "output_type": "stream",
     "text": [
      "Evaluating:  61%|██████    | 305/500 [06:28<04:07,  1.27s/it]"
     ]
    },
    {
     "name": "stdout",
     "output_type": "stream",
     "text": [
      "{'task': 'yesno', 'question': 'Does Rhamnose have any effect on aging?'}\n"
     ]
    },
    {
     "name": "stderr",
     "output_type": "stream",
     "text": [
      "Evaluating:  61%|██████    | 306/500 [06:30<04:16,  1.32s/it]"
     ]
    },
    {
     "name": "stdout",
     "output_type": "stream",
     "text": [
      "{'task': 'yesno', 'question': 'Is there any approved treatment for NAFLD?'}\n"
     ]
    },
    {
     "name": "stderr",
     "output_type": "stream",
     "text": [
      "Evaluating:  61%|██████▏   | 307/500 [06:31<03:51,  1.20s/it]"
     ]
    },
    {
     "name": "stdout",
     "output_type": "stream",
     "text": [
      "{'task': 'yesno', 'question': 'Can pazopanib be used for treatment von Hippel-Lindau disease?'}\n"
     ]
    },
    {
     "name": "stderr",
     "output_type": "stream",
     "text": [
      "Evaluating:  62%|██████▏   | 308/500 [06:32<03:43,  1.17s/it]"
     ]
    },
    {
     "name": "stdout",
     "output_type": "stream",
     "text": [
      "{'task': 'factoid', 'question': 'Which ploidy-agnostic method has been developed for estimating telomere length from whole genome sequencing data?'}\n"
     ]
    },
    {
     "name": "stderr",
     "output_type": "stream",
     "text": [
      "Evaluating:  62%|██████▏   | 309/500 [06:33<03:22,  1.06s/it]"
     ]
    },
    {
     "name": "stdout",
     "output_type": "stream",
     "text": [
      "{'task': 'factoid', 'question': 'What happens to retrotransposons during ageing?'}\n"
     ]
    },
    {
     "name": "stderr",
     "output_type": "stream",
     "text": [
      "Evaluating:  62%|██████▏   | 310/500 [06:34<03:38,  1.15s/it]"
     ]
    },
    {
     "name": "stdout",
     "output_type": "stream",
     "text": [
      "{'task': 'summary', 'question': 'What is the function of Taraxasterol  in rheumatoid arthritis?'}\n"
     ]
    },
    {
     "name": "stderr",
     "output_type": "stream",
     "text": [
      "Evaluating:  62%|██████▏   | 311/500 [06:35<03:50,  1.22s/it]"
     ]
    },
    {
     "name": "stdout",
     "output_type": "stream",
     "text": [
      "{'task': 'yesno', 'question': 'Is Netrin-1 a secreted protein?'}\n"
     ]
    },
    {
     "name": "stderr",
     "output_type": "stream",
     "text": [
      "Evaluating:  62%|██████▏   | 312/500 [06:36<03:41,  1.18s/it]"
     ]
    },
    {
     "name": "stdout",
     "output_type": "stream",
     "text": [
      "{'task': 'factoid', 'question': 'Which enzyme is deficient in Wolman disease?'}\n"
     ]
    },
    {
     "name": "stderr",
     "output_type": "stream",
     "text": [
      "Evaluating:  63%|██████▎   | 313/500 [06:37<03:23,  1.09s/it]"
     ]
    },
    {
     "name": "stdout",
     "output_type": "stream",
     "text": [
      "{'task': 'yesno', 'question': 'Is the yeast (Saccharomyces cerevisiae) genome organized into topologically associated domains (TADs)?'}\n"
     ]
    },
    {
     "name": "stderr",
     "output_type": "stream",
     "text": [
      "Evaluating:  63%|██████▎   | 314/500 [06:39<03:45,  1.21s/it]"
     ]
    },
    {
     "name": "stdout",
     "output_type": "stream",
     "text": [
      "{'task': 'factoid', 'question': 'What is MOV10?'}\n"
     ]
    },
    {
     "name": "stderr",
     "output_type": "stream",
     "text": [
      "Evaluating:  63%|██████▎   | 315/500 [06:40<03:53,  1.26s/it]"
     ]
    },
    {
     "name": "stdout",
     "output_type": "stream",
     "text": [
      "{'task': 'yesno', 'question': \"As of Feb 2019, are major brain gangliosides a target for the treatment of Alzheimer's disease?\"}\n"
     ]
    },
    {
     "name": "stderr",
     "output_type": "stream",
     "text": [
      "Evaluating:  63%|██████▎   | 316/500 [06:42<04:06,  1.34s/it]"
     ]
    },
    {
     "name": "stdout",
     "output_type": "stream",
     "text": [
      "{'task': 'factoid', 'question': 'Which cancer is associated with increased levels of Serum alpha fetoprotein (AFP) ?'}\n"
     ]
    },
    {
     "name": "stderr",
     "output_type": "stream",
     "text": [
      "Evaluating:  63%|██████▎   | 317/500 [06:43<04:01,  1.32s/it]"
     ]
    },
    {
     "name": "stdout",
     "output_type": "stream",
     "text": [
      "{'task': 'yesno', 'question': 'Is Miller-Dieker syndrome associated with abnormalities of chromosome 1?'}\n"
     ]
    },
    {
     "name": "stderr",
     "output_type": "stream",
     "text": [
      "Evaluating:  64%|██████▎   | 318/500 [06:44<03:35,  1.18s/it]"
     ]
    },
    {
     "name": "stdout",
     "output_type": "stream",
     "text": [
      "{'task': 'list', 'question': 'List clinical symptoms of the MECOM-associated syndrome'}\n"
     ]
    },
    {
     "name": "stderr",
     "output_type": "stream",
     "text": [
      "Evaluating:  64%|██████▍   | 319/500 [06:45<03:54,  1.29s/it]"
     ]
    },
    {
     "name": "stdout",
     "output_type": "stream",
     "text": [
      "{'task': 'yesno', 'question': 'Does the interaction of MOV10 and RNASEH2 promote L1 retrotransposition?'}\n"
     ]
    },
    {
     "name": "stderr",
     "output_type": "stream",
     "text": [
      "Evaluating:  64%|██████▍   | 320/500 [06:47<03:49,  1.28s/it]"
     ]
    },
    {
     "name": "stdout",
     "output_type": "stream",
     "text": [
      "{'task': 'summary', 'question': 'What is the role of CD28 with respect to bacterial superantigen toxins?'}\n"
     ]
    },
    {
     "name": "stderr",
     "output_type": "stream",
     "text": [
      "Evaluating:  64%|██████▍   | 321/500 [06:48<04:07,  1.38s/it]"
     ]
    },
    {
     "name": "stdout",
     "output_type": "stream",
     "text": [
      "{'task': 'factoid', 'question': 'What is the exoproteome?'}\n"
     ]
    },
    {
     "name": "stderr",
     "output_type": "stream",
     "text": [
      "Evaluating:  64%|██████▍   | 322/500 [06:49<03:55,  1.32s/it]"
     ]
    },
    {
     "name": "stdout",
     "output_type": "stream",
     "text": [
      "{'task': 'list', 'question': 'List features of the Triple A syndrome.'}\n"
     ]
    },
    {
     "name": "stderr",
     "output_type": "stream",
     "text": [
      "Evaluating:  65%|██████▍   | 323/500 [06:51<04:09,  1.41s/it]"
     ]
    },
    {
     "name": "stdout",
     "output_type": "stream",
     "text": [
      "{'task': 'summary', 'question': 'What is the mechanism of the drug CRT0066101?'}\n"
     ]
    },
    {
     "name": "stderr",
     "output_type": "stream",
     "text": [
      "Evaluating:  65%|██████▍   | 324/500 [06:53<04:30,  1.54s/it]"
     ]
    },
    {
     "name": "stdout",
     "output_type": "stream",
     "text": [
      "{'task': 'factoid', 'question': 'Which protein is the Mitochondrial carrier homolog 2 (MTCH2) receptor for?'}\n"
     ]
    },
    {
     "name": "stderr",
     "output_type": "stream",
     "text": [
      "Evaluating:  65%|██████▌   | 325/500 [06:54<03:53,  1.33s/it]"
     ]
    },
    {
     "name": "stdout",
     "output_type": "stream",
     "text": [
      "{'task': 'summary', 'question': 'What is PhenomeCentral?'}\n"
     ]
    },
    {
     "name": "stderr",
     "output_type": "stream",
     "text": [
      "Evaluating:  65%|██████▌   | 326/500 [06:55<03:40,  1.27s/it]"
     ]
    },
    {
     "name": "stdout",
     "output_type": "stream",
     "text": [
      "{'task': 'factoid', 'question': 'What organism causes Rhombencephalitis?'}\n"
     ]
    },
    {
     "name": "stderr",
     "output_type": "stream",
     "text": [
      "Evaluating:  65%|██████▌   | 327/500 [06:56<03:12,  1.11s/it]"
     ]
    },
    {
     "name": "stdout",
     "output_type": "stream",
     "text": [
      "{'task': 'yesno', 'question': 'Has the protein SIRT2 been associated to cervical cancer?'}\n"
     ]
    },
    {
     "name": "stderr",
     "output_type": "stream",
     "text": [
      "Evaluating:  66%|██████▌   | 328/500 [06:57<03:09,  1.10s/it]"
     ]
    },
    {
     "name": "stdout",
     "output_type": "stream",
     "text": [
      "{'task': 'factoid', 'question': 'Which receptor is targeted by Erenumab?'}\n"
     ]
    },
    {
     "name": "stderr",
     "output_type": "stream",
     "text": [
      "Evaluating:  66%|██████▌   | 329/500 [06:58<03:27,  1.21s/it]"
     ]
    },
    {
     "name": "stdout",
     "output_type": "stream",
     "text": [
      "{'task': 'yesno', 'question': 'Are recessive coding variants responsible for the majority of undiagnosed nonconsanguineous individuals?'}\n"
     ]
    },
    {
     "name": "stderr",
     "output_type": "stream",
     "text": [
      "Evaluating:  66%|██████▌   | 330/500 [06:59<03:17,  1.16s/it]"
     ]
    },
    {
     "name": "stdout",
     "output_type": "stream",
     "text": [
      "{'task': 'summary', 'question': 'How can super-enhancers be used in disease diagnosis?'}\n"
     ]
    },
    {
     "name": "stderr",
     "output_type": "stream",
     "text": [
      "Evaluating:  66%|██████▌   | 331/500 [07:01<03:30,  1.24s/it]"
     ]
    },
    {
     "name": "stdout",
     "output_type": "stream",
     "text": [
      "{'task': 'list', 'question': 'List sirtuin inhibitors.'}\n"
     ]
    },
    {
     "name": "stderr",
     "output_type": "stream",
     "text": [
      "Evaluating:  66%|██████▋   | 332/500 [07:02<04:01,  1.44s/it]"
     ]
    },
    {
     "name": "stdout",
     "output_type": "stream",
     "text": [
      "{'task': 'yesno', 'question': 'Is the NLM medical text indexer (MTI) still useful and relevant?'}\n"
     ]
    },
    {
     "name": "stderr",
     "output_type": "stream",
     "text": [
      "Evaluating:  67%|██████▋   | 333/500 [07:03<03:37,  1.31s/it]"
     ]
    },
    {
     "name": "stdout",
     "output_type": "stream",
     "text": [
      "{'task': 'yesno', 'question': 'Has strimvelis been approved by the European Medicines Agency?'}\n"
     ]
    },
    {
     "name": "stderr",
     "output_type": "stream",
     "text": [
      "Evaluating:  67%|██████▋   | 334/500 [07:04<03:11,  1.15s/it]"
     ]
    },
    {
     "name": "stdout",
     "output_type": "stream",
     "text": [
      "{'task': 'factoid', 'question': 'What antibiotic is currently used as the standard of care for Clostridium Difficile infection as of 2018'}\n"
     ]
    },
    {
     "name": "stderr",
     "output_type": "stream",
     "text": [
      "Evaluating:  67%|██████▋   | 335/500 [07:05<03:13,  1.17s/it]"
     ]
    },
    {
     "name": "stdout",
     "output_type": "stream",
     "text": [
      "{'task': 'summary', 'question': 'Which proteins are markers of HPV oncogenic activity?'}\n"
     ]
    },
    {
     "name": "stderr",
     "output_type": "stream",
     "text": [
      "Evaluating:  67%|██████▋   | 336/500 [07:07<03:37,  1.32s/it]"
     ]
    },
    {
     "name": "stdout",
     "output_type": "stream",
     "text": [
      "{'task': 'list', 'question': 'Which features are evaluated with the CRAFFT screening test?'}\n"
     ]
    },
    {
     "name": "stderr",
     "output_type": "stream",
     "text": [
      "Evaluating:  67%|██████▋   | 337/500 [07:09<03:40,  1.35s/it]"
     ]
    },
    {
     "name": "stdout",
     "output_type": "stream",
     "text": [
      "{'task': 'summary', 'question': 'Describe the bartender algorithm'}\n"
     ]
    },
    {
     "name": "stderr",
     "output_type": "stream",
     "text": [
      "Evaluating:  68%|██████▊   | 338/500 [07:10<03:58,  1.47s/it]"
     ]
    },
    {
     "name": "stdout",
     "output_type": "stream",
     "text": [
      "{'task': 'factoid', 'question': 'Which was the first gene therapy to receive marketing authorization in the European Union?'}\n"
     ]
    },
    {
     "name": "stderr",
     "output_type": "stream",
     "text": [
      "Evaluating:  68%|██████▊   | 339/500 [07:13<04:38,  1.73s/it]"
     ]
    },
    {
     "name": "stdout",
     "output_type": "stream",
     "text": [
      "{'task': 'yesno', 'question': 'Is treatment with Bacillus Calmette Guerin used for bladder cancer?'}\n"
     ]
    },
    {
     "name": "stderr",
     "output_type": "stream",
     "text": [
      "Evaluating:  68%|██████▊   | 340/500 [07:14<04:03,  1.52s/it]"
     ]
    },
    {
     "name": "stdout",
     "output_type": "stream",
     "text": [
      "{'task': 'list', 'question': 'List lymphocytes that are analyzed by a flow cytometer.'}\n"
     ]
    },
    {
     "name": "stderr",
     "output_type": "stream",
     "text": [
      "Evaluating:  68%|██████▊   | 341/500 [07:15<03:28,  1.31s/it]"
     ]
    },
    {
     "name": "stdout",
     "output_type": "stream",
     "text": [
      "{'task': 'list', 'question': 'List two drugs that are included in the Akynzeo pill?'}\n"
     ]
    },
    {
     "name": "stderr",
     "output_type": "stream",
     "text": [
      "Evaluating:  68%|██████▊   | 342/500 [07:15<03:06,  1.18s/it]"
     ]
    },
    {
     "name": "stdout",
     "output_type": "stream",
     "text": [
      "{'task': 'summary', 'question': 'Describe CapSim'}\n"
     ]
    },
    {
     "name": "stderr",
     "output_type": "stream",
     "text": [
      "Evaluating:  69%|██████▊   | 343/500 [07:17<03:10,  1.21s/it]"
     ]
    },
    {
     "name": "stdout",
     "output_type": "stream",
     "text": [
      "{'task': 'factoid', 'question': 'Which company produces Glybera?'}\n"
     ]
    },
    {
     "name": "stderr",
     "output_type": "stream",
     "text": [
      "Evaluating:  69%|██████▉   | 344/500 [07:17<02:42,  1.04s/it]"
     ]
    },
    {
     "name": "stdout",
     "output_type": "stream",
     "text": [
      "{'task': 'summary', 'question': 'What is the mode of action of Tetrocarcin-A?'}\n"
     ]
    },
    {
     "name": "stderr",
     "output_type": "stream",
     "text": [
      "Evaluating:  69%|██████▉   | 345/500 [07:18<02:44,  1.06s/it]"
     ]
    },
    {
     "name": "stdout",
     "output_type": "stream",
     "text": [
      "{'task': 'list', 'question': 'List some substances important for proper nervous system function that gut microbes produce.'}\n"
     ]
    },
    {
     "name": "stderr",
     "output_type": "stream",
     "text": [
      "Evaluating:  69%|██████▉   | 346/500 [07:20<02:52,  1.12s/it]"
     ]
    },
    {
     "name": "stdout",
     "output_type": "stream",
     "text": [
      "{'task': 'factoid', 'question': 'Safinamide is approved for treatment of which disease?'}\n"
     ]
    },
    {
     "name": "stderr",
     "output_type": "stream",
     "text": [
      "Evaluating:  69%|██████▉   | 347/500 [07:20<02:33,  1.00s/it]"
     ]
    },
    {
     "name": "stdout",
     "output_type": "stream",
     "text": [
      "{'task': 'factoid', 'question': 'What is the tradename of apixaban?'}\n"
     ]
    },
    {
     "name": "stderr",
     "output_type": "stream",
     "text": [
      "Evaluating:  70%|██████▉   | 348/500 [07:21<02:24,  1.05it/s]"
     ]
    },
    {
     "name": "stdout",
     "output_type": "stream",
     "text": [
      "{'task': 'factoid', 'question': 'Under which environment does SELANSI run?'}\n"
     ]
    },
    {
     "name": "stderr",
     "output_type": "stream",
     "text": [
      "Evaluating:  70%|██████▉   | 349/500 [07:22<02:20,  1.07it/s]"
     ]
    },
    {
     "name": "stdout",
     "output_type": "stream",
     "text": [
      "{'task': 'yesno', 'question': 'Is eculizumab used for treatment of myasthenia gravis?'}\n"
     ]
    },
    {
     "name": "stderr",
     "output_type": "stream",
     "text": [
      "Evaluating:  70%|███████   | 350/500 [07:23<02:15,  1.10it/s]"
     ]
    },
    {
     "name": "stdout",
     "output_type": "stream",
     "text": [
      "{'task': 'factoid', 'question': 'What is the name of the Cas13 based diagnostic test for the Zika and dengue viruses?'}\n"
     ]
    },
    {
     "name": "stderr",
     "output_type": "stream",
     "text": [
      "Evaluating:  70%|███████   | 351/500 [07:24<02:10,  1.14it/s]"
     ]
    },
    {
     "name": "stdout",
     "output_type": "stream",
     "text": [
      "{'task': 'summary', 'question': 'What are CRISPR-Cas12a proteins?'}\n"
     ]
    },
    {
     "name": "stderr",
     "output_type": "stream",
     "text": [
      "Evaluating:  70%|███████   | 352/500 [07:26<03:00,  1.22s/it]"
     ]
    },
    {
     "name": "stdout",
     "output_type": "stream",
     "text": [
      "{'task': 'factoid', 'question': 'What type of drug is apixaban?'}\n"
     ]
    },
    {
     "name": "stderr",
     "output_type": "stream",
     "text": [
      "Evaluating:  71%|███████   | 353/500 [07:27<02:48,  1.15s/it]"
     ]
    },
    {
     "name": "stdout",
     "output_type": "stream",
     "text": [
      "{'task': 'yesno', 'question': 'Can cardiospheres be produced from skin fibroblasts?'}\n"
     ]
    },
    {
     "name": "stderr",
     "output_type": "stream",
     "text": [
      "Evaluating:  71%|███████   | 354/500 [07:28<02:56,  1.21s/it]"
     ]
    },
    {
     "name": "stdout",
     "output_type": "stream",
     "text": [
      "{'task': 'factoid', 'question': 'What the chromsomal location of the gene that is deleted in Potocki-Shaffer syndrome?'}\n"
     ]
    },
    {
     "name": "stderr",
     "output_type": "stream",
     "text": [
      "Evaluating:  71%|███████   | 355/500 [07:29<02:42,  1.12s/it]"
     ]
    },
    {
     "name": "stdout",
     "output_type": "stream",
     "text": [
      "{'task': 'list', 'question': 'List 3 enterotoxins produced by Clostridium difficile.'}\n"
     ]
    },
    {
     "name": "stderr",
     "output_type": "stream",
     "text": [
      "Evaluating:  71%|███████   | 356/500 [07:30<02:45,  1.15s/it]"
     ]
    },
    {
     "name": "stdout",
     "output_type": "stream",
     "text": [
      "{'task': 'factoid', 'question': 'Which tissue secretes vaspin?'}\n"
     ]
    },
    {
     "name": "stderr",
     "output_type": "stream",
     "text": [
      "Evaluating:  71%|███████▏  | 357/500 [07:31<02:43,  1.14s/it]"
     ]
    },
    {
     "name": "stdout",
     "output_type": "stream",
     "text": [
      "{'task': 'list', 'question': 'List adipokines.'}\n"
     ]
    },
    {
     "name": "stderr",
     "output_type": "stream",
     "text": [
      "Evaluating:  72%|███████▏  | 358/500 [07:33<03:13,  1.36s/it]"
     ]
    },
    {
     "name": "stdout",
     "output_type": "stream",
     "text": [
      "{'task': 'list', 'question': 'List features of the DOOR syndrome.'}\n"
     ]
    },
    {
     "name": "stderr",
     "output_type": "stream",
     "text": [
      "Evaluating:  72%|███████▏  | 359/500 [07:35<03:35,  1.52s/it]"
     ]
    },
    {
     "name": "stdout",
     "output_type": "stream",
     "text": [
      "{'task': 'list', 'question': 'Which web-based pedigree editors are available?'}\n"
     ]
    },
    {
     "name": "stderr",
     "output_type": "stream",
     "text": [
      "Evaluating:  72%|███████▏  | 360/500 [07:36<03:25,  1.47s/it]"
     ]
    },
    {
     "name": "stdout",
     "output_type": "stream",
     "text": [
      "{'task': 'summary', 'question': 'What is the mechanism of action of Solriamfetol?'}\n"
     ]
    },
    {
     "name": "stderr",
     "output_type": "stream",
     "text": [
      "Evaluating:  72%|███████▏  | 361/500 [07:38<03:17,  1.42s/it]"
     ]
    },
    {
     "name": "stdout",
     "output_type": "stream",
     "text": [
      "{'task': 'summary', 'question': 'What is the difference between the nuclease Cas13a and C2c2'}\n"
     ]
    },
    {
     "name": "stderr",
     "output_type": "stream",
     "text": [
      "Evaluating:  72%|███████▏  | 362/500 [07:39<03:14,  1.41s/it]"
     ]
    },
    {
     "name": "stdout",
     "output_type": "stream",
     "text": [
      "{'task': 'factoid', 'question': 'Phlorotannin is extracted from what plant?'}\n"
     ]
    },
    {
     "name": "stderr",
     "output_type": "stream",
     "text": [
      "Evaluating:  73%|███████▎  | 363/500 [07:40<02:56,  1.29s/it]"
     ]
    },
    {
     "name": "stdout",
     "output_type": "stream",
     "text": [
      "{'task': 'factoid', 'question': 'Where are pannexins localized?'}\n"
     ]
    },
    {
     "name": "stderr",
     "output_type": "stream",
     "text": [
      "Evaluating:  73%|███████▎  | 364/500 [07:41<02:52,  1.27s/it]"
     ]
    },
    {
     "name": "stdout",
     "output_type": "stream",
     "text": [
      "{'task': 'summary', 'question': 'What is the mechanism of action of cariprazine?'}\n"
     ]
    },
    {
     "name": "stderr",
     "output_type": "stream",
     "text": [
      "Evaluating:  73%|███████▎  | 365/500 [07:43<03:03,  1.36s/it]"
     ]
    },
    {
     "name": "stdout",
     "output_type": "stream",
     "text": [
      "{'task': 'factoid', 'question': 'Which tool is used to visualise the junction sites of chloroplast genomes?'}\n"
     ]
    },
    {
     "name": "stderr",
     "output_type": "stream",
     "text": [
      "Evaluating:  73%|███████▎  | 366/500 [07:44<02:40,  1.19s/it]"
     ]
    },
    {
     "name": "stdout",
     "output_type": "stream",
     "text": [
      "{'task': 'list', 'question': 'Which curated databases exist for spider-venom toxins?'}\n"
     ]
    },
    {
     "name": "stderr",
     "output_type": "stream",
     "text": [
      "Evaluating:  73%|███████▎  | 367/500 [07:45<02:50,  1.28s/it]"
     ]
    },
    {
     "name": "stdout",
     "output_type": "stream",
     "text": [
      "{'task': 'factoid', 'question': 'What is the difference between CRISPR-Cas12a and CRISPR-Cpf1?'}\n"
     ]
    },
    {
     "name": "stderr",
     "output_type": "stream",
     "text": [
      "Evaluating:  74%|███████▎  | 368/500 [07:47<02:53,  1.32s/it]"
     ]
    },
    {
     "name": "stdout",
     "output_type": "stream",
     "text": [
      "{'task': 'list', 'question': 'Please list 2 antitoxin antibodies approved by the FDA for reducing the recurrence of Clostridium difficile infection'}\n"
     ]
    },
    {
     "name": "stderr",
     "output_type": "stream",
     "text": [
      "Evaluating:  74%|███████▍  | 369/500 [07:48<02:41,  1.23s/it]"
     ]
    },
    {
     "name": "stdout",
     "output_type": "stream",
     "text": [
      "{'task': 'list', 'question': 'List the functions of the protein lactotransferrin.'}\n"
     ]
    },
    {
     "name": "stderr",
     "output_type": "stream",
     "text": [
      "Evaluating:  74%|███████▍  | 370/500 [07:50<03:08,  1.45s/it]"
     ]
    },
    {
     "name": "stdout",
     "output_type": "stream",
     "text": [
      "{'task': 'yesno', 'question': 'Does Axitinib prolong survival of Pancreatic Cancer patients?'}\n"
     ]
    },
    {
     "name": "stderr",
     "output_type": "stream",
     "text": [
      "Evaluating:  74%|███████▍  | 371/500 [07:51<02:52,  1.34s/it]"
     ]
    },
    {
     "name": "stdout",
     "output_type": "stream",
     "text": [
      "{'task': 'factoid', 'question': 'Which Python tool has been developed for network-based stratification of tumor mutations?'}\n"
     ]
    },
    {
     "name": "stderr",
     "output_type": "stream",
     "text": [
      "Evaluating:  74%|███████▍  | 372/500 [07:52<02:36,  1.23s/it]"
     ]
    },
    {
     "name": "stdout",
     "output_type": "stream",
     "text": [
      "{'task': 'factoid', 'question': 'Through which protein interaction does MLP regulate F-actin dynamics?'}\n"
     ]
    },
    {
     "name": "stderr",
     "output_type": "stream",
     "text": [
      "Evaluating:  75%|███████▍  | 373/500 [07:53<02:24,  1.14s/it]"
     ]
    },
    {
     "name": "stdout",
     "output_type": "stream",
     "text": [
      "{'task': 'yesno', 'question': 'Is there any association between suicide and autism in adolescents, yes or no?'}\n"
     ]
    },
    {
     "name": "stderr",
     "output_type": "stream",
     "text": [
      "Evaluating:  75%|███████▍  | 374/500 [07:54<02:15,  1.07s/it]"
     ]
    },
    {
     "name": "stdout",
     "output_type": "stream",
     "text": [
      "{'task': 'yesno', 'question': 'Is lactotransferrin a tumour suppressor?'}\n"
     ]
    },
    {
     "name": "stderr",
     "output_type": "stream",
     "text": [
      "Evaluating:  75%|███████▌  | 375/500 [07:55<02:42,  1.30s/it]"
     ]
    },
    {
     "name": "stdout",
     "output_type": "stream",
     "text": [
      "{'task': 'summary', 'question': 'What is CVT-301?'}\n"
     ]
    },
    {
     "name": "stderr",
     "output_type": "stream",
     "text": [
      "Evaluating:  75%|███████▌  | 376/500 [07:56<02:28,  1.20s/it]"
     ]
    },
    {
     "name": "stdout",
     "output_type": "stream",
     "text": [
      "{'task': 'yesno', 'question': 'Are there tools for visualizing and processing long-read sequencing data?'}\n"
     ]
    },
    {
     "name": "stderr",
     "output_type": "stream",
     "text": [
      "Evaluating:  75%|███████▌  | 377/500 [07:57<02:17,  1.12s/it]"
     ]
    },
    {
     "name": "stdout",
     "output_type": "stream",
     "text": [
      "{'task': 'list', 'question': 'Name siRNA drugs that have entered phase 2-3 clinical trials (by 2019).'}\n"
     ]
    },
    {
     "name": "stderr",
     "output_type": "stream",
     "text": [
      "Evaluating:  76%|███████▌  | 378/500 [07:59<02:49,  1.39s/it]"
     ]
    },
    {
     "name": "stdout",
     "output_type": "stream",
     "text": [
      "{'task': 'factoid', 'question': 'Where is fatty acid binding protein 2 expressed?'}\n"
     ]
    },
    {
     "name": "stderr",
     "output_type": "stream",
     "text": [
      "Evaluating:  76%|███████▌  | 379/500 [08:00<02:32,  1.26s/it]"
     ]
    },
    {
     "name": "stdout",
     "output_type": "stream",
     "text": [
      "{'task': 'factoid', 'question': 'Which gene mutation is associated with Woodhouse Sakati syndrome?'}\n"
     ]
    },
    {
     "name": "stderr",
     "output_type": "stream",
     "text": [
      "Evaluating:  76%|███████▌  | 380/500 [08:01<02:19,  1.17s/it]"
     ]
    },
    {
     "name": "stdout",
     "output_type": "stream",
     "text": [
      "{'task': 'list', 'question': 'Mention computational tools that have been developed for alternative polyadenylation (APA) sites analysis'}\n"
     ]
    },
    {
     "name": "stderr",
     "output_type": "stream",
     "text": [
      "Evaluating:  76%|███████▌  | 381/500 [08:03<02:33,  1.29s/it]"
     ]
    },
    {
     "name": "stdout",
     "output_type": "stream",
     "text": [
      "{'task': 'summary', 'question': 'What is patisiran?'}\n"
     ]
    },
    {
     "name": "stderr",
     "output_type": "stream",
     "text": [
      "Evaluating:  76%|███████▋  | 382/500 [08:04<02:26,  1.24s/it]"
     ]
    },
    {
     "name": "stdout",
     "output_type": "stream",
     "text": [
      "{'task': 'factoid', 'question': 'Losigamone can be used for treatment of which disease?'}\n"
     ]
    },
    {
     "name": "stderr",
     "output_type": "stream",
     "text": [
      "Evaluating:  77%|███████▋  | 383/500 [08:05<02:07,  1.09s/it]"
     ]
    },
    {
     "name": "stdout",
     "output_type": "stream",
     "text": [
      "{'task': 'list', 'question': 'Which curated data resources for ChIP-seq data are available?'}\n"
     ]
    },
    {
     "name": "stderr",
     "output_type": "stream",
     "text": [
      "Evaluating:  77%|███████▋  | 384/500 [08:06<02:10,  1.13s/it]"
     ]
    },
    {
     "name": "stdout",
     "output_type": "stream",
     "text": [
      "{'task': 'factoid', 'question': 'How many pseudokinases are there in the human kinome?'}\n"
     ]
    },
    {
     "name": "stderr",
     "output_type": "stream",
     "text": [
      "Evaluating:  77%|███████▋  | 385/500 [08:07<02:19,  1.22s/it]"
     ]
    },
    {
     "name": "stdout",
     "output_type": "stream",
     "text": [
      "{'task': 'summary', 'question': 'What is the mechanism of action of Inclisiran?'}\n"
     ]
    },
    {
     "name": "stderr",
     "output_type": "stream",
     "text": [
      "Evaluating:  77%|███████▋  | 386/500 [08:09<02:26,  1.28s/it]"
     ]
    },
    {
     "name": "stdout",
     "output_type": "stream",
     "text": [
      "{'task': 'factoid', 'question': 'Which tool has been developed for visualization of non-covalent contacts?'}\n"
     ]
    },
    {
     "name": "stderr",
     "output_type": "stream",
     "text": [
      "Evaluating:  77%|███████▋  | 387/500 [08:10<02:08,  1.14s/it]"
     ]
    },
    {
     "name": "stdout",
     "output_type": "stream",
     "text": [
      "{'task': 'summary', 'question': 'What is opdivo?'}\n"
     ]
    },
    {
     "name": "stderr",
     "output_type": "stream",
     "text": [
      "Evaluating:  78%|███████▊  | 388/500 [08:11<02:22,  1.27s/it]"
     ]
    },
    {
     "name": "stdout",
     "output_type": "stream",
     "text": [
      "{'task': 'yesno', 'question': 'Has Hesperidin any role as a Neuroprotective Agent?'}\n"
     ]
    },
    {
     "name": "stderr",
     "output_type": "stream",
     "text": [
      "Evaluating:  78%|███████▊  | 389/500 [08:12<02:08,  1.16s/it]"
     ]
    },
    {
     "name": "stdout",
     "output_type": "stream",
     "text": [
      "{'task': 'yesno', 'question': \"Are apoE mimetics being considered as a treatment against Alzheimer's disease?\"}\n"
     ]
    },
    {
     "name": "stderr",
     "output_type": "stream",
     "text": [
      "Evaluating:  78%|███████▊  | 390/500 [08:14<02:33,  1.39s/it]"
     ]
    },
    {
     "name": "stdout",
     "output_type": "stream",
     "text": [
      "{'task': 'list', 'question': 'Which diseases are treated with netarsudil?'}\n"
     ]
    },
    {
     "name": "stderr",
     "output_type": "stream",
     "text": [
      "Evaluating:  78%|███████▊  | 391/500 [08:15<02:08,  1.18s/it]"
     ]
    },
    {
     "name": "stdout",
     "output_type": "stream",
     "text": [
      "{'task': 'yesno', 'question': 'Can you computationally predict Molecular Recognition Features (MoRFs) regions in Intrinsically Disordered Proteins (IDPs)?'}\n"
     ]
    },
    {
     "name": "stderr",
     "output_type": "stream",
     "text": [
      "Evaluating:  78%|███████▊  | 392/500 [08:16<02:07,  1.18s/it]"
     ]
    },
    {
     "name": "stdout",
     "output_type": "stream",
     "text": [
      "{'task': 'list', 'question': 'Which malignancies is Keytruda approved for before 2017?'}\n"
     ]
    },
    {
     "name": "stderr",
     "output_type": "stream",
     "text": [
      "Evaluating:  79%|███████▊  | 393/500 [08:17<02:15,  1.27s/it]"
     ]
    },
    {
     "name": "stdout",
     "output_type": "stream",
     "text": [
      "{'task': 'factoid', 'question': 'Which was the first approved tumor treatment using a common biomarker rather than specified tumor locations in the body?'}\n"
     ]
    },
    {
     "name": "stderr",
     "output_type": "stream",
     "text": [
      "Evaluating:  79%|███████▉  | 394/500 [08:18<02:04,  1.17s/it]"
     ]
    },
    {
     "name": "stdout",
     "output_type": "stream",
     "text": [
      "{'task': 'summary', 'question': 'What does Prevnar 13 consist of?'}\n"
     ]
    },
    {
     "name": "stderr",
     "output_type": "stream",
     "text": [
      "Evaluating:  79%|███████▉  | 395/500 [08:20<02:11,  1.25s/it]"
     ]
    },
    {
     "name": "stdout",
     "output_type": "stream",
     "text": [
      "{'task': 'factoid', 'question': 'What is the route of administration of apixaban?'}\n"
     ]
    },
    {
     "name": "stderr",
     "output_type": "stream",
     "text": [
      "Evaluating:  79%|███████▉  | 396/500 [08:20<01:51,  1.07s/it]"
     ]
    },
    {
     "name": "stdout",
     "output_type": "stream",
     "text": [
      "{'task': 'factoid', 'question': 'What is the cause of a STAG3 truncating variant?'}\n"
     ]
    },
    {
     "name": "stderr",
     "output_type": "stream",
     "text": [
      "Evaluating:  79%|███████▉  | 397/500 [08:21<01:48,  1.05s/it]"
     ]
    },
    {
     "name": "stdout",
     "output_type": "stream",
     "text": [
      "{'task': 'list', 'question': 'Which tools have been developed for computing split-networks?'}\n"
     ]
    },
    {
     "name": "stderr",
     "output_type": "stream",
     "text": [
      "Evaluating:  80%|███████▉  | 398/500 [08:23<01:51,  1.09s/it]"
     ]
    },
    {
     "name": "stdout",
     "output_type": "stream",
     "text": [
      "{'task': 'list', 'question': 'List 3 apoE mimetics.'}\n"
     ]
    },
    {
     "name": "stderr",
     "output_type": "stream",
     "text": [
      "Evaluating:  80%|███████▉  | 399/500 [08:24<01:57,  1.17s/it]"
     ]
    },
    {
     "name": "stdout",
     "output_type": "stream",
     "text": [
      "{'task': 'summary', 'question': 'What are there sex differences in SAMHD1 activity?'}\n"
     ]
    },
    {
     "name": "stderr",
     "output_type": "stream",
     "text": [
      "Evaluating:  80%|████████  | 400/500 [08:25<01:57,  1.17s/it]"
     ]
    },
    {
     "name": "stdout",
     "output_type": "stream",
     "text": [
      "{'task': 'summary', 'question': 'Which enhancers are characterized as latent?'}\n"
     ]
    },
    {
     "name": "stderr",
     "output_type": "stream",
     "text": [
      "Evaluating:  80%|████████  | 401/500 [08:26<02:03,  1.25s/it]"
     ]
    },
    {
     "name": "stdout",
     "output_type": "stream",
     "text": [
      "{'task': 'summary', 'question': 'What is the difference between COG133 and COG112?'}\n"
     ]
    },
    {
     "name": "stderr",
     "output_type": "stream",
     "text": [
      "Evaluating:  80%|████████  | 402/500 [08:28<02:18,  1.42s/it]"
     ]
    },
    {
     "name": "stdout",
     "output_type": "stream",
     "text": [
      "{'task': 'yesno', 'question': 'Velocardial facial syndrome, otherwise known as Di George syndrome  is caused by a deletion in chromosome 21, yes or no?'}\n"
     ]
    },
    {
     "name": "stderr",
     "output_type": "stream",
     "text": [
      "Evaluating:  81%|████████  | 403/500 [08:29<01:54,  1.18s/it]"
     ]
    },
    {
     "name": "stdout",
     "output_type": "stream",
     "text": [
      "{'task': 'yesno', 'question': 'Is the protein Asporin related to disease?'}\n"
     ]
    },
    {
     "name": "stderr",
     "output_type": "stream",
     "text": [
      "Evaluating:  81%|████████  | 404/500 [08:30<01:44,  1.09s/it]"
     ]
    },
    {
     "name": "stdout",
     "output_type": "stream",
     "text": [
      "{'task': 'yesno', 'question': 'Can TAD disruption lead to disease?'}\n"
     ]
    },
    {
     "name": "stderr",
     "output_type": "stream",
     "text": [
      "Evaluating:  81%|████████  | 405/500 [08:31<01:33,  1.02it/s]"
     ]
    },
    {
     "name": "stdout",
     "output_type": "stream",
     "text": [
      "{'task': 'yesno', 'question': 'Is L-4F an apoE mimetic peptide?'}\n"
     ]
    },
    {
     "name": "stderr",
     "output_type": "stream",
     "text": [
      "Evaluating:  81%|████████  | 406/500 [08:31<01:30,  1.04it/s]"
     ]
    },
    {
     "name": "stdout",
     "output_type": "stream",
     "text": [
      "{'task': 'list', 'question': 'Which cells secrete lactotransferrin?'}\n"
     ]
    },
    {
     "name": "stderr",
     "output_type": "stream",
     "text": [
      "Evaluating:  81%|████████▏ | 407/500 [08:33<01:42,  1.10s/it]"
     ]
    },
    {
     "name": "stdout",
     "output_type": "stream",
     "text": [
      "{'task': 'factoid', 'question': 'Which plant does oleuropein originate from?'}\n"
     ]
    },
    {
     "name": "stderr",
     "output_type": "stream",
     "text": [
      "Evaluating:  82%|████████▏ | 408/500 [08:34<01:36,  1.05s/it]"
     ]
    },
    {
     "name": "stdout",
     "output_type": "stream",
     "text": [
      "{'task': 'factoid', 'question': 'Reslizumab is a humanized monoclonal antibody to treat what specific type of asthma?'}\n"
     ]
    },
    {
     "name": "stderr",
     "output_type": "stream",
     "text": [
      "Evaluating:  82%|████████▏ | 409/500 [08:35<01:31,  1.00s/it]"
     ]
    },
    {
     "name": "stdout",
     "output_type": "stream",
     "text": [
      "{'task': 'factoid', 'question': 'What is the function of the protein Magt1?'}\n"
     ]
    },
    {
     "name": "stderr",
     "output_type": "stream",
     "text": [
      "Evaluating:  82%|████████▏ | 410/500 [08:36<01:41,  1.13s/it]"
     ]
    },
    {
     "name": "stdout",
     "output_type": "stream",
     "text": [
      "{'task': 'yesno', 'question': 'Can oleuropein aglycone interfere with amyloid aggregation?'}\n"
     ]
    },
    {
     "name": "stderr",
     "output_type": "stream",
     "text": [
      "Evaluating:  82%|████████▏ | 411/500 [08:37<01:36,  1.09s/it]"
     ]
    },
    {
     "name": "stdout",
     "output_type": "stream",
     "text": [
      "{'task': 'factoid', 'question': 'What is the function of the transcriptional co-activator p300?'}\n"
     ]
    },
    {
     "name": "stderr",
     "output_type": "stream",
     "text": [
      "Evaluating:  82%|████████▏ | 412/500 [08:39<01:48,  1.24s/it]"
     ]
    },
    {
     "name": "stdout",
     "output_type": "stream",
     "text": [
      "{'task': 'factoid', 'question': 'What is another name for the plant Sideritis scardica?'}\n"
     ]
    },
    {
     "name": "stderr",
     "output_type": "stream",
     "text": [
      "Evaluating:  83%|████████▎ | 413/500 [08:39<01:34,  1.09s/it]"
     ]
    },
    {
     "name": "stdout",
     "output_type": "stream",
     "text": [
      "{'task': 'summary', 'question': 'How are gas vesicle proteins used in imaging?'}\n"
     ]
    },
    {
     "name": "stderr",
     "output_type": "stream",
     "text": [
      "Evaluating:  83%|████████▎ | 414/500 [08:41<01:37,  1.14s/it]"
     ]
    },
    {
     "name": "stdout",
     "output_type": "stream",
     "text": [
      "{'task': 'factoid', 'question': 'From where is gamabufotalin (GBT) isolated?'}\n"
     ]
    },
    {
     "name": "stderr",
     "output_type": "stream",
     "text": [
      "Evaluating:  83%|████████▎ | 415/500 [08:42<01:37,  1.14s/it]"
     ]
    },
    {
     "name": "stdout",
     "output_type": "stream",
     "text": [
      "{'task': 'summary', 'question': 'What are super-enhancers'}\n"
     ]
    },
    {
     "name": "stderr",
     "output_type": "stream",
     "text": [
      "Evaluating:  83%|████████▎ | 416/500 [08:43<01:38,  1.17s/it]"
     ]
    },
    {
     "name": "stdout",
     "output_type": "stream",
     "text": [
      "{'task': 'yesno', 'question': 'Is Apelin usually decreased in diabetes?'}\n"
     ]
    },
    {
     "name": "stderr",
     "output_type": "stream",
     "text": [
      "Evaluating:  83%|████████▎ | 417/500 [08:44<01:27,  1.06s/it]"
     ]
    },
    {
     "name": "stdout",
     "output_type": "stream",
     "text": [
      "{'task': 'factoid', 'question': 'What is a mitosome?'}\n"
     ]
    },
    {
     "name": "stderr",
     "output_type": "stream",
     "text": [
      "Evaluating:  84%|████████▎ | 418/500 [08:46<01:46,  1.30s/it]"
     ]
    },
    {
     "name": "stdout",
     "output_type": "stream",
     "text": [
      "{'task': 'factoid', 'question': 'What is the price of KYMRIAH treatment in 2019?'}\n"
     ]
    },
    {
     "name": "stderr",
     "output_type": "stream",
     "text": [
      "Evaluating:  84%|████████▍ | 419/500 [08:47<01:33,  1.16s/it]"
     ]
    },
    {
     "name": "stdout",
     "output_type": "stream",
     "text": [
      "{'task': 'factoid', 'question': 'Human dihydroorotate dehydrogenase is a drug target and is involved in what biosynthetic pathway'}\n"
     ]
    },
    {
     "name": "stderr",
     "output_type": "stream",
     "text": [
      "Evaluating:  84%|████████▍ | 420/500 [08:48<01:33,  1.17s/it]"
     ]
    },
    {
     "name": "stdout",
     "output_type": "stream",
     "text": [
      "{'task': 'list', 'question': 'List targets of classical analgesics.'}\n"
     ]
    },
    {
     "name": "stderr",
     "output_type": "stream",
     "text": [
      "Evaluating:  84%|████████▍ | 421/500 [08:50<01:54,  1.45s/it]"
     ]
    },
    {
     "name": "stdout",
     "output_type": "stream",
     "text": [
      "{'task': 'yesno', 'question': 'Is actin present in the nucleus?'}\n"
     ]
    },
    {
     "name": "stderr",
     "output_type": "stream",
     "text": [
      "Evaluating:  84%|████████▍ | 422/500 [08:51<01:45,  1.35s/it]"
     ]
    },
    {
     "name": "stdout",
     "output_type": "stream",
     "text": [
      "{'task': 'factoid', 'question': 'What is the indication for KYMRIAH?'}\n"
     ]
    },
    {
     "name": "stderr",
     "output_type": "stream",
     "text": [
      "Evaluating:  85%|████████▍ | 423/500 [08:53<01:52,  1.46s/it]"
     ]
    },
    {
     "name": "stdout",
     "output_type": "stream",
     "text": [
      "{'task': 'factoid', 'question': 'What is the effect of NFIA on astrocyte differentiation?'}\n"
     ]
    },
    {
     "name": "stderr",
     "output_type": "stream",
     "text": [
      "Evaluating:  85%|████████▍ | 424/500 [08:54<01:53,  1.50s/it]"
     ]
    },
    {
     "name": "stdout",
     "output_type": "stream",
     "text": [
      "{'task': 'summary', 'question': 'What is the mode of action for Tocilizumab?'}\n"
     ]
    },
    {
     "name": "stderr",
     "output_type": "stream",
     "text": [
      "Evaluating:  85%|████████▌ | 425/500 [08:56<01:46,  1.41s/it]"
     ]
    },
    {
     "name": "stdout",
     "output_type": "stream",
     "text": [
      "{'task': 'factoid', 'question': 'Where is the protein protamine 2 expressed?'}\n"
     ]
    },
    {
     "name": "stderr",
     "output_type": "stream",
     "text": [
      "Evaluating:  85%|████████▌ | 426/500 [08:57<01:40,  1.36s/it]"
     ]
    },
    {
     "name": "stdout",
     "output_type": "stream",
     "text": [
      "{'task': 'yesno', 'question': 'Can miR-122 target RUNX2?'}\n"
     ]
    },
    {
     "name": "stderr",
     "output_type": "stream",
     "text": [
      "Evaluating:  85%|████████▌ | 427/500 [08:58<01:31,  1.25s/it]"
     ]
    },
    {
     "name": "stdout",
     "output_type": "stream",
     "text": [
      "{'task': 'yesno', 'question': 'Tocilizumab is an anti-TNF antibody, yes or no?'}\n"
     ]
    },
    {
     "name": "stderr",
     "output_type": "stream",
     "text": [
      "Evaluating:  86%|████████▌ | 428/500 [08:59<01:21,  1.13s/it]"
     ]
    },
    {
     "name": "stdout",
     "output_type": "stream",
     "text": [
      "{'task': 'yesno', 'question': 'Is it possible to analyze exosomes with FACS?'}\n"
     ]
    },
    {
     "name": "stderr",
     "output_type": "stream",
     "text": [
      "Evaluating:  86%|████████▌ | 429/500 [09:00<01:29,  1.26s/it]"
     ]
    },
    {
     "name": "stdout",
     "output_type": "stream",
     "text": [
      "{'task': 'factoid', 'question': 'Which company developed opdivo?'}\n"
     ]
    },
    {
     "name": "stderr",
     "output_type": "stream",
     "text": [
      "Evaluating:  86%|████████▌ | 430/500 [09:01<01:29,  1.28s/it]"
     ]
    },
    {
     "name": "stdout",
     "output_type": "stream",
     "text": [
      "{'task': 'factoid', 'question': 'What are DMARDs?'}\n"
     ]
    },
    {
     "name": "stderr",
     "output_type": "stream",
     "text": [
      "Evaluating:  86%|████████▌ | 431/500 [09:02<01:22,  1.20s/it]"
     ]
    },
    {
     "name": "stdout",
     "output_type": "stream",
     "text": [
      "{'task': 'factoid', 'question': 'What is the aim of the MitoCeption protocol?'}\n"
     ]
    },
    {
     "name": "stderr",
     "output_type": "stream",
     "text": [
      "Evaluating:  86%|████████▋ | 432/500 [09:03<01:17,  1.14s/it]"
     ]
    },
    {
     "name": "stdout",
     "output_type": "stream",
     "text": [
      "{'task': 'yesno', 'question': 'Can prevnar 13 be used in children?'}\n"
     ]
    },
    {
     "name": "stderr",
     "output_type": "stream",
     "text": [
      "Evaluating:  87%|████████▋ | 433/500 [09:04<01:08,  1.02s/it]"
     ]
    },
    {
     "name": "stdout",
     "output_type": "stream",
     "text": [
      "{'task': 'yesno', 'question': 'Was stelara developed by Amgen?'}\n"
     ]
    },
    {
     "name": "stderr",
     "output_type": "stream",
     "text": [
      "Evaluating:  87%|████████▋ | 434/500 [09:05<01:01,  1.08it/s]"
     ]
    },
    {
     "name": "stdout",
     "output_type": "stream",
     "text": [
      "{'task': 'list', 'question': 'List off label uses for Rituximab.'}\n"
     ]
    },
    {
     "name": "stderr",
     "output_type": "stream",
     "text": [
      "Evaluating:  87%|████████▋ | 435/500 [09:07<01:12,  1.12s/it]"
     ]
    },
    {
     "name": "stdout",
     "output_type": "stream",
     "text": [
      "{'task': 'yesno', 'question': 'Can mitochondria pass through membrane nanotubes?'}\n"
     ]
    },
    {
     "name": "stderr",
     "output_type": "stream",
     "text": [
      "Evaluating:  87%|████████▋ | 436/500 [09:07<01:06,  1.03s/it]"
     ]
    },
    {
     "name": "stdout",
     "output_type": "stream",
     "text": [
      "{'task': 'summary', 'question': 'What is Quorum Sensing in bacteria?'}\n"
     ]
    },
    {
     "name": "stderr",
     "output_type": "stream",
     "text": [
      "Evaluating:  87%|████████▋ | 437/500 [09:09<01:10,  1.13s/it]"
     ]
    },
    {
     "name": "stdout",
     "output_type": "stream",
     "text": [
      "{'task': 'factoid', 'question': 'What is the cause of Krabbe disease?'}\n"
     ]
    },
    {
     "name": "stderr",
     "output_type": "stream",
     "text": [
      "Evaluating:  88%|████████▊ | 438/500 [09:10<01:04,  1.04s/it]"
     ]
    },
    {
     "name": "stdout",
     "output_type": "stream",
     "text": [
      "{'task': 'factoid', 'question': 'Name a CFL2 mutation which is associated with nemaline myopathy?'}\n"
     ]
    },
    {
     "name": "stderr",
     "output_type": "stream",
     "text": [
      "Evaluating:  88%|████████▊ | 439/500 [09:10<01:01,  1.01s/it]"
     ]
    },
    {
     "name": "stdout",
     "output_type": "stream",
     "text": [
      "{'task': 'factoid', 'question': 'What cellular process is the gene product of NANOG involved in?'}\n"
     ]
    },
    {
     "name": "stderr",
     "output_type": "stream",
     "text": [
      "Evaluating:  88%|████████▊ | 440/500 [09:11<00:59,  1.00it/s]"
     ]
    },
    {
     "name": "stdout",
     "output_type": "stream",
     "text": [
      "{'task': 'list', 'question': 'Name the uses of Sideritis scardica in traditional medicine.'}\n"
     ]
    },
    {
     "name": "stderr",
     "output_type": "stream",
     "text": [
      "Evaluating:  88%|████████▊ | 441/500 [09:13<01:02,  1.06s/it]"
     ]
    },
    {
     "name": "stdout",
     "output_type": "stream",
     "text": [
      "{'task': 'summary', 'question': 'What are the phenotypic features of the autosomal dominant, development disease, Noonans syndrome'}\n"
     ]
    },
    {
     "name": "stderr",
     "output_type": "stream",
     "text": [
      "Evaluating:  88%|████████▊ | 442/500 [09:15<01:19,  1.37s/it]"
     ]
    },
    {
     "name": "stdout",
     "output_type": "stream",
     "text": [
      "{'task': 'yesno', 'question': 'Are protamines ubiquitously expressed?'}\n"
     ]
    },
    {
     "name": "stderr",
     "output_type": "stream",
     "text": [
      "Evaluating:  89%|████████▊ | 443/500 [09:16<01:08,  1.20s/it]"
     ]
    },
    {
     "name": "stdout",
     "output_type": "stream",
     "text": [
      "{'task': 'yesno', 'question': \"Are Crocus sativus compounds being considered against Alzheimer's disease?\"}\n"
     ]
    },
    {
     "name": "stderr",
     "output_type": "stream",
     "text": [
      "Evaluating:  89%|████████▉ | 444/500 [09:16<01:00,  1.08s/it]"
     ]
    },
    {
     "name": "stdout",
     "output_type": "stream",
     "text": [
      "{'task': 'factoid', 'question': \"Rickettsia felis was described as a human pathogen almost two decades ago, what is it's main arthropod vector?\"}\n"
     ]
    },
    {
     "name": "stderr",
     "output_type": "stream",
     "text": [
      "Evaluating:  89%|████████▉ | 445/500 [09:18<01:00,  1.11s/it]"
     ]
    },
    {
     "name": "stdout",
     "output_type": "stream",
     "text": [
      "{'task': 'yesno', 'question': \"Are there any anti-amyloid antibody approved as drug for Alzheimer's disease treatment?\"}\n"
     ]
    },
    {
     "name": "stderr",
     "output_type": "stream",
     "text": [
      "Evaluating:  89%|████████▉ | 446/500 [09:18<00:56,  1.04s/it]"
     ]
    },
    {
     "name": "stdout",
     "output_type": "stream",
     "text": [
      "{'task': 'yesno', 'question': 'Do Crocus sativus extracts loosen the blood-brain barrier?'}\n"
     ]
    },
    {
     "name": "stderr",
     "output_type": "stream",
     "text": [
      "Evaluating:  89%|████████▉ | 447/500 [09:20<00:56,  1.07s/it]"
     ]
    },
    {
     "name": "stdout",
     "output_type": "stream",
     "text": [
      "{'task': 'yesno', 'question': 'Are artificial blood cells available?'}\n"
     ]
    },
    {
     "name": "stderr",
     "output_type": "stream",
     "text": [
      "Evaluating:  90%|████████▉ | 448/500 [09:20<00:53,  1.04s/it]"
     ]
    },
    {
     "name": "stdout",
     "output_type": "stream",
     "text": [
      "{'task': 'yesno', 'question': 'Have apolipoprotein mimetics been used in clinical trials?'}\n"
     ]
    },
    {
     "name": "stderr",
     "output_type": "stream",
     "text": [
      "Evaluating:  90%|████████▉ | 449/500 [09:21<00:51,  1.00s/it]"
     ]
    },
    {
     "name": "stdout",
     "output_type": "stream",
     "text": [
      "{'task': 'list', 'question': 'What are 2 organisms that can cause Human toxocariasis?'}\n"
     ]
    },
    {
     "name": "stderr",
     "output_type": "stream",
     "text": [
      "Evaluating:  90%|█████████ | 450/500 [09:22<00:50,  1.00s/it]"
     ]
    },
    {
     "name": "stdout",
     "output_type": "stream",
     "text": [
      "{'task': 'summary', 'question': 'What is the dbSUPER database?'}\n"
     ]
    },
    {
     "name": "stderr",
     "output_type": "stream",
     "text": [
      "Evaluating:  90%|█████████ | 451/500 [09:24<00:58,  1.20s/it]"
     ]
    },
    {
     "name": "stdout",
     "output_type": "stream",
     "text": [
      "{'task': 'list', 'question': 'List places in the body where somatostatin is produced.'}\n"
     ]
    },
    {
     "name": "stderr",
     "output_type": "stream",
     "text": [
      "Evaluating:  90%|█████████ | 452/500 [09:26<01:02,  1.31s/it]"
     ]
    },
    {
     "name": "stdout",
     "output_type": "stream",
     "text": [
      "{'task': 'yesno', 'question': 'Is the Philadelphia chromosome a fusion between parts of chromosomes 1 and 9?'}\n"
     ]
    },
    {
     "name": "stderr",
     "output_type": "stream",
     "text": [
      "Evaluating:  91%|█████████ | 453/500 [09:27<00:55,  1.18s/it]"
     ]
    },
    {
     "name": "stdout",
     "output_type": "stream",
     "text": [
      "{'task': 'summary', 'question': 'What is YESCARTA?'}\n"
     ]
    },
    {
     "name": "stderr",
     "output_type": "stream",
     "text": [
      "Evaluating:  91%|█████████ | 454/500 [09:28<01:01,  1.33s/it]"
     ]
    },
    {
     "name": "stdout",
     "output_type": "stream",
     "text": [
      "{'task': 'list', 'question': 'What are the 3 types of immunoglobulin heavy chain containing antibodies found in human breast milk?'}\n"
     ]
    },
    {
     "name": "stderr",
     "output_type": "stream",
     "text": [
      "Evaluating:  91%|█████████ | 455/500 [09:29<00:59,  1.32s/it]"
     ]
    },
    {
     "name": "stdout",
     "output_type": "stream",
     "text": [
      "{'task': 'factoid', 'question': 'What is a exposome?'}\n"
     ]
    },
    {
     "name": "stderr",
     "output_type": "stream",
     "text": [
      "Evaluating:  91%|█████████ | 456/500 [09:31<00:57,  1.31s/it]"
     ]
    },
    {
     "name": "stdout",
     "output_type": "stream",
     "text": [
      "{'task': 'factoid', 'question': 'What does the strimvelis treatment consist of?'}\n"
     ]
    },
    {
     "name": "stderr",
     "output_type": "stream",
     "text": [
      "Evaluating:  91%|█████████▏| 457/500 [09:32<00:59,  1.38s/it]"
     ]
    },
    {
     "name": "stdout",
     "output_type": "stream",
     "text": [
      "{'task': 'yesno', 'question': 'Can therapeutic levels of  Vedolizumab be found in the breast milk of nursing mothers following treatment for Inflammatory bowel disease?'}\n"
     ]
    },
    {
     "name": "stderr",
     "output_type": "stream",
     "text": [
      "Evaluating:  92%|█████████▏| 458/500 [09:33<00:54,  1.29s/it]"
     ]
    },
    {
     "name": "stdout",
     "output_type": "stream",
     "text": [
      "{'task': 'factoid', 'question': 'What is predicted using SURFY?'}\n"
     ]
    },
    {
     "name": "stderr",
     "output_type": "stream",
     "text": [
      "Evaluating:  92%|█████████▏| 459/500 [09:34<00:44,  1.09s/it]"
     ]
    },
    {
     "name": "stdout",
     "output_type": "stream",
     "text": [
      "{'task': 'factoid', 'question': 'Which was the first adeno-associated virus vector gene therapy product approved in the United States?'}\n"
     ]
    },
    {
     "name": "stderr",
     "output_type": "stream",
     "text": [
      "Evaluating:  92%|█████████▏| 460/500 [09:35<00:43,  1.08s/it]"
     ]
    },
    {
     "name": "stdout",
     "output_type": "stream",
     "text": [
      "{'task': 'summary', 'question': 'What is known about the gene MIR140?'}\n"
     ]
    },
    {
     "name": "stderr",
     "output_type": "stream",
     "text": [
      "Evaluating:  92%|█████████▏| 461/500 [09:37<00:52,  1.35s/it]"
     ]
    },
    {
     "name": "stdout",
     "output_type": "stream",
     "text": [
      "{'task': 'factoid', 'question': 'Which gene therapy treatment is FDA approved for retinal dystrophy?'}\n"
     ]
    },
    {
     "name": "stderr",
     "output_type": "stream",
     "text": [
      "Evaluating:  92%|█████████▏| 462/500 [09:38<00:47,  1.25s/it]"
     ]
    },
    {
     "name": "stdout",
     "output_type": "stream",
     "text": [
      "{'task': 'factoid', 'question': 'Salivary Cortisol is a biomarker for what disease/syndrome/condition?'}\n"
     ]
    },
    {
     "name": "stderr",
     "output_type": "stream",
     "text": [
      "Evaluating:  93%|█████████▎| 463/500 [09:39<00:43,  1.18s/it]"
     ]
    },
    {
     "name": "stdout",
     "output_type": "stream",
     "text": [
      "{'task': 'factoid', 'question': 'What is the function of the cGAS pathway?'}\n"
     ]
    },
    {
     "name": "stderr",
     "output_type": "stream",
     "text": [
      "Evaluating:  93%|█████████▎| 464/500 [09:41<00:44,  1.25s/it]"
     ]
    },
    {
     "name": "stdout",
     "output_type": "stream",
     "text": [
      "{'task': 'yesno', 'question': 'Does RUNX2 inhibit astrocyte differentiation?'}\n"
     ]
    },
    {
     "name": "stderr",
     "output_type": "stream",
     "text": [
      "Evaluating:  93%|█████████▎| 465/500 [09:42<00:42,  1.21s/it]"
     ]
    },
    {
     "name": "stdout",
     "output_type": "stream",
     "text": [
      "{'task': 'list', 'question': 'What are 5 key questions in human performance modeling?'}\n"
     ]
    },
    {
     "name": "stderr",
     "output_type": "stream",
     "text": [
      "Evaluating:  93%|█████████▎| 466/500 [09:43<00:43,  1.28s/it]"
     ]
    },
    {
     "name": "stdout",
     "output_type": "stream",
     "text": [
      "{'task': 'summary', 'question': 'What is the mode of action of the Tc toxins?'}\n"
     ]
    },
    {
     "name": "stderr",
     "output_type": "stream",
     "text": [
      "Evaluating:  93%|█████████▎| 467/500 [09:45<00:45,  1.37s/it]"
     ]
    },
    {
     "name": "stdout",
     "output_type": "stream",
     "text": [
      "{'task': 'factoid', 'question': 'What does RUNX2 stand for?'}\n"
     ]
    },
    {
     "name": "stderr",
     "output_type": "stream",
     "text": [
      "Evaluating:  94%|█████████▎| 468/500 [09:45<00:37,  1.19s/it]"
     ]
    },
    {
     "name": "stdout",
     "output_type": "stream",
     "text": [
      "{'task': 'factoid', 'question': 'Where, in the body, would the Cobb-Stainsby excision arthroplasty be performed?'}\n"
     ]
    },
    {
     "name": "stderr",
     "output_type": "stream",
     "text": [
      "Evaluating:  94%|█████████▍| 469/500 [09:47<00:37,  1.20s/it]"
     ]
    },
    {
     "name": "stdout",
     "output_type": "stream",
     "text": [
      "{'task': 'yesno', 'question': 'Are cardenolides inhibitors of Na+/K+ ATPase?'}\n"
     ]
    },
    {
     "name": "stderr",
     "output_type": "stream",
     "text": [
      "Evaluating:  94%|█████████▍| 470/500 [09:48<00:35,  1.17s/it]"
     ]
    },
    {
     "name": "stdout",
     "output_type": "stream",
     "text": [
      "{'task': 'yesno', 'question': \"Can antisense threapy be used for Huntington's disease?\"}\n"
     ]
    },
    {
     "name": "stderr",
     "output_type": "stream",
     "text": [
      "Evaluating:  94%|█████████▍| 471/500 [09:49<00:35,  1.21s/it]"
     ]
    },
    {
     "name": "stdout",
     "output_type": "stream",
     "text": [
      "{'task': 'summary', 'question': 'What are acoustic reported genes used to detect?'}\n"
     ]
    },
    {
     "name": "stderr",
     "output_type": "stream",
     "text": [
      "Evaluating:  94%|█████████▍| 472/500 [09:51<00:37,  1.32s/it]"
     ]
    },
    {
     "name": "stdout",
     "output_type": "stream",
     "text": [
      "{'task': 'summary', 'question': 'What is a lipin 1 protein doing?'}\n"
     ]
    },
    {
     "name": "stderr",
     "output_type": "stream",
     "text": [
      "Evaluating:  95%|█████████▍| 473/500 [09:52<00:35,  1.33s/it]"
     ]
    },
    {
     "name": "stdout",
     "output_type": "stream",
     "text": [
      "{'task': 'factoid', 'question': 'Which company produces patisiran?'}\n"
     ]
    },
    {
     "name": "stderr",
     "output_type": "stream",
     "text": [
      "Evaluating:  95%|█████████▍| 474/500 [09:53<00:29,  1.12s/it]"
     ]
    },
    {
     "name": "stdout",
     "output_type": "stream",
     "text": [
      "{'task': 'factoid', 'question': 'What protein is recruited by Crumbs to regulate tracheal development?'}\n"
     ]
    },
    {
     "name": "stderr",
     "output_type": "stream",
     "text": [
      "Evaluating:  95%|█████████▌| 475/500 [09:54<00:27,  1.11s/it]"
     ]
    },
    {
     "name": "stdout",
     "output_type": "stream",
     "text": [
      "{'task': 'yesno', 'question': 'Is collagen matrix of human articular cartilage changing with disease?'}\n"
     ]
    },
    {
     "name": "stderr",
     "output_type": "stream",
     "text": [
      "Evaluating:  95%|█████████▌| 476/500 [09:55<00:26,  1.10s/it]"
     ]
    },
    {
     "name": "stdout",
     "output_type": "stream",
     "text": [
      "{'task': 'yesno', 'question': 'Is ustekinumab a polyclonal antibody?'}\n"
     ]
    },
    {
     "name": "stderr",
     "output_type": "stream",
     "text": [
      "Evaluating:  95%|█████████▌| 477/500 [09:56<00:23,  1.00s/it]"
     ]
    },
    {
     "name": "stdout",
     "output_type": "stream",
     "text": [
      "{'task': 'factoid', 'question': 'Where in the body, is ghrelin secreted?'}\n"
     ]
    },
    {
     "name": "stderr",
     "output_type": "stream",
     "text": [
      "Evaluating:  96%|█████████▌| 478/500 [09:57<00:26,  1.18s/it]"
     ]
    },
    {
     "name": "stdout",
     "output_type": "stream",
     "text": [
      "{'task': 'list', 'question': 'List the ERM proteins.'}\n"
     ]
    },
    {
     "name": "stderr",
     "output_type": "stream",
     "text": [
      "Evaluating:  96%|█████████▌| 479/500 [09:58<00:23,  1.12s/it]"
     ]
    },
    {
     "name": "stdout",
     "output_type": "stream",
     "text": [
      "{'task': 'summary', 'question': 'What is epitranscriptomics?'}\n"
     ]
    },
    {
     "name": "stderr",
     "output_type": "stream",
     "text": [
      "Evaluating:  96%|█████████▌| 480/500 [09:59<00:21,  1.08s/it]"
     ]
    },
    {
     "name": "stdout",
     "output_type": "stream",
     "text": [
      "{'task': 'factoid', 'question': 'What is resistin?'}\n"
     ]
    },
    {
     "name": "stderr",
     "output_type": "stream",
     "text": [
      "Evaluating:  96%|█████████▌| 481/500 [10:00<00:21,  1.11s/it]"
     ]
    },
    {
     "name": "stdout",
     "output_type": "stream",
     "text": [
      "{'task': 'yesno', 'question': 'Is Pim-1 a protein phosphatase?'}\n"
     ]
    },
    {
     "name": "stderr",
     "output_type": "stream",
     "text": [
      "Evaluating:  96%|█████████▋| 482/500 [10:01<00:17,  1.01it/s]"
     ]
    },
    {
     "name": "stdout",
     "output_type": "stream",
     "text": [
      "{'task': 'list', 'question': 'Name three binding partners of cofilin 2.'}\n"
     ]
    },
    {
     "name": "stderr",
     "output_type": "stream",
     "text": [
      "Evaluating:  97%|█████████▋| 483/500 [10:02<00:16,  1.05it/s]"
     ]
    },
    {
     "name": "stdout",
     "output_type": "stream",
     "text": [
      "{'task': 'factoid', 'question': 'What is the function of GvpA?'}\n"
     ]
    },
    {
     "name": "stderr",
     "output_type": "stream",
     "text": [
      "Evaluating:  97%|█████████▋| 484/500 [10:03<00:17,  1.08s/it]"
     ]
    },
    {
     "name": "stdout",
     "output_type": "stream",
     "text": [
      "{'task': 'summary', 'question': 'What is a SMR based BCI?'}\n"
     ]
    },
    {
     "name": "stderr",
     "output_type": "stream",
     "text": [
      "Evaluating:  97%|█████████▋| 485/500 [10:05<00:18,  1.22s/it]"
     ]
    },
    {
     "name": "stdout",
     "output_type": "stream",
     "text": [
      "{'task': 'yesno', 'question': 'Is myc a tumour suppressor gene?'}\n"
     ]
    },
    {
     "name": "stderr",
     "output_type": "stream",
     "text": [
      "Evaluating:  97%|█████████▋| 486/500 [10:06<00:16,  1.17s/it]"
     ]
    },
    {
     "name": "stdout",
     "output_type": "stream",
     "text": [
      "{'task': 'factoid', 'question': 'Which syndrome is associated to SAMHD1 gene mutations?'}\n"
     ]
    },
    {
     "name": "stderr",
     "output_type": "stream",
     "text": [
      "Evaluating:  97%|█████████▋| 487/500 [10:07<00:13,  1.03s/it]"
     ]
    },
    {
     "name": "stdout",
     "output_type": "stream",
     "text": [
      "{'task': 'list', 'question': 'List proteins with RING domain.'}\n"
     ]
    },
    {
     "name": "stderr",
     "output_type": "stream",
     "text": [
      "Evaluating:  98%|█████████▊| 488/500 [10:08<00:14,  1.23s/it]"
     ]
    },
    {
     "name": "stdout",
     "output_type": "stream",
     "text": [
      "{'task': 'summary', 'question': 'What conditions are associated with mutations in the gene FAAH?'}\n"
     ]
    },
    {
     "name": "stderr",
     "output_type": "stream",
     "text": [
      "Evaluating:  98%|█████████▊| 489/500 [10:09<00:13,  1.22s/it]"
     ]
    },
    {
     "name": "stdout",
     "output_type": "stream",
     "text": [
      "{'task': 'factoid', 'question': 'What is the results of mutations in the gene autoimmune regulator?'}\n"
     ]
    },
    {
     "name": "stderr",
     "output_type": "stream",
     "text": [
      "Evaluating:  98%|█████████▊| 490/500 [10:11<00:13,  1.37s/it]"
     ]
    },
    {
     "name": "stdout",
     "output_type": "stream",
     "text": [
      "{'task': 'yesno', 'question': 'Is CD63 an exosomal marker?'}\n"
     ]
    },
    {
     "name": "stderr",
     "output_type": "stream",
     "text": [
      "Evaluating:  98%|█████████▊| 491/500 [10:12<00:10,  1.21s/it]"
     ]
    },
    {
     "name": "stdout",
     "output_type": "stream",
     "text": [
      "{'task': 'yesno', 'question': 'Is subdural empyema a complication of sinusitis?'}\n"
     ]
    },
    {
     "name": "stderr",
     "output_type": "stream",
     "text": [
      "Evaluating:  98%|█████████▊| 492/500 [10:13<00:10,  1.30s/it]"
     ]
    },
    {
     "name": "stdout",
     "output_type": "stream",
     "text": [
      "{'task': 'summary', 'question': 'What is aphasia?'}\n"
     ]
    },
    {
     "name": "stderr",
     "output_type": "stream",
     "text": [
      "Evaluating:  99%|█████████▊| 493/500 [10:14<00:08,  1.20s/it]"
     ]
    },
    {
     "name": "stdout",
     "output_type": "stream",
     "text": [
      "{'task': 'yesno', 'question': 'Anaplasma phagocytophilum is an obligate gram-negative, intracellular bacterium, yes  or no'}\n"
     ]
    },
    {
     "name": "stderr",
     "output_type": "stream",
     "text": [
      "Evaluating:  99%|█████████▉| 494/500 [10:16<00:07,  1.17s/it]"
     ]
    },
    {
     "name": "stdout",
     "output_type": "stream",
     "text": [
      "{'task': 'summary', 'question': 'What is the role of Acyl-Homoserine Lactone  in bacteria?'}\n"
     ]
    },
    {
     "name": "stderr",
     "output_type": "stream",
     "text": [
      "Evaluating:  99%|█████████▉| 495/500 [10:17<00:05,  1.19s/it]"
     ]
    },
    {
     "name": "stdout",
     "output_type": "stream",
     "text": [
      "{'task': 'list', 'question': 'List 3 indications for rituximab.'}\n"
     ]
    },
    {
     "name": "stderr",
     "output_type": "stream",
     "text": [
      "Evaluating:  99%|█████████▉| 496/500 [10:18<00:04,  1.16s/it]"
     ]
    },
    {
     "name": "stdout",
     "output_type": "stream",
     "text": [
      "{'task': 'yesno', 'question': 'Is the crystal structure of Pim-1 available?'}\n"
     ]
    },
    {
     "name": "stderr",
     "output_type": "stream",
     "text": [
      "Evaluating:  99%|█████████▉| 497/500 [10:19<00:03,  1.02s/it]"
     ]
    },
    {
     "name": "stdout",
     "output_type": "stream",
     "text": [
      "{'task': 'yesno', 'question': 'Do tumour-associated macrophages have a prognostic role in gliomas?'}\n"
     ]
    },
    {
     "name": "stderr",
     "output_type": "stream",
     "text": [
      "Evaluating: 100%|█████████▉| 498/500 [10:20<00:02,  1.06s/it]"
     ]
    },
    {
     "name": "stdout",
     "output_type": "stream",
     "text": [
      "{'task': 'yesno', 'question': 'Is TNF-α an activator of pancreatic stellate cells?'}\n"
     ]
    },
    {
     "name": "stderr",
     "output_type": "stream",
     "text": [
      "Evaluating: 100%|█████████▉| 499/500 [10:21<00:01,  1.13s/it]"
     ]
    },
    {
     "name": "stdout",
     "output_type": "stream",
     "text": [
      "{'task': 'yesno', 'question': 'Can mitochondria transfer from cell to cell?'}\n"
     ]
    },
    {
     "name": "stderr",
     "output_type": "stream",
     "text": [
      "Evaluating: 100%|██████████| 500/500 [10:22<00:00,  1.24s/it]"
     ]
    },
    {
     "name": "stdout",
     "output_type": "stream",
     "text": [
      "1.0\n",
      "🏃 View run geneturing-eval at: http://198.215.61.34:8153/#/experiments/9/runs/fdbb75bc3067446ea60fa7638a523c63\n",
      "🧪 View experiment at: http://198.215.61.34:8153/#/experiments/9\n"
     ]
    },
    {
     "name": "stderr",
     "output_type": "stream",
     "text": [
      "\n"
     ]
    }
   ],
   "source": [
    "results = collect_structured_output(dataset, system_message[0])"
   ]
  },
  {
   "cell_type": "markdown",
   "metadata": {},
   "source": [
    "# calculate cosine similarity"
   ]
  },
  {
   "cell_type": "code",
   "execution_count": null,
   "metadata": {},
   "outputs": [],
   "source": [
    "import json\n",
    "from transformers import AutoTokenizer, AutoModel\n",
    "import torch\n",
    "import torch.nn.functional as F\n",
    "import os\n",
    "\n",
    "def mean_pooling(model_output, attention_mask):\n",
    "    token_embeddings = model_output[0]\n",
    "    input_mask_expanded = attention_mask.unsqueeze(-1).expand(token_embeddings.size()).float()\n",
    "    return torch.sum(token_embeddings * input_mask_expanded, 1) / torch.clamp(\n",
    "        input_mask_expanded.sum(1), min=1e-9\n",
    "    )\n",
    "\n",
    "\n",
    "tokenizer = AutoTokenizer.from_pretrained(\"FremyCompany/BioLORD-2023\")\n",
    "model = AutoModel.from_pretrained(\"FremyCompany/BioLORD-2023\")\n",
    "\n",
    "\n",
    "with open(\"/work/bioinformatics/s440708/MODULE_3_MATERIALS/outputs/bioasq_results.csv\", \"r\") as f:\n",
    "    pred_data = json.load(f)\n",
    "\n",
    "with open(\"/work/bioinformatics/s440708/MODULE_3_MATERIALS/data/7B_golden.json\", \"r\") as f:\n",
    "    gold_data = json.load(f)\n",
    "\n",
    "\n",
    "results = []\n",
    "for entry in pred_data:\n",
    "    question = entry['question']\n",
    "    pred_answer = entry['answer']\n",
    "\n",
    "    found = False\n",
    "    for task, qa_dict in gold_data.items():\n",
    "        for gold_q, gold_a_list in qa_dict.items():\n",
    "            if gold_q.strip() == question.strip():\n",
    "                found = True\n",
    "                for gold_answer in gold_a_list:\n",
    "                   \n",
    "                    inputs = tokenizer([pred_answer, gold_answer], padding=True, truncation=True, return_tensors=\"pt\")\n",
    "                    with torch.no_grad():\n",
    "                        outputs = model(**inputs)\n",
    "                    embeddings = mean_pooling(outputs, inputs['attention_mask'])\n",
    "                    embeddings = F.normalize(embeddings, p=2, dim=1)\n",
    "                    cosine_sim = F.cosine_similarity(embeddings[0], embeddings[1], dim=0).item()\n",
    "                    results.append({\n",
    "                        'question': question,\n",
    "                        'predicted_answer': pred_answer,\n",
    "                        'gold_answer': gold_answer,\n",
    "                        'cosine_similarity': cosine_sim\n",
    "                    })\n",
    "    if not found:\n",
    "        results.append({\n",
    "            'question': question,\n",
    "            'predicted_answer': pred_answer,\n",
    "            'gold_answer': None,\n",
    "            'cosine_similarity': None,\n",
    "            'note': 'No gold answer found'\n",
    "        })\n",
    "\n",
    "import pandas as pd\n",
    "df = pd.DataFrame(results)\n"
   ]
  },
  {
   "cell_type": "code",
   "execution_count": null,
   "metadata": {},
   "outputs": [
    {
     "name": "stderr",
     "output_type": "stream",
     "text": [
      "100%|██████████| 3/3 [00:00<00:00, 5013.11it/s]\n"
     ]
    },
    {
     "name": "stdout",
     "output_type": "stream",
     "text": [
      "0.22228483855724335\n",
      "0.12435595691204071\n",
      "0.2232302576303482\n",
      "0.17944329977035522\n",
      "0.241394504904747\n",
      "0.3022831976413727\n",
      "0.3317318558692932\n",
      "0.22889623045921326\n",
      "0.2430797666311264\n",
      "0.44673436880111694\n",
      "0.5258044004440308\n",
      "0.31004586815834045\n",
      "0.20812499523162842\n",
      "0.26675739884376526\n",
      "0.256971538066864\n",
      "0.16082169115543365\n",
      "0.24365420639514923\n",
      "0.17847153544425964\n",
      "0.28906893730163574\n",
      "0.6071949005126953\n",
      "0.02541375160217285\n",
      "0.5200710296630859\n",
      "0.1370559185743332\n",
      "0.34150242805480957\n",
      "0.19680416584014893\n",
      "0.1015663743019104\n",
      "0.37616950273513794\n",
      "0.3683997690677643\n",
      "0.17296752333641052\n",
      "0.27167296409606934\n",
      "0.37701550126075745\n",
      "0.4135938286781311\n",
      "0.24612268805503845\n",
      "0.16213443875312805\n",
      "0.3622819781303406\n",
      "0.31128329038619995\n",
      "0.15481258928775787\n",
      "0.27907854318618774\n",
      "0.2902039587497711\n",
      "0.39749252796173096\n",
      "0.37894707918167114\n",
      "0.2619859576225281\n",
      "0.3804163932800293\n",
      "0.16254813969135284\n",
      "0.18180790543556213\n",
      "0.38003015518188477\n",
      "0.29259175062179565\n",
      "0.39297351241111755\n",
      "0.1963275521993637\n",
      "0.17553435266017914\n",
      "0.2015819549560547\n",
      "0.2130257785320282\n",
      "0.15569274127483368\n",
      "0.1835842877626419\n",
      "0.2329942286014557\n",
      "0.10736683011054993\n",
      "0.10470718145370483\n",
      "0.24593043327331543\n",
      "0.232389897108078\n",
      "0.26189959049224854\n",
      "0.11173422634601593\n",
      "0.21144475042819977\n",
      "0.14504289627075195\n",
      "0.23087280988693237\n",
      "0.3306926190853119\n",
      "0.21771368384361267\n",
      "0.2814180254936218\n",
      "0.3150196373462677\n",
      "0.22221802175045013\n",
      "0.06030736491084099\n",
      "0.07856589555740356\n",
      "0.22404450178146362\n",
      "0.22808700799942017\n",
      "0.3326791524887085\n",
      "0.15434908866882324\n",
      "0.08631044626235962\n",
      "0.1958734691143036\n",
      "0.15791457891464233\n",
      "0.2926234006881714\n",
      "0.17408716678619385\n",
      "0.16793890297412872\n",
      "0.18108664453029633\n",
      "0.2099268138408661\n",
      "0.3727337718009949\n",
      "0.09147804975509644\n",
      "0.28444626927375793\n",
      "0.13458436727523804\n",
      "0.23271724581718445\n",
      "0.08330076932907104\n",
      "0.07011617720127106\n",
      "0.14992116391658783\n",
      "0.3192451000213623\n",
      "0.2457270622253418\n",
      "0.34545502066612244\n",
      "0.16484278440475464\n",
      "0.20913919806480408\n",
      "0.20108486711978912\n",
      "0.21338853240013123\n",
      "0.17460186779499054\n",
      "0.214217871427536\n",
      "0.2928176820278168\n",
      "0.23718440532684326\n",
      "0.38249677419662476\n",
      "0.30916914343833923\n",
      "0.24183619022369385\n",
      "0.282639741897583\n",
      "0.2909585237503052\n",
      "0.5235232710838318\n",
      "0.25330936908721924\n",
      "0.20791757106781006\n",
      "0.2779938876628876\n",
      "0.33609315752983093\n",
      "0.4384472370147705\n",
      "0.3848971426486969\n",
      "0.2635022699832916\n",
      "0.2737969160079956\n",
      "0.36637961864471436\n",
      "0.18416224420070648\n",
      "0.2168807089328766\n",
      "0.29426559805870056\n",
      "0.2973993420600891\n",
      "0.42384278774261475\n",
      "0.5268286466598511\n",
      "0.31651225686073303\n",
      "0.39690572023391724\n",
      "0.40865328907966614\n",
      "0.4784074127674103\n",
      "0.10026095062494278\n",
      "0.329121470451355\n",
      "0.37439867854118347\n",
      "0.274014949798584\n",
      "0.39688733220100403\n",
      "0.5990618467330933\n",
      "0.4106404185295105\n",
      "0.1782262623310089\n",
      "0.23215706646442413\n",
      "0.38943564891815186\n",
      "0.34605976939201355\n",
      "0.2711978554725647\n",
      "0.41832002997398376\n",
      "0.27838343381881714\n",
      "0.2197684496641159\n",
      "0.37266114354133606\n",
      "0.5106511116027832\n",
      "0.3427574336528778\n",
      "0.3378036618232727\n",
      "0.3713197112083435\n",
      "0.3694756031036377\n",
      "0.23370899260044098\n",
      "0.32739031314849854\n"
     ]
    }
   ],
   "source": [
    "import json\n",
    "import torch\n",
    "import torch.nn.functional as F\n",
    "from transformers import AutoTokenizer, AutoModel\n",
    "import pandas as pd\n",
    "from tqdm import tqdm\n",
    "# Load model and tokenizer\n",
    "tokenizer = AutoTokenizer.from_pretrained(\"FremyCompany/BioLORD-2023\")\n",
    "model = AutoModel.from_pretrained(\"FremyCompany/BioLORD-2023\")\n",
    "\n",
    "# Helper function for mean pooling\n",
    "def mean_pooling(model_output, attention_mask):\n",
    "    token_embeddings = model_output[0]\n",
    "    input_mask_expanded = attention_mask.unsqueeze(-1).expand(token_embeddings.size()).float()\n",
    "    return torch.sum(token_embeddings * input_mask_expanded, 1) / torch.clamp(\n",
    "        input_mask_expanded.sum(1), min=1e-9\n",
    "    )\n",
    "\n",
    "# Load gold data\n",
    "with open(\"/work/bioinformatics/s440708/MODULE_3_MATERIALS/data/genehop.json\", \"r\") as f:\n",
    "    gold_data = json.load(f)\n",
    "\n",
    "# Load predictions\n",
    "with open(\"/work/bioinformatics/s440708/MODULE_3_MATERIALS/outputs/genehop_results.csv\", \"r\") as f:\n",
    "    pred_data = json.load(f)\n",
    "\n",
    "results = []\n",
    "gold_entries = []\n",
    "for task_name, task_dict in gold_data.items():\n",
    "    \n",
    "    for question, answers in task_dict.items():\n",
    "            gold_entries.append({\n",
    "                \"task\": task_name,\n",
    "                \"question\": question.replace(\"Let's decompose the question to sub-questions and solve them step by step.\",\"\").strip(),\n",
    "                \"gold_answers\": answers\n",
    "            })\n",
    "\n",
    "# Compute similarity\n",
    "for i, pred_entry in enumerate(pred_data):\n",
    "    question = pred_entry['question'].strip()\n",
    "    predicted_answer = pred_entry['answer'].strip()\n",
    "    task_name = pred_entry['task']\n",
    "\n",
    "    match = gold_entries[i]\n",
    "    gold_answer = match['gold_answers']\n",
    "    if isinstance(gold_answer, list):\n",
    "        gold_answer = \" \".join(gold_answer)\n",
    "\n",
    "   \n",
    "    inputs = tokenizer([predicted_answer, gold_answer], padding=True, truncation=True, return_tensors=\"pt\")\n",
    "    with torch.no_grad():\n",
    "        outputs = model(**inputs)\n",
    "        embeddings = mean_pooling(outputs, inputs['attention_mask'])\n",
    "        embeddings = F.normalize(embeddings, p=2, dim=1)\n",
    "        cosine_sim = F.cosine_similarity(embeddings[0], embeddings[1], dim=0).item()\n",
    "        print(cosine_sim)\n",
    "        results.append({\n",
    "            \"task\": task_name,\n",
    "            \"question\": question,\n",
    "            \"predicted_answer\": predicted_answer,\n",
    "            \"gold_answer\": gold_answer,\n",
    "            \"cosine_similarity\": cosine_sim\n",
    "        })\n",
    "    \n",
    "   \n",
    "\n",
    "df = pd.DataFrame(results)\n",
    "\n"
   ]
  },
  {
   "cell_type": "code",
   "execution_count": null,
   "metadata": {},
   "outputs": [
    {
     "data": {
      "text/plain": [
       "np.float64(0.2703053500503302)"
      ]
     },
     "execution_count": 30,
     "metadata": {},
     "output_type": "execute_result"
    }
   ],
   "source": [
    "df['cosine_similarity'].mean()\n"
   ]
  },
  {
   "cell_type": "code",
   "execution_count": 36,
   "metadata": {},
   "outputs": [],
   "source": [
    "\n",
    "df.to_csv(os.path.join(data_config['output_path'], \"genehop_ollama_results.csv\"))"
   ]
  },
  {
   "cell_type": "markdown",
   "metadata": {},
   "source": [
    "# "
   ]
  }
 ],
 "metadata": {
  "kernelspec": {
   "display_name": "venv",
   "language": "python",
   "name": "python3"
  },
  "language_info": {
   "codemirror_mode": {
    "name": "ipython",
    "version": 3
   },
   "file_extension": ".py",
   "mimetype": "text/x-python",
   "name": "python",
   "nbconvert_exporter": "python",
   "pygments_lexer": "ipython3",
   "version": "3.12.1"
  }
 },
 "nbformat": 4,
 "nbformat_minor": 2
}
